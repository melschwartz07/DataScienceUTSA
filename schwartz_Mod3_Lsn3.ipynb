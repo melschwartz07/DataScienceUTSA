{
 "cells": [
  {
   "cell_type": "code",
   "execution_count": 1,
   "metadata": {
    "collapsed": true,
    "pycharm": {
     "name": "#%%\n"
    }
   },
   "outputs": [
    {
     "data": {
      "text/plain": "   record_id  month  day  year  plot_id species_id sex  hindfoot_length  \\\n0          1      7   16  1977        2         NL   M             32.0   \n1          2      7   16  1977        3         NL   M             33.0   \n2          3      7   16  1977        2         DM   F             37.0   \n3          4      7   16  1977        7         DM   M             36.0   \n4          5      7   16  1977        3         DM   M             35.0   \n5          6      7   16  1977        1         PF   M             14.0   \n6          7      7   16  1977        2         PE   F              NaN   \n7          8      7   16  1977        1         DM   M             37.0   \n8          9      7   16  1977        1         DM   F             34.0   \n9         10      7   16  1977        6         PF   F             20.0   \n\n   weight  \n0     NaN  \n1     NaN  \n2     NaN  \n3     NaN  \n4     NaN  \n5     NaN  \n6     NaN  \n7     NaN  \n8     NaN  \n9     NaN  ",
      "text/html": "<div>\n<style scoped>\n    .dataframe tbody tr th:only-of-type {\n        vertical-align: middle;\n    }\n\n    .dataframe tbody tr th {\n        vertical-align: top;\n    }\n\n    .dataframe thead th {\n        text-align: right;\n    }\n</style>\n<table border=\"1\" class=\"dataframe\">\n  <thead>\n    <tr style=\"text-align: right;\">\n      <th></th>\n      <th>record_id</th>\n      <th>month</th>\n      <th>day</th>\n      <th>year</th>\n      <th>plot_id</th>\n      <th>species_id</th>\n      <th>sex</th>\n      <th>hindfoot_length</th>\n      <th>weight</th>\n    </tr>\n  </thead>\n  <tbody>\n    <tr>\n      <th>0</th>\n      <td>1</td>\n      <td>7</td>\n      <td>16</td>\n      <td>1977</td>\n      <td>2</td>\n      <td>NL</td>\n      <td>M</td>\n      <td>32.0</td>\n      <td>NaN</td>\n    </tr>\n    <tr>\n      <th>1</th>\n      <td>2</td>\n      <td>7</td>\n      <td>16</td>\n      <td>1977</td>\n      <td>3</td>\n      <td>NL</td>\n      <td>M</td>\n      <td>33.0</td>\n      <td>NaN</td>\n    </tr>\n    <tr>\n      <th>2</th>\n      <td>3</td>\n      <td>7</td>\n      <td>16</td>\n      <td>1977</td>\n      <td>2</td>\n      <td>DM</td>\n      <td>F</td>\n      <td>37.0</td>\n      <td>NaN</td>\n    </tr>\n    <tr>\n      <th>3</th>\n      <td>4</td>\n      <td>7</td>\n      <td>16</td>\n      <td>1977</td>\n      <td>7</td>\n      <td>DM</td>\n      <td>M</td>\n      <td>36.0</td>\n      <td>NaN</td>\n    </tr>\n    <tr>\n      <th>4</th>\n      <td>5</td>\n      <td>7</td>\n      <td>16</td>\n      <td>1977</td>\n      <td>3</td>\n      <td>DM</td>\n      <td>M</td>\n      <td>35.0</td>\n      <td>NaN</td>\n    </tr>\n    <tr>\n      <th>5</th>\n      <td>6</td>\n      <td>7</td>\n      <td>16</td>\n      <td>1977</td>\n      <td>1</td>\n      <td>PF</td>\n      <td>M</td>\n      <td>14.0</td>\n      <td>NaN</td>\n    </tr>\n    <tr>\n      <th>6</th>\n      <td>7</td>\n      <td>7</td>\n      <td>16</td>\n      <td>1977</td>\n      <td>2</td>\n      <td>PE</td>\n      <td>F</td>\n      <td>NaN</td>\n      <td>NaN</td>\n    </tr>\n    <tr>\n      <th>7</th>\n      <td>8</td>\n      <td>7</td>\n      <td>16</td>\n      <td>1977</td>\n      <td>1</td>\n      <td>DM</td>\n      <td>M</td>\n      <td>37.0</td>\n      <td>NaN</td>\n    </tr>\n    <tr>\n      <th>8</th>\n      <td>9</td>\n      <td>7</td>\n      <td>16</td>\n      <td>1977</td>\n      <td>1</td>\n      <td>DM</td>\n      <td>F</td>\n      <td>34.0</td>\n      <td>NaN</td>\n    </tr>\n    <tr>\n      <th>9</th>\n      <td>10</td>\n      <td>7</td>\n      <td>16</td>\n      <td>1977</td>\n      <td>6</td>\n      <td>PF</td>\n      <td>F</td>\n      <td>20.0</td>\n      <td>NaN</td>\n    </tr>\n  </tbody>\n</table>\n</div>"
     },
     "execution_count": 1,
     "metadata": {},
     "output_type": "execute_result"
    }
   ],
   "source": [
    "# Setup\n",
    "import pandas as pd\n",
    "\n",
    "surveys_df = pd.read_csv(\"surveys.csv\")\n",
    "\n",
    "surveys_df.head(10)"
   ]
  },
  {
   "cell_type": "code",
   "execution_count": 2,
   "outputs": [
    {
     "data": {
      "text/plain": "0         NL\n1         NL\n2         DM\n3         DM\n4         DM\n        ... \n35544     AH\n35545     AH\n35546     RM\n35547     DO\n35548    NaN\nName: species_id, Length: 35549, dtype: object"
     },
     "execution_count": 2,
     "metadata": {},
     "output_type": "execute_result"
    }
   ],
   "source": [
    "# Example 1\n",
    "# Method 1: select a 'subset' of the data using the column name\n",
    "surveys_df['species_id']\n",
    "\n",
    "# Method 2: use the column name as an 'attribute'; gives the same output\n",
    "surveys_df.species_id"
   ],
   "metadata": {
    "collapsed": false,
    "pycharm": {
     "name": "#%%\n"
    }
   }
  },
  {
   "cell_type": "code",
   "execution_count": 3,
   "outputs": [],
   "source": [
    "# Example 2\n",
    "# Creates an object, surveys_species, that only contains the `species_id` column\n",
    "surveys_species = surveys_df['species_id']"
   ],
   "metadata": {
    "collapsed": false,
    "pycharm": {
     "name": "#%%\n"
    }
   }
  },
  {
   "cell_type": "code",
   "execution_count": 4,
   "outputs": [
    {
     "data": {
      "text/plain": "      species_id  plot_id\n0             NL        2\n1             NL        3\n2             DM        2\n3             DM        7\n4             DM        3\n...          ...      ...\n35544         AH       15\n35545         AH       15\n35546         RM       10\n35547         DO        7\n35548        NaN        5\n\n[35549 rows x 2 columns]",
      "text/html": "<div>\n<style scoped>\n    .dataframe tbody tr th:only-of-type {\n        vertical-align: middle;\n    }\n\n    .dataframe tbody tr th {\n        vertical-align: top;\n    }\n\n    .dataframe thead th {\n        text-align: right;\n    }\n</style>\n<table border=\"1\" class=\"dataframe\">\n  <thead>\n    <tr style=\"text-align: right;\">\n      <th></th>\n      <th>species_id</th>\n      <th>plot_id</th>\n    </tr>\n  </thead>\n  <tbody>\n    <tr>\n      <th>0</th>\n      <td>NL</td>\n      <td>2</td>\n    </tr>\n    <tr>\n      <th>1</th>\n      <td>NL</td>\n      <td>3</td>\n    </tr>\n    <tr>\n      <th>2</th>\n      <td>DM</td>\n      <td>2</td>\n    </tr>\n    <tr>\n      <th>3</th>\n      <td>DM</td>\n      <td>7</td>\n    </tr>\n    <tr>\n      <th>4</th>\n      <td>DM</td>\n      <td>3</td>\n    </tr>\n    <tr>\n      <th>...</th>\n      <td>...</td>\n      <td>...</td>\n    </tr>\n    <tr>\n      <th>35544</th>\n      <td>AH</td>\n      <td>15</td>\n    </tr>\n    <tr>\n      <th>35545</th>\n      <td>AH</td>\n      <td>15</td>\n    </tr>\n    <tr>\n      <th>35546</th>\n      <td>RM</td>\n      <td>10</td>\n    </tr>\n    <tr>\n      <th>35547</th>\n      <td>DO</td>\n      <td>7</td>\n    </tr>\n    <tr>\n      <th>35548</th>\n      <td>NaN</td>\n      <td>5</td>\n    </tr>\n  </tbody>\n</table>\n<p>35549 rows × 2 columns</p>\n</div>"
     },
     "execution_count": 4,
     "metadata": {},
     "output_type": "execute_result"
    }
   ],
   "source": [
    "# Example 3\n",
    "# Select the species and plot columns from the DataFrame\n",
    "surveys_df[['species_id', 'plot_id']]"
   ],
   "metadata": {
    "collapsed": false,
    "pycharm": {
     "name": "#%%\n"
    }
   }
  },
  {
   "cell_type": "code",
   "execution_count": 5,
   "outputs": [
    {
     "data": {
      "text/plain": "       plot_id species_id\n0            2         NL\n1            3         NL\n2            2         DM\n3            7         DM\n4            3         DM\n...        ...        ...\n35544       15         AH\n35545       15         AH\n35546       10         RM\n35547        7         DO\n35548        5        NaN\n\n[35549 rows x 2 columns]",
      "text/html": "<div>\n<style scoped>\n    .dataframe tbody tr th:only-of-type {\n        vertical-align: middle;\n    }\n\n    .dataframe tbody tr th {\n        vertical-align: top;\n    }\n\n    .dataframe thead th {\n        text-align: right;\n    }\n</style>\n<table border=\"1\" class=\"dataframe\">\n  <thead>\n    <tr style=\"text-align: right;\">\n      <th></th>\n      <th>plot_id</th>\n      <th>species_id</th>\n    </tr>\n  </thead>\n  <tbody>\n    <tr>\n      <th>0</th>\n      <td>2</td>\n      <td>NL</td>\n    </tr>\n    <tr>\n      <th>1</th>\n      <td>3</td>\n      <td>NL</td>\n    </tr>\n    <tr>\n      <th>2</th>\n      <td>2</td>\n      <td>DM</td>\n    </tr>\n    <tr>\n      <th>3</th>\n      <td>7</td>\n      <td>DM</td>\n    </tr>\n    <tr>\n      <th>4</th>\n      <td>3</td>\n      <td>DM</td>\n    </tr>\n    <tr>\n      <th>...</th>\n      <td>...</td>\n      <td>...</td>\n    </tr>\n    <tr>\n      <th>35544</th>\n      <td>15</td>\n      <td>AH</td>\n    </tr>\n    <tr>\n      <th>35545</th>\n      <td>15</td>\n      <td>AH</td>\n    </tr>\n    <tr>\n      <th>35546</th>\n      <td>10</td>\n      <td>RM</td>\n    </tr>\n    <tr>\n      <th>35547</th>\n      <td>7</td>\n      <td>DO</td>\n    </tr>\n    <tr>\n      <th>35548</th>\n      <td>5</td>\n      <td>NaN</td>\n    </tr>\n  </tbody>\n</table>\n<p>35549 rows × 2 columns</p>\n</div>"
     },
     "execution_count": 5,
     "metadata": {},
     "output_type": "execute_result"
    }
   ],
   "source": [
    "# Example 4\n",
    "# What happens when you flip the order?\n",
    "surveys_df[['plot_id', 'species_id']]"
   ],
   "metadata": {
    "collapsed": false,
    "pycharm": {
     "name": "#%%\n"
    }
   }
  },
  {
   "cell_type": "code",
   "execution_count": 6,
   "outputs": [
    {
     "ename": "KeyError",
     "evalue": "'speciess'",
     "output_type": "error",
     "traceback": [
      "\u001B[0;31m---------------------------------------------------------------------------\u001B[0m",
      "\u001B[0;31mKeyError\u001B[0m                                  Traceback (most recent call last)",
      "File \u001B[0;32m~/opt/anaconda3/lib/python3.9/site-packages/pandas/core/indexes/base.py:3621\u001B[0m, in \u001B[0;36mIndex.get_loc\u001B[0;34m(self, key, method, tolerance)\u001B[0m\n\u001B[1;32m   3620\u001B[0m \u001B[38;5;28;01mtry\u001B[39;00m:\n\u001B[0;32m-> 3621\u001B[0m     \u001B[38;5;28;01mreturn\u001B[39;00m \u001B[38;5;28;43mself\u001B[39;49m\u001B[38;5;241;43m.\u001B[39;49m\u001B[43m_engine\u001B[49m\u001B[38;5;241;43m.\u001B[39;49m\u001B[43mget_loc\u001B[49m\u001B[43m(\u001B[49m\u001B[43mcasted_key\u001B[49m\u001B[43m)\u001B[49m\n\u001B[1;32m   3622\u001B[0m \u001B[38;5;28;01mexcept\u001B[39;00m \u001B[38;5;167;01mKeyError\u001B[39;00m \u001B[38;5;28;01mas\u001B[39;00m err:\n",
      "File \u001B[0;32m~/opt/anaconda3/lib/python3.9/site-packages/pandas/_libs/index.pyx:136\u001B[0m, in \u001B[0;36mpandas._libs.index.IndexEngine.get_loc\u001B[0;34m()\u001B[0m\n",
      "File \u001B[0;32m~/opt/anaconda3/lib/python3.9/site-packages/pandas/_libs/index.pyx:163\u001B[0m, in \u001B[0;36mpandas._libs.index.IndexEngine.get_loc\u001B[0;34m()\u001B[0m\n",
      "File \u001B[0;32mpandas/_libs/hashtable_class_helper.pxi:5198\u001B[0m, in \u001B[0;36mpandas._libs.hashtable.PyObjectHashTable.get_item\u001B[0;34m()\u001B[0m\n",
      "File \u001B[0;32mpandas/_libs/hashtable_class_helper.pxi:5206\u001B[0m, in \u001B[0;36mpandas._libs.hashtable.PyObjectHashTable.get_item\u001B[0;34m()\u001B[0m\n",
      "\u001B[0;31mKeyError\u001B[0m: 'speciess'",
      "\nThe above exception was the direct cause of the following exception:\n",
      "\u001B[0;31mKeyError\u001B[0m                                  Traceback (most recent call last)",
      "Input \u001B[0;32mIn [6]\u001B[0m, in \u001B[0;36m<cell line: 3>\u001B[0;34m()\u001B[0m\n\u001B[1;32m      1\u001B[0m \u001B[38;5;66;03m# Example 5\u001B[39;00m\n\u001B[1;32m      2\u001B[0m \u001B[38;5;66;03m# What happens if you ask for a column that doesn't exist?\u001B[39;00m\n\u001B[0;32m----> 3\u001B[0m \u001B[43msurveys_df\u001B[49m\u001B[43m[\u001B[49m\u001B[38;5;124;43m'\u001B[39;49m\u001B[38;5;124;43mspeciess\u001B[39;49m\u001B[38;5;124;43m'\u001B[39;49m\u001B[43m]\u001B[49m\n",
      "File \u001B[0;32m~/opt/anaconda3/lib/python3.9/site-packages/pandas/core/frame.py:3505\u001B[0m, in \u001B[0;36mDataFrame.__getitem__\u001B[0;34m(self, key)\u001B[0m\n\u001B[1;32m   3503\u001B[0m \u001B[38;5;28;01mif\u001B[39;00m \u001B[38;5;28mself\u001B[39m\u001B[38;5;241m.\u001B[39mcolumns\u001B[38;5;241m.\u001B[39mnlevels \u001B[38;5;241m>\u001B[39m \u001B[38;5;241m1\u001B[39m:\n\u001B[1;32m   3504\u001B[0m     \u001B[38;5;28;01mreturn\u001B[39;00m \u001B[38;5;28mself\u001B[39m\u001B[38;5;241m.\u001B[39m_getitem_multilevel(key)\n\u001B[0;32m-> 3505\u001B[0m indexer \u001B[38;5;241m=\u001B[39m \u001B[38;5;28;43mself\u001B[39;49m\u001B[38;5;241;43m.\u001B[39;49m\u001B[43mcolumns\u001B[49m\u001B[38;5;241;43m.\u001B[39;49m\u001B[43mget_loc\u001B[49m\u001B[43m(\u001B[49m\u001B[43mkey\u001B[49m\u001B[43m)\u001B[49m\n\u001B[1;32m   3506\u001B[0m \u001B[38;5;28;01mif\u001B[39;00m is_integer(indexer):\n\u001B[1;32m   3507\u001B[0m     indexer \u001B[38;5;241m=\u001B[39m [indexer]\n",
      "File \u001B[0;32m~/opt/anaconda3/lib/python3.9/site-packages/pandas/core/indexes/base.py:3623\u001B[0m, in \u001B[0;36mIndex.get_loc\u001B[0;34m(self, key, method, tolerance)\u001B[0m\n\u001B[1;32m   3621\u001B[0m     \u001B[38;5;28;01mreturn\u001B[39;00m \u001B[38;5;28mself\u001B[39m\u001B[38;5;241m.\u001B[39m_engine\u001B[38;5;241m.\u001B[39mget_loc(casted_key)\n\u001B[1;32m   3622\u001B[0m \u001B[38;5;28;01mexcept\u001B[39;00m \u001B[38;5;167;01mKeyError\u001B[39;00m \u001B[38;5;28;01mas\u001B[39;00m err:\n\u001B[0;32m-> 3623\u001B[0m     \u001B[38;5;28;01mraise\u001B[39;00m \u001B[38;5;167;01mKeyError\u001B[39;00m(key) \u001B[38;5;28;01mfrom\u001B[39;00m \u001B[38;5;21;01merr\u001B[39;00m\n\u001B[1;32m   3624\u001B[0m \u001B[38;5;28;01mexcept\u001B[39;00m \u001B[38;5;167;01mTypeError\u001B[39;00m:\n\u001B[1;32m   3625\u001B[0m     \u001B[38;5;66;03m# If we have a listlike key, _check_indexing_error will raise\u001B[39;00m\n\u001B[1;32m   3626\u001B[0m     \u001B[38;5;66;03m#  InvalidIndexError. Otherwise we fall through and re-raise\u001B[39;00m\n\u001B[1;32m   3627\u001B[0m     \u001B[38;5;66;03m#  the TypeError.\u001B[39;00m\n\u001B[1;32m   3628\u001B[0m     \u001B[38;5;28mself\u001B[39m\u001B[38;5;241m.\u001B[39m_check_indexing_error(key)\n",
      "\u001B[0;31mKeyError\u001B[0m: 'speciess'"
     ]
    }
   ],
   "source": [
    "# Example 5\n",
    "# What happens if you ask for a column that doesn't exist?\n",
    "surveys_df['speciess']"
   ],
   "metadata": {
    "collapsed": false,
    "pycharm": {
     "name": "#%%\n"
    }
   }
  },
  {
   "cell_type": "code",
   "execution_count": 7,
   "outputs": [
    {
     "data": {
      "text/plain": "   record_id  month  day  year  plot_id species_id sex  hindfoot_length  \\\n0          1      7   16  1977        2         NL   M             32.0   \n1          2      7   16  1977        3         NL   M             33.0   \n2          3      7   16  1977        2         DM   F             37.0   \n\n   weight  \n0     NaN  \n1     NaN  \n2     NaN  ",
      "text/html": "<div>\n<style scoped>\n    .dataframe tbody tr th:only-of-type {\n        vertical-align: middle;\n    }\n\n    .dataframe tbody tr th {\n        vertical-align: top;\n    }\n\n    .dataframe thead th {\n        text-align: right;\n    }\n</style>\n<table border=\"1\" class=\"dataframe\">\n  <thead>\n    <tr style=\"text-align: right;\">\n      <th></th>\n      <th>record_id</th>\n      <th>month</th>\n      <th>day</th>\n      <th>year</th>\n      <th>plot_id</th>\n      <th>species_id</th>\n      <th>sex</th>\n      <th>hindfoot_length</th>\n      <th>weight</th>\n    </tr>\n  </thead>\n  <tbody>\n    <tr>\n      <th>0</th>\n      <td>1</td>\n      <td>7</td>\n      <td>16</td>\n      <td>1977</td>\n      <td>2</td>\n      <td>NL</td>\n      <td>M</td>\n      <td>32.0</td>\n      <td>NaN</td>\n    </tr>\n    <tr>\n      <th>1</th>\n      <td>2</td>\n      <td>7</td>\n      <td>16</td>\n      <td>1977</td>\n      <td>3</td>\n      <td>NL</td>\n      <td>M</td>\n      <td>33.0</td>\n      <td>NaN</td>\n    </tr>\n    <tr>\n      <th>2</th>\n      <td>3</td>\n      <td>7</td>\n      <td>16</td>\n      <td>1977</td>\n      <td>2</td>\n      <td>DM</td>\n      <td>F</td>\n      <td>37.0</td>\n      <td>NaN</td>\n    </tr>\n  </tbody>\n</table>\n</div>"
     },
     "execution_count": 7,
     "metadata": {},
     "output_type": "execute_result"
    }
   ],
   "source": [
    "# Example 6\n",
    "# Select rows 0, 1, 2 (row 3 is not selected)\n",
    "surveys_df[0:3]"
   ],
   "metadata": {
    "collapsed": false,
    "pycharm": {
     "name": "#%%\n"
    }
   }
  },
  {
   "cell_type": "code",
   "execution_count": 8,
   "outputs": [
    {
     "data": {
      "text/plain": "   record_id  month  day  year  plot_id species_id sex  hindfoot_length  \\\n0          1      7   16  1977        2         NL   M             32.0   \n1          2      7   16  1977        3         NL   M             33.0   \n2          3      7   16  1977        2         DM   F             37.0   \n3          4      7   16  1977        7         DM   M             36.0   \n4          5      7   16  1977        3         DM   M             35.0   \n\n   weight  \n0     NaN  \n1     NaN  \n2     NaN  \n3     NaN  \n4     NaN  ",
      "text/html": "<div>\n<style scoped>\n    .dataframe tbody tr th:only-of-type {\n        vertical-align: middle;\n    }\n\n    .dataframe tbody tr th {\n        vertical-align: top;\n    }\n\n    .dataframe thead th {\n        text-align: right;\n    }\n</style>\n<table border=\"1\" class=\"dataframe\">\n  <thead>\n    <tr style=\"text-align: right;\">\n      <th></th>\n      <th>record_id</th>\n      <th>month</th>\n      <th>day</th>\n      <th>year</th>\n      <th>plot_id</th>\n      <th>species_id</th>\n      <th>sex</th>\n      <th>hindfoot_length</th>\n      <th>weight</th>\n    </tr>\n  </thead>\n  <tbody>\n    <tr>\n      <th>0</th>\n      <td>1</td>\n      <td>7</td>\n      <td>16</td>\n      <td>1977</td>\n      <td>2</td>\n      <td>NL</td>\n      <td>M</td>\n      <td>32.0</td>\n      <td>NaN</td>\n    </tr>\n    <tr>\n      <th>1</th>\n      <td>2</td>\n      <td>7</td>\n      <td>16</td>\n      <td>1977</td>\n      <td>3</td>\n      <td>NL</td>\n      <td>M</td>\n      <td>33.0</td>\n      <td>NaN</td>\n    </tr>\n    <tr>\n      <th>2</th>\n      <td>3</td>\n      <td>7</td>\n      <td>16</td>\n      <td>1977</td>\n      <td>2</td>\n      <td>DM</td>\n      <td>F</td>\n      <td>37.0</td>\n      <td>NaN</td>\n    </tr>\n    <tr>\n      <th>3</th>\n      <td>4</td>\n      <td>7</td>\n      <td>16</td>\n      <td>1977</td>\n      <td>7</td>\n      <td>DM</td>\n      <td>M</td>\n      <td>36.0</td>\n      <td>NaN</td>\n    </tr>\n    <tr>\n      <th>4</th>\n      <td>5</td>\n      <td>7</td>\n      <td>16</td>\n      <td>1977</td>\n      <td>3</td>\n      <td>DM</td>\n      <td>M</td>\n      <td>35.0</td>\n      <td>NaN</td>\n    </tr>\n  </tbody>\n</table>\n</div>"
     },
     "execution_count": 8,
     "metadata": {},
     "output_type": "execute_result"
    }
   ],
   "source": [
    "# Example 7\n",
    "# Select the first 5 rows (rows 0, 1, 2, 3, 4)\n",
    "surveys_df[:5]"
   ],
   "metadata": {
    "collapsed": false,
    "pycharm": {
     "name": "#%%\n"
    }
   }
  },
  {
   "cell_type": "code",
   "execution_count": 9,
   "outputs": [
    {
     "data": {
      "text/plain": "       record_id  month  day  year  plot_id species_id  sex  hindfoot_length  \\\n35548      35549     12   31  2002        5        NaN  NaN              NaN   \n\n       weight  \n35548     NaN  ",
      "text/html": "<div>\n<style scoped>\n    .dataframe tbody tr th:only-of-type {\n        vertical-align: middle;\n    }\n\n    .dataframe tbody tr th {\n        vertical-align: top;\n    }\n\n    .dataframe thead th {\n        text-align: right;\n    }\n</style>\n<table border=\"1\" class=\"dataframe\">\n  <thead>\n    <tr style=\"text-align: right;\">\n      <th></th>\n      <th>record_id</th>\n      <th>month</th>\n      <th>day</th>\n      <th>year</th>\n      <th>plot_id</th>\n      <th>species_id</th>\n      <th>sex</th>\n      <th>hindfoot_length</th>\n      <th>weight</th>\n    </tr>\n  </thead>\n  <tbody>\n    <tr>\n      <th>35548</th>\n      <td>35549</td>\n      <td>12</td>\n      <td>31</td>\n      <td>2002</td>\n      <td>5</td>\n      <td>NaN</td>\n      <td>NaN</td>\n      <td>NaN</td>\n      <td>NaN</td>\n    </tr>\n  </tbody>\n</table>\n</div>"
     },
     "execution_count": 9,
     "metadata": {},
     "output_type": "execute_result"
    }
   ],
   "source": [
    "# Example 8\n",
    "# Select the last element in the list\n",
    "# (the slice starts at the last element, and ends at the end of the list)\n",
    "surveys_df[-1:]"
   ],
   "metadata": {
    "collapsed": false,
    "pycharm": {
     "name": "#%%\n"
    }
   }
  },
  {
   "cell_type": "code",
   "execution_count": 10,
   "outputs": [],
   "source": [
    "# Example 9\n",
    "# Using the 'copy() method'\n",
    "true_copy_surveys_df = surveys_df.copy()\n",
    "\n",
    "# Using the '=' operator\n",
    "ref_surveys_df = surveys_df"
   ],
   "metadata": {
    "collapsed": false,
    "pycharm": {
     "name": "#%%\n"
    }
   }
  },
  {
   "cell_type": "code",
   "execution_count": 11,
   "outputs": [],
   "source": [
    "# Example 10\n",
    "# Assign the value `0` to the first three rows of data in the DataFrame\n",
    "ref_surveys_df[0:3] = 0"
   ],
   "metadata": {
    "collapsed": false,
    "pycharm": {
     "name": "#%%\n"
    }
   }
  },
  {
   "cell_type": "code",
   "execution_count": 12,
   "outputs": [
    {
     "data": {
      "text/plain": "   record_id  month  day  year  plot_id species_id sex  hindfoot_length  \\\n0          0      0    0     0        0          0   0              0.0   \n1          0      0    0     0        0          0   0              0.0   \n2          0      0    0     0        0          0   0              0.0   \n3          4      7   16  1977        7         DM   M             36.0   \n4          5      7   16  1977        3         DM   M             35.0   \n\n   weight  \n0     0.0  \n1     0.0  \n2     0.0  \n3     NaN  \n4     NaN  ",
      "text/html": "<div>\n<style scoped>\n    .dataframe tbody tr th:only-of-type {\n        vertical-align: middle;\n    }\n\n    .dataframe tbody tr th {\n        vertical-align: top;\n    }\n\n    .dataframe thead th {\n        text-align: right;\n    }\n</style>\n<table border=\"1\" class=\"dataframe\">\n  <thead>\n    <tr style=\"text-align: right;\">\n      <th></th>\n      <th>record_id</th>\n      <th>month</th>\n      <th>day</th>\n      <th>year</th>\n      <th>plot_id</th>\n      <th>species_id</th>\n      <th>sex</th>\n      <th>hindfoot_length</th>\n      <th>weight</th>\n    </tr>\n  </thead>\n  <tbody>\n    <tr>\n      <th>0</th>\n      <td>0</td>\n      <td>0</td>\n      <td>0</td>\n      <td>0</td>\n      <td>0</td>\n      <td>0</td>\n      <td>0</td>\n      <td>0.0</td>\n      <td>0.0</td>\n    </tr>\n    <tr>\n      <th>1</th>\n      <td>0</td>\n      <td>0</td>\n      <td>0</td>\n      <td>0</td>\n      <td>0</td>\n      <td>0</td>\n      <td>0</td>\n      <td>0.0</td>\n      <td>0.0</td>\n    </tr>\n    <tr>\n      <th>2</th>\n      <td>0</td>\n      <td>0</td>\n      <td>0</td>\n      <td>0</td>\n      <td>0</td>\n      <td>0</td>\n      <td>0</td>\n      <td>0.0</td>\n      <td>0.0</td>\n    </tr>\n    <tr>\n      <th>3</th>\n      <td>4</td>\n      <td>7</td>\n      <td>16</td>\n      <td>1977</td>\n      <td>7</td>\n      <td>DM</td>\n      <td>M</td>\n      <td>36.0</td>\n      <td>NaN</td>\n    </tr>\n    <tr>\n      <th>4</th>\n      <td>5</td>\n      <td>7</td>\n      <td>16</td>\n      <td>1977</td>\n      <td>3</td>\n      <td>DM</td>\n      <td>M</td>\n      <td>35.0</td>\n      <td>NaN</td>\n    </tr>\n  </tbody>\n</table>\n</div>"
     },
     "execution_count": 12,
     "metadata": {},
     "output_type": "execute_result"
    }
   ],
   "source": [
    "# Example 11\n",
    "# ref_surveys_df was created using the '=' operator\n",
    "ref_surveys_df.head()"
   ],
   "metadata": {
    "collapsed": false,
    "pycharm": {
     "name": "#%%\n"
    }
   }
  },
  {
   "cell_type": "code",
   "execution_count": 13,
   "outputs": [
    {
     "data": {
      "text/plain": "   record_id  month  day  year  plot_id species_id sex  hindfoot_length  \\\n0          0      0    0     0        0          0   0              0.0   \n1          0      0    0     0        0          0   0              0.0   \n2          0      0    0     0        0          0   0              0.0   \n3          4      7   16  1977        7         DM   M             36.0   \n4          5      7   16  1977        3         DM   M             35.0   \n\n   weight  \n0     0.0  \n1     0.0  \n2     0.0  \n3     NaN  \n4     NaN  ",
      "text/html": "<div>\n<style scoped>\n    .dataframe tbody tr th:only-of-type {\n        vertical-align: middle;\n    }\n\n    .dataframe tbody tr th {\n        vertical-align: top;\n    }\n\n    .dataframe thead th {\n        text-align: right;\n    }\n</style>\n<table border=\"1\" class=\"dataframe\">\n  <thead>\n    <tr style=\"text-align: right;\">\n      <th></th>\n      <th>record_id</th>\n      <th>month</th>\n      <th>day</th>\n      <th>year</th>\n      <th>plot_id</th>\n      <th>species_id</th>\n      <th>sex</th>\n      <th>hindfoot_length</th>\n      <th>weight</th>\n    </tr>\n  </thead>\n  <tbody>\n    <tr>\n      <th>0</th>\n      <td>0</td>\n      <td>0</td>\n      <td>0</td>\n      <td>0</td>\n      <td>0</td>\n      <td>0</td>\n      <td>0</td>\n      <td>0.0</td>\n      <td>0.0</td>\n    </tr>\n    <tr>\n      <th>1</th>\n      <td>0</td>\n      <td>0</td>\n      <td>0</td>\n      <td>0</td>\n      <td>0</td>\n      <td>0</td>\n      <td>0</td>\n      <td>0.0</td>\n      <td>0.0</td>\n    </tr>\n    <tr>\n      <th>2</th>\n      <td>0</td>\n      <td>0</td>\n      <td>0</td>\n      <td>0</td>\n      <td>0</td>\n      <td>0</td>\n      <td>0</td>\n      <td>0.0</td>\n      <td>0.0</td>\n    </tr>\n    <tr>\n      <th>3</th>\n      <td>4</td>\n      <td>7</td>\n      <td>16</td>\n      <td>1977</td>\n      <td>7</td>\n      <td>DM</td>\n      <td>M</td>\n      <td>36.0</td>\n      <td>NaN</td>\n    </tr>\n    <tr>\n      <th>4</th>\n      <td>5</td>\n      <td>7</td>\n      <td>16</td>\n      <td>1977</td>\n      <td>3</td>\n      <td>DM</td>\n      <td>M</td>\n      <td>35.0</td>\n      <td>NaN</td>\n    </tr>\n  </tbody>\n</table>\n</div>"
     },
     "execution_count": 13,
     "metadata": {},
     "output_type": "execute_result"
    }
   ],
   "source": [
    "# Example 12\n",
    "# surveys_df is the original dataframe\n",
    "surveys_df.head()"
   ],
   "metadata": {
    "collapsed": false,
    "pycharm": {
     "name": "#%%\n"
    }
   }
  },
  {
   "cell_type": "code",
   "execution_count": 14,
   "outputs": [],
   "source": [
    "# Example 13\n",
    "true_copy_surveys_df = surveys_df.copy()"
   ],
   "metadata": {
    "collapsed": false,
    "pycharm": {
     "name": "#%%\n"
    }
   }
  },
  {
   "cell_type": "code",
   "execution_count": 15,
   "outputs": [],
   "source": [
    "# Example 14\n",
    "ref_surveys_df = surveys_df"
   ],
   "metadata": {
    "collapsed": false,
    "pycharm": {
     "name": "#%%\n"
    }
   }
  },
  {
   "cell_type": "code",
   "execution_count": 16,
   "outputs": [],
   "source": [
    "# Example 15\n",
    "surveys_df = pd.read_csv(\"surveys.csv\")"
   ],
   "metadata": {
    "collapsed": false,
    "pycharm": {
     "name": "#%%\n"
    }
   }
  },
  {
   "cell_type": "code",
   "execution_count": 17,
   "outputs": [
    {
     "data": {
      "text/plain": "   month  day  year\n0      7   16  1977\n1      7   16  1977\n2      7   16  1977",
      "text/html": "<div>\n<style scoped>\n    .dataframe tbody tr th:only-of-type {\n        vertical-align: middle;\n    }\n\n    .dataframe tbody tr th {\n        vertical-align: top;\n    }\n\n    .dataframe thead th {\n        text-align: right;\n    }\n</style>\n<table border=\"1\" class=\"dataframe\">\n  <thead>\n    <tr style=\"text-align: right;\">\n      <th></th>\n      <th>month</th>\n      <th>day</th>\n      <th>year</th>\n    </tr>\n  </thead>\n  <tbody>\n    <tr>\n      <th>0</th>\n      <td>7</td>\n      <td>16</td>\n      <td>1977</td>\n    </tr>\n    <tr>\n      <th>1</th>\n      <td>7</td>\n      <td>16</td>\n      <td>1977</td>\n    </tr>\n    <tr>\n      <th>2</th>\n      <td>7</td>\n      <td>16</td>\n      <td>1977</td>\n    </tr>\n  </tbody>\n</table>\n</div>"
     },
     "execution_count": 17,
     "metadata": {},
     "output_type": "execute_result"
    }
   ],
   "source": [
    "# Example 16\n",
    "# iloc[row slicing, column slicing]\n",
    "surveys_df.iloc[0:3, 1:4]"
   ],
   "metadata": {
    "collapsed": false,
    "pycharm": {
     "name": "#%%\n"
    }
   }
  },
  {
   "cell_type": "code",
   "execution_count": 18,
   "outputs": [
    {
     "data": {
      "text/plain": "    record_id  month  day  year  plot_id species_id sex  hindfoot_length  \\\n0           1      7   16  1977        2         NL   M             32.0   \n10         11      7   16  1977        5         DS   F             53.0   \n\n    weight  \n0      NaN  \n10     NaN  ",
      "text/html": "<div>\n<style scoped>\n    .dataframe tbody tr th:only-of-type {\n        vertical-align: middle;\n    }\n\n    .dataframe tbody tr th {\n        vertical-align: top;\n    }\n\n    .dataframe thead th {\n        text-align: right;\n    }\n</style>\n<table border=\"1\" class=\"dataframe\">\n  <thead>\n    <tr style=\"text-align: right;\">\n      <th></th>\n      <th>record_id</th>\n      <th>month</th>\n      <th>day</th>\n      <th>year</th>\n      <th>plot_id</th>\n      <th>species_id</th>\n      <th>sex</th>\n      <th>hindfoot_length</th>\n      <th>weight</th>\n    </tr>\n  </thead>\n  <tbody>\n    <tr>\n      <th>0</th>\n      <td>1</td>\n      <td>7</td>\n      <td>16</td>\n      <td>1977</td>\n      <td>2</td>\n      <td>NL</td>\n      <td>M</td>\n      <td>32.0</td>\n      <td>NaN</td>\n    </tr>\n    <tr>\n      <th>10</th>\n      <td>11</td>\n      <td>7</td>\n      <td>16</td>\n      <td>1977</td>\n      <td>5</td>\n      <td>DS</td>\n      <td>F</td>\n      <td>53.0</td>\n      <td>NaN</td>\n    </tr>\n  </tbody>\n</table>\n</div>"
     },
     "execution_count": 18,
     "metadata": {},
     "output_type": "execute_result"
    }
   ],
   "source": [
    "# Example 17\n",
    "# Select all columns for rows of index values 0 and 10\n",
    "surveys_df.loc[[0, 10], :]"
   ],
   "metadata": {
    "collapsed": false,
    "pycharm": {
     "name": "#%%\n"
    }
   }
  },
  {
   "cell_type": "code",
   "execution_count": 19,
   "outputs": [
    {
     "data": {
      "text/plain": "species_id     NL\nplot_id         2\nweight        NaN\nName: 0, dtype: object"
     },
     "execution_count": 19,
     "metadata": {},
     "output_type": "execute_result"
    }
   ],
   "source": [
    "# Example 18\n",
    "# What does this do?\n",
    "surveys_df.loc[0, ['species_id', 'plot_id', 'weight']]"
   ],
   "metadata": {
    "collapsed": false,
    "pycharm": {
     "name": "#%%\n"
    }
   }
  },
  {
   "cell_type": "code",
   "execution_count": 20,
   "outputs": [
    {
     "ename": "KeyError",
     "evalue": "'[35549] not in index'",
     "output_type": "error",
     "traceback": [
      "\u001B[0;31m---------------------------------------------------------------------------\u001B[0m",
      "\u001B[0;31mKeyError\u001B[0m                                  Traceback (most recent call last)",
      "Input \u001B[0;32mIn [20]\u001B[0m, in \u001B[0;36m<cell line: 3>\u001B[0;34m()\u001B[0m\n\u001B[1;32m      1\u001B[0m \u001B[38;5;66;03m# Example 19\u001B[39;00m\n\u001B[1;32m      2\u001B[0m \u001B[38;5;66;03m# What happens when you type the code below?\u001B[39;00m\n\u001B[0;32m----> 3\u001B[0m \u001B[43msurveys_df\u001B[49m\u001B[38;5;241;43m.\u001B[39;49m\u001B[43mloc\u001B[49m\u001B[43m[\u001B[49m\u001B[43m[\u001B[49m\u001B[38;5;241;43m0\u001B[39;49m\u001B[43m,\u001B[49m\u001B[43m \u001B[49m\u001B[38;5;241;43m10\u001B[39;49m\u001B[43m,\u001B[49m\u001B[43m \u001B[49m\u001B[38;5;241;43m35549\u001B[39;49m\u001B[43m]\u001B[49m\u001B[43m,\u001B[49m\u001B[43m \u001B[49m\u001B[43m:\u001B[49m\u001B[43m]\u001B[49m\n",
      "File \u001B[0;32m~/opt/anaconda3/lib/python3.9/site-packages/pandas/core/indexing.py:961\u001B[0m, in \u001B[0;36m_LocationIndexer.__getitem__\u001B[0;34m(self, key)\u001B[0m\n\u001B[1;32m    959\u001B[0m     \u001B[38;5;28;01mif\u001B[39;00m \u001B[38;5;28mself\u001B[39m\u001B[38;5;241m.\u001B[39m_is_scalar_access(key):\n\u001B[1;32m    960\u001B[0m         \u001B[38;5;28;01mreturn\u001B[39;00m \u001B[38;5;28mself\u001B[39m\u001B[38;5;241m.\u001B[39mobj\u001B[38;5;241m.\u001B[39m_get_value(\u001B[38;5;241m*\u001B[39mkey, takeable\u001B[38;5;241m=\u001B[39m\u001B[38;5;28mself\u001B[39m\u001B[38;5;241m.\u001B[39m_takeable)\n\u001B[0;32m--> 961\u001B[0m     \u001B[38;5;28;01mreturn\u001B[39;00m \u001B[38;5;28;43mself\u001B[39;49m\u001B[38;5;241;43m.\u001B[39;49m\u001B[43m_getitem_tuple\u001B[49m\u001B[43m(\u001B[49m\u001B[43mkey\u001B[49m\u001B[43m)\u001B[49m\n\u001B[1;32m    962\u001B[0m \u001B[38;5;28;01melse\u001B[39;00m:\n\u001B[1;32m    963\u001B[0m     \u001B[38;5;66;03m# we by definition only have the 0th axis\u001B[39;00m\n\u001B[1;32m    964\u001B[0m     axis \u001B[38;5;241m=\u001B[39m \u001B[38;5;28mself\u001B[39m\u001B[38;5;241m.\u001B[39maxis \u001B[38;5;129;01mor\u001B[39;00m \u001B[38;5;241m0\u001B[39m\n",
      "File \u001B[0;32m~/opt/anaconda3/lib/python3.9/site-packages/pandas/core/indexing.py:1149\u001B[0m, in \u001B[0;36m_LocIndexer._getitem_tuple\u001B[0;34m(self, tup)\u001B[0m\n\u001B[1;32m   1146\u001B[0m \u001B[38;5;28;01mif\u001B[39;00m \u001B[38;5;28mself\u001B[39m\u001B[38;5;241m.\u001B[39m_multi_take_opportunity(tup):\n\u001B[1;32m   1147\u001B[0m     \u001B[38;5;28;01mreturn\u001B[39;00m \u001B[38;5;28mself\u001B[39m\u001B[38;5;241m.\u001B[39m_multi_take(tup)\n\u001B[0;32m-> 1149\u001B[0m \u001B[38;5;28;01mreturn\u001B[39;00m \u001B[38;5;28;43mself\u001B[39;49m\u001B[38;5;241;43m.\u001B[39;49m\u001B[43m_getitem_tuple_same_dim\u001B[49m\u001B[43m(\u001B[49m\u001B[43mtup\u001B[49m\u001B[43m)\u001B[49m\n",
      "File \u001B[0;32m~/opt/anaconda3/lib/python3.9/site-packages/pandas/core/indexing.py:827\u001B[0m, in \u001B[0;36m_LocationIndexer._getitem_tuple_same_dim\u001B[0;34m(self, tup)\u001B[0m\n\u001B[1;32m    824\u001B[0m \u001B[38;5;28;01mif\u001B[39;00m com\u001B[38;5;241m.\u001B[39mis_null_slice(key):\n\u001B[1;32m    825\u001B[0m     \u001B[38;5;28;01mcontinue\u001B[39;00m\n\u001B[0;32m--> 827\u001B[0m retval \u001B[38;5;241m=\u001B[39m \u001B[38;5;28;43mgetattr\u001B[39;49m\u001B[43m(\u001B[49m\u001B[43mretval\u001B[49m\u001B[43m,\u001B[49m\u001B[43m \u001B[49m\u001B[38;5;28;43mself\u001B[39;49m\u001B[38;5;241;43m.\u001B[39;49m\u001B[43mname\u001B[49m\u001B[43m)\u001B[49m\u001B[38;5;241;43m.\u001B[39;49m\u001B[43m_getitem_axis\u001B[49m\u001B[43m(\u001B[49m\u001B[43mkey\u001B[49m\u001B[43m,\u001B[49m\u001B[43m \u001B[49m\u001B[43maxis\u001B[49m\u001B[38;5;241;43m=\u001B[39;49m\u001B[43mi\u001B[49m\u001B[43m)\u001B[49m\n\u001B[1;32m    828\u001B[0m \u001B[38;5;66;03m# We should never have retval.ndim < self.ndim, as that should\u001B[39;00m\n\u001B[1;32m    829\u001B[0m \u001B[38;5;66;03m#  be handled by the _getitem_lowerdim call above.\u001B[39;00m\n\u001B[1;32m    830\u001B[0m \u001B[38;5;28;01massert\u001B[39;00m retval\u001B[38;5;241m.\u001B[39mndim \u001B[38;5;241m==\u001B[39m \u001B[38;5;28mself\u001B[39m\u001B[38;5;241m.\u001B[39mndim\n",
      "File \u001B[0;32m~/opt/anaconda3/lib/python3.9/site-packages/pandas/core/indexing.py:1191\u001B[0m, in \u001B[0;36m_LocIndexer._getitem_axis\u001B[0;34m(self, key, axis)\u001B[0m\n\u001B[1;32m   1188\u001B[0m     \u001B[38;5;28;01mif\u001B[39;00m \u001B[38;5;28mhasattr\u001B[39m(key, \u001B[38;5;124m\"\u001B[39m\u001B[38;5;124mndim\u001B[39m\u001B[38;5;124m\"\u001B[39m) \u001B[38;5;129;01mand\u001B[39;00m key\u001B[38;5;241m.\u001B[39mndim \u001B[38;5;241m>\u001B[39m \u001B[38;5;241m1\u001B[39m:\n\u001B[1;32m   1189\u001B[0m         \u001B[38;5;28;01mraise\u001B[39;00m \u001B[38;5;167;01mValueError\u001B[39;00m(\u001B[38;5;124m\"\u001B[39m\u001B[38;5;124mCannot index with multidimensional key\u001B[39m\u001B[38;5;124m\"\u001B[39m)\n\u001B[0;32m-> 1191\u001B[0m     \u001B[38;5;28;01mreturn\u001B[39;00m \u001B[38;5;28;43mself\u001B[39;49m\u001B[38;5;241;43m.\u001B[39;49m\u001B[43m_getitem_iterable\u001B[49m\u001B[43m(\u001B[49m\u001B[43mkey\u001B[49m\u001B[43m,\u001B[49m\u001B[43m \u001B[49m\u001B[43maxis\u001B[49m\u001B[38;5;241;43m=\u001B[39;49m\u001B[43maxis\u001B[49m\u001B[43m)\u001B[49m\n\u001B[1;32m   1193\u001B[0m \u001B[38;5;66;03m# nested tuple slicing\u001B[39;00m\n\u001B[1;32m   1194\u001B[0m \u001B[38;5;28;01mif\u001B[39;00m is_nested_tuple(key, labels):\n",
      "File \u001B[0;32m~/opt/anaconda3/lib/python3.9/site-packages/pandas/core/indexing.py:1132\u001B[0m, in \u001B[0;36m_LocIndexer._getitem_iterable\u001B[0;34m(self, key, axis)\u001B[0m\n\u001B[1;32m   1129\u001B[0m \u001B[38;5;28mself\u001B[39m\u001B[38;5;241m.\u001B[39m_validate_key(key, axis)\n\u001B[1;32m   1131\u001B[0m \u001B[38;5;66;03m# A collection of keys\u001B[39;00m\n\u001B[0;32m-> 1132\u001B[0m keyarr, indexer \u001B[38;5;241m=\u001B[39m \u001B[38;5;28;43mself\u001B[39;49m\u001B[38;5;241;43m.\u001B[39;49m\u001B[43m_get_listlike_indexer\u001B[49m\u001B[43m(\u001B[49m\u001B[43mkey\u001B[49m\u001B[43m,\u001B[49m\u001B[43m \u001B[49m\u001B[43maxis\u001B[49m\u001B[43m)\u001B[49m\n\u001B[1;32m   1133\u001B[0m \u001B[38;5;28;01mreturn\u001B[39;00m \u001B[38;5;28mself\u001B[39m\u001B[38;5;241m.\u001B[39mobj\u001B[38;5;241m.\u001B[39m_reindex_with_indexers(\n\u001B[1;32m   1134\u001B[0m     {axis: [keyarr, indexer]}, copy\u001B[38;5;241m=\u001B[39m\u001B[38;5;28;01mTrue\u001B[39;00m, allow_dups\u001B[38;5;241m=\u001B[39m\u001B[38;5;28;01mTrue\u001B[39;00m\n\u001B[1;32m   1135\u001B[0m )\n",
      "File \u001B[0;32m~/opt/anaconda3/lib/python3.9/site-packages/pandas/core/indexing.py:1327\u001B[0m, in \u001B[0;36m_LocIndexer._get_listlike_indexer\u001B[0;34m(self, key, axis)\u001B[0m\n\u001B[1;32m   1324\u001B[0m ax \u001B[38;5;241m=\u001B[39m \u001B[38;5;28mself\u001B[39m\u001B[38;5;241m.\u001B[39mobj\u001B[38;5;241m.\u001B[39m_get_axis(axis)\n\u001B[1;32m   1325\u001B[0m axis_name \u001B[38;5;241m=\u001B[39m \u001B[38;5;28mself\u001B[39m\u001B[38;5;241m.\u001B[39mobj\u001B[38;5;241m.\u001B[39m_get_axis_name(axis)\n\u001B[0;32m-> 1327\u001B[0m keyarr, indexer \u001B[38;5;241m=\u001B[39m \u001B[43max\u001B[49m\u001B[38;5;241;43m.\u001B[39;49m\u001B[43m_get_indexer_strict\u001B[49m\u001B[43m(\u001B[49m\u001B[43mkey\u001B[49m\u001B[43m,\u001B[49m\u001B[43m \u001B[49m\u001B[43maxis_name\u001B[49m\u001B[43m)\u001B[49m\n\u001B[1;32m   1329\u001B[0m \u001B[38;5;28;01mreturn\u001B[39;00m keyarr, indexer\n",
      "File \u001B[0;32m~/opt/anaconda3/lib/python3.9/site-packages/pandas/core/indexes/base.py:5782\u001B[0m, in \u001B[0;36mIndex._get_indexer_strict\u001B[0;34m(self, key, axis_name)\u001B[0m\n\u001B[1;32m   5779\u001B[0m \u001B[38;5;28;01melse\u001B[39;00m:\n\u001B[1;32m   5780\u001B[0m     keyarr, indexer, new_indexer \u001B[38;5;241m=\u001B[39m \u001B[38;5;28mself\u001B[39m\u001B[38;5;241m.\u001B[39m_reindex_non_unique(keyarr)\n\u001B[0;32m-> 5782\u001B[0m \u001B[38;5;28;43mself\u001B[39;49m\u001B[38;5;241;43m.\u001B[39;49m\u001B[43m_raise_if_missing\u001B[49m\u001B[43m(\u001B[49m\u001B[43mkeyarr\u001B[49m\u001B[43m,\u001B[49m\u001B[43m \u001B[49m\u001B[43mindexer\u001B[49m\u001B[43m,\u001B[49m\u001B[43m \u001B[49m\u001B[43maxis_name\u001B[49m\u001B[43m)\u001B[49m\n\u001B[1;32m   5784\u001B[0m keyarr \u001B[38;5;241m=\u001B[39m \u001B[38;5;28mself\u001B[39m\u001B[38;5;241m.\u001B[39mtake(indexer)\n\u001B[1;32m   5785\u001B[0m \u001B[38;5;28;01mif\u001B[39;00m \u001B[38;5;28misinstance\u001B[39m(key, Index):\n\u001B[1;32m   5786\u001B[0m     \u001B[38;5;66;03m# GH 42790 - Preserve name from an Index\u001B[39;00m\n",
      "File \u001B[0;32m~/opt/anaconda3/lib/python3.9/site-packages/pandas/core/indexes/base.py:5845\u001B[0m, in \u001B[0;36mIndex._raise_if_missing\u001B[0;34m(self, key, indexer, axis_name)\u001B[0m\n\u001B[1;32m   5842\u001B[0m     \u001B[38;5;28;01mraise\u001B[39;00m \u001B[38;5;167;01mKeyError\u001B[39;00m(\u001B[38;5;124mf\u001B[39m\u001B[38;5;124m\"\u001B[39m\u001B[38;5;124mNone of [\u001B[39m\u001B[38;5;132;01m{\u001B[39;00mkey\u001B[38;5;132;01m}\u001B[39;00m\u001B[38;5;124m] are in the [\u001B[39m\u001B[38;5;132;01m{\u001B[39;00maxis_name\u001B[38;5;132;01m}\u001B[39;00m\u001B[38;5;124m]\u001B[39m\u001B[38;5;124m\"\u001B[39m)\n\u001B[1;32m   5844\u001B[0m not_found \u001B[38;5;241m=\u001B[39m \u001B[38;5;28mlist\u001B[39m(ensure_index(key)[missing_mask\u001B[38;5;241m.\u001B[39mnonzero()[\u001B[38;5;241m0\u001B[39m]]\u001B[38;5;241m.\u001B[39munique())\n\u001B[0;32m-> 5845\u001B[0m \u001B[38;5;28;01mraise\u001B[39;00m \u001B[38;5;167;01mKeyError\u001B[39;00m(\u001B[38;5;124mf\u001B[39m\u001B[38;5;124m\"\u001B[39m\u001B[38;5;132;01m{\u001B[39;00mnot_found\u001B[38;5;132;01m}\u001B[39;00m\u001B[38;5;124m not in index\u001B[39m\u001B[38;5;124m\"\u001B[39m)\n",
      "\u001B[0;31mKeyError\u001B[0m: '[35549] not in index'"
     ]
    }
   ],
   "source": [
    "# Example 19\n",
    "# What happens when you type the code below?\n",
    "surveys_df.loc[[0, 10, 35549], :]"
   ],
   "metadata": {
    "collapsed": false,
    "pycharm": {
     "name": "#%%\n"
    }
   }
  },
  {
   "cell_type": "code",
   "execution_count": 21,
   "outputs": [
    {
     "data": {
      "text/plain": "'F'"
     },
     "execution_count": 21,
     "metadata": {},
     "output_type": "execute_result"
    }
   ],
   "source": [
    "# Example 20\n",
    "surveys_df.iloc[2, 6]"
   ],
   "metadata": {
    "collapsed": false,
    "pycharm": {
     "name": "#%%\n"
    }
   }
  },
  {
   "cell_type": "markdown",
   "source": [
    "Exercise 1: Try and determine the output BEFORE you run the following code. Does the output make sense?\n",
    "What happens when you execute:\n",
    "\n",
    "surveys_df[0:1] - Displays row 0\n",
    "surveys_df[:4]  - Selects the first 4 rows\n",
    "surveys_df[:-1] - Displays all rows\n",
    "\n",
    "What happens when you call:\n",
    "\n",
    "surveys_df.iloc[0:4, 1:4] - Displays the first 4 rows, displays column 1, 2, and 3.\n",
    "surveys_df.loc[0:4, 1:4]  - This will result in an error. The integers refer to the index label and not the position when using loc\n",
    "\n",
    "How are the two commands different?\n",
    "\n",
    "The main difference between pandas loc[] vs iloc[] is loc gets DataFrame rows & columns by labels/names and iloc[] gets by integer Index/position."
   ],
   "metadata": {
    "collapsed": false,
    "pycharm": {
     "name": "#%% md\n"
    }
   }
  },
  {
   "cell_type": "code",
   "execution_count": 23,
   "outputs": [
    {
     "data": {
      "text/plain": "   record_id  month  day  year  plot_id species_id sex  hindfoot_length  \\\n0          1      7   16  1977        2         NL   M             32.0   \n\n   weight  \n0     NaN  ",
      "text/html": "<div>\n<style scoped>\n    .dataframe tbody tr th:only-of-type {\n        vertical-align: middle;\n    }\n\n    .dataframe tbody tr th {\n        vertical-align: top;\n    }\n\n    .dataframe thead th {\n        text-align: right;\n    }\n</style>\n<table border=\"1\" class=\"dataframe\">\n  <thead>\n    <tr style=\"text-align: right;\">\n      <th></th>\n      <th>record_id</th>\n      <th>month</th>\n      <th>day</th>\n      <th>year</th>\n      <th>plot_id</th>\n      <th>species_id</th>\n      <th>sex</th>\n      <th>hindfoot_length</th>\n      <th>weight</th>\n    </tr>\n  </thead>\n  <tbody>\n    <tr>\n      <th>0</th>\n      <td>1</td>\n      <td>7</td>\n      <td>16</td>\n      <td>1977</td>\n      <td>2</td>\n      <td>NL</td>\n      <td>M</td>\n      <td>32.0</td>\n      <td>NaN</td>\n    </tr>\n  </tbody>\n</table>\n</div>"
     },
     "execution_count": 23,
     "metadata": {},
     "output_type": "execute_result"
    }
   ],
   "source": [
    "#Exercise 1: Displays row 0\n",
    "surveys_df[0:1]"
   ],
   "metadata": {
    "collapsed": false,
    "pycharm": {
     "name": "#%%\n"
    }
   }
  },
  {
   "cell_type": "code",
   "execution_count": 24,
   "outputs": [
    {
     "data": {
      "text/plain": "   record_id  month  day  year  plot_id species_id sex  hindfoot_length  \\\n0          1      7   16  1977        2         NL   M             32.0   \n1          2      7   16  1977        3         NL   M             33.0   \n2          3      7   16  1977        2         DM   F             37.0   \n3          4      7   16  1977        7         DM   M             36.0   \n\n   weight  \n0     NaN  \n1     NaN  \n2     NaN  \n3     NaN  ",
      "text/html": "<div>\n<style scoped>\n    .dataframe tbody tr th:only-of-type {\n        vertical-align: middle;\n    }\n\n    .dataframe tbody tr th {\n        vertical-align: top;\n    }\n\n    .dataframe thead th {\n        text-align: right;\n    }\n</style>\n<table border=\"1\" class=\"dataframe\">\n  <thead>\n    <tr style=\"text-align: right;\">\n      <th></th>\n      <th>record_id</th>\n      <th>month</th>\n      <th>day</th>\n      <th>year</th>\n      <th>plot_id</th>\n      <th>species_id</th>\n      <th>sex</th>\n      <th>hindfoot_length</th>\n      <th>weight</th>\n    </tr>\n  </thead>\n  <tbody>\n    <tr>\n      <th>0</th>\n      <td>1</td>\n      <td>7</td>\n      <td>16</td>\n      <td>1977</td>\n      <td>2</td>\n      <td>NL</td>\n      <td>M</td>\n      <td>32.0</td>\n      <td>NaN</td>\n    </tr>\n    <tr>\n      <th>1</th>\n      <td>2</td>\n      <td>7</td>\n      <td>16</td>\n      <td>1977</td>\n      <td>3</td>\n      <td>NL</td>\n      <td>M</td>\n      <td>33.0</td>\n      <td>NaN</td>\n    </tr>\n    <tr>\n      <th>2</th>\n      <td>3</td>\n      <td>7</td>\n      <td>16</td>\n      <td>1977</td>\n      <td>2</td>\n      <td>DM</td>\n      <td>F</td>\n      <td>37.0</td>\n      <td>NaN</td>\n    </tr>\n    <tr>\n      <th>3</th>\n      <td>4</td>\n      <td>7</td>\n      <td>16</td>\n      <td>1977</td>\n      <td>7</td>\n      <td>DM</td>\n      <td>M</td>\n      <td>36.0</td>\n      <td>NaN</td>\n    </tr>\n  </tbody>\n</table>\n</div>"
     },
     "execution_count": 24,
     "metadata": {},
     "output_type": "execute_result"
    }
   ],
   "source": [
    "#Exercise 1: Displays the first 4 rows\n",
    "surveys_df[:4]"
   ],
   "metadata": {
    "collapsed": false,
    "pycharm": {
     "name": "#%%\n"
    }
   }
  },
  {
   "cell_type": "code",
   "execution_count": 25,
   "outputs": [
    {
     "data": {
      "text/plain": "       record_id  month  day  year  plot_id species_id  sex  hindfoot_length  \\\n0              1      7   16  1977        2         NL    M             32.0   \n1              2      7   16  1977        3         NL    M             33.0   \n2              3      7   16  1977        2         DM    F             37.0   \n3              4      7   16  1977        7         DM    M             36.0   \n4              5      7   16  1977        3         DM    M             35.0   \n...          ...    ...  ...   ...      ...        ...  ...              ...   \n35543      35544     12   31  2002       15         US  NaN              NaN   \n35544      35545     12   31  2002       15         AH  NaN              NaN   \n35545      35546     12   31  2002       15         AH  NaN              NaN   \n35546      35547     12   31  2002       10         RM    F             15.0   \n35547      35548     12   31  2002        7         DO    M             36.0   \n\n       weight  \n0         NaN  \n1         NaN  \n2         NaN  \n3         NaN  \n4         NaN  \n...       ...  \n35543     NaN  \n35544     NaN  \n35545     NaN  \n35546    14.0  \n35547    51.0  \n\n[35548 rows x 9 columns]",
      "text/html": "<div>\n<style scoped>\n    .dataframe tbody tr th:only-of-type {\n        vertical-align: middle;\n    }\n\n    .dataframe tbody tr th {\n        vertical-align: top;\n    }\n\n    .dataframe thead th {\n        text-align: right;\n    }\n</style>\n<table border=\"1\" class=\"dataframe\">\n  <thead>\n    <tr style=\"text-align: right;\">\n      <th></th>\n      <th>record_id</th>\n      <th>month</th>\n      <th>day</th>\n      <th>year</th>\n      <th>plot_id</th>\n      <th>species_id</th>\n      <th>sex</th>\n      <th>hindfoot_length</th>\n      <th>weight</th>\n    </tr>\n  </thead>\n  <tbody>\n    <tr>\n      <th>0</th>\n      <td>1</td>\n      <td>7</td>\n      <td>16</td>\n      <td>1977</td>\n      <td>2</td>\n      <td>NL</td>\n      <td>M</td>\n      <td>32.0</td>\n      <td>NaN</td>\n    </tr>\n    <tr>\n      <th>1</th>\n      <td>2</td>\n      <td>7</td>\n      <td>16</td>\n      <td>1977</td>\n      <td>3</td>\n      <td>NL</td>\n      <td>M</td>\n      <td>33.0</td>\n      <td>NaN</td>\n    </tr>\n    <tr>\n      <th>2</th>\n      <td>3</td>\n      <td>7</td>\n      <td>16</td>\n      <td>1977</td>\n      <td>2</td>\n      <td>DM</td>\n      <td>F</td>\n      <td>37.0</td>\n      <td>NaN</td>\n    </tr>\n    <tr>\n      <th>3</th>\n      <td>4</td>\n      <td>7</td>\n      <td>16</td>\n      <td>1977</td>\n      <td>7</td>\n      <td>DM</td>\n      <td>M</td>\n      <td>36.0</td>\n      <td>NaN</td>\n    </tr>\n    <tr>\n      <th>4</th>\n      <td>5</td>\n      <td>7</td>\n      <td>16</td>\n      <td>1977</td>\n      <td>3</td>\n      <td>DM</td>\n      <td>M</td>\n      <td>35.0</td>\n      <td>NaN</td>\n    </tr>\n    <tr>\n      <th>...</th>\n      <td>...</td>\n      <td>...</td>\n      <td>...</td>\n      <td>...</td>\n      <td>...</td>\n      <td>...</td>\n      <td>...</td>\n      <td>...</td>\n      <td>...</td>\n    </tr>\n    <tr>\n      <th>35543</th>\n      <td>35544</td>\n      <td>12</td>\n      <td>31</td>\n      <td>2002</td>\n      <td>15</td>\n      <td>US</td>\n      <td>NaN</td>\n      <td>NaN</td>\n      <td>NaN</td>\n    </tr>\n    <tr>\n      <th>35544</th>\n      <td>35545</td>\n      <td>12</td>\n      <td>31</td>\n      <td>2002</td>\n      <td>15</td>\n      <td>AH</td>\n      <td>NaN</td>\n      <td>NaN</td>\n      <td>NaN</td>\n    </tr>\n    <tr>\n      <th>35545</th>\n      <td>35546</td>\n      <td>12</td>\n      <td>31</td>\n      <td>2002</td>\n      <td>15</td>\n      <td>AH</td>\n      <td>NaN</td>\n      <td>NaN</td>\n      <td>NaN</td>\n    </tr>\n    <tr>\n      <th>35546</th>\n      <td>35547</td>\n      <td>12</td>\n      <td>31</td>\n      <td>2002</td>\n      <td>10</td>\n      <td>RM</td>\n      <td>F</td>\n      <td>15.0</td>\n      <td>14.0</td>\n    </tr>\n    <tr>\n      <th>35547</th>\n      <td>35548</td>\n      <td>12</td>\n      <td>31</td>\n      <td>2002</td>\n      <td>7</td>\n      <td>DO</td>\n      <td>M</td>\n      <td>36.0</td>\n      <td>51.0</td>\n    </tr>\n  </tbody>\n</table>\n<p>35548 rows × 9 columns</p>\n</div>"
     },
     "execution_count": 25,
     "metadata": {},
     "output_type": "execute_result"
    }
   ],
   "source": [
    "#Exercise 1: Displays all rows (note the placement of the colon)\n",
    "surveys_df[:-1]"
   ],
   "metadata": {
    "collapsed": false,
    "pycharm": {
     "name": "#%%\n"
    }
   }
  },
  {
   "cell_type": "code",
   "execution_count": 26,
   "outputs": [
    {
     "data": {
      "text/plain": "   month  day  year\n0      7   16  1977\n1      7   16  1977\n2      7   16  1977\n3      7   16  1977",
      "text/html": "<div>\n<style scoped>\n    .dataframe tbody tr th:only-of-type {\n        vertical-align: middle;\n    }\n\n    .dataframe tbody tr th {\n        vertical-align: top;\n    }\n\n    .dataframe thead th {\n        text-align: right;\n    }\n</style>\n<table border=\"1\" class=\"dataframe\">\n  <thead>\n    <tr style=\"text-align: right;\">\n      <th></th>\n      <th>month</th>\n      <th>day</th>\n      <th>year</th>\n    </tr>\n  </thead>\n  <tbody>\n    <tr>\n      <th>0</th>\n      <td>7</td>\n      <td>16</td>\n      <td>1977</td>\n    </tr>\n    <tr>\n      <th>1</th>\n      <td>7</td>\n      <td>16</td>\n      <td>1977</td>\n    </tr>\n    <tr>\n      <th>2</th>\n      <td>7</td>\n      <td>16</td>\n      <td>1977</td>\n    </tr>\n    <tr>\n      <th>3</th>\n      <td>7</td>\n      <td>16</td>\n      <td>1977</td>\n    </tr>\n  </tbody>\n</table>\n</div>"
     },
     "execution_count": 26,
     "metadata": {},
     "output_type": "execute_result"
    }
   ],
   "source": [
    "#Exercise 1: Displays the first 4 rows, displays column 1, 2, and 3.\n",
    "# iloc[row slicing, column slicing]\n",
    "surveys_df.iloc[0:4, 1:4]"
   ],
   "metadata": {
    "collapsed": false,
    "pycharm": {
     "name": "#%%\n"
    }
   }
  },
  {
   "cell_type": "code",
   "execution_count": 28,
   "outputs": [
    {
     "ename": "TypeError",
     "evalue": "cannot do slice indexing on Index with these indexers [1] of type int",
     "output_type": "error",
     "traceback": [
      "\u001B[0;31m---------------------------------------------------------------------------\u001B[0m",
      "\u001B[0;31mTypeError\u001B[0m                                 Traceback (most recent call last)",
      "Input \u001B[0;32mIn [28]\u001B[0m, in \u001B[0;36m<cell line: 2>\u001B[0;34m()\u001B[0m\n\u001B[1;32m      1\u001B[0m \u001B[38;5;66;03m#Exercise 1: \u001B[39;00m\n\u001B[0;32m----> 2\u001B[0m \u001B[43msurveys_df\u001B[49m\u001B[38;5;241;43m.\u001B[39;49m\u001B[43mloc\u001B[49m\u001B[43m[\u001B[49m\u001B[38;5;241;43m0\u001B[39;49m\u001B[43m:\u001B[49m\u001B[38;5;241;43m4\u001B[39;49m\u001B[43m,\u001B[49m\u001B[43m \u001B[49m\u001B[38;5;241;43m1\u001B[39;49m\u001B[43m:\u001B[49m\u001B[38;5;241;43m4\u001B[39;49m\u001B[43m]\u001B[49m\n",
      "File \u001B[0;32m~/opt/anaconda3/lib/python3.9/site-packages/pandas/core/indexing.py:961\u001B[0m, in \u001B[0;36m_LocationIndexer.__getitem__\u001B[0;34m(self, key)\u001B[0m\n\u001B[1;32m    959\u001B[0m     \u001B[38;5;28;01mif\u001B[39;00m \u001B[38;5;28mself\u001B[39m\u001B[38;5;241m.\u001B[39m_is_scalar_access(key):\n\u001B[1;32m    960\u001B[0m         \u001B[38;5;28;01mreturn\u001B[39;00m \u001B[38;5;28mself\u001B[39m\u001B[38;5;241m.\u001B[39mobj\u001B[38;5;241m.\u001B[39m_get_value(\u001B[38;5;241m*\u001B[39mkey, takeable\u001B[38;5;241m=\u001B[39m\u001B[38;5;28mself\u001B[39m\u001B[38;5;241m.\u001B[39m_takeable)\n\u001B[0;32m--> 961\u001B[0m     \u001B[38;5;28;01mreturn\u001B[39;00m \u001B[38;5;28;43mself\u001B[39;49m\u001B[38;5;241;43m.\u001B[39;49m\u001B[43m_getitem_tuple\u001B[49m\u001B[43m(\u001B[49m\u001B[43mkey\u001B[49m\u001B[43m)\u001B[49m\n\u001B[1;32m    962\u001B[0m \u001B[38;5;28;01melse\u001B[39;00m:\n\u001B[1;32m    963\u001B[0m     \u001B[38;5;66;03m# we by definition only have the 0th axis\u001B[39;00m\n\u001B[1;32m    964\u001B[0m     axis \u001B[38;5;241m=\u001B[39m \u001B[38;5;28mself\u001B[39m\u001B[38;5;241m.\u001B[39maxis \u001B[38;5;129;01mor\u001B[39;00m \u001B[38;5;241m0\u001B[39m\n",
      "File \u001B[0;32m~/opt/anaconda3/lib/python3.9/site-packages/pandas/core/indexing.py:1149\u001B[0m, in \u001B[0;36m_LocIndexer._getitem_tuple\u001B[0;34m(self, tup)\u001B[0m\n\u001B[1;32m   1146\u001B[0m \u001B[38;5;28;01mif\u001B[39;00m \u001B[38;5;28mself\u001B[39m\u001B[38;5;241m.\u001B[39m_multi_take_opportunity(tup):\n\u001B[1;32m   1147\u001B[0m     \u001B[38;5;28;01mreturn\u001B[39;00m \u001B[38;5;28mself\u001B[39m\u001B[38;5;241m.\u001B[39m_multi_take(tup)\n\u001B[0;32m-> 1149\u001B[0m \u001B[38;5;28;01mreturn\u001B[39;00m \u001B[38;5;28;43mself\u001B[39;49m\u001B[38;5;241;43m.\u001B[39;49m\u001B[43m_getitem_tuple_same_dim\u001B[49m\u001B[43m(\u001B[49m\u001B[43mtup\u001B[49m\u001B[43m)\u001B[49m\n",
      "File \u001B[0;32m~/opt/anaconda3/lib/python3.9/site-packages/pandas/core/indexing.py:827\u001B[0m, in \u001B[0;36m_LocationIndexer._getitem_tuple_same_dim\u001B[0;34m(self, tup)\u001B[0m\n\u001B[1;32m    824\u001B[0m \u001B[38;5;28;01mif\u001B[39;00m com\u001B[38;5;241m.\u001B[39mis_null_slice(key):\n\u001B[1;32m    825\u001B[0m     \u001B[38;5;28;01mcontinue\u001B[39;00m\n\u001B[0;32m--> 827\u001B[0m retval \u001B[38;5;241m=\u001B[39m \u001B[38;5;28;43mgetattr\u001B[39;49m\u001B[43m(\u001B[49m\u001B[43mretval\u001B[49m\u001B[43m,\u001B[49m\u001B[43m \u001B[49m\u001B[38;5;28;43mself\u001B[39;49m\u001B[38;5;241;43m.\u001B[39;49m\u001B[43mname\u001B[49m\u001B[43m)\u001B[49m\u001B[38;5;241;43m.\u001B[39;49m\u001B[43m_getitem_axis\u001B[49m\u001B[43m(\u001B[49m\u001B[43mkey\u001B[49m\u001B[43m,\u001B[49m\u001B[43m \u001B[49m\u001B[43maxis\u001B[49m\u001B[38;5;241;43m=\u001B[39;49m\u001B[43mi\u001B[49m\u001B[43m)\u001B[49m\n\u001B[1;32m    828\u001B[0m \u001B[38;5;66;03m# We should never have retval.ndim < self.ndim, as that should\u001B[39;00m\n\u001B[1;32m    829\u001B[0m \u001B[38;5;66;03m#  be handled by the _getitem_lowerdim call above.\u001B[39;00m\n\u001B[1;32m    830\u001B[0m \u001B[38;5;28;01massert\u001B[39;00m retval\u001B[38;5;241m.\u001B[39mndim \u001B[38;5;241m==\u001B[39m \u001B[38;5;28mself\u001B[39m\u001B[38;5;241m.\u001B[39mndim\n",
      "File \u001B[0;32m~/opt/anaconda3/lib/python3.9/site-packages/pandas/core/indexing.py:1180\u001B[0m, in \u001B[0;36m_LocIndexer._getitem_axis\u001B[0;34m(self, key, axis)\u001B[0m\n\u001B[1;32m   1178\u001B[0m \u001B[38;5;28;01mif\u001B[39;00m \u001B[38;5;28misinstance\u001B[39m(key, \u001B[38;5;28mslice\u001B[39m):\n\u001B[1;32m   1179\u001B[0m     \u001B[38;5;28mself\u001B[39m\u001B[38;5;241m.\u001B[39m_validate_key(key, axis)\n\u001B[0;32m-> 1180\u001B[0m     \u001B[38;5;28;01mreturn\u001B[39;00m \u001B[38;5;28;43mself\u001B[39;49m\u001B[38;5;241;43m.\u001B[39;49m\u001B[43m_get_slice_axis\u001B[49m\u001B[43m(\u001B[49m\u001B[43mkey\u001B[49m\u001B[43m,\u001B[49m\u001B[43m \u001B[49m\u001B[43maxis\u001B[49m\u001B[38;5;241;43m=\u001B[39;49m\u001B[43maxis\u001B[49m\u001B[43m)\u001B[49m\n\u001B[1;32m   1181\u001B[0m \u001B[38;5;28;01melif\u001B[39;00m com\u001B[38;5;241m.\u001B[39mis_bool_indexer(key):\n\u001B[1;32m   1182\u001B[0m     \u001B[38;5;28;01mreturn\u001B[39;00m \u001B[38;5;28mself\u001B[39m\u001B[38;5;241m.\u001B[39m_getbool_axis(key, axis\u001B[38;5;241m=\u001B[39maxis)\n",
      "File \u001B[0;32m~/opt/anaconda3/lib/python3.9/site-packages/pandas/core/indexing.py:1214\u001B[0m, in \u001B[0;36m_LocIndexer._get_slice_axis\u001B[0;34m(self, slice_obj, axis)\u001B[0m\n\u001B[1;32m   1211\u001B[0m     \u001B[38;5;28;01mreturn\u001B[39;00m obj\u001B[38;5;241m.\u001B[39mcopy(deep\u001B[38;5;241m=\u001B[39m\u001B[38;5;28;01mFalse\u001B[39;00m)\n\u001B[1;32m   1213\u001B[0m labels \u001B[38;5;241m=\u001B[39m obj\u001B[38;5;241m.\u001B[39m_get_axis(axis)\n\u001B[0;32m-> 1214\u001B[0m indexer \u001B[38;5;241m=\u001B[39m \u001B[43mlabels\u001B[49m\u001B[38;5;241;43m.\u001B[39;49m\u001B[43mslice_indexer\u001B[49m\u001B[43m(\u001B[49m\u001B[43mslice_obj\u001B[49m\u001B[38;5;241;43m.\u001B[39;49m\u001B[43mstart\u001B[49m\u001B[43m,\u001B[49m\u001B[43m \u001B[49m\u001B[43mslice_obj\u001B[49m\u001B[38;5;241;43m.\u001B[39;49m\u001B[43mstop\u001B[49m\u001B[43m,\u001B[49m\u001B[43m \u001B[49m\u001B[43mslice_obj\u001B[49m\u001B[38;5;241;43m.\u001B[39;49m\u001B[43mstep\u001B[49m\u001B[43m)\u001B[49m\n\u001B[1;32m   1216\u001B[0m \u001B[38;5;28;01mif\u001B[39;00m \u001B[38;5;28misinstance\u001B[39m(indexer, \u001B[38;5;28mslice\u001B[39m):\n\u001B[1;32m   1217\u001B[0m     \u001B[38;5;28;01mreturn\u001B[39;00m \u001B[38;5;28mself\u001B[39m\u001B[38;5;241m.\u001B[39mobj\u001B[38;5;241m.\u001B[39m_slice(indexer, axis\u001B[38;5;241m=\u001B[39maxis)\n",
      "File \u001B[0;32m~/opt/anaconda3/lib/python3.9/site-packages/pandas/core/indexes/base.py:6274\u001B[0m, in \u001B[0;36mIndex.slice_indexer\u001B[0;34m(self, start, end, step, kind)\u001B[0m\n\u001B[1;32m   6231\u001B[0m \u001B[38;5;124;03m\"\"\"\u001B[39;00m\n\u001B[1;32m   6232\u001B[0m \u001B[38;5;124;03mCompute the slice indexer for input labels and step.\u001B[39;00m\n\u001B[1;32m   6233\u001B[0m \n\u001B[0;32m   (...)\u001B[0m\n\u001B[1;32m   6270\u001B[0m \u001B[38;5;124;03mslice(1, 3, None)\u001B[39;00m\n\u001B[1;32m   6271\u001B[0m \u001B[38;5;124;03m\"\"\"\u001B[39;00m\n\u001B[1;32m   6272\u001B[0m \u001B[38;5;28mself\u001B[39m\u001B[38;5;241m.\u001B[39m_deprecated_arg(kind, \u001B[38;5;124m\"\u001B[39m\u001B[38;5;124mkind\u001B[39m\u001B[38;5;124m\"\u001B[39m, \u001B[38;5;124m\"\u001B[39m\u001B[38;5;124mslice_indexer\u001B[39m\u001B[38;5;124m\"\u001B[39m)\n\u001B[0;32m-> 6274\u001B[0m start_slice, end_slice \u001B[38;5;241m=\u001B[39m \u001B[38;5;28;43mself\u001B[39;49m\u001B[38;5;241;43m.\u001B[39;49m\u001B[43mslice_locs\u001B[49m\u001B[43m(\u001B[49m\u001B[43mstart\u001B[49m\u001B[43m,\u001B[49m\u001B[43m \u001B[49m\u001B[43mend\u001B[49m\u001B[43m,\u001B[49m\u001B[43m \u001B[49m\u001B[43mstep\u001B[49m\u001B[38;5;241;43m=\u001B[39;49m\u001B[43mstep\u001B[49m\u001B[43m)\u001B[49m\n\u001B[1;32m   6276\u001B[0m \u001B[38;5;66;03m# return a slice\u001B[39;00m\n\u001B[1;32m   6277\u001B[0m \u001B[38;5;28;01mif\u001B[39;00m \u001B[38;5;129;01mnot\u001B[39;00m is_scalar(start_slice):\n",
      "File \u001B[0;32m~/opt/anaconda3/lib/python3.9/site-packages/pandas/core/indexes/base.py:6484\u001B[0m, in \u001B[0;36mIndex.slice_locs\u001B[0;34m(self, start, end, step, kind)\u001B[0m\n\u001B[1;32m   6482\u001B[0m start_slice \u001B[38;5;241m=\u001B[39m \u001B[38;5;28;01mNone\u001B[39;00m\n\u001B[1;32m   6483\u001B[0m \u001B[38;5;28;01mif\u001B[39;00m start \u001B[38;5;129;01mis\u001B[39;00m \u001B[38;5;129;01mnot\u001B[39;00m \u001B[38;5;28;01mNone\u001B[39;00m:\n\u001B[0;32m-> 6484\u001B[0m     start_slice \u001B[38;5;241m=\u001B[39m \u001B[38;5;28;43mself\u001B[39;49m\u001B[38;5;241;43m.\u001B[39;49m\u001B[43mget_slice_bound\u001B[49m\u001B[43m(\u001B[49m\u001B[43mstart\u001B[49m\u001B[43m,\u001B[49m\u001B[43m \u001B[49m\u001B[38;5;124;43m\"\u001B[39;49m\u001B[38;5;124;43mleft\u001B[39;49m\u001B[38;5;124;43m\"\u001B[39;49m\u001B[43m)\u001B[49m\n\u001B[1;32m   6485\u001B[0m \u001B[38;5;28;01mif\u001B[39;00m start_slice \u001B[38;5;129;01mis\u001B[39;00m \u001B[38;5;28;01mNone\u001B[39;00m:\n\u001B[1;32m   6486\u001B[0m     start_slice \u001B[38;5;241m=\u001B[39m \u001B[38;5;241m0\u001B[39m\n",
      "File \u001B[0;32m~/opt/anaconda3/lib/python3.9/site-packages/pandas/core/indexes/base.py:6393\u001B[0m, in \u001B[0;36mIndex.get_slice_bound\u001B[0;34m(self, label, side, kind)\u001B[0m\n\u001B[1;32m   6389\u001B[0m original_label \u001B[38;5;241m=\u001B[39m label\n\u001B[1;32m   6391\u001B[0m \u001B[38;5;66;03m# For datetime indices label may be a string that has to be converted\u001B[39;00m\n\u001B[1;32m   6392\u001B[0m \u001B[38;5;66;03m# to datetime boundary according to its resolution.\u001B[39;00m\n\u001B[0;32m-> 6393\u001B[0m label \u001B[38;5;241m=\u001B[39m \u001B[38;5;28;43mself\u001B[39;49m\u001B[38;5;241;43m.\u001B[39;49m\u001B[43m_maybe_cast_slice_bound\u001B[49m\u001B[43m(\u001B[49m\u001B[43mlabel\u001B[49m\u001B[43m,\u001B[49m\u001B[43m \u001B[49m\u001B[43mside\u001B[49m\u001B[43m)\u001B[49m\n\u001B[1;32m   6395\u001B[0m \u001B[38;5;66;03m# we need to look up the label\u001B[39;00m\n\u001B[1;32m   6396\u001B[0m \u001B[38;5;28;01mtry\u001B[39;00m:\n",
      "File \u001B[0;32m~/opt/anaconda3/lib/python3.9/site-packages/pandas/core/indexes/base.py:6340\u001B[0m, in \u001B[0;36mIndex._maybe_cast_slice_bound\u001B[0;34m(self, label, side, kind)\u001B[0m\n\u001B[1;32m   6335\u001B[0m \u001B[38;5;66;03m# We are a plain index here (sub-class override this method if they\u001B[39;00m\n\u001B[1;32m   6336\u001B[0m \u001B[38;5;66;03m# wish to have special treatment for floats/ints, e.g. Float64Index and\u001B[39;00m\n\u001B[1;32m   6337\u001B[0m \u001B[38;5;66;03m# datetimelike Indexes\u001B[39;00m\n\u001B[1;32m   6338\u001B[0m \u001B[38;5;66;03m# reject them, if index does not contain label\u001B[39;00m\n\u001B[1;32m   6339\u001B[0m \u001B[38;5;28;01mif\u001B[39;00m (is_float(label) \u001B[38;5;129;01mor\u001B[39;00m is_integer(label)) \u001B[38;5;129;01mand\u001B[39;00m label \u001B[38;5;129;01mnot\u001B[39;00m \u001B[38;5;129;01min\u001B[39;00m \u001B[38;5;28mself\u001B[39m:\n\u001B[0;32m-> 6340\u001B[0m     \u001B[38;5;28;01mraise\u001B[39;00m \u001B[38;5;28mself\u001B[39m\u001B[38;5;241m.\u001B[39m_invalid_indexer(\u001B[38;5;124m\"\u001B[39m\u001B[38;5;124mslice\u001B[39m\u001B[38;5;124m\"\u001B[39m, label)\n\u001B[1;32m   6342\u001B[0m \u001B[38;5;28;01mreturn\u001B[39;00m label\n",
      "\u001B[0;31mTypeError\u001B[0m: cannot do slice indexing on Index with these indexers [1] of type int"
     ]
    }
   ],
   "source": [
    "#Exercise 1: This will result in an error. The integers refer to the index label and not the position when using loc\n",
    "surveys_df.loc[0:4, 1:4]"
   ],
   "metadata": {
    "collapsed": false,
    "pycharm": {
     "name": "#%%\n"
    }
   }
  },
  {
   "cell_type": "code",
   "execution_count": 29,
   "outputs": [
    {
     "data": {
      "text/plain": "       record_id  month  day  year  plot_id species_id  sex  hindfoot_length  \\\n33320      33321      1   12  2002        1         DM    M             38.0   \n33321      33322      1   12  2002        1         DO    M             37.0   \n33322      33323      1   12  2002        1         PB    M             28.0   \n33323      33324      1   12  2002        1         AB  NaN              NaN   \n33324      33325      1   12  2002        1         DO    M             35.0   \n...          ...    ...  ...   ...      ...        ...  ...              ...   \n35544      35545     12   31  2002       15         AH  NaN              NaN   \n35545      35546     12   31  2002       15         AH  NaN              NaN   \n35546      35547     12   31  2002       10         RM    F             15.0   \n35547      35548     12   31  2002        7         DO    M             36.0   \n35548      35549     12   31  2002        5        NaN  NaN              NaN   \n\n       weight  \n33320    44.0  \n33321    58.0  \n33322    45.0  \n33323     NaN  \n33324    29.0  \n...       ...  \n35544     NaN  \n35545     NaN  \n35546    14.0  \n35547    51.0  \n35548     NaN  \n\n[2229 rows x 9 columns]",
      "text/html": "<div>\n<style scoped>\n    .dataframe tbody tr th:only-of-type {\n        vertical-align: middle;\n    }\n\n    .dataframe tbody tr th {\n        vertical-align: top;\n    }\n\n    .dataframe thead th {\n        text-align: right;\n    }\n</style>\n<table border=\"1\" class=\"dataframe\">\n  <thead>\n    <tr style=\"text-align: right;\">\n      <th></th>\n      <th>record_id</th>\n      <th>month</th>\n      <th>day</th>\n      <th>year</th>\n      <th>plot_id</th>\n      <th>species_id</th>\n      <th>sex</th>\n      <th>hindfoot_length</th>\n      <th>weight</th>\n    </tr>\n  </thead>\n  <tbody>\n    <tr>\n      <th>33320</th>\n      <td>33321</td>\n      <td>1</td>\n      <td>12</td>\n      <td>2002</td>\n      <td>1</td>\n      <td>DM</td>\n      <td>M</td>\n      <td>38.0</td>\n      <td>44.0</td>\n    </tr>\n    <tr>\n      <th>33321</th>\n      <td>33322</td>\n      <td>1</td>\n      <td>12</td>\n      <td>2002</td>\n      <td>1</td>\n      <td>DO</td>\n      <td>M</td>\n      <td>37.0</td>\n      <td>58.0</td>\n    </tr>\n    <tr>\n      <th>33322</th>\n      <td>33323</td>\n      <td>1</td>\n      <td>12</td>\n      <td>2002</td>\n      <td>1</td>\n      <td>PB</td>\n      <td>M</td>\n      <td>28.0</td>\n      <td>45.0</td>\n    </tr>\n    <tr>\n      <th>33323</th>\n      <td>33324</td>\n      <td>1</td>\n      <td>12</td>\n      <td>2002</td>\n      <td>1</td>\n      <td>AB</td>\n      <td>NaN</td>\n      <td>NaN</td>\n      <td>NaN</td>\n    </tr>\n    <tr>\n      <th>33324</th>\n      <td>33325</td>\n      <td>1</td>\n      <td>12</td>\n      <td>2002</td>\n      <td>1</td>\n      <td>DO</td>\n      <td>M</td>\n      <td>35.0</td>\n      <td>29.0</td>\n    </tr>\n    <tr>\n      <th>...</th>\n      <td>...</td>\n      <td>...</td>\n      <td>...</td>\n      <td>...</td>\n      <td>...</td>\n      <td>...</td>\n      <td>...</td>\n      <td>...</td>\n      <td>...</td>\n    </tr>\n    <tr>\n      <th>35544</th>\n      <td>35545</td>\n      <td>12</td>\n      <td>31</td>\n      <td>2002</td>\n      <td>15</td>\n      <td>AH</td>\n      <td>NaN</td>\n      <td>NaN</td>\n      <td>NaN</td>\n    </tr>\n    <tr>\n      <th>35545</th>\n      <td>35546</td>\n      <td>12</td>\n      <td>31</td>\n      <td>2002</td>\n      <td>15</td>\n      <td>AH</td>\n      <td>NaN</td>\n      <td>NaN</td>\n      <td>NaN</td>\n    </tr>\n    <tr>\n      <th>35546</th>\n      <td>35547</td>\n      <td>12</td>\n      <td>31</td>\n      <td>2002</td>\n      <td>10</td>\n      <td>RM</td>\n      <td>F</td>\n      <td>15.0</td>\n      <td>14.0</td>\n    </tr>\n    <tr>\n      <th>35547</th>\n      <td>35548</td>\n      <td>12</td>\n      <td>31</td>\n      <td>2002</td>\n      <td>7</td>\n      <td>DO</td>\n      <td>M</td>\n      <td>36.0</td>\n      <td>51.0</td>\n    </tr>\n    <tr>\n      <th>35548</th>\n      <td>35549</td>\n      <td>12</td>\n      <td>31</td>\n      <td>2002</td>\n      <td>5</td>\n      <td>NaN</td>\n      <td>NaN</td>\n      <td>NaN</td>\n      <td>NaN</td>\n    </tr>\n  </tbody>\n</table>\n<p>2229 rows × 9 columns</p>\n</div>"
     },
     "execution_count": 29,
     "metadata": {},
     "output_type": "execute_result"
    }
   ],
   "source": [
    "# Example 21\n",
    "surveys_df[surveys_df.year == 2002]"
   ],
   "metadata": {
    "collapsed": false,
    "pycharm": {
     "name": "#%%\n"
    }
   }
  },
  {
   "cell_type": "code",
   "execution_count": 30,
   "outputs": [
    {
     "data": {
      "text/plain": "       record_id  month  day  year  plot_id species_id  sex  hindfoot_length  \\\n0              1      7   16  1977        2         NL    M             32.0   \n1              2      7   16  1977        3         NL    M             33.0   \n2              3      7   16  1977        2         DM    F             37.0   \n3              4      7   16  1977        7         DM    M             36.0   \n4              5      7   16  1977        3         DM    M             35.0   \n...          ...    ...  ...   ...      ...        ...  ...              ...   \n33315      33316     12   16  2001       11        NaN  NaN              NaN   \n33316      33317     12   16  2001       13        NaN  NaN              NaN   \n33317      33318     12   16  2001       14        NaN  NaN              NaN   \n33318      33319     12   16  2001       15        NaN  NaN              NaN   \n33319      33320     12   16  2001       16        NaN  NaN              NaN   \n\n       weight  \n0         NaN  \n1         NaN  \n2         NaN  \n3         NaN  \n4         NaN  \n...       ...  \n33315     NaN  \n33316     NaN  \n33317     NaN  \n33318     NaN  \n33319     NaN  \n\n[33320 rows x 9 columns]",
      "text/html": "<div>\n<style scoped>\n    .dataframe tbody tr th:only-of-type {\n        vertical-align: middle;\n    }\n\n    .dataframe tbody tr th {\n        vertical-align: top;\n    }\n\n    .dataframe thead th {\n        text-align: right;\n    }\n</style>\n<table border=\"1\" class=\"dataframe\">\n  <thead>\n    <tr style=\"text-align: right;\">\n      <th></th>\n      <th>record_id</th>\n      <th>month</th>\n      <th>day</th>\n      <th>year</th>\n      <th>plot_id</th>\n      <th>species_id</th>\n      <th>sex</th>\n      <th>hindfoot_length</th>\n      <th>weight</th>\n    </tr>\n  </thead>\n  <tbody>\n    <tr>\n      <th>0</th>\n      <td>1</td>\n      <td>7</td>\n      <td>16</td>\n      <td>1977</td>\n      <td>2</td>\n      <td>NL</td>\n      <td>M</td>\n      <td>32.0</td>\n      <td>NaN</td>\n    </tr>\n    <tr>\n      <th>1</th>\n      <td>2</td>\n      <td>7</td>\n      <td>16</td>\n      <td>1977</td>\n      <td>3</td>\n      <td>NL</td>\n      <td>M</td>\n      <td>33.0</td>\n      <td>NaN</td>\n    </tr>\n    <tr>\n      <th>2</th>\n      <td>3</td>\n      <td>7</td>\n      <td>16</td>\n      <td>1977</td>\n      <td>2</td>\n      <td>DM</td>\n      <td>F</td>\n      <td>37.0</td>\n      <td>NaN</td>\n    </tr>\n    <tr>\n      <th>3</th>\n      <td>4</td>\n      <td>7</td>\n      <td>16</td>\n      <td>1977</td>\n      <td>7</td>\n      <td>DM</td>\n      <td>M</td>\n      <td>36.0</td>\n      <td>NaN</td>\n    </tr>\n    <tr>\n      <th>4</th>\n      <td>5</td>\n      <td>7</td>\n      <td>16</td>\n      <td>1977</td>\n      <td>3</td>\n      <td>DM</td>\n      <td>M</td>\n      <td>35.0</td>\n      <td>NaN</td>\n    </tr>\n    <tr>\n      <th>...</th>\n      <td>...</td>\n      <td>...</td>\n      <td>...</td>\n      <td>...</td>\n      <td>...</td>\n      <td>...</td>\n      <td>...</td>\n      <td>...</td>\n      <td>...</td>\n    </tr>\n    <tr>\n      <th>33315</th>\n      <td>33316</td>\n      <td>12</td>\n      <td>16</td>\n      <td>2001</td>\n      <td>11</td>\n      <td>NaN</td>\n      <td>NaN</td>\n      <td>NaN</td>\n      <td>NaN</td>\n    </tr>\n    <tr>\n      <th>33316</th>\n      <td>33317</td>\n      <td>12</td>\n      <td>16</td>\n      <td>2001</td>\n      <td>13</td>\n      <td>NaN</td>\n      <td>NaN</td>\n      <td>NaN</td>\n      <td>NaN</td>\n    </tr>\n    <tr>\n      <th>33317</th>\n      <td>33318</td>\n      <td>12</td>\n      <td>16</td>\n      <td>2001</td>\n      <td>14</td>\n      <td>NaN</td>\n      <td>NaN</td>\n      <td>NaN</td>\n      <td>NaN</td>\n    </tr>\n    <tr>\n      <th>33318</th>\n      <td>33319</td>\n      <td>12</td>\n      <td>16</td>\n      <td>2001</td>\n      <td>15</td>\n      <td>NaN</td>\n      <td>NaN</td>\n      <td>NaN</td>\n      <td>NaN</td>\n    </tr>\n    <tr>\n      <th>33319</th>\n      <td>33320</td>\n      <td>12</td>\n      <td>16</td>\n      <td>2001</td>\n      <td>16</td>\n      <td>NaN</td>\n      <td>NaN</td>\n      <td>NaN</td>\n      <td>NaN</td>\n    </tr>\n  </tbody>\n</table>\n<p>33320 rows × 9 columns</p>\n</div>"
     },
     "execution_count": 30,
     "metadata": {},
     "output_type": "execute_result"
    }
   ],
   "source": [
    "# Example 22\n",
    "surveys_df[surveys_df.year != 2002]"
   ],
   "metadata": {
    "collapsed": false,
    "pycharm": {
     "name": "#%%\n"
    }
   }
  },
  {
   "cell_type": "code",
   "execution_count": 31,
   "outputs": [
    {
     "data": {
      "text/plain": "       record_id  month  day  year  plot_id species_id  sex  hindfoot_length  \\\n2270        2271      1   15  1980        8         DO    M             35.0   \n2271        2272      1   15  1980       11         PF    F             16.0   \n2272        2273      1   15  1980       18         DM    F             34.0   \n2273        2274      1   15  1980       11         DM    M             38.0   \n2274        2275      1   15  1980        8         DO    F             33.0   \n...          ...    ...  ...   ...      ...        ...  ...              ...   \n11222      11223     12    8  1985        4         DM    M             36.0   \n11223      11224     12    8  1985       11         DM    M             37.0   \n11224      11225     12    8  1985        7         PE    M             20.0   \n11225      11226     12    8  1985        1         DM    M             38.0   \n11226      11227     12    8  1985       15        NaN  NaN              NaN   \n\n       weight  \n2270     53.0  \n2271     10.0  \n2272     33.0  \n2273     37.0  \n2274     29.0  \n...       ...  \n11222    40.0  \n11223    49.0  \n11224    18.0  \n11225    47.0  \n11226     NaN  \n\n[8957 rows x 9 columns]",
      "text/html": "<div>\n<style scoped>\n    .dataframe tbody tr th:only-of-type {\n        vertical-align: middle;\n    }\n\n    .dataframe tbody tr th {\n        vertical-align: top;\n    }\n\n    .dataframe thead th {\n        text-align: right;\n    }\n</style>\n<table border=\"1\" class=\"dataframe\">\n  <thead>\n    <tr style=\"text-align: right;\">\n      <th></th>\n      <th>record_id</th>\n      <th>month</th>\n      <th>day</th>\n      <th>year</th>\n      <th>plot_id</th>\n      <th>species_id</th>\n      <th>sex</th>\n      <th>hindfoot_length</th>\n      <th>weight</th>\n    </tr>\n  </thead>\n  <tbody>\n    <tr>\n      <th>2270</th>\n      <td>2271</td>\n      <td>1</td>\n      <td>15</td>\n      <td>1980</td>\n      <td>8</td>\n      <td>DO</td>\n      <td>M</td>\n      <td>35.0</td>\n      <td>53.0</td>\n    </tr>\n    <tr>\n      <th>2271</th>\n      <td>2272</td>\n      <td>1</td>\n      <td>15</td>\n      <td>1980</td>\n      <td>11</td>\n      <td>PF</td>\n      <td>F</td>\n      <td>16.0</td>\n      <td>10.0</td>\n    </tr>\n    <tr>\n      <th>2272</th>\n      <td>2273</td>\n      <td>1</td>\n      <td>15</td>\n      <td>1980</td>\n      <td>18</td>\n      <td>DM</td>\n      <td>F</td>\n      <td>34.0</td>\n      <td>33.0</td>\n    </tr>\n    <tr>\n      <th>2273</th>\n      <td>2274</td>\n      <td>1</td>\n      <td>15</td>\n      <td>1980</td>\n      <td>11</td>\n      <td>DM</td>\n      <td>M</td>\n      <td>38.0</td>\n      <td>37.0</td>\n    </tr>\n    <tr>\n      <th>2274</th>\n      <td>2275</td>\n      <td>1</td>\n      <td>15</td>\n      <td>1980</td>\n      <td>8</td>\n      <td>DO</td>\n      <td>F</td>\n      <td>33.0</td>\n      <td>29.0</td>\n    </tr>\n    <tr>\n      <th>...</th>\n      <td>...</td>\n      <td>...</td>\n      <td>...</td>\n      <td>...</td>\n      <td>...</td>\n      <td>...</td>\n      <td>...</td>\n      <td>...</td>\n      <td>...</td>\n    </tr>\n    <tr>\n      <th>11222</th>\n      <td>11223</td>\n      <td>12</td>\n      <td>8</td>\n      <td>1985</td>\n      <td>4</td>\n      <td>DM</td>\n      <td>M</td>\n      <td>36.0</td>\n      <td>40.0</td>\n    </tr>\n    <tr>\n      <th>11223</th>\n      <td>11224</td>\n      <td>12</td>\n      <td>8</td>\n      <td>1985</td>\n      <td>11</td>\n      <td>DM</td>\n      <td>M</td>\n      <td>37.0</td>\n      <td>49.0</td>\n    </tr>\n    <tr>\n      <th>11224</th>\n      <td>11225</td>\n      <td>12</td>\n      <td>8</td>\n      <td>1985</td>\n      <td>7</td>\n      <td>PE</td>\n      <td>M</td>\n      <td>20.0</td>\n      <td>18.0</td>\n    </tr>\n    <tr>\n      <th>11225</th>\n      <td>11226</td>\n      <td>12</td>\n      <td>8</td>\n      <td>1985</td>\n      <td>1</td>\n      <td>DM</td>\n      <td>M</td>\n      <td>38.0</td>\n      <td>47.0</td>\n    </tr>\n    <tr>\n      <th>11226</th>\n      <td>11227</td>\n      <td>12</td>\n      <td>8</td>\n      <td>1985</td>\n      <td>15</td>\n      <td>NaN</td>\n      <td>NaN</td>\n      <td>NaN</td>\n      <td>NaN</td>\n    </tr>\n  </tbody>\n</table>\n<p>8957 rows × 9 columns</p>\n</div>"
     },
     "execution_count": 31,
     "metadata": {},
     "output_type": "execute_result"
    }
   ],
   "source": [
    "# Example 23\n",
    "surveys_df[(surveys_df.year >= 1980) & (surveys_df.year <= 1985)]"
   ],
   "metadata": {
    "collapsed": false,
    "pycharm": {
     "name": "#%%\n"
    }
   }
  },
  {
   "cell_type": "markdown",
   "source": [
    "Exercise #2\n",
    "\n",
    "1. Select a subset of rows in the surveys_df DataFrame that contain data from the year 1999 and that contain weight values less than or equal to 8. How many rows did you end up with?\n",
    "5 Rows\n",
    "\n",
    "You can use the isin command in Python to query a DataFrame based upon a list of values as follows:\n",
    "surveys_df[surveys_df['species_id'].isin([listGoesHere])]\n",
    "\n",
    "2. Use the isin function to find all plots that contain particular species in the “surveys” DataFrame. How many records contain these values?\n",
    "248 records\n",
    "\n",
    "3. Create a query that finds all rows with a weight value > or equal to 0.\n",
    "\n",
    "4. Write a query that selects all rows with sex NOT equal to ‘M’ or ‘F’ in the “surveys” data."
   ],
   "metadata": {
    "collapsed": false,
    "pycharm": {
     "name": "#%% md\n"
    }
   }
  },
  {
   "cell_type": "code",
   "execution_count": 32,
   "outputs": [
    {
     "data": {
      "text/plain": "       record_id  month  day  year  plot_id species_id sex  hindfoot_length  \\\n29082      29083      1   16  1999       21         RM   M             16.0   \n29196      29197      2   20  1999       18         RM   M             18.0   \n29421      29422      3   15  1999       16         RM   M             15.0   \n29903      29904     10   10  1999        4         PP   M             20.0   \n29905      29906     10   10  1999        4         PP   M             21.0   \n\n       weight  \n29082     8.0  \n29196     8.0  \n29421     8.0  \n29903     7.0  \n29905     4.0  ",
      "text/html": "<div>\n<style scoped>\n    .dataframe tbody tr th:only-of-type {\n        vertical-align: middle;\n    }\n\n    .dataframe tbody tr th {\n        vertical-align: top;\n    }\n\n    .dataframe thead th {\n        text-align: right;\n    }\n</style>\n<table border=\"1\" class=\"dataframe\">\n  <thead>\n    <tr style=\"text-align: right;\">\n      <th></th>\n      <th>record_id</th>\n      <th>month</th>\n      <th>day</th>\n      <th>year</th>\n      <th>plot_id</th>\n      <th>species_id</th>\n      <th>sex</th>\n      <th>hindfoot_length</th>\n      <th>weight</th>\n    </tr>\n  </thead>\n  <tbody>\n    <tr>\n      <th>29082</th>\n      <td>29083</td>\n      <td>1</td>\n      <td>16</td>\n      <td>1999</td>\n      <td>21</td>\n      <td>RM</td>\n      <td>M</td>\n      <td>16.0</td>\n      <td>8.0</td>\n    </tr>\n    <tr>\n      <th>29196</th>\n      <td>29197</td>\n      <td>2</td>\n      <td>20</td>\n      <td>1999</td>\n      <td>18</td>\n      <td>RM</td>\n      <td>M</td>\n      <td>18.0</td>\n      <td>8.0</td>\n    </tr>\n    <tr>\n      <th>29421</th>\n      <td>29422</td>\n      <td>3</td>\n      <td>15</td>\n      <td>1999</td>\n      <td>16</td>\n      <td>RM</td>\n      <td>M</td>\n      <td>15.0</td>\n      <td>8.0</td>\n    </tr>\n    <tr>\n      <th>29903</th>\n      <td>29904</td>\n      <td>10</td>\n      <td>10</td>\n      <td>1999</td>\n      <td>4</td>\n      <td>PP</td>\n      <td>M</td>\n      <td>20.0</td>\n      <td>7.0</td>\n    </tr>\n    <tr>\n      <th>29905</th>\n      <td>29906</td>\n      <td>10</td>\n      <td>10</td>\n      <td>1999</td>\n      <td>4</td>\n      <td>PP</td>\n      <td>M</td>\n      <td>21.0</td>\n      <td>4.0</td>\n    </tr>\n  </tbody>\n</table>\n</div>"
     },
     "execution_count": 32,
     "metadata": {},
     "output_type": "execute_result"
    }
   ],
   "source": [
    "#Exercise 2, part 1: 5 rows displayed\n",
    "surveys_df[(surveys_df.year == 1999) & (surveys_df.weight <= 8.0)]"
   ],
   "metadata": {
    "collapsed": false,
    "pycharm": {
     "name": "#%%\n"
    }
   }
  },
  {
   "cell_type": "code",
   "execution_count": 43,
   "outputs": [
    {
     "data": {
      "text/plain": "       record_id  month  day  year  plot_id species_id  sex  hindfoot_length  \\\n76            77      8   19  1977        4         SS  NaN              NaN   \n761          762      4    8  1978       13         SS  NaN              NaN   \n856          857      5    6  1978       13         SS  NaN              NaN   \n942          943      6    8  1978        8         SS  NaN              NaN   \n1001        1002      6    9  1978       14         SS    M              NaN   \n...          ...    ...  ...   ...      ...        ...  ...              ...   \n33991      33992      5   15  2002       19         SS  NaN              NaN   \n34106      34107      5   16  2002       11         SS  NaN              NaN   \n34112      34113      5   16  2002       11         SS  NaN              NaN   \n34783      34784     10    5  2002       17         SS  NaN              NaN   \n35137      35138     11   10  2002        9         SS  NaN              NaN   \n\n       weight  \n76        NaN  \n761       NaN  \n856       NaN  \n942       NaN  \n1001    130.0  \n...       ...  \n33991     NaN  \n34106     NaN  \n34112     NaN  \n34783     NaN  \n35137     NaN  \n\n[248 rows x 9 columns]",
      "text/html": "<div>\n<style scoped>\n    .dataframe tbody tr th:only-of-type {\n        vertical-align: middle;\n    }\n\n    .dataframe tbody tr th {\n        vertical-align: top;\n    }\n\n    .dataframe thead th {\n        text-align: right;\n    }\n</style>\n<table border=\"1\" class=\"dataframe\">\n  <thead>\n    <tr style=\"text-align: right;\">\n      <th></th>\n      <th>record_id</th>\n      <th>month</th>\n      <th>day</th>\n      <th>year</th>\n      <th>plot_id</th>\n      <th>species_id</th>\n      <th>sex</th>\n      <th>hindfoot_length</th>\n      <th>weight</th>\n    </tr>\n  </thead>\n  <tbody>\n    <tr>\n      <th>76</th>\n      <td>77</td>\n      <td>8</td>\n      <td>19</td>\n      <td>1977</td>\n      <td>4</td>\n      <td>SS</td>\n      <td>NaN</td>\n      <td>NaN</td>\n      <td>NaN</td>\n    </tr>\n    <tr>\n      <th>761</th>\n      <td>762</td>\n      <td>4</td>\n      <td>8</td>\n      <td>1978</td>\n      <td>13</td>\n      <td>SS</td>\n      <td>NaN</td>\n      <td>NaN</td>\n      <td>NaN</td>\n    </tr>\n    <tr>\n      <th>856</th>\n      <td>857</td>\n      <td>5</td>\n      <td>6</td>\n      <td>1978</td>\n      <td>13</td>\n      <td>SS</td>\n      <td>NaN</td>\n      <td>NaN</td>\n      <td>NaN</td>\n    </tr>\n    <tr>\n      <th>942</th>\n      <td>943</td>\n      <td>6</td>\n      <td>8</td>\n      <td>1978</td>\n      <td>8</td>\n      <td>SS</td>\n      <td>NaN</td>\n      <td>NaN</td>\n      <td>NaN</td>\n    </tr>\n    <tr>\n      <th>1001</th>\n      <td>1002</td>\n      <td>6</td>\n      <td>9</td>\n      <td>1978</td>\n      <td>14</td>\n      <td>SS</td>\n      <td>M</td>\n      <td>NaN</td>\n      <td>130.0</td>\n    </tr>\n    <tr>\n      <th>...</th>\n      <td>...</td>\n      <td>...</td>\n      <td>...</td>\n      <td>...</td>\n      <td>...</td>\n      <td>...</td>\n      <td>...</td>\n      <td>...</td>\n      <td>...</td>\n    </tr>\n    <tr>\n      <th>33991</th>\n      <td>33992</td>\n      <td>5</td>\n      <td>15</td>\n      <td>2002</td>\n      <td>19</td>\n      <td>SS</td>\n      <td>NaN</td>\n      <td>NaN</td>\n      <td>NaN</td>\n    </tr>\n    <tr>\n      <th>34106</th>\n      <td>34107</td>\n      <td>5</td>\n      <td>16</td>\n      <td>2002</td>\n      <td>11</td>\n      <td>SS</td>\n      <td>NaN</td>\n      <td>NaN</td>\n      <td>NaN</td>\n    </tr>\n    <tr>\n      <th>34112</th>\n      <td>34113</td>\n      <td>5</td>\n      <td>16</td>\n      <td>2002</td>\n      <td>11</td>\n      <td>SS</td>\n      <td>NaN</td>\n      <td>NaN</td>\n      <td>NaN</td>\n    </tr>\n    <tr>\n      <th>34783</th>\n      <td>34784</td>\n      <td>10</td>\n      <td>5</td>\n      <td>2002</td>\n      <td>17</td>\n      <td>SS</td>\n      <td>NaN</td>\n      <td>NaN</td>\n      <td>NaN</td>\n    </tr>\n    <tr>\n      <th>35137</th>\n      <td>35138</td>\n      <td>11</td>\n      <td>10</td>\n      <td>2002</td>\n      <td>9</td>\n      <td>SS</td>\n      <td>NaN</td>\n      <td>NaN</td>\n      <td>NaN</td>\n    </tr>\n  </tbody>\n</table>\n<p>248 rows × 9 columns</p>\n</div>"
     },
     "execution_count": 43,
     "metadata": {},
     "output_type": "execute_result"
    }
   ],
   "source": [
    "#Exercise 2, part 2: 248 in the particular species.\n",
    "surveys_df[surveys_df['species_id'].isin(['SS'])]"
   ],
   "metadata": {
    "collapsed": false,
    "pycharm": {
     "name": "#%%\n"
    }
   }
  },
  {
   "cell_type": "code",
   "execution_count": 44,
   "outputs": [
    {
     "data": {
      "text/plain": "record_id          248\nmonth              248\nday                248\nyear               248\nplot_id            248\nspecies_id         248\nsex                  3\nhindfoot_length      0\nweight               2\ndtype: int64"
     },
     "execution_count": 44,
     "metadata": {},
     "output_type": "execute_result"
    }
   ],
   "source": [
    "surveys_df[surveys_df['species_id'].isin(['SS'])].count()"
   ],
   "metadata": {
    "collapsed": false,
    "pycharm": {
     "name": "#%%\n"
    }
   }
  },
  {
   "cell_type": "code",
   "execution_count": 45,
   "outputs": [
    {
     "data": {
      "text/plain": "       record_id  month  day  year  plot_id species_id sex  hindfoot_length  \\\n62            63      8   19  1977        3         DM   M             35.0   \n63            64      8   19  1977        7         DM   M             37.0   \n64            65      8   19  1977        4         DM   F             34.0   \n65            66      8   19  1977        4         DM   F             35.0   \n66            67      8   19  1977        7         DM   M             35.0   \n...          ...    ...  ...   ...      ...        ...  ..              ...   \n35540      35541     12   31  2002       15         PB   F             24.0   \n35541      35542     12   31  2002       15         PB   F             26.0   \n35542      35543     12   31  2002       15         PB   F             27.0   \n35546      35547     12   31  2002       10         RM   F             15.0   \n35547      35548     12   31  2002        7         DO   M             36.0   \n\n       weight  \n62       40.0  \n63       48.0  \n64       29.0  \n65       46.0  \n66       36.0  \n...       ...  \n35540    31.0  \n35541    29.0  \n35542    34.0  \n35546    14.0  \n35547    51.0  \n\n[32283 rows x 9 columns]",
      "text/html": "<div>\n<style scoped>\n    .dataframe tbody tr th:only-of-type {\n        vertical-align: middle;\n    }\n\n    .dataframe tbody tr th {\n        vertical-align: top;\n    }\n\n    .dataframe thead th {\n        text-align: right;\n    }\n</style>\n<table border=\"1\" class=\"dataframe\">\n  <thead>\n    <tr style=\"text-align: right;\">\n      <th></th>\n      <th>record_id</th>\n      <th>month</th>\n      <th>day</th>\n      <th>year</th>\n      <th>plot_id</th>\n      <th>species_id</th>\n      <th>sex</th>\n      <th>hindfoot_length</th>\n      <th>weight</th>\n    </tr>\n  </thead>\n  <tbody>\n    <tr>\n      <th>62</th>\n      <td>63</td>\n      <td>8</td>\n      <td>19</td>\n      <td>1977</td>\n      <td>3</td>\n      <td>DM</td>\n      <td>M</td>\n      <td>35.0</td>\n      <td>40.0</td>\n    </tr>\n    <tr>\n      <th>63</th>\n      <td>64</td>\n      <td>8</td>\n      <td>19</td>\n      <td>1977</td>\n      <td>7</td>\n      <td>DM</td>\n      <td>M</td>\n      <td>37.0</td>\n      <td>48.0</td>\n    </tr>\n    <tr>\n      <th>64</th>\n      <td>65</td>\n      <td>8</td>\n      <td>19</td>\n      <td>1977</td>\n      <td>4</td>\n      <td>DM</td>\n      <td>F</td>\n      <td>34.0</td>\n      <td>29.0</td>\n    </tr>\n    <tr>\n      <th>65</th>\n      <td>66</td>\n      <td>8</td>\n      <td>19</td>\n      <td>1977</td>\n      <td>4</td>\n      <td>DM</td>\n      <td>F</td>\n      <td>35.0</td>\n      <td>46.0</td>\n    </tr>\n    <tr>\n      <th>66</th>\n      <td>67</td>\n      <td>8</td>\n      <td>19</td>\n      <td>1977</td>\n      <td>7</td>\n      <td>DM</td>\n      <td>M</td>\n      <td>35.0</td>\n      <td>36.0</td>\n    </tr>\n    <tr>\n      <th>...</th>\n      <td>...</td>\n      <td>...</td>\n      <td>...</td>\n      <td>...</td>\n      <td>...</td>\n      <td>...</td>\n      <td>...</td>\n      <td>...</td>\n      <td>...</td>\n    </tr>\n    <tr>\n      <th>35540</th>\n      <td>35541</td>\n      <td>12</td>\n      <td>31</td>\n      <td>2002</td>\n      <td>15</td>\n      <td>PB</td>\n      <td>F</td>\n      <td>24.0</td>\n      <td>31.0</td>\n    </tr>\n    <tr>\n      <th>35541</th>\n      <td>35542</td>\n      <td>12</td>\n      <td>31</td>\n      <td>2002</td>\n      <td>15</td>\n      <td>PB</td>\n      <td>F</td>\n      <td>26.0</td>\n      <td>29.0</td>\n    </tr>\n    <tr>\n      <th>35542</th>\n      <td>35543</td>\n      <td>12</td>\n      <td>31</td>\n      <td>2002</td>\n      <td>15</td>\n      <td>PB</td>\n      <td>F</td>\n      <td>27.0</td>\n      <td>34.0</td>\n    </tr>\n    <tr>\n      <th>35546</th>\n      <td>35547</td>\n      <td>12</td>\n      <td>31</td>\n      <td>2002</td>\n      <td>10</td>\n      <td>RM</td>\n      <td>F</td>\n      <td>15.0</td>\n      <td>14.0</td>\n    </tr>\n    <tr>\n      <th>35547</th>\n      <td>35548</td>\n      <td>12</td>\n      <td>31</td>\n      <td>2002</td>\n      <td>7</td>\n      <td>DO</td>\n      <td>M</td>\n      <td>36.0</td>\n      <td>51.0</td>\n    </tr>\n  </tbody>\n</table>\n<p>32283 rows × 9 columns</p>\n</div>"
     },
     "execution_count": 45,
     "metadata": {},
     "output_type": "execute_result"
    }
   ],
   "source": [
    "#Exercise2, part 3:\n",
    "surveys_df[surveys_df.weight >= 0]"
   ],
   "metadata": {
    "collapsed": false,
    "pycharm": {
     "name": "#%%\n"
    }
   }
  },
  {
   "cell_type": "code",
   "execution_count": 46,
   "outputs": [
    {
     "data": {
      "text/plain": "       record_id  month  day  year  plot_id species_id  sex  hindfoot_length  \\\n13            14      7   16  1977        8         DM  NaN              NaN   \n18            19      7   16  1977        4         PF  NaN              NaN   \n33            34      7   17  1977       17         DM  NaN              NaN   \n56            57      7   18  1977       22         DM  NaN              NaN   \n76            77      8   19  1977        4         SS  NaN              NaN   \n...          ...    ...  ...   ...      ...        ...  ...              ...   \n35527      35528     12   31  2002       13         US  NaN              NaN   \n35543      35544     12   31  2002       15         US  NaN              NaN   \n35544      35545     12   31  2002       15         AH  NaN              NaN   \n35545      35546     12   31  2002       15         AH  NaN              NaN   \n35548      35549     12   31  2002        5        NaN  NaN              NaN   \n\n       weight  \n13        NaN  \n18        NaN  \n33        NaN  \n56        NaN  \n76        NaN  \n...       ...  \n35527     NaN  \n35543     NaN  \n35544     NaN  \n35545     NaN  \n35548     NaN  \n\n[2511 rows x 9 columns]",
      "text/html": "<div>\n<style scoped>\n    .dataframe tbody tr th:only-of-type {\n        vertical-align: middle;\n    }\n\n    .dataframe tbody tr th {\n        vertical-align: top;\n    }\n\n    .dataframe thead th {\n        text-align: right;\n    }\n</style>\n<table border=\"1\" class=\"dataframe\">\n  <thead>\n    <tr style=\"text-align: right;\">\n      <th></th>\n      <th>record_id</th>\n      <th>month</th>\n      <th>day</th>\n      <th>year</th>\n      <th>plot_id</th>\n      <th>species_id</th>\n      <th>sex</th>\n      <th>hindfoot_length</th>\n      <th>weight</th>\n    </tr>\n  </thead>\n  <tbody>\n    <tr>\n      <th>13</th>\n      <td>14</td>\n      <td>7</td>\n      <td>16</td>\n      <td>1977</td>\n      <td>8</td>\n      <td>DM</td>\n      <td>NaN</td>\n      <td>NaN</td>\n      <td>NaN</td>\n    </tr>\n    <tr>\n      <th>18</th>\n      <td>19</td>\n      <td>7</td>\n      <td>16</td>\n      <td>1977</td>\n      <td>4</td>\n      <td>PF</td>\n      <td>NaN</td>\n      <td>NaN</td>\n      <td>NaN</td>\n    </tr>\n    <tr>\n      <th>33</th>\n      <td>34</td>\n      <td>7</td>\n      <td>17</td>\n      <td>1977</td>\n      <td>17</td>\n      <td>DM</td>\n      <td>NaN</td>\n      <td>NaN</td>\n      <td>NaN</td>\n    </tr>\n    <tr>\n      <th>56</th>\n      <td>57</td>\n      <td>7</td>\n      <td>18</td>\n      <td>1977</td>\n      <td>22</td>\n      <td>DM</td>\n      <td>NaN</td>\n      <td>NaN</td>\n      <td>NaN</td>\n    </tr>\n    <tr>\n      <th>76</th>\n      <td>77</td>\n      <td>8</td>\n      <td>19</td>\n      <td>1977</td>\n      <td>4</td>\n      <td>SS</td>\n      <td>NaN</td>\n      <td>NaN</td>\n      <td>NaN</td>\n    </tr>\n    <tr>\n      <th>...</th>\n      <td>...</td>\n      <td>...</td>\n      <td>...</td>\n      <td>...</td>\n      <td>...</td>\n      <td>...</td>\n      <td>...</td>\n      <td>...</td>\n      <td>...</td>\n    </tr>\n    <tr>\n      <th>35527</th>\n      <td>35528</td>\n      <td>12</td>\n      <td>31</td>\n      <td>2002</td>\n      <td>13</td>\n      <td>US</td>\n      <td>NaN</td>\n      <td>NaN</td>\n      <td>NaN</td>\n    </tr>\n    <tr>\n      <th>35543</th>\n      <td>35544</td>\n      <td>12</td>\n      <td>31</td>\n      <td>2002</td>\n      <td>15</td>\n      <td>US</td>\n      <td>NaN</td>\n      <td>NaN</td>\n      <td>NaN</td>\n    </tr>\n    <tr>\n      <th>35544</th>\n      <td>35545</td>\n      <td>12</td>\n      <td>31</td>\n      <td>2002</td>\n      <td>15</td>\n      <td>AH</td>\n      <td>NaN</td>\n      <td>NaN</td>\n      <td>NaN</td>\n    </tr>\n    <tr>\n      <th>35545</th>\n      <td>35546</td>\n      <td>12</td>\n      <td>31</td>\n      <td>2002</td>\n      <td>15</td>\n      <td>AH</td>\n      <td>NaN</td>\n      <td>NaN</td>\n      <td>NaN</td>\n    </tr>\n    <tr>\n      <th>35548</th>\n      <td>35549</td>\n      <td>12</td>\n      <td>31</td>\n      <td>2002</td>\n      <td>5</td>\n      <td>NaN</td>\n      <td>NaN</td>\n      <td>NaN</td>\n      <td>NaN</td>\n    </tr>\n  </tbody>\n</table>\n<p>2511 rows × 9 columns</p>\n</div>"
     },
     "execution_count": 46,
     "metadata": {},
     "output_type": "execute_result"
    }
   ],
   "source": [
    "#Exercise 2, part 4:\n",
    "surveys_df[~(surveys_df['sex'].isin(['F','M']))]"
   ],
   "metadata": {
    "collapsed": false,
    "pycharm": {
     "name": "#%%\n"
    }
   }
  },
  {
   "cell_type": "code",
   "execution_count": 47,
   "outputs": [
    {
     "data": {
      "text/plain": "False"
     },
     "execution_count": 47,
     "metadata": {},
     "output_type": "execute_result"
    }
   ],
   "source": [
    "# Example 24\n",
    "# Set x to 5\n",
    "x = 5\n",
    "\n",
    "# What does the code below return?\n",
    "x > 5"
   ],
   "metadata": {
    "collapsed": false,
    "pycharm": {
     "name": "#%%\n"
    }
   }
  },
  {
   "cell_type": "code",
   "execution_count": 48,
   "outputs": [
    {
     "data": {
      "text/plain": "True"
     },
     "execution_count": 48,
     "metadata": {},
     "output_type": "execute_result"
    }
   ],
   "source": [
    "# Example 25\n",
    "# How about this?\n",
    "x == 5"
   ],
   "metadata": {
    "collapsed": false,
    "pycharm": {
     "name": "#%%\n"
    }
   }
  },
  {
   "cell_type": "code",
   "execution_count": 49,
   "outputs": [
    {
     "data": {
      "text/plain": "       record_id  month    day   year  plot_id  species_id    sex  \\\n0          False  False  False  False    False       False  False   \n1          False  False  False  False    False       False  False   \n2          False  False  False  False    False       False  False   \n3          False  False  False  False    False       False  False   \n4          False  False  False  False    False       False  False   \n...          ...    ...    ...    ...      ...         ...    ...   \n35544      False  False  False  False    False       False   True   \n35545      False  False  False  False    False       False   True   \n35546      False  False  False  False    False       False  False   \n35547      False  False  False  False    False       False  False   \n35548      False  False  False  False    False        True   True   \n\n       hindfoot_length  weight  \n0                False    True  \n1                False    True  \n2                False    True  \n3                False    True  \n4                False    True  \n...                ...     ...  \n35544             True    True  \n35545             True    True  \n35546            False   False  \n35547            False   False  \n35548             True    True  \n\n[35549 rows x 9 columns]",
      "text/html": "<div>\n<style scoped>\n    .dataframe tbody tr th:only-of-type {\n        vertical-align: middle;\n    }\n\n    .dataframe tbody tr th {\n        vertical-align: top;\n    }\n\n    .dataframe thead th {\n        text-align: right;\n    }\n</style>\n<table border=\"1\" class=\"dataframe\">\n  <thead>\n    <tr style=\"text-align: right;\">\n      <th></th>\n      <th>record_id</th>\n      <th>month</th>\n      <th>day</th>\n      <th>year</th>\n      <th>plot_id</th>\n      <th>species_id</th>\n      <th>sex</th>\n      <th>hindfoot_length</th>\n      <th>weight</th>\n    </tr>\n  </thead>\n  <tbody>\n    <tr>\n      <th>0</th>\n      <td>False</td>\n      <td>False</td>\n      <td>False</td>\n      <td>False</td>\n      <td>False</td>\n      <td>False</td>\n      <td>False</td>\n      <td>False</td>\n      <td>True</td>\n    </tr>\n    <tr>\n      <th>1</th>\n      <td>False</td>\n      <td>False</td>\n      <td>False</td>\n      <td>False</td>\n      <td>False</td>\n      <td>False</td>\n      <td>False</td>\n      <td>False</td>\n      <td>True</td>\n    </tr>\n    <tr>\n      <th>2</th>\n      <td>False</td>\n      <td>False</td>\n      <td>False</td>\n      <td>False</td>\n      <td>False</td>\n      <td>False</td>\n      <td>False</td>\n      <td>False</td>\n      <td>True</td>\n    </tr>\n    <tr>\n      <th>3</th>\n      <td>False</td>\n      <td>False</td>\n      <td>False</td>\n      <td>False</td>\n      <td>False</td>\n      <td>False</td>\n      <td>False</td>\n      <td>False</td>\n      <td>True</td>\n    </tr>\n    <tr>\n      <th>4</th>\n      <td>False</td>\n      <td>False</td>\n      <td>False</td>\n      <td>False</td>\n      <td>False</td>\n      <td>False</td>\n      <td>False</td>\n      <td>False</td>\n      <td>True</td>\n    </tr>\n    <tr>\n      <th>...</th>\n      <td>...</td>\n      <td>...</td>\n      <td>...</td>\n      <td>...</td>\n      <td>...</td>\n      <td>...</td>\n      <td>...</td>\n      <td>...</td>\n      <td>...</td>\n    </tr>\n    <tr>\n      <th>35544</th>\n      <td>False</td>\n      <td>False</td>\n      <td>False</td>\n      <td>False</td>\n      <td>False</td>\n      <td>False</td>\n      <td>True</td>\n      <td>True</td>\n      <td>True</td>\n    </tr>\n    <tr>\n      <th>35545</th>\n      <td>False</td>\n      <td>False</td>\n      <td>False</td>\n      <td>False</td>\n      <td>False</td>\n      <td>False</td>\n      <td>True</td>\n      <td>True</td>\n      <td>True</td>\n    </tr>\n    <tr>\n      <th>35546</th>\n      <td>False</td>\n      <td>False</td>\n      <td>False</td>\n      <td>False</td>\n      <td>False</td>\n      <td>False</td>\n      <td>False</td>\n      <td>False</td>\n      <td>False</td>\n    </tr>\n    <tr>\n      <th>35547</th>\n      <td>False</td>\n      <td>False</td>\n      <td>False</td>\n      <td>False</td>\n      <td>False</td>\n      <td>False</td>\n      <td>False</td>\n      <td>False</td>\n      <td>False</td>\n    </tr>\n    <tr>\n      <th>35548</th>\n      <td>False</td>\n      <td>False</td>\n      <td>False</td>\n      <td>False</td>\n      <td>False</td>\n      <td>True</td>\n      <td>True</td>\n      <td>True</td>\n      <td>True</td>\n    </tr>\n  </tbody>\n</table>\n<p>35549 rows × 9 columns</p>\n</div>"
     },
     "execution_count": 49,
     "metadata": {},
     "output_type": "execute_result"
    }
   ],
   "source": [
    "# Example 26\n",
    "pd.isnull(surveys_df)"
   ],
   "metadata": {
    "collapsed": false,
    "pycharm": {
     "name": "#%%\n"
    }
   }
  },
  {
   "cell_type": "code",
   "execution_count": 50,
   "outputs": [
    {
     "data": {
      "text/plain": "       record_id  month  day  year  plot_id species_id  sex  hindfoot_length  \\\n0              1      7   16  1977        2         NL    M             32.0   \n1              2      7   16  1977        3         NL    M             33.0   \n2              3      7   16  1977        2         DM    F             37.0   \n3              4      7   16  1977        7         DM    M             36.0   \n4              5      7   16  1977        3         DM    M             35.0   \n...          ...    ...  ...   ...      ...        ...  ...              ...   \n35530      35531     12   31  2002       13         PB    F             27.0   \n35543      35544     12   31  2002       15         US  NaN              NaN   \n35544      35545     12   31  2002       15         AH  NaN              NaN   \n35545      35546     12   31  2002       15         AH  NaN              NaN   \n35548      35549     12   31  2002        5        NaN  NaN              NaN   \n\n       weight  \n0         NaN  \n1         NaN  \n2         NaN  \n3         NaN  \n4         NaN  \n...       ...  \n35530     NaN  \n35543     NaN  \n35544     NaN  \n35545     NaN  \n35548     NaN  \n\n[4873 rows x 9 columns]",
      "text/html": "<div>\n<style scoped>\n    .dataframe tbody tr th:only-of-type {\n        vertical-align: middle;\n    }\n\n    .dataframe tbody tr th {\n        vertical-align: top;\n    }\n\n    .dataframe thead th {\n        text-align: right;\n    }\n</style>\n<table border=\"1\" class=\"dataframe\">\n  <thead>\n    <tr style=\"text-align: right;\">\n      <th></th>\n      <th>record_id</th>\n      <th>month</th>\n      <th>day</th>\n      <th>year</th>\n      <th>plot_id</th>\n      <th>species_id</th>\n      <th>sex</th>\n      <th>hindfoot_length</th>\n      <th>weight</th>\n    </tr>\n  </thead>\n  <tbody>\n    <tr>\n      <th>0</th>\n      <td>1</td>\n      <td>7</td>\n      <td>16</td>\n      <td>1977</td>\n      <td>2</td>\n      <td>NL</td>\n      <td>M</td>\n      <td>32.0</td>\n      <td>NaN</td>\n    </tr>\n    <tr>\n      <th>1</th>\n      <td>2</td>\n      <td>7</td>\n      <td>16</td>\n      <td>1977</td>\n      <td>3</td>\n      <td>NL</td>\n      <td>M</td>\n      <td>33.0</td>\n      <td>NaN</td>\n    </tr>\n    <tr>\n      <th>2</th>\n      <td>3</td>\n      <td>7</td>\n      <td>16</td>\n      <td>1977</td>\n      <td>2</td>\n      <td>DM</td>\n      <td>F</td>\n      <td>37.0</td>\n      <td>NaN</td>\n    </tr>\n    <tr>\n      <th>3</th>\n      <td>4</td>\n      <td>7</td>\n      <td>16</td>\n      <td>1977</td>\n      <td>7</td>\n      <td>DM</td>\n      <td>M</td>\n      <td>36.0</td>\n      <td>NaN</td>\n    </tr>\n    <tr>\n      <th>4</th>\n      <td>5</td>\n      <td>7</td>\n      <td>16</td>\n      <td>1977</td>\n      <td>3</td>\n      <td>DM</td>\n      <td>M</td>\n      <td>35.0</td>\n      <td>NaN</td>\n    </tr>\n    <tr>\n      <th>...</th>\n      <td>...</td>\n      <td>...</td>\n      <td>...</td>\n      <td>...</td>\n      <td>...</td>\n      <td>...</td>\n      <td>...</td>\n      <td>...</td>\n      <td>...</td>\n    </tr>\n    <tr>\n      <th>35530</th>\n      <td>35531</td>\n      <td>12</td>\n      <td>31</td>\n      <td>2002</td>\n      <td>13</td>\n      <td>PB</td>\n      <td>F</td>\n      <td>27.0</td>\n      <td>NaN</td>\n    </tr>\n    <tr>\n      <th>35543</th>\n      <td>35544</td>\n      <td>12</td>\n      <td>31</td>\n      <td>2002</td>\n      <td>15</td>\n      <td>US</td>\n      <td>NaN</td>\n      <td>NaN</td>\n      <td>NaN</td>\n    </tr>\n    <tr>\n      <th>35544</th>\n      <td>35545</td>\n      <td>12</td>\n      <td>31</td>\n      <td>2002</td>\n      <td>15</td>\n      <td>AH</td>\n      <td>NaN</td>\n      <td>NaN</td>\n      <td>NaN</td>\n    </tr>\n    <tr>\n      <th>35545</th>\n      <td>35546</td>\n      <td>12</td>\n      <td>31</td>\n      <td>2002</td>\n      <td>15</td>\n      <td>AH</td>\n      <td>NaN</td>\n      <td>NaN</td>\n      <td>NaN</td>\n    </tr>\n    <tr>\n      <th>35548</th>\n      <td>35549</td>\n      <td>12</td>\n      <td>31</td>\n      <td>2002</td>\n      <td>5</td>\n      <td>NaN</td>\n      <td>NaN</td>\n      <td>NaN</td>\n      <td>NaN</td>\n    </tr>\n  </tbody>\n</table>\n<p>4873 rows × 9 columns</p>\n</div>"
     },
     "execution_count": 50,
     "metadata": {},
     "output_type": "execute_result"
    }
   ],
   "source": [
    "# Example 27\n",
    "# To select just the rows with NaN values, we can use the 'any()' method\n",
    "surveys_df[pd.isnull(surveys_df).any(axis=1)]"
   ],
   "metadata": {
    "collapsed": false,
    "pycharm": {
     "name": "#%%\n"
    }
   }
  },
  {
   "cell_type": "code",
   "execution_count": 51,
   "outputs": [
    {
     "name": "stdout",
     "output_type": "stream",
     "text": [
      "0       NaN\n",
      "1       NaN\n",
      "2       NaN\n",
      "3       NaN\n",
      "4       NaN\n",
      "         ..\n",
      "35530   NaN\n",
      "35543   NaN\n",
      "35544   NaN\n",
      "35545   NaN\n",
      "35548   NaN\n",
      "Name: weight, Length: 3266, dtype: float64\n"
     ]
    }
   ],
   "source": [
    "# Example 28\n",
    "empty_weights = surveys_df[pd.isnull(surveys_df['weight'])]['weight']\n",
    "print(empty_weights)"
   ],
   "metadata": {
    "collapsed": false,
    "pycharm": {
     "name": "#%%\n"
    }
   }
  },
  {
   "cell_type": "markdown",
   "source": [
    "Exercise 3:\n",
    "Create a new DataFrame that only contains observations with sex values that are not female or male. Assign each sex value in the new DataFrame to a new value of ‘x’.\n",
    "Determine the number of null values in thesubset.\n",
    "\n",
    "Create a new DataFrame that contains only observations that are of sex male or female and where weight values are greater than 0.\n",
    "Create a stacked bar plot of average weight by plot with male vs female values stacked for each plot."
   ],
   "metadata": {
    "collapsed": false,
    "pycharm": {
     "name": "#%% md\n"
    }
   }
  },
  {
   "cell_type": "code",
   "execution_count": 55,
   "outputs": [
    {
     "data": {
      "text/plain": "13       True\n18       True\n33       True\n56       True\n76       True\n         ... \n35527    True\n35543    True\n35544    True\n35545    True\n35548    True\nLength: 2511, dtype: bool"
     },
     "execution_count": 55,
     "metadata": {},
     "output_type": "execute_result"
    }
   ],
   "source": [
    "Survey1_df = surveys_df[~((surveys_df['sex']).isin(['M','F']))].copy()\n",
    "Survey1_df.count()\n",
    "Survey1_df.head()\n",
    "Survey1_df.sex='x'\n",
    "Survey1_df.head()\n",
    "\n",
    "pd.isnull(Survey1_df).sum()\n",
    "pd.isnull(Survey1_df).sum().sum()\n",
    "\n",
    "pd.isnull(Survey1_df).any()\n",
    "pd.isnull(Survey1_df).any(axis=1)"
   ],
   "metadata": {
    "collapsed": false,
    "pycharm": {
     "name": "#%%\n"
    }
   }
  },
  {
   "cell_type": "code",
   "execution_count": 56,
   "outputs": [
    {
     "data": {
      "text/plain": "Text(0.5, 0, 'Plot')"
     },
     "execution_count": 56,
     "metadata": {},
     "output_type": "execute_result"
    },
    {
     "data": {
      "text/plain": "<Figure size 432x288 with 1 Axes>",
      "image/png": "[encoded data removed]"
     },
     "metadata": {
      "needs_background": "light"
     },
     "output_type": "display_data"
    }
   ],
   "source": [
    "Survey2_df = surveys_df[((surveys_df['sex']=='M') | (surveys_df['sex']=='F')) & ((surveys_df['weight'] > 0))].copy()\n",
    "Survey2_df.head()\n",
    "\n",
    "# or\n",
    "Survey3_df=surveys_df[(surveys_df['sex'].isin(['M','F']) & (surveys_df['weight'] > 0))].copy()\n",
    "\n",
    "by_plot_sex = Survey2_df.groupby(['plot_id','sex'])\n",
    "plot_sex_count = by_plot_sex['weight'].mean()\n",
    "spc = plot_sex_count.unstack()\n",
    "s_plot = spc.plot(kind='bar',stacked=True,title=\"Total weight by plot and sex\")\n",
    "s_plot.set_ylabel(\"Weight\")\n",
    "s_plot.set_xlabel(\"Plot\")"
   ],
   "metadata": {
    "collapsed": false,
    "pycharm": {
     "name": "#%%\n"
    }
   }
  },
  {
   "cell_type": "code",
   "execution_count": null,
   "outputs": [],
   "source": [],
   "metadata": {
    "collapsed": false,
    "pycharm": {
     "name": "#%%\n"
    }
   }
  }
 ],
 "metadata": {
  "kernelspec": {
   "display_name": "Python 3",
   "language": "python",
   "name": "python3"
  },
  "language_info": {
   "codemirror_mode": {
    "name": "ipython",
    "version": 2
   },
   "file_extension": ".py",
   "mimetype": "text/x-python",
   "name": "python",
   "nbconvert_exporter": "python",
   "pygments_lexer": "ipython2",
   "version": "2.7.6"
  }
 },
 "nbformat": 4,
 "nbformat_minor": 0
}