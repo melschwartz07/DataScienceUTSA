{
 "cells": [
  {
   "cell_type": "code",
   "execution_count": 14,
   "metadata": {
    "collapsed": true,
    "pycharm": {
     "name": "#%%\n"
    }
   },
   "outputs": [
    {
     "data": {
      "text/plain": "       Day caffeine?    (1 = Yes, 0 = No)  Night caffeine?  (1 = Yes, 0 = No)  \\\ncount                                21.0                           21.000000   \nmean                                  1.0                            0.190476   \nstd                                   0.0                            0.402374   \nmin                                   1.0                            0.000000   \n25%                                   1.0                            0.000000   \n50%                                   1.0                            0.000000   \n75%                                   1.0                            0.000000   \nmax                                   1.0                            1.000000   \n\n       Minutes of day napping  Minutes to fall asleep  \\\ncount               21.000000               21.000000   \nmean                 4.047619               15.238095   \nstd                 13.930098                4.867286   \nmin                  0.000000               10.000000   \n25%                  0.000000               10.000000   \n50%                  0.000000               15.000000   \n75%                  0.000000               20.000000   \nmax                 60.000000               25.000000   \n\n       Bed-time       (24-hour time)  Wake-up time           (24 -hour time)  \\\ncount                      21.000000                               21.000000   \nmean                       -1.059524                                8.047619   \nstd                         0.670377                                0.944123   \nmin                        -2.500000                                7.500000   \n25%                        -1.500000                                7.500000   \n50%                        -1.000000                                7.500000   \n75%                        -0.750000                                8.500000   \nmax                         0.000000                               10.250000   \n\n       Alarm?               (1 = Yes, 0 = No)  minutes awakened during night  \\\ncount                               21.000000                      21.000000   \nmean                                 0.904762                       4.285714   \nstd                                  0.300793                       6.573757   \nmin                                  0.000000                       0.000000   \n25%                                  1.000000                       0.000000   \n50%                                  1.000000                       0.000000   \n75%                                  1.000000                      10.000000   \nmax                                  1.000000                      20.000000   \n\n             SSI  \ncount  21.000000  \nmean    1.857143  \nstd     0.358569  \nmin     1.000000  \n25%     2.000000  \n50%     2.000000  \n75%     2.000000  \nmax     2.000000  ",
      "text/html": "<div>\n<style scoped>\n    .dataframe tbody tr th:only-of-type {\n        vertical-align: middle;\n    }\n\n    .dataframe tbody tr th {\n        vertical-align: top;\n    }\n\n    .dataframe thead th {\n        text-align: right;\n    }\n</style>\n<table border=\"1\" class=\"dataframe\">\n  <thead>\n    <tr style=\"text-align: right;\">\n      <th></th>\n      <th>Day caffeine?    (1 = Yes, 0 = No)</th>\n      <th>Night caffeine?  (1 = Yes, 0 = No)</th>\n      <th>Minutes of day napping</th>\n      <th>Minutes to fall asleep</th>\n      <th>Bed-time       (24-hour time)</th>\n      <th>Wake-up time           (24 -hour time)</th>\n      <th>Alarm?               (1 = Yes, 0 = No)</th>\n      <th>minutes awakened during night</th>\n      <th>SSI</th>\n    </tr>\n  </thead>\n  <tbody>\n    <tr>\n      <th>count</th>\n      <td>21.0</td>\n      <td>21.000000</td>\n      <td>21.000000</td>\n      <td>21.000000</td>\n      <td>21.000000</td>\n      <td>21.000000</td>\n      <td>21.000000</td>\n      <td>21.000000</td>\n      <td>21.000000</td>\n    </tr>\n    <tr>\n      <th>mean</th>\n      <td>1.0</td>\n      <td>0.190476</td>\n      <td>4.047619</td>\n      <td>15.238095</td>\n      <td>-1.059524</td>\n      <td>8.047619</td>\n      <td>0.904762</td>\n      <td>4.285714</td>\n      <td>1.857143</td>\n    </tr>\n    <tr>\n      <th>std</th>\n      <td>0.0</td>\n      <td>0.402374</td>\n      <td>13.930098</td>\n      <td>4.867286</td>\n      <td>0.670377</td>\n      <td>0.944123</td>\n      <td>0.300793</td>\n      <td>6.573757</td>\n      <td>0.358569</td>\n    </tr>\n    <tr>\n      <th>min</th>\n      <td>1.0</td>\n      <td>0.000000</td>\n      <td>0.000000</td>\n      <td>10.000000</td>\n      <td>-2.500000</td>\n      <td>7.500000</td>\n      <td>0.000000</td>\n      <td>0.000000</td>\n      <td>1.000000</td>\n    </tr>\n    <tr>\n      <th>25%</th>\n      <td>1.0</td>\n      <td>0.000000</td>\n      <td>0.000000</td>\n      <td>10.000000</td>\n      <td>-1.500000</td>\n      <td>7.500000</td>\n      <td>1.000000</td>\n      <td>0.000000</td>\n      <td>2.000000</td>\n    </tr>\n    <tr>\n      <th>50%</th>\n      <td>1.0</td>\n      <td>0.000000</td>\n      <td>0.000000</td>\n      <td>15.000000</td>\n      <td>-1.000000</td>\n      <td>7.500000</td>\n      <td>1.000000</td>\n      <td>0.000000</td>\n      <td>2.000000</td>\n    </tr>\n    <tr>\n      <th>75%</th>\n      <td>1.0</td>\n      <td>0.000000</td>\n      <td>0.000000</td>\n      <td>20.000000</td>\n      <td>-0.750000</td>\n      <td>8.500000</td>\n      <td>1.000000</td>\n      <td>10.000000</td>\n      <td>2.000000</td>\n    </tr>\n    <tr>\n      <th>max</th>\n      <td>1.0</td>\n      <td>1.000000</td>\n      <td>60.000000</td>\n      <td>25.000000</td>\n      <td>0.000000</td>\n      <td>10.250000</td>\n      <td>1.000000</td>\n      <td>20.000000</td>\n      <td>2.000000</td>\n    </tr>\n  </tbody>\n</table>\n</div>"
     },
     "execution_count": 14,
     "metadata": {},
     "output_type": "execute_result"
    }
   ],
   "source": [
    "import pandas as pd\n",
    "data = pd.read_csv(\"Schwartz-Melanie-female.csv\")\n",
    "data.describe()\n"
   ]
  },
  {
   "cell_type": "markdown",
   "source": [
    "Question 1: What strikes you about your values?\n",
    "(a) Are you an early riser?\n",
    "(b) Do you consistently get the same amount of sleep each night?\n",
    "(c) Do you feel like you get sufficient sleep, independent of the number you calculated?\n",
    "\n",
    "I was not too shocked with my values, I have a somewhat strict and consistent sleep schedule.\n",
    "(a) Yes, for the most part I wake up everyday at 7:30am.\n",
    "(b) Yes, I consistently get the same amount of sleep each night.\n",
    "(c) Yes, I feel like I get sufficient sleep."
   ],
   "metadata": {
    "collapsed": false,
    "pycharm": {
     "name": "#%% md\n"
    }
   }
  },
  {
   "cell_type": "markdown",
   "source": [
    "Question 2: Any surprises here? Which of these most affects your overall quantity of sleep?\n",
    "\n",
    "I think evening caffeine somewhat affects my quality of sleep."
   ],
   "metadata": {
    "collapsed": false,
    "pycharm": {
     "name": "#%% md\n"
    }
   }
  },
  {
   "cell_type": "code",
   "execution_count": 35,
   "outputs": [
    {
     "name": "stdout",
     "output_type": "stream",
     "text": [
      "Percentage of Days Woke to an Alarm 90.47619047619048\n"
     ]
    }
   ],
   "source": [
    "# Percentages\n",
    "#1. Percentage of days you woke to an alarm\n",
    "# Setup\n",
    "import matplotlib.pyplot as plt  # for generating plots\n",
    "import matplotlib\n",
    "import pandas as pd     # import the pandas library to read a .csv file\n",
    "import numpy as np      # use py for numpy from now on\n",
    "# this command tells Jupyter Notebook to plot in this space\n",
    "%matplotlib inline\n",
    "\n",
    "df = pd.read_csv('Schwartz-Melanie-female.csv')   # read in the data to df\n",
    "print(\"Percentage of Days Woke to an Alarm\", df['Alarm?               (1 = Yes, 0 = No)'].value_counts(normalize=True)[1]*100)\n",
    "\n"
   ],
   "metadata": {
    "collapsed": false,
    "pycharm": {
     "name": "#%%\n"
    }
   }
  },
  {
   "cell_type": "code",
   "execution_count": 38,
   "outputs": [
    {
     "name": "stdout",
     "output_type": "stream",
     "text": [
      "Percentage of Days I consumed Caffeine During the Day 100.0\n"
     ]
    }
   ],
   "source": [
    "#Percentages\n",
    "#2. Percentage of days I consumed caffeine\n",
    "# Setup\n",
    "import matplotlib.pyplot as plt  # for generating plots\n",
    "import matplotlib\n",
    "import pandas as pd     # import the pandas library to read a .csv file\n",
    "import numpy as np      # use py for numpy from now on\n",
    "# this command tells Jupyter Notebook to plot in this space\n",
    "%matplotlib inline\n",
    "\n",
    "df = pd.read_csv('Schwartz-Melanie-female.csv')   # read in the data to df\n",
    "print(\"Percentage of Days I consumed Caffeine During the Day\", df['Day caffeine?    (1 = Yes, 0 = No)'].value_counts(normalize=True)[1]*100)"
   ],
   "metadata": {
    "collapsed": false,
    "pycharm": {
     "name": "#%%\n"
    }
   }
  },
  {
   "cell_type": "code",
   "execution_count": 39,
   "outputs": [
    {
     "name": "stdout",
     "output_type": "stream",
     "text": [
      "Percentage of Days I consumed Caffeine at Night 19.047619047619047\n"
     ]
    }
   ],
   "source": [
    "#Percentages\n",
    "#3. Percentage of nights caffeine was consumed.\n",
    "\n",
    "import matplotlib.pyplot as plt  # for generating plots\n",
    "import matplotlib\n",
    "import pandas as pd     # import the pandas library to read a .csv file\n",
    "import numpy as np      # use py for numpy from now on\n",
    "# this command tells Jupyter Notebook to plot in this space\n",
    "%matplotlib inline\n",
    "\n",
    "df = pd.read_csv('Schwartz-Melanie-female.csv')   # read in the data to df\n",
    "print(\"Percentage of Days I consumed Caffeine at Night\", df['Night caffeine?  (1 = Yes, 0 = No)'].value_counts(normalize=True)[1]*100)\n"
   ],
   "metadata": {
    "collapsed": false,
    "pycharm": {
     "name": "#%%\n"
    }
   }
  },
  {
   "cell_type": "code",
   "execution_count": 41,
   "outputs": [
    {
     "name": "stdout",
     "output_type": "stream",
     "text": [
      "Percentage of Days I consumed Caffeine 100.0\n"
     ]
    }
   ],
   "source": [
    "#Percentages\n",
    "#4. Overall percentage of caffeine use (% days used any caffeine)\n",
    "import matplotlib.pyplot as plt  # for generating plots\n",
    "import matplotlib\n",
    "import pandas as pd     # import the pandas library to read a .csv file\n",
    "import numpy as np      # use py for numpy from now on\n",
    "# this command tells Jupyter Notebook to plot in this space\n",
    "%matplotlib inline\n",
    "\n",
    "df = pd.read_csv('Schwartz-Melanie-female.csv')   # read in the data to df\n",
    "print(\"Percentage of Days I consumed Caffeine\", df['Day caffeine?    (1 = Yes, 0 = No)'].value_counts(normalize=True)[1]*100)\n"
   ],
   "metadata": {
    "collapsed": false,
    "pycharm": {
     "name": "#%%\n"
    }
   }
  },
  {
   "cell_type": "code",
   "execution_count": 47,
   "outputs": [
    {
     "name": "stdout",
     "output_type": "stream",
     "text": [
      "Percentage of Days I Napped 0    1.0\n",
      "Name: Minutes of day napping, dtype: float64\n"
     ]
    }
   ],
   "source": [
    "#Percentages\n",
    "#5. Percentage of days you took a nap\n",
    "import matplotlib.pyplot as plt  # for generating plots\n",
    "import matplotlib\n",
    "import pandas as pd     # import the pandas library to read a .csv file\n",
    "import numpy as np      # use py for numpy from now on\n",
    "# this command tells Jupyter Notebook to plot in this space\n",
    "%matplotlib inline\n",
    "\n",
    "df = pd.read_csv('Schwartz-Melanie-female.csv')   # read in the data to df\n",
    "print(\"Percentage of Days I Napped\", df['Minutes of day napping'].value_counts(normalize=True))\n",
    "\n"
   ],
   "metadata": {
    "collapsed": false,
    "pycharm": {
     "name": "#%%\n"
    }
   }
  },
  {
   "cell_type": "code",
   "execution_count": 33,
   "outputs": [
    {
     "data": {
      "text/plain": "<Figure size 432x288 with 1 Axes>",
      "image/png": "[encoded data removed]"
     },
     "metadata": {
      "needs_background": "light"
     },
     "output_type": "display_data"
    }
   ],
   "source": [
    "# Visualization\n",
    "\n",
    "#1. A line graph with your bedtimes, waketimes, and total hours of sleep\n",
    "# Setup\n",
    "import matplotlib.pyplot as plt  # for generating plots\n",
    "import matplotlib\n",
    "import pandas as pd     # import the pandas library to read a .csv file\n",
    "import numpy as np      # use py for numpy from now on\n",
    "# this command tells Jupyter Notebook to plot in this space\n",
    "%matplotlib inline\n",
    "\n",
    "df = pd.read_csv('Schwartz-Melanie-female.csv')   # read in the data to df\n",
    "\n",
    "\n",
    "\n",
    "fig,ax = plt.subplots()\n",
    "\n",
    "labels = ['12/2017', '6/2018', '12/2018', '6/2019', '9/14/2022']\n",
    "x = np.arange(0,35,7)\n",
    "ax.set_xticks(x)\n",
    "ax.set_xticklabels(labels)\n",
    "plt.plot(df['Bed-time       (24-hour time)'])\n",
    "plt.plot(df['Wake-up time           (24 -hour time)'])\n",
    "ax.set_title('Sleep Times ')\n",
    "ax.legend(['Bed-time       (24-hour time)', 'Wake-up time           (24 -hour time)'])\n",
    "\n",
    "plt.ylabel('Time')\n",
    "plt.show()\n"
   ],
   "metadata": {
    "collapsed": false,
    "pycharm": {
     "name": "#%%\n"
    }
   }
  },
  {
   "cell_type": "code",
   "execution_count": null,
   "outputs": [],
   "source": [],
   "metadata": {
    "collapsed": false,
    "pycharm": {
     "name": "#%%\n"
    }
   }
  }
 ],
 "metadata": {
  "kernelspec": {
   "display_name": "Python 3",
   "language": "python",
   "name": "python3"
  },
  "language_info": {
   "codemirror_mode": {
    "name": "ipython",
    "version": 2
   },
   "file_extension": ".py",
   "mimetype": "text/x-python",
   "name": "python",
   "nbconvert_exporter": "python",
   "pygments_lexer": "ipython2",
   "version": "2.7.6"
  }
 },
 "nbformat": 4,
 "nbformat_minor": 0
}