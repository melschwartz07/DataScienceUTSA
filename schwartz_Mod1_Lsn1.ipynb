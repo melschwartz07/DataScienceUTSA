{
 "cells": [
  {
   "cell_type": "code",
   "execution_count": 5,
   "metadata": {
    "collapsed": true,
    "pycharm": {
     "name": "#%%\n"
    }
   },
   "outputs": [
    {
     "name": "stdout",
     "output_type": "stream",
     "text": [
      "Hello world\n"
     ]
    }
   ],
   "source": [
    "#Example 1 - Hello world\n",
    "print(\"Hello world\")"
   ]
  },
  {
   "cell_type": "code",
   "execution_count": 6,
   "outputs": [
    {
     "name": "stdout",
     "output_type": "stream",
     "text": [
      "Hello Roadrunners! Good luck on your Fall 2022 semester!\n"
     ]
    }
   ],
   "source": [
    "#Exercise 1 - Shoutout to Roadrunners\n",
    "print(\"Hello Roadrunners! Good luck on your Fall 2022 semester!\")"
   ],
   "metadata": {
    "collapsed": false,
    "pycharm": {
     "name": "#%%\n"
    }
   }
  },
  {
   "cell_type": "code",
   "execution_count": 7,
   "outputs": [
    {
     "name": "stdout",
     "output_type": "stream",
     "text": [
      "a+b equals  15\n",
      "a-b equals  -5\n",
      "a*b equals  50\n",
      "50\n",
      "c =  50\n",
      "9765625\n"
     ]
    }
   ],
   "source": [
    "# Example 2 - scalar varables and operators\n",
    "\n",
    "a = 5          # create a variable named a that contains the value 5\n",
    "b = 10         # create a variable named b that contains the value 10\n",
    "\n",
    "# if you're not going to use the variables very often, you can do the math in the print statement.\n",
    "\n",
    "print (\"a+b equals \", a+b)  # output the sum of a+b\n",
    "print (\"a-b equals \", a-b)  # output the difference of a-b\n",
    "print (\"a*b equals \", a*b)  # output the results when a is multipled by b\n",
    "\n",
    "# if you're going to use the variables later on, create variables with the results.\n",
    "\n",
    "c = a*b       # do the math to put a*b into c\n",
    "print (c)\n",
    "# or alternately\n",
    "print ('c = ',c)\n",
    "\n",
    "d = a**b      # do the math of raising a to the b power\n",
    "print (d)"
   ],
   "metadata": {
    "collapsed": false,
    "pycharm": {
     "name": "#%%\n"
    }
   }
  },
  {
   "cell_type": "code",
   "execution_count": 9,
   "outputs": [
    {
     "name": "stdout",
     "output_type": "stream",
     "text": [
      "f + g = 35\n",
      "g * a = 75\n"
     ]
    }
   ],
   "source": [
    "#Exercise 2: Create a variable with the name of f, and put the value of 20 in it.\n",
    "# Create another variable called g 15 in it. Add f and g and output the results.\n",
    "# Multiply g and a and output the results.\n",
    "f = 20\n",
    "g = 15\n",
    "\n",
    "print(\"f + g =\", f+g)\n",
    "print(\"g * a =\", g*a)"
   ],
   "metadata": {
    "collapsed": false,
    "pycharm": {
     "name": "#%%\n"
    }
   }
  },
  {
   "cell_type": "code",
   "execution_count": 10,
   "outputs": [
    {
     "name": "stdout",
     "output_type": "stream",
     "text": [
      "A+B is  [1, 2, 3, 4, 5, 6, 7, 8]\n"
     ]
    }
   ],
   "source": [
    "# Example 3 - lists and operators\n",
    "\n",
    "A = [1, 2, 3, 4]       # create a list of these in A\n",
    "B = [5, 6, 7, 8]       # create a list of these in B\n",
    "\n",
    "print(\"A+B is \",A+B)"
   ],
   "metadata": {
    "collapsed": false,
    "pycharm": {
     "name": "#%%\n"
    }
   }
  },
  {
   "cell_type": "code",
   "execution_count": 11,
   "outputs": [
    {
     "name": "stdout",
     "output_type": "stream",
     "text": [
      "[ 3  6  9 12 15 18]\n",
      "3\n",
      "12\n",
      "18\n",
      "6\n",
      "Sum of C is  63\n",
      "The diff between the first and last values in C is  15\n"
     ]
    }
   ],
   "source": [
    "# Example 4 - numpy, vectors and operators\n",
    "import numpy as np              # importing the library numpy and shortening the name to np\n",
    "\n",
    "C = np.array([3,6,9,12,15,18])  # creating a vector of 6 integer values (dim 1x6)\n",
    "print(C)                        # outputing the vector C\n",
    "\n",
    "print(C[0])                     # output the first value in C (remember, the index starts at 0)\n",
    "print(C[3])                     # output the fourth value in C\n",
    "print(C[5])                     # output the sixth value in C\n",
    "print(C[1])                     # output the second value in C\n",
    "\n",
    "totalC = C[0]+C[1]+C[2]+C[3]+C[4]+C[5]  # calculate the sum of C\n",
    "print ('Sum of C is ', totalC)\n",
    "\n",
    "C5_C0 = C[5]-C[0]               # calculate the difference between the last and first value in C\n",
    "print ('The diff between the first and last values in C is ',C5_C0)"
   ],
   "metadata": {
    "collapsed": false,
    "pycharm": {
     "name": "#%%\n"
    }
   }
  },
  {
   "cell_type": "code",
   "execution_count": 13,
   "outputs": [
    {
     "name": "stdout",
     "output_type": "stream",
     "text": [
      "[10 20 30 40]\n",
      "The sum of the first and last value equals 50\n"
     ]
    }
   ],
   "source": [
    "#Exercise 3: Create a variable named c with 4 values in it, containing the values 10, 20, 30 and 40, in that order.\n",
    "#Output the entire variable. Add the first and last values and output them.\n",
    "c = np.array([10, 20, 30, 40])\n",
    "print(c)\n",
    "\n",
    "c3_c0 = c[0] + c[3]\n",
    "print(\"The sum of the first and last value equals\", c3_c0)"
   ],
   "metadata": {
    "collapsed": false,
    "pycharm": {
     "name": "#%%\n"
    }
   }
  },
  {
   "cell_type": "code",
   "execution_count": 14,
   "outputs": [
    {
     "name": "stdout",
     "output_type": "stream",
     "text": [
      "[[1 2 3]\n",
      " [4 5 6]]\n",
      "1\n",
      "6\n",
      "[3 6]\n",
      "[4 5 6]\n"
     ]
    },
    {
     "data": {
      "text/plain": "array([[ 2,  4,  6],\n       [ 8, 10, 12]])"
     },
     "execution_count": 14,
     "metadata": {},
     "output_type": "execute_result"
    }
   ],
   "source": [
    "## Example 5 - matrix and operators\n",
    "\n",
    "D = np.array([(1,2,3), (4,5,6)])  # Create a 2x3 array (2 rows and 3 columns)\n",
    "print(D)                          # output the array\n",
    "\n",
    "print(D[0,0])                     # extract and output the first row, first column value\n",
    "print(D[1,2])                     # extract and output the second row, third column value\n",
    "print(D[:,2])                     # extract and output all rows and the third column\n",
    "print(D[1,:])                     # extract and output the first row and all columns\n",
    "\n",
    "Dtimes2 = D*2                     # multiple the array D piecewise times 2\n",
    "Dtimes2"
   ],
   "metadata": {
    "collapsed": false,
    "pycharm": {
     "name": "#%%\n"
    }
   }
  },
  {
   "cell_type": "code",
   "execution_count": 30,
   "outputs": [
    {
     "name": "stdout",
     "output_type": "stream",
     "text": [
      "[3 5]\n"
     ]
    },
    {
     "data": {
      "text/plain": "array([[ 2,  4],\n       [ 6,  8],\n       [10, 12]])"
     },
     "execution_count": 30,
     "metadata": {},
     "output_type": "execute_result"
    }
   ],
   "source": [
    "#Exercise 4: Create a variable named d that is a 3x2 array and has these values:\n",
    "#    2    4\n",
    "#\n",
    "#    6    8\n",
    "\n",
    "#   10   12\n",
    "#\n",
    "#Extract and output the 2nd row.  Add 3 to each value and output.\n",
    "\n",
    "d = np.array([(-1,1), (3,5), (7,9)])\n",
    "print(d[1])\n",
    "\n",
    "dplus3 = d + 3\n",
    "dplus3"
   ],
   "metadata": {
    "collapsed": false,
    "pycharm": {
     "name": "#%%\n"
    }
   }
  },
  {
   "cell_type": "markdown",
   "source": [
    "Question 1: My name is Melanie Schwartz. I am especially excited for this class because recently I completed a 22 week Full Stack Web Development\n",
    "bootcamp. With that being said, programming is on my mind and I am glad to be adding another language to my tool box. Data Science intrigues me\n",
    "because I consider myself to seek \"fact over feeling\", which data analysis supports. My academic journey has had its ups and downs, as I was previously\n",
    "a Computer Science major and frankly, I struggled. This led me to take a semester off to pursue the web development boot camp to get a more hands on\n",
    "understanding of computer programming. I am back this semester as a Multidisciplinary Studies major and am expected to graduate in Spring 2023.\n",
    "\n",
    "Question 2: After setting up my IDE and a few tutorials on working with Jupyter, this lesson took me about an hour. The examples were very\n",
    "straight forward and because of previous programming experience I was able to grasp these concepts (the matrices were the trickiest part)."
   ],
   "metadata": {
    "collapsed": false,
    "pycharm": {
     "name": "#%% md\n"
    }
   }
  }
 ],
 "metadata": {
  "kernelspec": {
   "display_name": "Python 3",
   "language": "python",
   "name": "python3"
  },
  "language_info": {
   "codemirror_mode": {
    "name": "ipython",
    "version": 2
   },
   "file_extension": ".py",
   "mimetype": "text/x-python",
   "name": "python",
   "nbconvert_exporter": "python",
   "pygments_lexer": "ipython2",
   "version": "2.7.6"
  }
 },
 "nbformat": 4,
 "nbformat_minor": 0
}