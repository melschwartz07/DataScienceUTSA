{
 "cells": [
  {
   "cell_type": "markdown",
   "metadata": {
    "pycharm": {
     "name": "#%% md\n"
    }
   },
   "source": [
    "## Sleep Diary input ##\n",
    "\n",
    "Creating your own data and analyzing it provides insight that canned data can't provide.\n",
    "\n",
    "For this reason, you were to keep a sleep diary early in the semester, and now you're going to input it so that, for future labs, it can be consolidated with other students to form a large cohort.\n",
    "\n",
    "Enter your own sleep diary using these instructions, and submit on Blackboard.\n",
    "\n",
    "We're going to build our own data, and so we need to include the headers.\n",
    "\n"
   ]
  },
  {
   "cell_type": "code",
   "execution_count": 1,
   "metadata": {
    "pycharm": {
     "name": "#%%\n"
    }
   },
   "outputs": [
    {
     "data": {
      "text/plain": "   Wake-up Date  Day caffeine?    (1 = Yes, 0 = No)  \\\n0     8/25/2022                                   1   \n1     8/26/2022                                   1   \n2     8/27/2022                                   1   \n3     8/28/2022                                   1   \n4     8/29/2022                                   1   \n5     8/30/2022                                   1   \n6     8/31/2022                                   1   \n7      9/1/2022                                   1   \n8      9/2/2022                                   1   \n9      9/3/2022                                   1   \n10     9/4/2022                                   1   \n11     9/5/2022                                   1   \n12     9/6/2022                                   1   \n13     9/7/2022                                   1   \n14     9/8/2022                                   1   \n15     9/9/2022                                   1   \n16    9/10/2022                                   1   \n17    9/11/2022                                   1   \n18    9/12/2022                                   1   \n19    9/13/2022                                   1   \n20    9/14/2022                                   1   \n\n    Night caffeine?  (1 = Yes, 0 = No)  Minutes of day napping  \\\n0                                    0                       0   \n1                                    1                       0   \n2                                    0                       0   \n3                                    0                       0   \n4                                    0                       0   \n5                                    0                       0   \n6                                    0                      60   \n7                                    1                       0   \n8                                    0                       0   \n9                                    0                      25   \n10                                   0                       0   \n11                                   0                       0   \n12                                   1                       0   \n13                                   1                       0   \n14                                   0                       0   \n15                                   0                       0   \n16                                   0                       0   \n17                                   0                       0   \n18                                   0                       0   \n19                                   0                       0   \n20                                   0                       0   \n\n    Minutes to fall asleep  Bed-time       (24-hour time)  \\\n0                       15                          -2.50   \n1                       15                          -2.00   \n2                       10                          -1.00   \n3                       10                          -1.00   \n4                       10                           0.00   \n5                       10                          -0.25   \n6                       10                          -1.00   \n7                       10                          -0.75   \n8                       15                          -1.50   \n9                       25                           0.00   \n10                      15                          -1.00   \n11                      10                          -1.50   \n12                      15                          -2.00   \n13                      20                          -1.25   \n14                      20                          -1.25   \n15                      25                          -1.00   \n16                      20                           0.00   \n17                      15                          -0.50   \n18                      20                          -1.00   \n19                      15                          -1.25   \n20                      15                          -1.50   \n\n    Wake-up time           (24 -hour time)  \\\n0                                     7.50   \n1                                     7.50   \n2                                     9.00   \n3                                     8.50   \n4                                     7.50   \n5                                     7.50   \n6                                     7.50   \n7                                     7.50   \n8                                     7.50   \n9                                     9.25   \n10                                    9.50   \n11                                    7.50   \n12                                    7.50   \n13                                    7.50   \n14                                    7.50   \n15                                    7.50   \n16                                   10.25   \n17                                   10.00   \n18                                    7.50   \n19                                    7.50   \n20                                    7.50   \n\n    Alarm?               (1 = Yes, 0 = No)  minutes awakened during night  SSI  \n0                                        1                             20    2  \n1                                        1                              0    2  \n2                                        0                              0    2  \n3                                        0                              0    2  \n4                                        1                              0    2  \n5                                        1                             10    2  \n6                                        1                              0    2  \n7                                        1                              0    2  \n8                                        1                             10    2  \n9                                        1                             10    2  \n10                                       1                              0    2  \n11                                       1                              0    2  \n12                                       1                             15    2  \n13                                       1                              0    2  \n14                                       1                              0    1  \n15                                       1                              0    1  \n16                                       1                             15    1  \n17                                       1                              0    2  \n18                                       1                              0    2  \n19                                       1                              0    2  \n20                                       1                             10    2  ",
      "text/html": "<div>\n<style scoped>\n    .dataframe tbody tr th:only-of-type {\n        vertical-align: middle;\n    }\n\n    .dataframe tbody tr th {\n        vertical-align: top;\n    }\n\n    .dataframe thead th {\n        text-align: right;\n    }\n</style>\n<table border=\"1\" class=\"dataframe\">\n  <thead>\n    <tr style=\"text-align: right;\">\n      <th></th>\n      <th>Wake-up Date</th>\n      <th>Day caffeine?    (1 = Yes, 0 = No)</th>\n      <th>Night caffeine?  (1 = Yes, 0 = No)</th>\n      <th>Minutes of day napping</th>\n      <th>Minutes to fall asleep</th>\n      <th>Bed-time       (24-hour time)</th>\n      <th>Wake-up time           (24 -hour time)</th>\n      <th>Alarm?               (1 = Yes, 0 = No)</th>\n      <th>minutes awakened during night</th>\n      <th>SSI</th>\n    </tr>\n  </thead>\n  <tbody>\n    <tr>\n      <th>0</th>\n      <td>8/25/2022</td>\n      <td>1</td>\n      <td>0</td>\n      <td>0</td>\n      <td>15</td>\n      <td>-2.50</td>\n      <td>7.50</td>\n      <td>1</td>\n      <td>20</td>\n      <td>2</td>\n    </tr>\n    <tr>\n      <th>1</th>\n      <td>8/26/2022</td>\n      <td>1</td>\n      <td>1</td>\n      <td>0</td>\n      <td>15</td>\n      <td>-2.00</td>\n      <td>7.50</td>\n      <td>1</td>\n      <td>0</td>\n      <td>2</td>\n    </tr>\n    <tr>\n      <th>2</th>\n      <td>8/27/2022</td>\n      <td>1</td>\n      <td>0</td>\n      <td>0</td>\n      <td>10</td>\n      <td>-1.00</td>\n      <td>9.00</td>\n      <td>0</td>\n      <td>0</td>\n      <td>2</td>\n    </tr>\n    <tr>\n      <th>3</th>\n      <td>8/28/2022</td>\n      <td>1</td>\n      <td>0</td>\n      <td>0</td>\n      <td>10</td>\n      <td>-1.00</td>\n      <td>8.50</td>\n      <td>0</td>\n      <td>0</td>\n      <td>2</td>\n    </tr>\n    <tr>\n      <th>4</th>\n      <td>8/29/2022</td>\n      <td>1</td>\n      <td>0</td>\n      <td>0</td>\n      <td>10</td>\n      <td>0.00</td>\n      <td>7.50</td>\n      <td>1</td>\n      <td>0</td>\n      <td>2</td>\n    </tr>\n    <tr>\n      <th>5</th>\n      <td>8/30/2022</td>\n      <td>1</td>\n      <td>0</td>\n      <td>0</td>\n      <td>10</td>\n      <td>-0.25</td>\n      <td>7.50</td>\n      <td>1</td>\n      <td>10</td>\n      <td>2</td>\n    </tr>\n    <tr>\n      <th>6</th>\n      <td>8/31/2022</td>\n      <td>1</td>\n      <td>0</td>\n      <td>60</td>\n      <td>10</td>\n      <td>-1.00</td>\n      <td>7.50</td>\n      <td>1</td>\n      <td>0</td>\n      <td>2</td>\n    </tr>\n    <tr>\n      <th>7</th>\n      <td>9/1/2022</td>\n      <td>1</td>\n      <td>1</td>\n      <td>0</td>\n      <td>10</td>\n      <td>-0.75</td>\n      <td>7.50</td>\n      <td>1</td>\n      <td>0</td>\n      <td>2</td>\n    </tr>\n    <tr>\n      <th>8</th>\n      <td>9/2/2022</td>\n      <td>1</td>\n      <td>0</td>\n      <td>0</td>\n      <td>15</td>\n      <td>-1.50</td>\n      <td>7.50</td>\n      <td>1</td>\n      <td>10</td>\n      <td>2</td>\n    </tr>\n    <tr>\n      <th>9</th>\n      <td>9/3/2022</td>\n      <td>1</td>\n      <td>0</td>\n      <td>25</td>\n      <td>25</td>\n      <td>0.00</td>\n      <td>9.25</td>\n      <td>1</td>\n      <td>10</td>\n      <td>2</td>\n    </tr>\n    <tr>\n      <th>10</th>\n      <td>9/4/2022</td>\n      <td>1</td>\n      <td>0</td>\n      <td>0</td>\n      <td>15</td>\n      <td>-1.00</td>\n      <td>9.50</td>\n      <td>1</td>\n      <td>0</td>\n      <td>2</td>\n    </tr>\n    <tr>\n      <th>11</th>\n      <td>9/5/2022</td>\n      <td>1</td>\n      <td>0</td>\n      <td>0</td>\n      <td>10</td>\n      <td>-1.50</td>\n      <td>7.50</td>\n      <td>1</td>\n      <td>0</td>\n      <td>2</td>\n    </tr>\n    <tr>\n      <th>12</th>\n      <td>9/6/2022</td>\n      <td>1</td>\n      <td>1</td>\n      <td>0</td>\n      <td>15</td>\n      <td>-2.00</td>\n      <td>7.50</td>\n      <td>1</td>\n      <td>15</td>\n      <td>2</td>\n    </tr>\n    <tr>\n      <th>13</th>\n      <td>9/7/2022</td>\n      <td>1</td>\n      <td>1</td>\n      <td>0</td>\n      <td>20</td>\n      <td>-1.25</td>\n      <td>7.50</td>\n      <td>1</td>\n      <td>0</td>\n      <td>2</td>\n    </tr>\n    <tr>\n      <th>14</th>\n      <td>9/8/2022</td>\n      <td>1</td>\n      <td>0</td>\n      <td>0</td>\n      <td>20</td>\n      <td>-1.25</td>\n      <td>7.50</td>\n      <td>1</td>\n      <td>0</td>\n      <td>1</td>\n    </tr>\n    <tr>\n      <th>15</th>\n      <td>9/9/2022</td>\n      <td>1</td>\n      <td>0</td>\n      <td>0</td>\n      <td>25</td>\n      <td>-1.00</td>\n      <td>7.50</td>\n      <td>1</td>\n      <td>0</td>\n      <td>1</td>\n    </tr>\n    <tr>\n      <th>16</th>\n      <td>9/10/2022</td>\n      <td>1</td>\n      <td>0</td>\n      <td>0</td>\n      <td>20</td>\n      <td>0.00</td>\n      <td>10.25</td>\n      <td>1</td>\n      <td>15</td>\n      <td>1</td>\n    </tr>\n    <tr>\n      <th>17</th>\n      <td>9/11/2022</td>\n      <td>1</td>\n      <td>0</td>\n      <td>0</td>\n      <td>15</td>\n      <td>-0.50</td>\n      <td>10.00</td>\n      <td>1</td>\n      <td>0</td>\n      <td>2</td>\n    </tr>\n    <tr>\n      <th>18</th>\n      <td>9/12/2022</td>\n      <td>1</td>\n      <td>0</td>\n      <td>0</td>\n      <td>20</td>\n      <td>-1.00</td>\n      <td>7.50</td>\n      <td>1</td>\n      <td>0</td>\n      <td>2</td>\n    </tr>\n    <tr>\n      <th>19</th>\n      <td>9/13/2022</td>\n      <td>1</td>\n      <td>0</td>\n      <td>0</td>\n      <td>15</td>\n      <td>-1.25</td>\n      <td>7.50</td>\n      <td>1</td>\n      <td>0</td>\n      <td>2</td>\n    </tr>\n    <tr>\n      <th>20</th>\n      <td>9/14/2022</td>\n      <td>1</td>\n      <td>0</td>\n      <td>0</td>\n      <td>15</td>\n      <td>-1.50</td>\n      <td>7.50</td>\n      <td>1</td>\n      <td>10</td>\n      <td>2</td>\n    </tr>\n  </tbody>\n</table>\n</div>"
     },
     "execution_count": 1,
     "metadata": {},
     "output_type": "execute_result"
    }
   ],
   "source": [
    "import pandas as pd \n",
    "import matplotlib.pyplot as plt \n",
    "\n",
    "# just copy these\n",
    "column_titles = [\"Wake-up Date\",\"Day caffeine?    (1 = Yes, 0 = No)\",\n",
    "                 \"Night caffeine?  (1 = Yes, 0 = No)\",\"Minutes of day napping\",\n",
    "                 \"Minutes to fall asleep\",\"Bed-time       (24-hour time)\",\n",
    "                 \"Wake-up time           (24 -hour time)\",\n",
    "                 \"Alarm?               (1 = Yes, 0 = No)\",\n",
    "                 \"minutes awakened during night\",\"SSI\"]\n",
    "\n",
    "# now enter each day's data in it's own row\n",
    "# each row should have a [ ] around it, followed by a comma (,)\n",
    "# for each row, enter the values from your sleep diary tracking sheet, IN ORDER.\n",
    "# as they are numbers, there is no need to put \" around them.\n",
    "# Time and dates are always difficult to program with, because they are not base 10, so we \n",
    "# will enter our bed and wake times in hours.min format, and have to work with that.\n",
    "\n",
    "data = [[\"8/25/2022\", 1, 0, 0, 15, -2.5, 7.5, 1, 20, 2],\n",
    "        [\"8/26/2022\", 1, 1, 0, 15, -2, 7.5, 1, 0, 2],\n",
    "        [\"8/27/2022\", 1, 0, 0, 10, -1, 9, 0, 0, 2],\n",
    "        [\"8/28/2022\", 1, 0, 0, 10, -1, 8.5, 0, 0, 2],\n",
    "        [\"8/29/2022\", 1, 0, 0, 10, 0, 7.5, 1, 0, 2],\n",
    "        [\"8/30/2022\", 1, 0, 0, 10, -.25, 7.5, 1, 10, 2],\n",
    "        [\"8/31/2022\", 1, 0, 60, 10, -1, 7.5, 1, 0, 2],\n",
    "        [\"9/1/2022\", 1, 1, 0, 10, -.75, 7.5, 1, 0, 2],\n",
    "        [\"9/2/2022\", 1, 0, 0, 15, -1.5, 7.5, 1, 10, 2],\n",
    "        [\"9/3/2022\", 1, 0, 25, 25, 0, 9.25, 1, 10, 2],\n",
    "        [\"9/4/2022\", 1, 0, 0, 15, -1, 9.5, 1, 0, 2],\n",
    "        [\"9/5/2022\", 1, 0, 0, 10, -1.5, 7.5, 1, 0, 2],\n",
    "        [\"9/6/2022\", 1, 1, 0, 15, -2, 7.5, 1, 15, 2],\n",
    "        [\"9/7/2022\", 1, 1, 0, 20, -1.25, 7.5, 1, 0, 2],\n",
    "        [\"9/8/2022\", 1, 0, 0, 20, -1.25, 7.5, 1, 0, 1],\n",
    "        [\"9/9/2022\", 1, 0, 0, 25, -1, 7.5, 1, 0, 1],\n",
    "        [\"9/10/2022\", 1, 0, 0, 20, 0, 10.25, 1, 15, 1],\n",
    "        [\"9/11/2022\", 1, 0, 0, 15, -.5, 10, 1, 0, 2],\n",
    "        [\"9/12/2022\", 1, 0, 0, 20, -1, 7.5, 1, 0, 2],\n",
    "        [\"9/13/2022\", 1, 0, 0, 15, -1.25, 7.5, 1, 0, 2],\n",
    "        [\"9/14/2022\", 1, 0, 0, 15, -1.5, 7.5, 1, 10, 2]]\n",
    "\n",
    "dfSleepDiary = pd.DataFrame(data=data,columns=column_titles)\n",
    "\n",
    "dfSleepDiary\n",
    "\n",
    "\n"
   ]
  },
  {
   "cell_type": "markdown",
   "metadata": {
    "pycharm": {
     "name": "#%% md\n"
    }
   },
   "source": [
    "## Saving the file ##\n",
    "\n",
    "We want to be able to work with this data again and again, without retyping it, so we want to save it to a csv (comma delimited file).\n",
    "\n",
    "To do that, we need to work with another library, _csv_.\n"
   ]
  },
  {
   "cell_type": "code",
   "execution_count": 5,
   "metadata": {
    "pycharm": {
     "name": "#%%\n"
    }
   },
   "outputs": [],
   "source": [
    "import csv\n",
    "\n",
    "# fill in with your information in the file name\n",
    "\n",
    "filename = \"Schwartz-Melanie-female.csv\"\n",
    "\n",
    "# using the column headers we had before\n",
    "\n",
    "# writing to the csv file\n",
    "with open(filename,'w') as csvfile:\n",
    "    # creating a csv writer object\n",
    "    csvwriter = csv.writer(csvfile)\n",
    "    \n",
    "    # writing the column titles\n",
    "    csvwriter.writerow(column_titles)\n",
    "    \n",
    "    # writing the data\n",
    "    csvwriter.writerows(data)\n",
    "    \n",
    "    "
   ]
  },
  {
   "cell_type": "markdown",
   "metadata": {
    "pycharm": {
     "name": "#%% md\n"
    }
   },
   "source": [
    " Remember where this file is, as you will use it for Lab 1."
   ]
  },
  {
   "cell_type": "code",
   "execution_count": null,
   "metadata": {
    "pycharm": {
     "name": "#%%\n"
    }
   },
   "outputs": [],
   "source": []
  }
 ],
 "metadata": {
  "kernelspec": {
   "display_name": "Python 3",
   "language": "python",
   "name": "python3"
  },
  "language_info": {
   "codemirror_mode": {
    "name": "ipython",
    "version": 3
   },
   "file_extension": ".py",
   "mimetype": "text/x-python",
   "name": "python",
   "nbconvert_exporter": "python",
   "pygments_lexer": "ipython3",
   "version": "3.7.7"
  }
 },
 "nbformat": 4,
 "nbformat_minor": 4
}