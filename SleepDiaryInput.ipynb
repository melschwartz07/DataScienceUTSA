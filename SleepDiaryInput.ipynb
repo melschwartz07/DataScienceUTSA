{
 "cells": [
  {
   "cell_type": "markdown",
   "metadata": {
    "pycharm": {
     "name": "#%% md\n"
    }
   },
   "source": [
    "## Sleep Diary input ##\n",
    "\n",
    "Creating your own data and analyzing it provides insight that canned data can't provide.\n",
    "\n",
    "For this reason, you were to keep a sleep diary early in the semester, and now you're going to input it so that, for future labs, it can be consolidated with other students to form a large cohort.\n",
    "\n",
    "Enter your own sleep diary using these instructions, and submit on Blackboard.\n",
    "\n",
    "We're going to build our own data, and so we need to include the headers.\n",
    "\n"
   ]
  },
  {
   "cell_type": "code",
   "execution_count": null,
   "metadata": {
    "pycharm": {
     "name": "#%%\n"
    }
   },
   "outputs": [],
   "source": [
    "import pandas as pd \n",
    "import matplotlib.pyplot as plt \n",
    "\n",
    "# just copy these\n",
    "column_titles = [\"Wake-up Date\",\"Day caffeine?    (1 = Yes, 0 = No)\",\n",
    "                 \"Night caffeine?  (1 = Yes, 0 = No)\",\"Minutes of day napping\",\n",
    "                 \"Minutes to fall asleep\",\"Bed-time       (24-hour time)\",\n",
    "                 \"Wake-up time           (24 -hour time)\",\n",
    "                 \"Alarm?               (1 = Yes, 0 = No)\",\n",
    "                 \"minutes awakened during night\",\"SSI\"]\n",
    "\n",
    "# now enter each day's data in it's own row\n",
    "# each row should have a [ ] around it, followed by a comma (,)\n",
    "# for each row, enter the values from your sleep diary tracking sheet, IN ORDER.\n",
    "# as they are numbers, there is no need to put \" around them.\n",
    "# Time and dates are always difficult to program with, because they are not base 10, so we \n",
    "# will enter our bed and wake times in hours.min format, and have to work with that.\n",
    "\n",
    "data = [[\"8/25/2022\", 1, 0, 0, 15, 2125, 725, 1, 20, 2],\n",
    "        [\"8/26/2022\", 1, 1, 0, 15, 2200, 720, 1, 0, 2],\n",
    "        [\"8/27/2022\", 1, 0, 0, 10, 2300, 900, 0, 0, 2],\n",
    "        [\"8/28/2022\", 1, 0, 0, 10, 2300, 830, 0, 0, 2],\n",
    "        [\"8/29/2022\", 1, 0, 0, 10, 0, 730, 1, 0, 2],\n",
    "        [\"8/30/2022\", 1, 0, 0, 10, 2345, 730, 1, 10, 2],\n",
    "        [\"8/31/2022\", 1, 0, 60, 10, 2300, 730, 1, 0, 2],\n",
    "        [\"9/1/2022\", 1, 1, 0, 10, 2315, 730, 1, 0, 2],\n",
    "        [\"9/2/2022\", 1, 0, 0, 15, 2220, 730, 1, 10, 2],\n",
    "        [\"9/3/2022\", 1, 0, 25, 25, 0, 915, 1, 10, 2],\n",
    "        [\"9/4/2022\", 1, 0, 0, 15, 2300, 930, 1, 0, 2],\n",
    "        [\"9/5/2022\", 1, 0, 0, 10, 2230, 730, 1, 0, 2],\n",
    "        [\"9/6/2022\", 1, 1, 0, 15, 2200, 730, 1, 15, 2],\n",
    "        [\"9/7/2022\", 1, 1, 0, 20, 2245, 730, 1, 0, 2],\n",
    "        [\"9/8/2022\", 1, 0, 0, 20, 2245, 730, 1, 0, 1],\n",
    "        [\"9/9/2022\", 1, 0, 0, 25, 2300, 730, 1, 0, 1],\n",
    "        [\"9/10/2022\", 1, 0, 0, 20, 0, 1015, 1, 15, 1],\n",
    "        [\"9/11/2022\", 1, 0, 0, 15, 2330, 1000, 1, 0, 2],\n",
    "        [\"9/12/2022\", 1, 0, 0, 20, 2300, 730, 1, 0, 2],\n",
    "        [\"9/13/2022\", 1, 0, 0, 15, 2245, 730, 1, 0, 2],\n",
    "        [\"9/14/2022\", 1, 0, 0, 15, 2230, 730, 1, 10, 2]]\n",
    "\n",
    "dfSleepDiary = pd.DataFrame(data=data,columns=column_titles)\n",
    "\n",
    "dfSleepDiary\n",
    "\n",
    "\n"
   ]
  },
  {
   "cell_type": "markdown",
   "metadata": {
    "pycharm": {
     "name": "#%% md\n"
    }
   },
   "source": [
    "## Saving the file ##\n",
    "\n",
    "We want to be able to work with this data again and again, without retyping it, so we want to save it to a csv (comma delimited file).\n",
    "\n",
    "To do that, we need to work with another library, _csv_.\n"
   ]
  },
  {
   "cell_type": "code",
   "execution_count": null,
   "metadata": {
    "pycharm": {
     "name": "#%%\n"
    }
   },
   "outputs": [],
   "source": [
    "import csv\n",
    "\n",
    "# fill in with your information in the file name\n",
    "\n",
    "filename = \"yourlastname_yourfirstname_yourgender.csv\"\n",
    "\n",
    "# using the column headers we had before\n",
    "\n",
    "# writing to the csv file\n",
    "with open(filename,'w') as csvfile:\n",
    "    # creating a csv writer object\n",
    "    csvwriter = csv.writer(csvfile)\n",
    "    \n",
    "    # writing the column titles\n",
    "    csvwriter.writerow(column_titles)\n",
    "    \n",
    "    # writing the data\n",
    "    csvwriter.writerows(data)\n",
    "    \n",
    "    "
   ]
  },
  {
   "cell_type": "markdown",
   "metadata": {
    "pycharm": {
     "name": "#%% md\n"
    }
   },
   "source": [
    " Remember where this file is, as you will use it for Lab 1."
   ]
  },
  {
   "cell_type": "code",
   "execution_count": null,
   "metadata": {
    "pycharm": {
     "name": "#%%\n"
    }
   },
   "outputs": [],
   "source": []
  }
 ],
 "metadata": {
  "kernelspec": {
   "display_name": "Python 3",
   "language": "python",
   "name": "python3"
  },
  "language_info": {
   "codemirror_mode": {
    "name": "ipython",
    "version": 3
   },
   "file_extension": ".py",
   "mimetype": "text/x-python",
   "name": "python",
   "nbconvert_exporter": "python",
   "pygments_lexer": "ipython3",
   "version": "3.7.7"
  }
 },
 "nbformat": 4,
 "nbformat_minor": 4
}