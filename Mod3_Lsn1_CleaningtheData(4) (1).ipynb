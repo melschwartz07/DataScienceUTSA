{
 "cells": [
  {
   "cell_type": "markdown",
   "metadata": {
    "colab_type": "text",
    "id": "_0XnhRdfRKTw",
    "pycharm": {
     "name": "#%% md\n"
    }
   },
   "source": [
    "# Module 3, Lesson 1 #\n",
    "\n",
    "# Cleaning the Data  #\n",
    "\n",
    "You might be asking - \"I've seen LOTS of languages out there - why Python?\" - Great question.. and in this lesson you'll learn one of Python's many strengths - it works with missing data!  Many high end languages just cannot handle missing values, but Python does.  So even after you develop your high end model in another language, you might still have to work with Python to clean up your data to update your model!\n",
    "\n",
    "## Data Sourcing ##\n",
    "Data comes 2 ways - you collect it yourself, which, in some situations, can be ideal - you know what the assumptions were made when designing the data collection, but it is also a ton of hard work, and you might not have the resources.  But you know how clean the data is.  The other way you can get data is from someone else, or multiple someones, that is, you can mine their data.  When that happens, you need to edit it to find the missing data, and then make the tough call whether to delete or edit the data.  We've already talked about the ethics of editing data - are we introducing biases?\n",
    "You will also need to edit each dataset so that the parameters are similar - if one is collected in inches and yards, and another is in centimeters and meters, you can't directly compare them without doing a conversion on one.  \n",
    "\n",
    "Early on, you'll want to define some sort of data dictionary, to make sure that all your consolidated data is consistent.  In this lesson, we will find empty fields, and either delete it if too much is missing in a single record, or replace it with a mean/median.\n",
    "\n",
    "### Data for this lesson ###\n",
    "First, let's talk about the new data set, from Kaggle.  It's a Russian real estate data from one of their premier banks.  It was used in a Data Science competition to predict the price of specific apartments based on lots of parameters. It has 2 sets of data, a training set and a test set, both of which are posted on Blackboard.  \n",
    "\n",
    "### Assignment ###\n",
    "Create your own Jupyter Notebook, download the data files from BB and put them in the appropriate directory, type all of the examples and exercises into it.  Run each section appropriately."
   ]
  },
  {
   "cell_type": "markdown",
   "metadata": {
    "colab_type": "text",
    "id": "GU9QeuGiR7JQ",
    "pycharm": {
     "name": "#%% md\n"
    }
   },
   "source": [
    "We import the two libraries we used last time (pandas and numpy) but add two more - seaborn and matplotlib - both are graphing/visualization libraries.\n",
    "We define a default figure size.\n",
    "\n",
    "__Initialization:__"
   ]
  },
  {
   "cell_type": "code",
   "execution_count": 1,
   "metadata": {
    "colab": {},
    "colab_type": "code",
    "id": "XoJz4qlGfS-9",
    "pycharm": {
     "name": "#%%\n"
    }
   },
   "outputs": [],
   "source": [
    "# Setup\n",
    "# import packages\n",
    "import pandas as pd\n",
    "import numpy as np\n",
    "import seaborn as sns\n",
    "\n",
    "import matplotlib as plt\n",
    "import matplotlib.mlab as mlab\n",
    "import matplotlib\n",
    "\n",
    "plt.style.use('ggplot')\n",
    "from matplotlib.pyplot import figure\n",
    "\n",
    "matplotlib.rcParams['figure.figsize']=(12,8)\n"
   ]
  },
  {
   "cell_type": "markdown",
   "metadata": {
    "colab_type": "text",
    "id": "FQd_-iDcScGg",
    "pycharm": {
     "name": "#%% md\n"
    }
   },
   "source": [
    "Making sure that the train data set is in the right directory, we read it and get an understanding of the structure.\n",
    "\n",
    "__Example 1:__"
   ]
  },
  {
   "cell_type": "code",
   "execution_count": 2,
   "metadata": {
    "colab": {
     "base_uri": "https://localhost:8080/",
     "height": 235
    },
    "colab_type": "code",
    "id": "s8wqN3_AgMHN",
    "outputId": "1b89c61f-78be-4b05-e7f9-f80e3d6131a5",
    "pycharm": {
     "name": "#%%\n"
    }
   },
   "outputs": [
    {
     "name": "stdout",
     "output_type": "stream",
     "text": [
      "<class 'pandas.core.frame.DataFrame'>\n",
      "RangeIndex: 30471 entries, 0 to 30470\n",
      "Data columns (total 292 columns):\n",
      " #   Column                                 Dtype  \n",
      "---  ------                                 -----  \n",
      " 0   id                                     int64  \n",
      " 1   timestamp                              object \n",
      " 2   full_sq                                int64  \n",
      " 3   life_sq                                float64\n",
      " 4   floor                                  float64\n",
      " 5   max_floor                              float64\n",
      " 6   material                               float64\n",
      " 7   build_year                             float64\n",
      " 8   num_room                               float64\n",
      " 9   kitch_sq                               float64\n",
      " 10  state                                  float64\n",
      " 11  product_type                           object \n",
      " 12  sub_area                               object \n",
      " 13  area_m                                 float64\n",
      " 14  raion_popul                            int64  \n",
      " 15  green_zone_part                        float64\n",
      " 16  indust_part                            float64\n",
      " 17  children_preschool                     int64  \n",
      " 18  preschool_quota                        float64\n",
      " 19  preschool_education_centers_raion      int64  \n",
      " 20  children_school                        int64  \n",
      " 21  school_quota                           float64\n",
      " 22  school_education_centers_raion         int64  \n",
      " 23  school_education_centers_top_20_raion  int64  \n",
      " 24  hospital_beds_raion                    float64\n",
      " 25  healthcare_centers_raion               int64  \n",
      " 26  university_top_20_raion                int64  \n",
      " 27  sport_objects_raion                    int64  \n",
      " 28  additional_education_raion             int64  \n",
      " 29  culture_objects_top_25                 object \n",
      " 30  culture_objects_top_25_raion           int64  \n",
      " 31  shopping_centers_raion                 int64  \n",
      " 32  office_raion                           int64  \n",
      " 33  thermal_power_plant_raion              object \n",
      " 34  incineration_raion                     object \n",
      " 35  oil_chemistry_raion                    object \n",
      " 36  radiation_raion                        object \n",
      " 37  railroad_terminal_raion                object \n",
      " 38  big_market_raion                       object \n",
      " 39  nuclear_reactor_raion                  object \n",
      " 40  detention_facility_raion               object \n",
      " 41  full_all                               int64  \n",
      " 42  male_f                                 int64  \n",
      " 43  female_f                               int64  \n",
      " 44  young_all                              int64  \n",
      " 45  young_male                             int64  \n",
      " 46  young_female                           int64  \n",
      " 47  work_all                               int64  \n",
      " 48  work_male                              int64  \n",
      " 49  work_female                            int64  \n",
      " 50  ekder_all                              int64  \n",
      " 51  ekder_male                             int64  \n",
      " 52  ekder_female                           int64  \n",
      " 53  0_6_all                                int64  \n",
      " 54  0_6_male                               int64  \n",
      " 55  0_6_female                             int64  \n",
      " 56  7_14_all                               int64  \n",
      " 57  7_14_male                              int64  \n",
      " 58  7_14_female                            int64  \n",
      " 59  0_17_all                               int64  \n",
      " 60  0_17_male                              int64  \n",
      " 61  0_17_female                            int64  \n",
      " 62  16_29_all                              int64  \n",
      " 63  16_29_male                             int64  \n",
      " 64  16_29_female                           int64  \n",
      " 65  0_13_all                               int64  \n",
      " 66  0_13_male                              int64  \n",
      " 67  0_13_female                            int64  \n",
      " 68  raion_build_count_with_material_info   float64\n",
      " 69  build_count_block                      float64\n",
      " 70  build_count_wood                       float64\n",
      " 71  build_count_frame                      float64\n",
      " 72  build_count_brick                      float64\n",
      " 73  build_count_monolith                   float64\n",
      " 74  build_count_panel                      float64\n",
      " 75  build_count_foam                       float64\n",
      " 76  build_count_slag                       float64\n",
      " 77  build_count_mix                        float64\n",
      " 78  raion_build_count_with_builddate_info  float64\n",
      " 79  build_count_before_1920                float64\n",
      " 80  build_count_1921-1945                  float64\n",
      " 81  build_count_1946-1970                  float64\n",
      " 82  build_count_1971-1995                  float64\n",
      " 83  build_count_after_1995                 float64\n",
      " 84  ID_metro                               int64  \n",
      " 85  metro_min_avto                         float64\n",
      " 86  metro_km_avto                          float64\n",
      " 87  metro_min_walk                         float64\n",
      " 88  metro_km_walk                          float64\n",
      " 89  kindergarten_km                        float64\n",
      " 90  school_km                              float64\n",
      " 91  park_km                                float64\n",
      " 92  green_zone_km                          float64\n",
      " 93  industrial_km                          float64\n",
      " 94  water_treatment_km                     float64\n",
      " 95  cemetery_km                            float64\n",
      " 96  incineration_km                        float64\n",
      " 97  railroad_station_walk_km               float64\n",
      " 98  railroad_station_walk_min              float64\n",
      " 99  ID_railroad_station_walk               float64\n",
      " 100 railroad_station_avto_km               float64\n",
      " 101 railroad_station_avto_min              float64\n",
      " 102 ID_railroad_station_avto               int64  \n",
      " 103 public_transport_station_km            float64\n",
      " 104 public_transport_station_min_walk      float64\n",
      " 105 water_km                               float64\n",
      " 106 water_1line                            object \n",
      " 107 mkad_km                                float64\n",
      " 108 ttk_km                                 float64\n",
      " 109 sadovoe_km                             float64\n",
      " 110 bulvar_ring_km                         float64\n",
      " 111 kremlin_km                             float64\n",
      " 112 big_road1_km                           float64\n",
      " 113 ID_big_road1                           int64  \n",
      " 114 big_road1_1line                        object \n",
      " 115 big_road2_km                           float64\n",
      " 116 ID_big_road2                           int64  \n",
      " 117 railroad_km                            float64\n",
      " 118 railroad_1line                         object \n",
      " 119 zd_vokzaly_avto_km                     float64\n",
      " 120 ID_railroad_terminal                   int64  \n",
      " 121 bus_terminal_avto_km                   float64\n",
      " 122 ID_bus_terminal                        int64  \n",
      " 123 oil_chemistry_km                       float64\n",
      " 124 nuclear_reactor_km                     float64\n",
      " 125 radiation_km                           float64\n",
      " 126 power_transmission_line_km             float64\n",
      " 127 thermal_power_plant_km                 float64\n",
      " 128 ts_km                                  float64\n",
      " 129 big_market_km                          float64\n",
      " 130 market_shop_km                         float64\n",
      " 131 fitness_km                             float64\n",
      " 132 swim_pool_km                           float64\n",
      " 133 ice_rink_km                            float64\n",
      " 134 stadium_km                             float64\n",
      " 135 basketball_km                          float64\n",
      " 136 hospice_morgue_km                      float64\n",
      " 137 detention_facility_km                  float64\n",
      " 138 public_healthcare_km                   float64\n",
      " 139 university_km                          float64\n",
      " 140 workplaces_km                          float64\n",
      " 141 shopping_centers_km                    float64\n",
      " 142 office_km                              float64\n",
      " 143 additional_education_km                float64\n",
      " 144 preschool_km                           float64\n",
      " 145 big_church_km                          float64\n",
      " 146 church_synagogue_km                    float64\n",
      " 147 mosque_km                              float64\n",
      " 148 theater_km                             float64\n",
      " 149 museum_km                              float64\n",
      " 150 exhibition_km                          float64\n",
      " 151 catering_km                            float64\n",
      " 152 ecology                                object \n",
      " 153 green_part_500                         float64\n",
      " 154 prom_part_500                          float64\n",
      " 155 office_count_500                       int64  \n",
      " 156 office_sqm_500                         int64  \n",
      " 157 trc_count_500                          int64  \n",
      " 158 trc_sqm_500                            int64  \n",
      " 159 cafe_count_500                         int64  \n",
      " 160 cafe_sum_500_min_price_avg             float64\n",
      " 161 cafe_sum_500_max_price_avg             float64\n",
      " 162 cafe_avg_price_500                     float64\n",
      " 163 cafe_count_500_na_price                int64  \n",
      " 164 cafe_count_500_price_500               int64  \n",
      " 165 cafe_count_500_price_1000              int64  \n",
      " 166 cafe_count_500_price_1500              int64  \n",
      " 167 cafe_count_500_price_2500              int64  \n",
      " 168 cafe_count_500_price_4000              int64  \n",
      " 169 cafe_count_500_price_high              int64  \n",
      " 170 big_church_count_500                   int64  \n",
      " 171 church_count_500                       int64  \n",
      " 172 mosque_count_500                       int64  \n",
      " 173 leisure_count_500                      int64  \n",
      " 174 sport_count_500                        int64  \n",
      " 175 market_count_500                       int64  \n",
      " 176 green_part_1000                        float64\n",
      " 177 prom_part_1000                         float64\n",
      " 178 office_count_1000                      int64  \n",
      " 179 office_sqm_1000                        int64  \n",
      " 180 trc_count_1000                         int64  \n",
      " 181 trc_sqm_1000                           int64  \n",
      " 182 cafe_count_1000                        int64  \n",
      " 183 cafe_sum_1000_min_price_avg            float64\n",
      " 184 cafe_sum_1000_max_price_avg            float64\n",
      " 185 cafe_avg_price_1000                    float64\n",
      " 186 cafe_count_1000_na_price               int64  \n",
      " 187 cafe_count_1000_price_500              int64  \n",
      " 188 cafe_count_1000_price_1000             int64  \n",
      " 189 cafe_count_1000_price_1500             int64  \n",
      " 190 cafe_count_1000_price_2500             int64  \n",
      " 191 cafe_count_1000_price_4000             int64  \n",
      " 192 cafe_count_1000_price_high             int64  \n",
      " 193 big_church_count_1000                  int64  \n",
      " 194 church_count_1000                      int64  \n",
      " 195 mosque_count_1000                      int64  \n",
      " 196 leisure_count_1000                     int64  \n",
      " 197 sport_count_1000                       int64  \n",
      " 198 market_count_1000                      int64  \n",
      " 199 green_part_1500                        float64\n",
      " 200 prom_part_1500                         float64\n",
      " 201 office_count_1500                      int64  \n",
      " 202 office_sqm_1500                        int64  \n",
      " 203 trc_count_1500                         int64  \n",
      " 204 trc_sqm_1500                           int64  \n",
      " 205 cafe_count_1500                        int64  \n",
      " 206 cafe_sum_1500_min_price_avg            float64\n",
      " 207 cafe_sum_1500_max_price_avg            float64\n",
      " 208 cafe_avg_price_1500                    float64\n",
      " 209 cafe_count_1500_na_price               int64  \n",
      " 210 cafe_count_1500_price_500              int64  \n",
      " 211 cafe_count_1500_price_1000             int64  \n",
      " 212 cafe_count_1500_price_1500             int64  \n",
      " 213 cafe_count_1500_price_2500             int64  \n",
      " 214 cafe_count_1500_price_4000             int64  \n",
      " 215 cafe_count_1500_price_high             int64  \n",
      " 216 big_church_count_1500                  int64  \n",
      " 217 church_count_1500                      int64  \n",
      " 218 mosque_count_1500                      int64  \n",
      " 219 leisure_count_1500                     int64  \n",
      " 220 sport_count_1500                       int64  \n",
      " 221 market_count_1500                      int64  \n",
      " 222 green_part_2000                        float64\n",
      " 223 prom_part_2000                         float64\n",
      " 224 office_count_2000                      int64  \n",
      " 225 office_sqm_2000                        int64  \n",
      " 226 trc_count_2000                         int64  \n",
      " 227 trc_sqm_2000                           int64  \n",
      " 228 cafe_count_2000                        int64  \n",
      " 229 cafe_sum_2000_min_price_avg            float64\n",
      " 230 cafe_sum_2000_max_price_avg            float64\n",
      " 231 cafe_avg_price_2000                    float64\n",
      " 232 cafe_count_2000_na_price               int64  \n",
      " 233 cafe_count_2000_price_500              int64  \n",
      " 234 cafe_count_2000_price_1000             int64  \n",
      " 235 cafe_count_2000_price_1500             int64  \n",
      " 236 cafe_count_2000_price_2500             int64  \n",
      " 237 cafe_count_2000_price_4000             int64  \n",
      " 238 cafe_count_2000_price_high             int64  \n",
      " 239 big_church_count_2000                  int64  \n",
      " 240 church_count_2000                      int64  \n",
      " 241 mosque_count_2000                      int64  \n",
      " 242 leisure_count_2000                     int64  \n",
      " 243 sport_count_2000                       int64  \n",
      " 244 market_count_2000                      int64  \n",
      " 245 green_part_3000                        float64\n",
      " 246 prom_part_3000                         float64\n",
      " 247 office_count_3000                      int64  \n",
      " 248 office_sqm_3000                        int64  \n",
      " 249 trc_count_3000                         int64  \n",
      " 250 trc_sqm_3000                           int64  \n",
      " 251 cafe_count_3000                        int64  \n",
      " 252 cafe_sum_3000_min_price_avg            float64\n",
      " 253 cafe_sum_3000_max_price_avg            float64\n",
      " 254 cafe_avg_price_3000                    float64\n",
      " 255 cafe_count_3000_na_price               int64  \n",
      " 256 cafe_count_3000_price_500              int64  \n",
      " 257 cafe_count_3000_price_1000             int64  \n",
      " 258 cafe_count_3000_price_1500             int64  \n",
      " 259 cafe_count_3000_price_2500             int64  \n",
      " 260 cafe_count_3000_price_4000             int64  \n",
      " 261 cafe_count_3000_price_high             int64  \n",
      " 262 big_church_count_3000                  int64  \n",
      " 263 church_count_3000                      int64  \n",
      " 264 mosque_count_3000                      int64  \n",
      " 265 leisure_count_3000                     int64  \n",
      " 266 sport_count_3000                       int64  \n",
      " 267 market_count_3000                      int64  \n",
      " 268 green_part_5000                        float64\n",
      " 269 prom_part_5000                         float64\n",
      " 270 office_count_5000                      int64  \n",
      " 271 office_sqm_5000                        int64  \n",
      " 272 trc_count_5000                         int64  \n",
      " 273 trc_sqm_5000                           int64  \n",
      " 274 cafe_count_5000                        int64  \n",
      " 275 cafe_sum_5000_min_price_avg            float64\n",
      " 276 cafe_sum_5000_max_price_avg            float64\n",
      " 277 cafe_avg_price_5000                    float64\n",
      " 278 cafe_count_5000_na_price               int64  \n",
      " 279 cafe_count_5000_price_500              int64  \n",
      " 280 cafe_count_5000_price_1000             int64  \n",
      " 281 cafe_count_5000_price_1500             int64  \n",
      " 282 cafe_count_5000_price_2500             int64  \n",
      " 283 cafe_count_5000_price_4000             int64  \n",
      " 284 cafe_count_5000_price_high             int64  \n",
      " 285 big_church_count_5000                  int64  \n",
      " 286 church_count_5000                      int64  \n",
      " 287 mosque_count_5000                      int64  \n",
      " 288 leisure_count_5000                     int64  \n",
      " 289 sport_count_5000                       int64  \n",
      " 290 market_count_5000                      int64  \n",
      " 291 price_doc                              int64  \n",
      "dtypes: float64(119), int64(157), object(16)\n",
      "memory usage: 67.9+ MB\n"
     ]
    },
    {
     "data": {
      "text/plain": [
       "None"
      ]
     },
     "metadata": {},
     "output_type": "display_data"
    }
   ],
   "source": [
    "# Example 1\n",
    "#read the data\n",
    "df = pd.read_csv(\"train.csv\")  # df stands for data frame and is just a variable name\n",
    "                               # it actually means more, but you'll cover that in another class\n",
    "display(df.info(10))"
   ]
  },
  {
   "cell_type": "markdown",
   "metadata": {
    "colab_type": "text",
    "id": "Y8wADtxcS4Um",
    "pycharm": {
     "name": "#%% md\n"
    }
   },
   "source": [
    "This is a decent size data set, 30471 rows and 292 columns.  I did post the data_dictionary.txt which describes what each column means.  Remember, it's a data base about real estate, so some of these make sense, and, because it's 292 columns, there are MANY tracking options, like - swim_pool_km (132) - the distance in km to the nearest swimming pool.  \n",
    "\n",
    "Now let's look at what the sample content is.\n",
    "\n",
    "__Example 2:__"
   ]
  },
  {
   "cell_type": "code",
   "execution_count": 3,
   "metadata": {
    "colab": {
     "base_uri": "https://localhost:8080/",
     "height": 577
    },
    "colab_type": "code",
    "id": "U93yj1N3S3aH",
    "outputId": "852c72a0-2d1c-4ec5-dad2-f5ef7da51bd9",
    "pycharm": {
     "name": "#%%\n"
    }
   },
   "outputs": [
    {
     "data": {
      "text/html": [
       "<div>\n",
       "<style scoped>\n",
       "    .dataframe tbody tr th:only-of-type {\n",
       "        vertical-align: middle;\n",
       "    }\n",
       "\n",
       "    .dataframe tbody tr th {\n",
       "        vertical-align: top;\n",
       "    }\n",
       "\n",
       "    .dataframe thead th {\n",
       "        text-align: right;\n",
       "    }\n",
       "</style>\n",
       "<table border=\"1\" class=\"dataframe\">\n",
       "  <thead>\n",
       "    <tr style=\"text-align: right;\">\n",
       "      <th></th>\n",
       "      <th>id</th>\n",
       "      <th>timestamp</th>\n",
       "      <th>full_sq</th>\n",
       "      <th>life_sq</th>\n",
       "      <th>floor</th>\n",
       "      <th>max_floor</th>\n",
       "      <th>material</th>\n",
       "      <th>build_year</th>\n",
       "      <th>num_room</th>\n",
       "      <th>kitch_sq</th>\n",
       "      <th>...</th>\n",
       "      <th>cafe_count_5000_price_2500</th>\n",
       "      <th>cafe_count_5000_price_4000</th>\n",
       "      <th>cafe_count_5000_price_high</th>\n",
       "      <th>big_church_count_5000</th>\n",
       "      <th>church_count_5000</th>\n",
       "      <th>mosque_count_5000</th>\n",
       "      <th>leisure_count_5000</th>\n",
       "      <th>sport_count_5000</th>\n",
       "      <th>market_count_5000</th>\n",
       "      <th>price_doc</th>\n",
       "    </tr>\n",
       "  </thead>\n",
       "  <tbody>\n",
       "    <tr>\n",
       "      <th>0</th>\n",
       "      <td>1</td>\n",
       "      <td>2011-08-20</td>\n",
       "      <td>43</td>\n",
       "      <td>27.0</td>\n",
       "      <td>4.0</td>\n",
       "      <td>NaN</td>\n",
       "      <td>NaN</td>\n",
       "      <td>NaN</td>\n",
       "      <td>NaN</td>\n",
       "      <td>NaN</td>\n",
       "      <td>...</td>\n",
       "      <td>9</td>\n",
       "      <td>4</td>\n",
       "      <td>0</td>\n",
       "      <td>13</td>\n",
       "      <td>22</td>\n",
       "      <td>1</td>\n",
       "      <td>0</td>\n",
       "      <td>52</td>\n",
       "      <td>4</td>\n",
       "      <td>5850000</td>\n",
       "    </tr>\n",
       "    <tr>\n",
       "      <th>1</th>\n",
       "      <td>2</td>\n",
       "      <td>2011-08-23</td>\n",
       "      <td>34</td>\n",
       "      <td>19.0</td>\n",
       "      <td>3.0</td>\n",
       "      <td>NaN</td>\n",
       "      <td>NaN</td>\n",
       "      <td>NaN</td>\n",
       "      <td>NaN</td>\n",
       "      <td>NaN</td>\n",
       "      <td>...</td>\n",
       "      <td>15</td>\n",
       "      <td>3</td>\n",
       "      <td>0</td>\n",
       "      <td>15</td>\n",
       "      <td>29</td>\n",
       "      <td>1</td>\n",
       "      <td>10</td>\n",
       "      <td>66</td>\n",
       "      <td>14</td>\n",
       "      <td>6000000</td>\n",
       "    </tr>\n",
       "    <tr>\n",
       "      <th>2</th>\n",
       "      <td>3</td>\n",
       "      <td>2011-08-27</td>\n",
       "      <td>43</td>\n",
       "      <td>29.0</td>\n",
       "      <td>2.0</td>\n",
       "      <td>NaN</td>\n",
       "      <td>NaN</td>\n",
       "      <td>NaN</td>\n",
       "      <td>NaN</td>\n",
       "      <td>NaN</td>\n",
       "      <td>...</td>\n",
       "      <td>10</td>\n",
       "      <td>3</td>\n",
       "      <td>0</td>\n",
       "      <td>11</td>\n",
       "      <td>27</td>\n",
       "      <td>0</td>\n",
       "      <td>4</td>\n",
       "      <td>67</td>\n",
       "      <td>10</td>\n",
       "      <td>5700000</td>\n",
       "    </tr>\n",
       "    <tr>\n",
       "      <th>3</th>\n",
       "      <td>4</td>\n",
       "      <td>2011-09-01</td>\n",
       "      <td>89</td>\n",
       "      <td>50.0</td>\n",
       "      <td>9.0</td>\n",
       "      <td>NaN</td>\n",
       "      <td>NaN</td>\n",
       "      <td>NaN</td>\n",
       "      <td>NaN</td>\n",
       "      <td>NaN</td>\n",
       "      <td>...</td>\n",
       "      <td>11</td>\n",
       "      <td>2</td>\n",
       "      <td>1</td>\n",
       "      <td>4</td>\n",
       "      <td>4</td>\n",
       "      <td>0</td>\n",
       "      <td>0</td>\n",
       "      <td>26</td>\n",
       "      <td>3</td>\n",
       "      <td>13100000</td>\n",
       "    </tr>\n",
       "    <tr>\n",
       "      <th>4</th>\n",
       "      <td>5</td>\n",
       "      <td>2011-09-05</td>\n",
       "      <td>77</td>\n",
       "      <td>77.0</td>\n",
       "      <td>4.0</td>\n",
       "      <td>NaN</td>\n",
       "      <td>NaN</td>\n",
       "      <td>NaN</td>\n",
       "      <td>NaN</td>\n",
       "      <td>NaN</td>\n",
       "      <td>...</td>\n",
       "      <td>319</td>\n",
       "      <td>108</td>\n",
       "      <td>17</td>\n",
       "      <td>135</td>\n",
       "      <td>236</td>\n",
       "      <td>2</td>\n",
       "      <td>91</td>\n",
       "      <td>195</td>\n",
       "      <td>14</td>\n",
       "      <td>16331452</td>\n",
       "    </tr>\n",
       "    <tr>\n",
       "      <th>5</th>\n",
       "      <td>6</td>\n",
       "      <td>2011-09-06</td>\n",
       "      <td>67</td>\n",
       "      <td>46.0</td>\n",
       "      <td>14.0</td>\n",
       "      <td>NaN</td>\n",
       "      <td>NaN</td>\n",
       "      <td>NaN</td>\n",
       "      <td>NaN</td>\n",
       "      <td>NaN</td>\n",
       "      <td>...</td>\n",
       "      <td>62</td>\n",
       "      <td>14</td>\n",
       "      <td>1</td>\n",
       "      <td>53</td>\n",
       "      <td>78</td>\n",
       "      <td>1</td>\n",
       "      <td>20</td>\n",
       "      <td>113</td>\n",
       "      <td>17</td>\n",
       "      <td>9100000</td>\n",
       "    </tr>\n",
       "    <tr>\n",
       "      <th>6</th>\n",
       "      <td>7</td>\n",
       "      <td>2011-09-08</td>\n",
       "      <td>25</td>\n",
       "      <td>14.0</td>\n",
       "      <td>10.0</td>\n",
       "      <td>NaN</td>\n",
       "      <td>NaN</td>\n",
       "      <td>NaN</td>\n",
       "      <td>NaN</td>\n",
       "      <td>NaN</td>\n",
       "      <td>...</td>\n",
       "      <td>81</td>\n",
       "      <td>16</td>\n",
       "      <td>3</td>\n",
       "      <td>38</td>\n",
       "      <td>80</td>\n",
       "      <td>1</td>\n",
       "      <td>27</td>\n",
       "      <td>127</td>\n",
       "      <td>8</td>\n",
       "      <td>5500000</td>\n",
       "    </tr>\n",
       "    <tr>\n",
       "      <th>7</th>\n",
       "      <td>8</td>\n",
       "      <td>2011-09-09</td>\n",
       "      <td>44</td>\n",
       "      <td>44.0</td>\n",
       "      <td>5.0</td>\n",
       "      <td>NaN</td>\n",
       "      <td>NaN</td>\n",
       "      <td>NaN</td>\n",
       "      <td>NaN</td>\n",
       "      <td>NaN</td>\n",
       "      <td>...</td>\n",
       "      <td>9</td>\n",
       "      <td>4</td>\n",
       "      <td>0</td>\n",
       "      <td>11</td>\n",
       "      <td>18</td>\n",
       "      <td>1</td>\n",
       "      <td>0</td>\n",
       "      <td>47</td>\n",
       "      <td>4</td>\n",
       "      <td>2000000</td>\n",
       "    </tr>\n",
       "    <tr>\n",
       "      <th>8</th>\n",
       "      <td>9</td>\n",
       "      <td>2011-09-10</td>\n",
       "      <td>42</td>\n",
       "      <td>27.0</td>\n",
       "      <td>5.0</td>\n",
       "      <td>NaN</td>\n",
       "      <td>NaN</td>\n",
       "      <td>NaN</td>\n",
       "      <td>NaN</td>\n",
       "      <td>NaN</td>\n",
       "      <td>...</td>\n",
       "      <td>19</td>\n",
       "      <td>8</td>\n",
       "      <td>1</td>\n",
       "      <td>18</td>\n",
       "      <td>34</td>\n",
       "      <td>1</td>\n",
       "      <td>3</td>\n",
       "      <td>85</td>\n",
       "      <td>11</td>\n",
       "      <td>5300000</td>\n",
       "    </tr>\n",
       "    <tr>\n",
       "      <th>9</th>\n",
       "      <td>10</td>\n",
       "      <td>2011-09-13</td>\n",
       "      <td>36</td>\n",
       "      <td>21.0</td>\n",
       "      <td>9.0</td>\n",
       "      <td>NaN</td>\n",
       "      <td>NaN</td>\n",
       "      <td>NaN</td>\n",
       "      <td>NaN</td>\n",
       "      <td>NaN</td>\n",
       "      <td>...</td>\n",
       "      <td>19</td>\n",
       "      <td>13</td>\n",
       "      <td>0</td>\n",
       "      <td>10</td>\n",
       "      <td>20</td>\n",
       "      <td>1</td>\n",
       "      <td>3</td>\n",
       "      <td>67</td>\n",
       "      <td>1</td>\n",
       "      <td>2000000</td>\n",
       "    </tr>\n",
       "  </tbody>\n",
       "</table>\n",
       "<p>10 rows × 292 columns</p>\n",
       "</div>"
      ],
      "text/plain": [
       "   id   timestamp  full_sq  life_sq  floor  max_floor  material  build_year  \\\n",
       "0   1  2011-08-20       43     27.0    4.0        NaN       NaN         NaN   \n",
       "1   2  2011-08-23       34     19.0    3.0        NaN       NaN         NaN   \n",
       "2   3  2011-08-27       43     29.0    2.0        NaN       NaN         NaN   \n",
       "3   4  2011-09-01       89     50.0    9.0        NaN       NaN         NaN   \n",
       "4   5  2011-09-05       77     77.0    4.0        NaN       NaN         NaN   \n",
       "5   6  2011-09-06       67     46.0   14.0        NaN       NaN         NaN   \n",
       "6   7  2011-09-08       25     14.0   10.0        NaN       NaN         NaN   \n",
       "7   8  2011-09-09       44     44.0    5.0        NaN       NaN         NaN   \n",
       "8   9  2011-09-10       42     27.0    5.0        NaN       NaN         NaN   \n",
       "9  10  2011-09-13       36     21.0    9.0        NaN       NaN         NaN   \n",
       "\n",
       "   num_room  kitch_sq  ...  cafe_count_5000_price_2500  \\\n",
       "0       NaN       NaN  ...                           9   \n",
       "1       NaN       NaN  ...                          15   \n",
       "2       NaN       NaN  ...                          10   \n",
       "3       NaN       NaN  ...                          11   \n",
       "4       NaN       NaN  ...                         319   \n",
       "5       NaN       NaN  ...                          62   \n",
       "6       NaN       NaN  ...                          81   \n",
       "7       NaN       NaN  ...                           9   \n",
       "8       NaN       NaN  ...                          19   \n",
       "9       NaN       NaN  ...                          19   \n",
       "\n",
       "  cafe_count_5000_price_4000 cafe_count_5000_price_high  \\\n",
       "0                          4                          0   \n",
       "1                          3                          0   \n",
       "2                          3                          0   \n",
       "3                          2                          1   \n",
       "4                        108                         17   \n",
       "5                         14                          1   \n",
       "6                         16                          3   \n",
       "7                          4                          0   \n",
       "8                          8                          1   \n",
       "9                         13                          0   \n",
       "\n",
       "   big_church_count_5000  church_count_5000  mosque_count_5000  \\\n",
       "0                     13                 22                  1   \n",
       "1                     15                 29                  1   \n",
       "2                     11                 27                  0   \n",
       "3                      4                  4                  0   \n",
       "4                    135                236                  2   \n",
       "5                     53                 78                  1   \n",
       "6                     38                 80                  1   \n",
       "7                     11                 18                  1   \n",
       "8                     18                 34                  1   \n",
       "9                     10                 20                  1   \n",
       "\n",
       "   leisure_count_5000  sport_count_5000  market_count_5000  price_doc  \n",
       "0                   0                52                  4    5850000  \n",
       "1                  10                66                 14    6000000  \n",
       "2                   4                67                 10    5700000  \n",
       "3                   0                26                  3   13100000  \n",
       "4                  91               195                 14   16331452  \n",
       "5                  20               113                 17    9100000  \n",
       "6                  27               127                  8    5500000  \n",
       "7                   0                47                  4    2000000  \n",
       "8                   3                85                 11    5300000  \n",
       "9                   3                67                  1    2000000  \n",
       "\n",
       "[10 rows x 292 columns]"
      ]
     },
     "metadata": {},
     "output_type": "display_data"
    }
   ],
   "source": [
    "# Example 2\n",
    "display(df.head(10))"
   ]
  },
  {
   "cell_type": "markdown",
   "metadata": {
    "colab_type": "text",
    "id": "6jgL6TEvTCwu",
    "pycharm": {
     "name": "#%% md\n"
    }
   },
   "source": [
    "Interesting..   Great information, but there are ALOT of _NaN_ which stands for 'Not a Number' - either a character or missing.  Neither is good!\n",
    "\n",
    "Now let's look at the shape and data types of the data.\n",
    "\n",
    "__Example 3:__"
   ]
  },
  {
   "cell_type": "code",
   "execution_count": 4,
   "metadata": {
    "colab": {
     "base_uri": "https://localhost:8080/",
     "height": 235
    },
    "colab_type": "code",
    "id": "VrJneauVSpUa",
    "outputId": "11b6c6e7-b619-4a67-ae72-72ddb672d54e",
    "pycharm": {
     "name": "#%%\n"
    }
   },
   "outputs": [
    {
     "name": "stdout",
     "output_type": "stream",
     "text": [
      "(30471, 292)\n",
      "id                      int64\n",
      "timestamp              object\n",
      "full_sq                 int64\n",
      "life_sq               float64\n",
      "floor                 float64\n",
      "                       ...   \n",
      "mosque_count_5000       int64\n",
      "leisure_count_5000      int64\n",
      "sport_count_5000        int64\n",
      "market_count_5000       int64\n",
      "price_doc               int64\n",
      "Length: 292, dtype: object\n"
     ]
    }
   ],
   "source": [
    "# Example 3\n",
    "print(df.shape)      # this prints the overall data size\n",
    "print(df.dtypes)     # this prints the type of data "
   ]
  },
  {
   "cell_type": "markdown",
   "metadata": {
    "colab_type": "text",
    "id": "eY3fUhJTWZ-t",
    "pycharm": {
     "name": "#%% md\n"
    }
   },
   "source": [
    "And let's keep track of the numeric columns\n",
    "\n",
    "__Example 4:__"
   ]
  },
  {
   "cell_type": "code",
   "execution_count": 5,
   "metadata": {
    "colab": {
     "base_uri": "https://localhost:8080/",
     "height": 1000
    },
    "colab_type": "code",
    "id": "Xd6EPSUqgUts",
    "outputId": "274e6d4f-b093-4b70-c368-6edc964c42ce",
    "pycharm": {
     "name": "#%%\n"
    }
   },
   "outputs": [
    {
     "name": "stdout",
     "output_type": "stream",
     "text": [
      "['id' 'full_sq' 'life_sq' 'floor' 'max_floor' 'material' 'build_year'\n",
      " 'num_room' 'kitch_sq' 'state' 'area_m' 'raion_popul' 'green_zone_part'\n",
      " 'indust_part' 'children_preschool' 'preschool_quota'\n",
      " 'preschool_education_centers_raion' 'children_school' 'school_quota'\n",
      " 'school_education_centers_raion' 'school_education_centers_top_20_raion'\n",
      " 'hospital_beds_raion' 'healthcare_centers_raion'\n",
      " 'university_top_20_raion' 'sport_objects_raion'\n",
      " 'additional_education_raion' 'culture_objects_top_25_raion'\n",
      " 'shopping_centers_raion' 'office_raion' 'full_all' 'male_f' 'female_f'\n",
      " 'young_all' 'young_male' 'young_female' 'work_all' 'work_male'\n",
      " 'work_female' 'ekder_all' 'ekder_male' 'ekder_female' '0_6_all'\n",
      " '0_6_male' '0_6_female' '7_14_all' '7_14_male' '7_14_female' '0_17_all'\n",
      " '0_17_male' '0_17_female' '16_29_all' '16_29_male' '16_29_female'\n",
      " '0_13_all' '0_13_male' '0_13_female'\n",
      " 'raion_build_count_with_material_info' 'build_count_block'\n",
      " 'build_count_wood' 'build_count_frame' 'build_count_brick'\n",
      " 'build_count_monolith' 'build_count_panel' 'build_count_foam'\n",
      " 'build_count_slag' 'build_count_mix'\n",
      " 'raion_build_count_with_builddate_info' 'build_count_before_1920'\n",
      " 'build_count_1921-1945' 'build_count_1946-1970' 'build_count_1971-1995'\n",
      " 'build_count_after_1995' 'ID_metro' 'metro_min_avto' 'metro_km_avto'\n",
      " 'metro_min_walk' 'metro_km_walk' 'kindergarten_km' 'school_km' 'park_km'\n",
      " 'green_zone_km' 'industrial_km' 'water_treatment_km' 'cemetery_km'\n",
      " 'incineration_km' 'railroad_station_walk_km' 'railroad_station_walk_min'\n",
      " 'ID_railroad_station_walk' 'railroad_station_avto_km'\n",
      " 'railroad_station_avto_min' 'ID_railroad_station_avto'\n",
      " 'public_transport_station_km' 'public_transport_station_min_walk'\n",
      " 'water_km' 'mkad_km' 'ttk_km' 'sadovoe_km' 'bulvar_ring_km' 'kremlin_km'\n",
      " 'big_road1_km' 'ID_big_road1' 'big_road2_km' 'ID_big_road2' 'railroad_km'\n",
      " 'zd_vokzaly_avto_km' 'ID_railroad_terminal' 'bus_terminal_avto_km'\n",
      " 'ID_bus_terminal' 'oil_chemistry_km' 'nuclear_reactor_km' 'radiation_km'\n",
      " 'power_transmission_line_km' 'thermal_power_plant_km' 'ts_km'\n",
      " 'big_market_km' 'market_shop_km' 'fitness_km' 'swim_pool_km'\n",
      " 'ice_rink_km' 'stadium_km' 'basketball_km' 'hospice_morgue_km'\n",
      " 'detention_facility_km' 'public_healthcare_km' 'university_km'\n",
      " 'workplaces_km' 'shopping_centers_km' 'office_km'\n",
      " 'additional_education_km' 'preschool_km' 'big_church_km'\n",
      " 'church_synagogue_km' 'mosque_km' 'theater_km' 'museum_km'\n",
      " 'exhibition_km' 'catering_km' 'green_part_500' 'prom_part_500'\n",
      " 'office_count_500' 'office_sqm_500' 'trc_count_500' 'trc_sqm_500'\n",
      " 'cafe_count_500' 'cafe_sum_500_min_price_avg'\n",
      " 'cafe_sum_500_max_price_avg' 'cafe_avg_price_500'\n",
      " 'cafe_count_500_na_price' 'cafe_count_500_price_500'\n",
      " 'cafe_count_500_price_1000' 'cafe_count_500_price_1500'\n",
      " 'cafe_count_500_price_2500' 'cafe_count_500_price_4000'\n",
      " 'cafe_count_500_price_high' 'big_church_count_500' 'church_count_500'\n",
      " 'mosque_count_500' 'leisure_count_500' 'sport_count_500'\n",
      " 'market_count_500' 'green_part_1000' 'prom_part_1000' 'office_count_1000'\n",
      " 'office_sqm_1000' 'trc_count_1000' 'trc_sqm_1000' 'cafe_count_1000'\n",
      " 'cafe_sum_1000_min_price_avg' 'cafe_sum_1000_max_price_avg'\n",
      " 'cafe_avg_price_1000' 'cafe_count_1000_na_price'\n",
      " 'cafe_count_1000_price_500' 'cafe_count_1000_price_1000'\n",
      " 'cafe_count_1000_price_1500' 'cafe_count_1000_price_2500'\n",
      " 'cafe_count_1000_price_4000' 'cafe_count_1000_price_high'\n",
      " 'big_church_count_1000' 'church_count_1000' 'mosque_count_1000'\n",
      " 'leisure_count_1000' 'sport_count_1000' 'market_count_1000'\n",
      " 'green_part_1500' 'prom_part_1500' 'office_count_1500' 'office_sqm_1500'\n",
      " 'trc_count_1500' 'trc_sqm_1500' 'cafe_count_1500'\n",
      " 'cafe_sum_1500_min_price_avg' 'cafe_sum_1500_max_price_avg'\n",
      " 'cafe_avg_price_1500' 'cafe_count_1500_na_price'\n",
      " 'cafe_count_1500_price_500' 'cafe_count_1500_price_1000'\n",
      " 'cafe_count_1500_price_1500' 'cafe_count_1500_price_2500'\n",
      " 'cafe_count_1500_price_4000' 'cafe_count_1500_price_high'\n",
      " 'big_church_count_1500' 'church_count_1500' 'mosque_count_1500'\n",
      " 'leisure_count_1500' 'sport_count_1500' 'market_count_1500'\n",
      " 'green_part_2000' 'prom_part_2000' 'office_count_2000' 'office_sqm_2000'\n",
      " 'trc_count_2000' 'trc_sqm_2000' 'cafe_count_2000'\n",
      " 'cafe_sum_2000_min_price_avg' 'cafe_sum_2000_max_price_avg'\n",
      " 'cafe_avg_price_2000' 'cafe_count_2000_na_price'\n",
      " 'cafe_count_2000_price_500' 'cafe_count_2000_price_1000'\n",
      " 'cafe_count_2000_price_1500' 'cafe_count_2000_price_2500'\n",
      " 'cafe_count_2000_price_4000' 'cafe_count_2000_price_high'\n",
      " 'big_church_count_2000' 'church_count_2000' 'mosque_count_2000'\n",
      " 'leisure_count_2000' 'sport_count_2000' 'market_count_2000'\n",
      " 'green_part_3000' 'prom_part_3000' 'office_count_3000' 'office_sqm_3000'\n",
      " 'trc_count_3000' 'trc_sqm_3000' 'cafe_count_3000'\n",
      " 'cafe_sum_3000_min_price_avg' 'cafe_sum_3000_max_price_avg'\n",
      " 'cafe_avg_price_3000' 'cafe_count_3000_na_price'\n",
      " 'cafe_count_3000_price_500' 'cafe_count_3000_price_1000'\n",
      " 'cafe_count_3000_price_1500' 'cafe_count_3000_price_2500'\n",
      " 'cafe_count_3000_price_4000' 'cafe_count_3000_price_high'\n",
      " 'big_church_count_3000' 'church_count_3000' 'mosque_count_3000'\n",
      " 'leisure_count_3000' 'sport_count_3000' 'market_count_3000'\n",
      " 'green_part_5000' 'prom_part_5000' 'office_count_5000' 'office_sqm_5000'\n",
      " 'trc_count_5000' 'trc_sqm_5000' 'cafe_count_5000'\n",
      " 'cafe_sum_5000_min_price_avg' 'cafe_sum_5000_max_price_avg'\n",
      " 'cafe_avg_price_5000' 'cafe_count_5000_na_price'\n",
      " 'cafe_count_5000_price_500' 'cafe_count_5000_price_1000'\n",
      " 'cafe_count_5000_price_1500' 'cafe_count_5000_price_2500'\n",
      " 'cafe_count_5000_price_4000' 'cafe_count_5000_price_high'\n",
      " 'big_church_count_5000' 'church_count_5000' 'mosque_count_5000'\n",
      " 'leisure_count_5000' 'sport_count_5000' 'market_count_5000' 'price_doc']\n"
     ]
    }
   ],
   "source": [
    "# Example 4\n",
    "df_numeric = df.select_dtypes(include=[np.number])   # here we're checking for numbers in the data\n",
    "numeric_cols = df_numeric.columns.values\n",
    "print(numeric_cols)"
   ]
  },
  {
   "cell_type": "markdown",
   "metadata": {
    "colab_type": "text",
    "id": "oMHH36UiWe2T",
    "pycharm": {
     "name": "#%% md\n"
    }
   },
   "source": [
    "All of the above columns are numeric data - a LOT!\n",
    "\n",
    "And the non-numeric ones\n",
    "\n",
    "__Example 5:__"
   ]
  },
  {
   "cell_type": "code",
   "execution_count": 6,
   "metadata": {
    "colab": {
     "base_uri": "https://localhost:8080/",
     "height": 101
    },
    "colab_type": "code",
    "id": "b4wDobNwgiOL",
    "outputId": "b17d21f2-b580-4871-ec0d-d8335848ec6c",
    "pycharm": {
     "name": "#%%\n"
    }
   },
   "outputs": [
    {
     "name": "stdout",
     "output_type": "stream",
     "text": [
      "['timestamp' 'product_type' 'sub_area' 'culture_objects_top_25'\n",
      " 'thermal_power_plant_raion' 'incineration_raion' 'oil_chemistry_raion'\n",
      " 'radiation_raion' 'railroad_terminal_raion' 'big_market_raion'\n",
      " 'nuclear_reactor_raion' 'detention_facility_raion' 'water_1line'\n",
      " 'big_road1_1line' 'railroad_1line' 'ecology']\n"
     ]
    }
   ],
   "source": [
    "# Example 5\n",
    "df_non_numeric = df.select_dtypes(exclude=[np.number])\n",
    "non_numeric_cols = df_non_numeric.columns.values\n",
    "print(non_numeric_cols)"
   ]
  },
  {
   "cell_type": "markdown",
   "metadata": {
    "pycharm": {
     "name": "#%% md\n"
    }
   },
   "source": [
    "Not so many of these, but they are their own challenge."
   ]
  },
  {
   "cell_type": "markdown",
   "metadata": {
    "colab_type": "text",
    "id": "q_7fHbe4WjOl",
    "pycharm": {
     "name": "#%% md\n"
    }
   },
   "source": [
    "# Let's look for missing data #\n",
    "## 1.  Missing Data Heatmap ##\n",
    "\n",
    "A heatmap is a visualization that is good for showing a wide range of values, but here we use it for binary - present or not.  It's better for a smaller number of columns, but we can demo it here.\n",
    "\n",
    "The horizontal axis is the feature name (column), the vertical axis is the number of observations - the yellow is missing data and the blue represents data.\n",
    "\n",
    "__Example 6:__"
   ]
  },
  {
   "cell_type": "code",
   "execution_count": 7,
   "metadata": {
    "colab": {
     "base_uri": "https://localhost:8080/",
     "height": 692
    },
    "colab_type": "code",
    "id": "kejfhDDh2BGw",
    "outputId": "18796952-3a9b-4ea8-a7e7-f9db48b709a5",
    "pycharm": {
     "name": "#%%\n"
    }
   },
   "outputs": [
    {
     "data": {
      "text/plain": [
       "<matplotlib.axes._subplots.AxesSubplot at 0x20aa2747608>"
      ]
     },
     "execution_count": 7,
     "metadata": {},
     "output_type": "execute_result"
    },
    {
     "data": {
      "image/png": "[encoded data removed]",
      "text/plain": [
       "<Figure size 864x576 with 2 Axes>"
      ]
     },
     "metadata": {},
     "output_type": "display_data"
    }
   ],
   "source": [
    "# Example 6\n",
    "cols = df.columns[:30] # first 30 columns\n",
    "colours = ['#000099', '#ffff00'] # specify the colours - yellow is missing. blue is not missing.\n",
    "sns.heatmap(df[cols].isnull(), cmap=sns.color_palette(colours))"
   ]
  },
  {
   "cell_type": "markdown",
   "metadata": {
    "colab_type": "text",
    "id": "6XBdUDG3XQQ9",
    "pycharm": {
     "name": "#%% md\n"
    }
   },
   "source": [
    "From this, life_sq is missing data throughout almost the entire set, while max_floor through state didn't start until about row 8000.  floor is missing a few data points, but nothing after about 8500.  This is good for estimating what state your data set is in - is it mainly present or are the important parts missing?  The results should help you decide whether you want to proceed with this data set or is too much missing.\n"
   ]
  },
  {
   "cell_type": "markdown",
   "metadata": {
    "colab_type": "text",
    "id": "dgF2fdwmXzvs",
    "pycharm": {
     "name": "#%% md\n"
    }
   },
   "source": [
    "## 1.  Missing data Percentage List ##\n",
    "\n",
    "For larger datasets, you can list out, by feature, the percentage of data missing.  This is good if the visualization takes a long time, but you have to look at each one...\n",
    "\n",
    "Here, isnull is checking each data field to see if there is something present or not.\n",
    "\n",
    "__Example 7:__"
   ]
  },
  {
   "cell_type": "code",
   "execution_count": 8,
   "metadata": {
    "colab": {
     "base_uri": "https://localhost:8080/",
     "height": 1000
    },
    "colab_type": "code",
    "id": "omMJcmQO2RTH",
    "outputId": "c3fc61aa-685e-45bf-c4c8-f5a40681932c",
    "pycharm": {
     "name": "#%%\n"
    }
   },
   "outputs": [
    {
     "name": "stdout",
     "output_type": "stream",
     "text": [
      "id - 0.0%\n",
      "timestamp - 0.0%\n",
      "full_sq - 0.0%\n",
      "life_sq - 21.0%\n",
      "floor - 1.0%\n",
      "max_floor - 31.0%\n",
      "material - 31.0%\n",
      "build_year - 45.0%\n",
      "num_room - 31.0%\n",
      "kitch_sq - 31.0%\n",
      "state - 44.0%\n",
      "product_type - 0.0%\n",
      "sub_area - 0.0%\n",
      "area_m - 0.0%\n",
      "raion_popul - 0.0%\n",
      "green_zone_part - 0.0%\n",
      "indust_part - 0.0%\n",
      "children_preschool - 0.0%\n",
      "preschool_quota - 22.0%\n",
      "preschool_education_centers_raion - 0.0%\n",
      "children_school - 0.0%\n",
      "school_quota - 22.0%\n",
      "school_education_centers_raion - 0.0%\n",
      "school_education_centers_top_20_raion - 0.0%\n",
      "hospital_beds_raion - 47.0%\n",
      "healthcare_centers_raion - 0.0%\n",
      "university_top_20_raion - 0.0%\n",
      "sport_objects_raion - 0.0%\n",
      "additional_education_raion - 0.0%\n",
      "culture_objects_top_25 - 0.0%\n",
      "culture_objects_top_25_raion - 0.0%\n",
      "shopping_centers_raion - 0.0%\n",
      "office_raion - 0.0%\n",
      "thermal_power_plant_raion - 0.0%\n",
      "incineration_raion - 0.0%\n",
      "oil_chemistry_raion - 0.0%\n",
      "radiation_raion - 0.0%\n",
      "railroad_terminal_raion - 0.0%\n",
      "big_market_raion - 0.0%\n",
      "nuclear_reactor_raion - 0.0%\n",
      "detention_facility_raion - 0.0%\n",
      "full_all - 0.0%\n",
      "male_f - 0.0%\n",
      "female_f - 0.0%\n",
      "young_all - 0.0%\n",
      "young_male - 0.0%\n",
      "young_female - 0.0%\n",
      "work_all - 0.0%\n",
      "work_male - 0.0%\n",
      "work_female - 0.0%\n",
      "ekder_all - 0.0%\n",
      "ekder_male - 0.0%\n",
      "ekder_female - 0.0%\n",
      "0_6_all - 0.0%\n",
      "0_6_male - 0.0%\n",
      "0_6_female - 0.0%\n",
      "7_14_all - 0.0%\n",
      "7_14_male - 0.0%\n",
      "7_14_female - 0.0%\n",
      "0_17_all - 0.0%\n",
      "0_17_male - 0.0%\n",
      "0_17_female - 0.0%\n",
      "16_29_all - 0.0%\n",
      "16_29_male - 0.0%\n",
      "16_29_female - 0.0%\n",
      "0_13_all - 0.0%\n",
      "0_13_male - 0.0%\n",
      "0_13_female - 0.0%\n",
      "raion_build_count_with_material_info - 16.0%\n",
      "build_count_block - 16.0%\n",
      "build_count_wood - 16.0%\n",
      "build_count_frame - 16.0%\n",
      "build_count_brick - 16.0%\n",
      "build_count_monolith - 16.0%\n",
      "build_count_panel - 16.0%\n",
      "build_count_foam - 16.0%\n",
      "build_count_slag - 16.0%\n",
      "build_count_mix - 16.0%\n",
      "raion_build_count_with_builddate_info - 16.0%\n",
      "build_count_before_1920 - 16.0%\n",
      "build_count_1921-1945 - 16.0%\n",
      "build_count_1946-1970 - 16.0%\n",
      "build_count_1971-1995 - 16.0%\n",
      "build_count_after_1995 - 16.0%\n",
      "ID_metro - 0.0%\n",
      "metro_min_avto - 0.0%\n",
      "metro_km_avto - 0.0%\n",
      "metro_min_walk - 0.0%\n",
      "metro_km_walk - 0.0%\n",
      "kindergarten_km - 0.0%\n",
      "school_km - 0.0%\n",
      "park_km - 0.0%\n",
      "green_zone_km - 0.0%\n",
      "industrial_km - 0.0%\n",
      "water_treatment_km - 0.0%\n",
      "cemetery_km - 0.0%\n",
      "incineration_km - 0.0%\n",
      "railroad_station_walk_km - 0.0%\n",
      "railroad_station_walk_min - 0.0%\n",
      "ID_railroad_station_walk - 0.0%\n",
      "railroad_station_avto_km - 0.0%\n",
      "railroad_station_avto_min - 0.0%\n",
      "ID_railroad_station_avto - 0.0%\n",
      "public_transport_station_km - 0.0%\n",
      "public_transport_station_min_walk - 0.0%\n",
      "water_km - 0.0%\n",
      "water_1line - 0.0%\n",
      "mkad_km - 0.0%\n",
      "ttk_km - 0.0%\n",
      "sadovoe_km - 0.0%\n",
      "bulvar_ring_km - 0.0%\n",
      "kremlin_km - 0.0%\n",
      "big_road1_km - 0.0%\n",
      "ID_big_road1 - 0.0%\n",
      "big_road1_1line - 0.0%\n",
      "big_road2_km - 0.0%\n",
      "ID_big_road2 - 0.0%\n",
      "railroad_km - 0.0%\n",
      "railroad_1line - 0.0%\n",
      "zd_vokzaly_avto_km - 0.0%\n",
      "ID_railroad_terminal - 0.0%\n",
      "bus_terminal_avto_km - 0.0%\n",
      "ID_bus_terminal - 0.0%\n",
      "oil_chemistry_km - 0.0%\n",
      "nuclear_reactor_km - 0.0%\n",
      "radiation_km - 0.0%\n",
      "power_transmission_line_km - 0.0%\n",
      "thermal_power_plant_km - 0.0%\n",
      "ts_km - 0.0%\n",
      "big_market_km - 0.0%\n",
      "market_shop_km - 0.0%\n",
      "fitness_km - 0.0%\n",
      "swim_pool_km - 0.0%\n",
      "ice_rink_km - 0.0%\n",
      "stadium_km - 0.0%\n",
      "basketball_km - 0.0%\n",
      "hospice_morgue_km - 0.0%\n",
      "detention_facility_km - 0.0%\n",
      "public_healthcare_km - 0.0%\n",
      "university_km - 0.0%\n",
      "workplaces_km - 0.0%\n",
      "shopping_centers_km - 0.0%\n",
      "office_km - 0.0%\n",
      "additional_education_km - 0.0%\n",
      "preschool_km - 0.0%\n",
      "big_church_km - 0.0%\n",
      "church_synagogue_km - 0.0%\n",
      "mosque_km - 0.0%\n",
      "theater_km - 0.0%\n",
      "museum_km - 0.0%\n",
      "exhibition_km - 0.0%\n",
      "catering_km - 0.0%\n",
      "ecology - 0.0%\n",
      "green_part_500 - 0.0%\n",
      "prom_part_500 - 0.0%\n",
      "office_count_500 - 0.0%\n",
      "office_sqm_500 - 0.0%\n",
      "trc_count_500 - 0.0%\n",
      "trc_sqm_500 - 0.0%\n",
      "cafe_count_500 - 0.0%\n",
      "cafe_sum_500_min_price_avg - 44.0%\n",
      "cafe_sum_500_max_price_avg - 44.0%\n",
      "cafe_avg_price_500 - 44.0%\n",
      "cafe_count_500_na_price - 0.0%\n",
      "cafe_count_500_price_500 - 0.0%\n",
      "cafe_count_500_price_1000 - 0.0%\n",
      "cafe_count_500_price_1500 - 0.0%\n",
      "cafe_count_500_price_2500 - 0.0%\n",
      "cafe_count_500_price_4000 - 0.0%\n",
      "cafe_count_500_price_high - 0.0%\n",
      "big_church_count_500 - 0.0%\n",
      "church_count_500 - 0.0%\n",
      "mosque_count_500 - 0.0%\n",
      "leisure_count_500 - 0.0%\n",
      "sport_count_500 - 0.0%\n",
      "market_count_500 - 0.0%\n",
      "green_part_1000 - 0.0%\n",
      "prom_part_1000 - 0.0%\n",
      "office_count_1000 - 0.0%\n",
      "office_sqm_1000 - 0.0%\n",
      "trc_count_1000 - 0.0%\n",
      "trc_sqm_1000 - 0.0%\n",
      "cafe_count_1000 - 0.0%\n",
      "cafe_sum_1000_min_price_avg - 21.0%\n",
      "cafe_sum_1000_max_price_avg - 21.0%\n",
      "cafe_avg_price_1000 - 21.0%\n",
      "cafe_count_1000_na_price - 0.0%\n",
      "cafe_count_1000_price_500 - 0.0%\n",
      "cafe_count_1000_price_1000 - 0.0%\n",
      "cafe_count_1000_price_1500 - 0.0%\n",
      "cafe_count_1000_price_2500 - 0.0%\n",
      "cafe_count_1000_price_4000 - 0.0%\n",
      "cafe_count_1000_price_high - 0.0%\n",
      "big_church_count_1000 - 0.0%\n",
      "church_count_1000 - 0.0%\n",
      "mosque_count_1000 - 0.0%\n",
      "leisure_count_1000 - 0.0%\n",
      "sport_count_1000 - 0.0%\n",
      "market_count_1000 - 0.0%\n",
      "green_part_1500 - 0.0%\n",
      "prom_part_1500 - 0.0%\n",
      "office_count_1500 - 0.0%\n",
      "office_sqm_1500 - 0.0%\n",
      "trc_count_1500 - 0.0%\n",
      "trc_sqm_1500 - 0.0%\n",
      "cafe_count_1500 - 0.0%\n",
      "cafe_sum_1500_min_price_avg - 14.0%\n",
      "cafe_sum_1500_max_price_avg - 14.0%\n",
      "cafe_avg_price_1500 - 14.0%\n",
      "cafe_count_1500_na_price - 0.0%\n",
      "cafe_count_1500_price_500 - 0.0%\n",
      "cafe_count_1500_price_1000 - 0.0%\n",
      "cafe_count_1500_price_1500 - 0.0%\n",
      "cafe_count_1500_price_2500 - 0.0%\n",
      "cafe_count_1500_price_4000 - 0.0%\n",
      "cafe_count_1500_price_high - 0.0%\n",
      "big_church_count_1500 - 0.0%\n",
      "church_count_1500 - 0.0%\n",
      "mosque_count_1500 - 0.0%\n",
      "leisure_count_1500 - 0.0%\n",
      "sport_count_1500 - 0.0%\n",
      "market_count_1500 - 0.0%\n",
      "green_part_2000 - 0.0%\n",
      "prom_part_2000 - 0.0%\n",
      "office_count_2000 - 0.0%\n",
      "office_sqm_2000 - 0.0%\n",
      "trc_count_2000 - 0.0%\n",
      "trc_sqm_2000 - 0.0%\n",
      "cafe_count_2000 - 0.0%\n",
      "cafe_sum_2000_min_price_avg - 6.0%\n",
      "cafe_sum_2000_max_price_avg - 6.0%\n",
      "cafe_avg_price_2000 - 6.0%\n",
      "cafe_count_2000_na_price - 0.0%\n",
      "cafe_count_2000_price_500 - 0.0%\n",
      "cafe_count_2000_price_1000 - 0.0%\n",
      "cafe_count_2000_price_1500 - 0.0%\n",
      "cafe_count_2000_price_2500 - 0.0%\n",
      "cafe_count_2000_price_4000 - 0.0%\n",
      "cafe_count_2000_price_high - 0.0%\n",
      "big_church_count_2000 - 0.0%\n",
      "church_count_2000 - 0.0%\n",
      "mosque_count_2000 - 0.0%\n",
      "leisure_count_2000 - 0.0%\n",
      "sport_count_2000 - 0.0%\n",
      "market_count_2000 - 0.0%\n",
      "green_part_3000 - 0.0%\n",
      "prom_part_3000 - 0.0%\n",
      "office_count_3000 - 0.0%\n",
      "office_sqm_3000 - 0.0%\n",
      "trc_count_3000 - 0.0%\n",
      "trc_sqm_3000 - 0.0%\n",
      "cafe_count_3000 - 0.0%\n",
      "cafe_sum_3000_min_price_avg - 3.0%\n",
      "cafe_sum_3000_max_price_avg - 3.0%\n",
      "cafe_avg_price_3000 - 3.0%\n",
      "cafe_count_3000_na_price - 0.0%\n",
      "cafe_count_3000_price_500 - 0.0%\n",
      "cafe_count_3000_price_1000 - 0.0%\n",
      "cafe_count_3000_price_1500 - 0.0%\n",
      "cafe_count_3000_price_2500 - 0.0%\n",
      "cafe_count_3000_price_4000 - 0.0%\n",
      "cafe_count_3000_price_high - 0.0%\n",
      "big_church_count_3000 - 0.0%\n",
      "church_count_3000 - 0.0%\n",
      "mosque_count_3000 - 0.0%\n",
      "leisure_count_3000 - 0.0%\n",
      "sport_count_3000 - 0.0%\n",
      "market_count_3000 - 0.0%\n",
      "green_part_5000 - 0.0%\n",
      "prom_part_5000 - 1.0%\n",
      "office_count_5000 - 0.0%\n",
      "office_sqm_5000 - 0.0%\n",
      "trc_count_5000 - 0.0%\n",
      "trc_sqm_5000 - 0.0%\n",
      "cafe_count_5000 - 0.0%\n",
      "cafe_sum_5000_min_price_avg - 1.0%\n",
      "cafe_sum_5000_max_price_avg - 1.0%\n",
      "cafe_avg_price_5000 - 1.0%\n",
      "cafe_count_5000_na_price - 0.0%\n",
      "cafe_count_5000_price_500 - 0.0%\n",
      "cafe_count_5000_price_1000 - 0.0%\n",
      "cafe_count_5000_price_1500 - 0.0%\n",
      "cafe_count_5000_price_2500 - 0.0%\n",
      "cafe_count_5000_price_4000 - 0.0%\n",
      "cafe_count_5000_price_high - 0.0%\n",
      "big_church_count_5000 - 0.0%\n",
      "church_count_5000 - 0.0%\n",
      "mosque_count_5000 - 0.0%\n",
      "leisure_count_5000 - 0.0%\n",
      "sport_count_5000 - 0.0%\n",
      "market_count_5000 - 0.0%\n",
      "price_doc - 0.0%\n"
     ]
    }
   ],
   "source": [
    "# Example 7\n",
    "# if it's a larger dataset and the visualization takes too long can do this.\n",
    "# % of missing.\n",
    "for col in df.columns:\n",
    "    pct_missing = np.mean(df[col].isnull())\n",
    "    print('{} - {}%'.format(col, round(pct_missing*100)))"
   ]
  },
  {
   "cell_type": "markdown",
   "metadata": {
    "pycharm": {
     "name": "#%% md\n"
    }
   },
   "source": [
    "The actual amount of data that is missing is listed."
   ]
  },
  {
   "cell_type": "markdown",
   "metadata": {
    "colab_type": "text",
    "id": "W186rE5OYQnc",
    "pycharm": {
     "name": "#%% md\n"
    }
   },
   "source": [
    "## 3.  Missing Data Histogram ##\n",
    "\n",
    "Another visualization which shows summarizes the amount of records with data missing is the Missing Data histogram.  \n",
    "\n",
    "__Example 8:__"
   ]
  },
  {
   "cell_type": "code",
   "execution_count": 9,
   "metadata": {
    "colab": {
     "base_uri": "https://localhost:8080/",
     "height": 1000
    },
    "colab_type": "code",
    "id": "oRbX5axf2eJW",
    "outputId": "b5fde311-c203-499f-db84-d1d10ae4091e",
    "pycharm": {
     "name": "#%%\n"
    }
   },
   "outputs": [
    {
     "name": "stdout",
     "output_type": "stream",
     "text": [
      "created missing indicator for: life_sq\n",
      "created missing indicator for: floor\n",
      "created missing indicator for: max_floor\n",
      "created missing indicator for: material\n",
      "created missing indicator for: build_year\n",
      "created missing indicator for: num_room\n",
      "created missing indicator for: kitch_sq\n",
      "created missing indicator for: state\n",
      "created missing indicator for: preschool_quota\n",
      "created missing indicator for: school_quota\n",
      "created missing indicator for: hospital_beds_raion\n",
      "created missing indicator for: raion_build_count_with_material_info\n",
      "created missing indicator for: build_count_block\n",
      "created missing indicator for: build_count_wood\n",
      "created missing indicator for: build_count_frame\n",
      "created missing indicator for: build_count_brick\n",
      "created missing indicator for: build_count_monolith\n",
      "created missing indicator for: build_count_panel\n",
      "created missing indicator for: build_count_foam\n",
      "created missing indicator for: build_count_slag\n",
      "created missing indicator for: build_count_mix\n",
      "created missing indicator for: raion_build_count_with_builddate_info\n",
      "created missing indicator for: build_count_before_1920\n",
      "created missing indicator for: build_count_1921-1945\n",
      "created missing indicator for: build_count_1946-1970\n",
      "created missing indicator for: build_count_1971-1995\n",
      "created missing indicator for: build_count_after_1995\n",
      "created missing indicator for: metro_min_walk\n",
      "created missing indicator for: metro_km_walk\n",
      "created missing indicator for: railroad_station_walk_km\n",
      "created missing indicator for: railroad_station_walk_min\n",
      "created missing indicator for: ID_railroad_station_walk\n",
      "created missing indicator for: cafe_sum_500_min_price_avg\n",
      "created missing indicator for: cafe_sum_500_max_price_avg\n",
      "created missing indicator for: cafe_avg_price_500\n",
      "created missing indicator for: cafe_sum_1000_min_price_avg\n",
      "created missing indicator for: cafe_sum_1000_max_price_avg\n",
      "created missing indicator for: cafe_avg_price_1000\n",
      "created missing indicator for: cafe_sum_1500_min_price_avg\n",
      "created missing indicator for: cafe_sum_1500_max_price_avg\n",
      "created missing indicator for: cafe_avg_price_1500\n",
      "created missing indicator for: cafe_sum_2000_min_price_avg\n",
      "created missing indicator for: cafe_sum_2000_max_price_avg\n",
      "created missing indicator for: cafe_avg_price_2000\n",
      "created missing indicator for: cafe_sum_3000_min_price_avg\n",
      "created missing indicator for: cafe_sum_3000_max_price_avg\n",
      "created missing indicator for: cafe_avg_price_3000\n",
      "created missing indicator for: prom_part_5000\n",
      "created missing indicator for: cafe_sum_5000_min_price_avg\n",
      "created missing indicator for: cafe_sum_5000_max_price_avg\n",
      "created missing indicator for: cafe_avg_price_5000\n"
     ]
    },
    {
     "data": {
      "text/plain": [
       "<matplotlib.axes._subplots.AxesSubplot at 0x20aa26b10c8>"
      ]
     },
     "execution_count": 9,
     "metadata": {},
     "output_type": "execute_result"
    },
    {
     "data": {
      "image/png": "[encoded data removed]",
      "text/plain": [
       "<Figure size 864x576 with 1 Axes>"
      ]
     },
     "metadata": {},
     "output_type": "display_data"
    }
   ],
   "source": [
    "# Example 8\n",
    "# first create missing indicator for features with missing data\n",
    "for col in df.columns:\n",
    "    missing = df[col].isnull()\n",
    "    num_missing = np.sum(missing)\n",
    "    \n",
    "    if num_missing > 0:  \n",
    "        print('created missing indicator for: {}'.format(col))\n",
    "        df['{}_ismissing'.format(col)] = missing\n",
    "\n",
    "\n",
    "# then based on the indicator, plot the histogram of missing values\n",
    "ismissing_cols = [col for col in df.columns if 'ismissing' in col]\n",
    "df['num_missing'] = df[ismissing_cols].sum(axis=1)\n",
    "\n",
    "df['num_missing'].value_counts().reset_index().sort_values(by='index').plot.bar(x='index', y='num_missing')\n",
    "\n"
   ]
  },
  {
   "cell_type": "markdown",
   "metadata": {
    "colab_type": "text",
    "id": "aWytcp_lYstU",
    "pycharm": {
     "name": "#%% md\n"
    }
   },
   "source": [
    "How to read this?  The x-axis is the number of fields missing in any one data set.  The y-axis is the number of records.  From this, there are over 6k records that have data in every column, and none that have 17 fields missing.  Notice that this does NOT tell you which one of the fields is missing. \n",
    "\n",
    "Now comes the design considerations - what do we want to do or what can be done with all this missing data.  This requires knowing what the desired end result will be - a model, or will it be used specifics.  If the specifics data fields that are missing aren't needed, they can be deleted.  Or the specific observations that are more missing than present.  All these are options to be considered.\n",
    "\n",
    "### Delete the Row ###\n",
    "Let's say we want to create a new dataset deleting those observations with more than 35 features missing.  And now we can process this new dataset.\n",
    "\n",
    "__Example 9:__"
   ]
  },
  {
   "cell_type": "code",
   "execution_count": 10,
   "metadata": {
    "colab": {},
    "colab_type": "code",
    "id": "v4DOqrR8ANtE",
    "pycharm": {
     "name": "#%%\n"
    }
   },
   "outputs": [],
   "source": [
    "# Example 9\n",
    "# drop rows with a lot of missing values.\n",
    "ind_missing = df[df['num_missing'] > 35].index\n",
    "df_less_missing_rows = df.drop(ind_missing, axis=0)"
   ]
  },
  {
   "cell_type": "markdown",
   "metadata": {
    "colab_type": "text",
    "id": "fojKScHnZrAs",
    "pycharm": {
     "name": "#%% md\n"
    }
   },
   "source": [
    "### Delete the column ###  \n",
    "\n",
    "Contrary to above, if we decide that a particular parameter is not necessary or too many are missing, we can delete a parameter and then process that data.\n",
    "\n",
    "__Example 10:__\n"
   ]
  },
  {
   "cell_type": "code",
   "execution_count": 11,
   "metadata": {
    "colab": {},
    "colab_type": "code",
    "id": "79NBc92wAkGb",
    "pycharm": {
     "name": "#%%\n"
    }
   },
   "outputs": [],
   "source": [
    "# Example 10\n",
    "# hospital_beds_raion has a lot of missing.\n",
    "# If we want to drop.\n",
    "cols_to_drop = ['hospital_beds_raion']\n",
    "df_less_hos_beds_raion = df.drop(cols_to_drop, axis=1)"
   ]
  },
  {
   "cell_type": "markdown",
   "metadata": {
    "colab_type": "text",
    "id": "xfQYCgBgaHBk",
    "pycharm": {
     "name": "#%% md\n"
    }
   },
   "source": [
    "### Imput the Missing ###\n",
    "\n",
    "Replace the missing values with something, using a method we talked about - mean or median (for example) for a numerical value or mode for a categorical value.\n",
    "\n",
    "--Note:  When 'fixing' in this content, we're not inputting the data - the correct term IS imput--\n",
    "\n",
    "__Example 11:__"
   ]
  },
  {
   "cell_type": "code",
   "execution_count": 12,
   "metadata": {
    "colab": {
     "base_uri": "https://localhost:8080/",
     "height": 34
    },
    "colab_type": "code",
    "id": "BgLhc7oFacU_",
    "outputId": "5d8273bc-84c3-41da-8ee7-bd0c4a1efd77",
    "pycharm": {
     "name": "#%%\n"
    }
   },
   "outputs": [
    {
     "name": "stdout",
     "output_type": "stream",
     "text": [
      "30.0\n"
     ]
    }
   ],
   "source": [
    "# Example 11\n",
    "# replace missing values with the median.\n",
    "med = df['life_sq'].median()\n",
    "print(med)\n",
    "df['life_sq'] = df['life_sq'].fillna(med)\n"
   ]
  },
  {
   "cell_type": "markdown",
   "metadata": {
    "colab_type": "text",
    "id": "DcKOD17Bakuo",
    "pycharm": {
     "name": "#%% md\n"
    }
   },
   "source": [
    "This puts the value '30.0' in for N/A in life_sq.  \n",
    "\n",
    "Now let's do something similar for all of the numerical data.\n",
    "\n",
    "__Example 12:__"
   ]
  },
  {
   "cell_type": "code",
   "execution_count": 13,
   "metadata": {
    "colab": {
     "base_uri": "https://localhost:8080/",
     "height": 857
    },
    "colab_type": "code",
    "id": "fNpEZPx6a1zy",
    "outputId": "c9c964ae-d402-49af-fc2c-8ef15f7fdad0",
    "pycharm": {
     "name": "#%%\n"
    }
   },
   "outputs": [
    {
     "name": "stdout",
     "output_type": "stream",
     "text": [
      "imputing missing values for: floor\n",
      "imputing missing values for: max_floor\n",
      "imputing missing values for: material\n",
      "imputing missing values for: build_year\n",
      "imputing missing values for: num_room\n",
      "imputing missing values for: kitch_sq\n",
      "imputing missing values for: state\n",
      "imputing missing values for: preschool_quota\n",
      "imputing missing values for: school_quota\n",
      "imputing missing values for: hospital_beds_raion\n",
      "imputing missing values for: raion_build_count_with_material_info\n",
      "imputing missing values for: build_count_block\n",
      "imputing missing values for: build_count_wood\n",
      "imputing missing values for: build_count_frame\n",
      "imputing missing values for: build_count_brick\n",
      "imputing missing values for: build_count_monolith\n",
      "imputing missing values for: build_count_panel\n",
      "imputing missing values for: build_count_foam\n",
      "imputing missing values for: build_count_slag\n",
      "imputing missing values for: build_count_mix\n",
      "imputing missing values for: raion_build_count_with_builddate_info\n",
      "imputing missing values for: build_count_before_1920\n",
      "imputing missing values for: build_count_1921-1945\n",
      "imputing missing values for: build_count_1946-1970\n",
      "imputing missing values for: build_count_1971-1995\n",
      "imputing missing values for: build_count_after_1995\n",
      "imputing missing values for: metro_min_walk\n",
      "imputing missing values for: metro_km_walk\n",
      "imputing missing values for: railroad_station_walk_km\n",
      "imputing missing values for: railroad_station_walk_min\n",
      "imputing missing values for: ID_railroad_station_walk\n",
      "imputing missing values for: cafe_sum_500_min_price_avg\n",
      "imputing missing values for: cafe_sum_500_max_price_avg\n",
      "imputing missing values for: cafe_avg_price_500\n",
      "imputing missing values for: cafe_sum_1000_min_price_avg\n",
      "imputing missing values for: cafe_sum_1000_max_price_avg\n",
      "imputing missing values for: cafe_avg_price_1000\n",
      "imputing missing values for: cafe_sum_1500_min_price_avg\n",
      "imputing missing values for: cafe_sum_1500_max_price_avg\n",
      "imputing missing values for: cafe_avg_price_1500\n",
      "imputing missing values for: cafe_sum_2000_min_price_avg\n",
      "imputing missing values for: cafe_sum_2000_max_price_avg\n",
      "imputing missing values for: cafe_avg_price_2000\n",
      "imputing missing values for: cafe_sum_3000_min_price_avg\n",
      "imputing missing values for: cafe_sum_3000_max_price_avg\n",
      "imputing missing values for: cafe_avg_price_3000\n",
      "imputing missing values for: prom_part_5000\n",
      "imputing missing values for: cafe_sum_5000_min_price_avg\n",
      "imputing missing values for: cafe_sum_5000_max_price_avg\n",
      "imputing missing values for: cafe_avg_price_5000\n"
     ]
    }
   ],
   "source": [
    "# Example 12\n",
    "# imput the missing values and create the missing value indicator variables for each numeric column.\n",
    "df_numeric = df.select_dtypes(include=[np.number])\n",
    "numeric_cols = df_numeric.columns.values\n",
    "\n",
    "for col in numeric_cols:\n",
    "    missing = df[col].isnull()\n",
    "    num_missing = np.sum(missing)\n",
    "    \n",
    "    if num_missing > 0:  # only do the imputation for the columns that have missing values.\n",
    "        print('imputing missing values for: {}'.format(col))\n",
    "        df['{}_ismissing'.format(col)] = missing\n",
    "        med = df[col].median()\n",
    "        df[col] = df[col].fillna(med)"
   ]
  },
  {
   "cell_type": "markdown",
   "metadata": {
    "colab_type": "text",
    "id": "cwjDpukVa9Wy",
    "pycharm": {
     "name": "#%% md\n"
    }
   },
   "source": [
    "Okay, so, from a programming perspective, that code looks funny.. Python is very sensitive to spaces, and the indents are what is completed in the loops.  When you stop indenting, the loop is over.\n",
    "\n",
    "Now do the same thing for categorical data.  We're going to replace with the 'mode' - most frequent data.\n",
    "\n",
    "__Example 13:__"
   ]
  },
  {
   "cell_type": "code",
   "execution_count": 14,
   "metadata": {
    "colab": {},
    "colab_type": "code",
    "id": "3ioSd2nzcaJL",
    "pycharm": {
     "name": "#%%\n"
    }
   },
   "outputs": [],
   "source": [
    "# Example 13\n",
    "# imput the missing values and create the missing value indicator variables for each non-numeric column.\n",
    "df_non_numeric = df.select_dtypes(exclude=[np.number])\n",
    "non_numeric_cols = df_non_numeric.columns.values\n",
    "\n",
    "for col in non_numeric_cols:\n",
    "    missing = df[col].isnull()\n",
    "    num_missing = np.sum(missing)\n",
    "    \n",
    "    if num_missing > 0:  # only do the imputation for the columns that have missing values.\n",
    "        print('imputing missing values for: {}'.format(col))\n",
    "        df['{}_ismissing'.format(col)] = missing\n",
    "        \n",
    "        top = df[col].describe()['top'] # impute with the most frequent value.\n",
    "        df[col] = df[col].fillna(top)"
   ]
  },
  {
   "cell_type": "markdown",
   "metadata": {
    "colab_type": "text",
    "id": "MTSTeF3Rce26",
    "pycharm": {
     "name": "#%% md\n"
    }
   },
   "source": [
    "## Replace the missing values ##\n",
    "For category values, we're now going to replace with MISSING, and numerical values with a particular selected value, in this case -999.\n",
    "\n",
    "__Example 14:__"
   ]
  },
  {
   "cell_type": "code",
   "execution_count": 15,
   "metadata": {
    "colab": {},
    "colab_type": "code",
    "id": "IeqZVNSucu5i",
    "pycharm": {
     "name": "#%%\n"
    }
   },
   "outputs": [],
   "source": [
    "# Example 14\n",
    "# categorical\n",
    "df['sub_area'] = df['sub_area'].fillna('_MISSING_')\n",
    "\n",
    "\n",
    "# numeric\n",
    "df['life_sq'] = df['life_sq'].fillna(-999)"
   ]
  },
  {
   "cell_type": "markdown",
   "metadata": {
    "colab_type": "text",
    "id": "q-BYefcfeoa6",
    "pycharm": {
     "name": "#%% md\n"
    }
   },
   "source": [
    "## Now let's look at unnecessary data ##\n",
    "\n",
    "Depending on your end result, you might want to keep duplicates, otherwise, it is good to get rid of them.  Unnecessary data doesn't add value.\n",
    "\n",
    "### Uninformative/Repetitive ##\n",
    "\n",
    "Sometimes we have multiple rows with the same values.\n",
    "\n",
    "We can identify those by creating a list of parameters with the same value.  \n",
    "\n",
    "Here we find features that over 95% of the rows have the same value.\n",
    "\n",
    "__Example 15:__\n"
   ]
  },
  {
   "cell_type": "code",
   "execution_count": 16,
   "metadata": {
    "colab": {
     "base_uri": "https://localhost:8080/",
     "height": 1000
    },
    "colab_type": "code",
    "id": "fGHQLrhofSHq",
    "outputId": "6ac8011d-3c1f-4beb-95ea-82fb081d684e",
    "pycharm": {
     "name": "#%%\n"
    }
   },
   "outputs": [
    {
     "name": "stdout",
     "output_type": "stream",
     "text": [
      "oil_chemistry_raion: 99.02858%\n",
      "no     30175\n",
      "yes      296\n",
      "Name: oil_chemistry_raion, dtype: int64\n",
      "\n",
      "railroad_terminal_raion: 96.27187%\n",
      "no     29335\n",
      "yes     1136\n",
      "Name: railroad_terminal_raion, dtype: int64\n",
      "\n",
      "nuclear_reactor_raion: 97.16780%\n",
      "no     29608\n",
      "yes      863\n",
      "Name: nuclear_reactor_raion, dtype: int64\n",
      "\n",
      "build_count_foam: 95.35624%\n",
      "0.0     29056\n",
      "1.0       969\n",
      "11.0      262\n",
      "2.0       184\n",
      "Name: build_count_foam, dtype: int64\n",
      "\n",
      "big_road1_1line: 97.43691%\n",
      "no     29690\n",
      "yes      781\n",
      "Name: big_road1_1line, dtype: int64\n",
      "\n",
      "railroad_1line: 97.06934%\n",
      "no     29578\n",
      "yes      893\n",
      "Name: railroad_1line, dtype: int64\n",
      "\n",
      "cafe_count_500_price_high: 97.25641%\n",
      "0    29635\n",
      "1      787\n",
      "2       38\n",
      "3       11\n",
      "Name: cafe_count_500_price_high, dtype: int64\n",
      "\n",
      "mosque_count_500: 99.51101%\n",
      "0    30322\n",
      "1      149\n",
      "Name: mosque_count_500, dtype: int64\n",
      "\n",
      "cafe_count_1000_price_high: 95.52689%\n",
      "0    29108\n",
      "1     1104\n",
      "2      145\n",
      "3       51\n",
      "4       39\n",
      "5       15\n",
      "6        8\n",
      "7        1\n",
      "Name: cafe_count_1000_price_high, dtype: int64\n",
      "\n",
      "mosque_count_1000: 98.08342%\n",
      "0    29887\n",
      "1      584\n",
      "Name: mosque_count_1000, dtype: int64\n",
      "\n",
      "mosque_count_1500: 96.21936%\n",
      "0    29319\n",
      "1     1152\n",
      "Name: mosque_count_1500, dtype: int64\n",
      "\n",
      "floor_ismissing: 99.45194%\n",
      "False    30304\n",
      "True       167\n",
      "Name: floor_ismissing, dtype: int64\n",
      "\n",
      "metro_min_walk_ismissing: 99.91795%\n",
      "False    30446\n",
      "True        25\n",
      "Name: metro_min_walk_ismissing, dtype: int64\n",
      "\n",
      "metro_km_walk_ismissing: 99.91795%\n",
      "False    30446\n",
      "True        25\n",
      "Name: metro_km_walk_ismissing, dtype: int64\n",
      "\n",
      "railroad_station_walk_km_ismissing: 99.91795%\n",
      "False    30446\n",
      "True        25\n",
      "Name: railroad_station_walk_km_ismissing, dtype: int64\n",
      "\n",
      "railroad_station_walk_min_ismissing: 99.91795%\n",
      "False    30446\n",
      "True        25\n",
      "Name: railroad_station_walk_min_ismissing, dtype: int64\n",
      "\n",
      "ID_railroad_station_walk_ismissing: 99.91795%\n",
      "False    30446\n",
      "True        25\n",
      "Name: ID_railroad_station_walk_ismissing, dtype: int64\n",
      "\n",
      "cafe_sum_3000_min_price_avg_ismissing: 96.74773%\n",
      "False    29480\n",
      "True       991\n",
      "Name: cafe_sum_3000_min_price_avg_ismissing, dtype: int64\n",
      "\n",
      "cafe_sum_3000_max_price_avg_ismissing: 96.74773%\n",
      "False    29480\n",
      "True       991\n",
      "Name: cafe_sum_3000_max_price_avg_ismissing, dtype: int64\n",
      "\n",
      "cafe_avg_price_3000_ismissing: 96.74773%\n",
      "False    29480\n",
      "True       991\n",
      "Name: cafe_avg_price_3000_ismissing, dtype: int64\n",
      "\n",
      "prom_part_5000_ismissing: 99.41584%\n",
      "False    30293\n",
      "True       178\n",
      "Name: prom_part_5000_ismissing, dtype: int64\n",
      "\n",
      "cafe_sum_5000_min_price_avg_ismissing: 99.02530%\n",
      "False    30174\n",
      "True       297\n",
      "Name: cafe_sum_5000_min_price_avg_ismissing, dtype: int64\n",
      "\n",
      "cafe_sum_5000_max_price_avg_ismissing: 99.02530%\n",
      "False    30174\n",
      "True       297\n",
      "Name: cafe_sum_5000_max_price_avg_ismissing, dtype: int64\n",
      "\n",
      "cafe_avg_price_5000_ismissing: 99.02530%\n",
      "False    30174\n",
      "True       297\n",
      "Name: cafe_avg_price_5000_ismissing, dtype: int64\n",
      "\n"
     ]
    }
   ],
   "source": [
    "# Example 15\n",
    "num_rows = len(df.index)\n",
    "low_information_cols = [] #\n",
    "\n",
    "for col in df.columns:\n",
    "    cnts = df[col].value_counts(dropna=False)\n",
    "    top_pct = (cnts/num_rows).iloc[0]\n",
    "    \n",
    "    if top_pct > 0.95:\n",
    "        low_information_cols.append(col)\n",
    "        print('{0}: {1:.5f}%'.format(col, top_pct*100))\n",
    "        print(cnts)\n",
    "        print()"
   ]
  },
  {
   "cell_type": "markdown",
   "metadata": {
    "colab_type": "text",
    "id": "E6VtNZzxfWOK",
    "pycharm": {
     "name": "#%% md\n"
    }
   },
   "source": [
    "Now we can look at each variable and decide whether it is valuable or not.  Previously, we have deleted columns.\n",
    "\n",
    "## Irrelevant ## \n",
    "\n",
    "The data needs to contribute.  If it doesn't, remove it.  This is done by looking at all the parameters.  For example, in this data set, the temperature in Toronto doesn't contribute, so remove it.\n",
    "\n",
    "## Duplicates ##\n",
    "\n",
    "Copies of the same observation - two main types.\n",
    "\n",
    "### Features based ###\n",
    "\n",
    "Find these by removing the unique identifer (id).  Then create a new dataset by dropping the duplicates.  Compare the shapes of the two to determine how many duplicates.\n",
    "\n",
    "__Example 16:__"
   ]
  },
  {
   "cell_type": "code",
   "execution_count": 17,
   "metadata": {
    "colab": {
     "base_uri": "https://localhost:8080/",
     "height": 50
    },
    "colab_type": "code",
    "id": "22YollbSgVQK",
    "outputId": "f8aebcf9-027a-4504-a4a0-bb6b32fc6dd8",
    "pycharm": {
     "name": "#%%\n"
    }
   },
   "outputs": [
    {
     "name": "stdout",
     "output_type": "stream",
     "text": [
      "(30471, 344)\n",
      "(30461, 343)\n"
     ]
    }
   ],
   "source": [
    "# Example 16\n",
    "# we know that column 'id' is unique, but what if we drop it?\n",
    "df_dedupped = df.drop('id', axis=1).drop_duplicates()\n",
    "\n",
    "# there were duplicate rows\n",
    "print(df.shape)\n",
    "print(df_dedupped.shape)"
   ]
  },
  {
   "cell_type": "markdown",
   "metadata": {
    "colab_type": "text",
    "id": "gI5E1Ys8gY_d",
    "pycharm": {
     "name": "#%% md\n"
    }
   },
   "source": [
    "Same number of columns (since we removed the unique identifier (id), and the number of rows changed was 10 (30471-30761).\n",
    "\n",
    "### Key Features Based ###\n",
    "\n",
    "For a housing market, there is a very small chance that two transactions with the same square footage, same price and same build year actually happened, so we're going to remove those.\n",
    "\n",
    "Here is where we have to know our data.  We are now going to generate a list of parameters that, statistically, should not happen, and call them critical features.\n",
    "\n",
    "__Example 17:__"
   ]
  },
  {
   "cell_type": "code",
   "execution_count": 18,
   "metadata": {
    "colab": {
     "base_uri": "https://localhost:8080/",
     "height": 386
    },
    "colab_type": "code",
    "id": "fbmVeJS-hMbi",
    "outputId": "67968857-c743-4ef7-9b0c-48dc734d3779",
    "pycharm": {
     "name": "#%%\n"
    }
   },
   "outputs": [
    {
     "data": {
      "text/plain": [
       "timestamp   full_sq  life_sq  floor  build_year  num_room  price_doc\n",
       "2012-10-22  61       30.0     18.0   1979.0      2.0       8248500      2\n",
       "2014-12-17  62       30.0     9.0    1979.0      2.0       6552000      2\n",
       "2014-01-22  46       28.0     1.0    1968.0      2.0       3000000      2\n",
       "2013-04-03  42       30.0     2.0    1979.0      2.0       3444000      2\n",
       "2013-09-23  85       30.0     14.0   1979.0      3.0       7725974      2\n",
       "2012-08-27  59       30.0     6.0    1979.0      2.0       4506800      2\n",
       "2014-04-15  134      134.0    1.0    0.0         3.0       5798496      2\n",
       "2013-05-22  68       30.0     2.0    1979.0      2.0       5406690      2\n",
       "2013-12-05  40       30.0     5.0    1979.0      1.0       4414080      2\n",
       "2012-09-05  43       30.0     21.0   1979.0      2.0       6229540      2\n",
       "2015-03-30  41       41.0     11.0   2016.0      1.0       4114580      2\n",
       "2013-12-18  39       30.0     6.0    1979.0      1.0       3700946      2\n",
       "2013-06-24  40       30.0     12.0   1979.0      2.0       4112800      2\n",
       "2013-08-30  40       30.0     12.0   1979.0      1.0       4462000      2\n",
       "2014-12-09  40       30.0     17.0   1979.0      1.0       4607265      2\n",
       "2015-03-14  62       30.0     2.0    1979.0      2.0       6520500      2\n",
       "2013-08-29  60       60.0     11.0   0.0         2.0       6518400      1\n",
       "            56       41.0     2.0    1961.0      3.0       8380000      1\n",
       "            52       52.0     9.0    1979.0      2.0       5619060      1\n",
       "            58       58.0     13.0   2013.0      2.0       5764128      1\n",
       "Name: id, dtype: int64"
      ]
     },
     "execution_count": 18,
     "metadata": {},
     "output_type": "execute_result"
    }
   ],
   "source": [
    "# Example 17\n",
    "key = ['timestamp', 'full_sq', 'life_sq', 'floor', 'build_year', 'num_room', 'price_doc']\n",
    "\n",
    "df.fillna(-999).groupby(key)['id'].count().sort_values(ascending=False).head(20)"
   ]
  },
  {
   "cell_type": "markdown",
   "metadata": {
    "colab_type": "text",
    "id": "GZozAQU1hlIg",
    "pycharm": {
     "name": "#%% md\n"
    }
   },
   "source": [
    "We can drop these, based on these critical features.\n",
    "\n",
    "__Example 18:__"
   ]
  },
  {
   "cell_type": "code",
   "execution_count": 19,
   "metadata": {
    "colab": {
     "base_uri": "https://localhost:8080/",
     "height": 50
    },
    "colab_type": "code",
    "id": "7X_p8mwshk5P",
    "outputId": "b26d240a-36d3-451a-a464-c8b6d96df772",
    "pycharm": {
     "name": "#%%\n"
    }
   },
   "outputs": [
    {
     "name": "stdout",
     "output_type": "stream",
     "text": [
      "(30471, 344)\n",
      "(30455, 344)\n"
     ]
    }
   ],
   "source": [
    "# Example 18\n",
    "# drop duplicates based on an subset of variables.\n",
    "\n",
    "key = ['timestamp', 'full_sq', 'life_sq', 'floor', 'build_year', 'num_room', 'price_doc']\n",
    "df_dedupped2 = df.drop_duplicates(subset=key)\n",
    "\n",
    "print(df.shape)\n",
    "print(df_dedupped2.shape)"
   ]
  },
  {
   "cell_type": "markdown",
   "metadata": {
    "colab_type": "text",
    "id": "bAt_51uthuuZ",
    "pycharm": {
     "name": "#%% md\n"
    }
   },
   "source": [
    "We've dropped another 16 (30471-30455).\n",
    "\n",
    "### Standardizing ###\n",
    "\n",
    "We can now apply standards to clean up our data.  Case management (CAPS vs lowercase) is the bane of data scientists.  Python is case sensitive.  Let's look at the sub_area parameter case, and make everything lowercase.\n",
    "\n",
    "__Example 19:__"
   ]
  },
  {
   "cell_type": "code",
   "execution_count": 20,
   "metadata": {
    "colab": {
     "base_uri": "https://localhost:8080/",
     "height": 218
    },
    "colab_type": "code",
    "id": "n38XfovoiEA1",
    "outputId": "95e26ecf-7903-479e-d1af-91c39a06b75c",
    "pycharm": {
     "name": "#%%\n"
    }
   },
   "outputs": [
    {
     "data": {
      "text/plain": [
       "poselenie sosenskoe               1776\n",
       "nekrasovka                        1611\n",
       "poselenie vnukovskoe              1372\n",
       "poselenie moskovskij               925\n",
       "poselenie voskresenskoe            713\n",
       "                                  ... \n",
       "molzhaninovskoe                      3\n",
       "poselenie kievskij                   2\n",
       "poselenie shhapovskoe                2\n",
       "poselenie klenovskoe                 1\n",
       "poselenie mihajlovo-jarcevskoe       1\n",
       "Name: sub_area_lower, Length: 146, dtype: int64"
      ]
     },
     "execution_count": 20,
     "metadata": {},
     "output_type": "execute_result"
    }
   ],
   "source": [
    "# Example 19\n",
    "df['sub_area'].value_counts(dropna=False)\n",
    "\n",
    "# make everything lower case.\n",
    "df['sub_area_lower'] = df['sub_area'].str.lower()\n",
    "df['sub_area_lower'].value_counts(dropna=False)"
   ]
  },
  {
   "cell_type": "markdown",
   "metadata": {
    "colab_type": "text",
    "id": "Td0BBZuPidT6",
    "pycharm": {
     "name": "#%% md\n"
    }
   },
   "source": [
    "Another standard to apply to clean up is formats.  This is currently saved in string format - let's change to DateTime.  timestamp is the parameter we're going to check.\n",
    "\n",
    "__Example 20:__"
   ]
  },
  {
   "cell_type": "code",
   "execution_count": 21,
   "metadata": {
    "colab": {
     "base_uri": "https://localhost:8080/",
     "height": 606
    },
    "colab_type": "code",
    "id": "ld5qQGzMi28p",
    "outputId": "e1a71062-81dc-43d6-fb8d-9d3fb9a59a50",
    "pycharm": {
     "name": "#%%\n"
    }
   },
   "outputs": [
    {
     "data": {
      "text/html": [
       "<div>\n",
       "<style scoped>\n",
       "    .dataframe tbody tr th:only-of-type {\n",
       "        vertical-align: middle;\n",
       "    }\n",
       "\n",
       "    .dataframe tbody tr th {\n",
       "        vertical-align: top;\n",
       "    }\n",
       "\n",
       "    .dataframe thead th {\n",
       "        text-align: right;\n",
       "    }\n",
       "</style>\n",
       "<table border=\"1\" class=\"dataframe\">\n",
       "  <thead>\n",
       "    <tr style=\"text-align: right;\">\n",
       "      <th></th>\n",
       "      <th>id</th>\n",
       "      <th>timestamp</th>\n",
       "      <th>full_sq</th>\n",
       "      <th>life_sq</th>\n",
       "      <th>floor</th>\n",
       "      <th>max_floor</th>\n",
       "      <th>material</th>\n",
       "      <th>build_year</th>\n",
       "      <th>num_room</th>\n",
       "      <th>kitch_sq</th>\n",
       "      <th>...</th>\n",
       "      <th>cafe_avg_price_2000_ismissing</th>\n",
       "      <th>cafe_sum_3000_min_price_avg_ismissing</th>\n",
       "      <th>cafe_sum_3000_max_price_avg_ismissing</th>\n",
       "      <th>cafe_avg_price_3000_ismissing</th>\n",
       "      <th>prom_part_5000_ismissing</th>\n",
       "      <th>cafe_sum_5000_min_price_avg_ismissing</th>\n",
       "      <th>cafe_sum_5000_max_price_avg_ismissing</th>\n",
       "      <th>cafe_avg_price_5000_ismissing</th>\n",
       "      <th>num_missing</th>\n",
       "      <th>sub_area_lower</th>\n",
       "    </tr>\n",
       "  </thead>\n",
       "  <tbody>\n",
       "    <tr>\n",
       "      <th>0</th>\n",
       "      <td>1</td>\n",
       "      <td>2011-08-20</td>\n",
       "      <td>43</td>\n",
       "      <td>27.0</td>\n",
       "      <td>4.0</td>\n",
       "      <td>12.0</td>\n",
       "      <td>1.0</td>\n",
       "      <td>1979.0</td>\n",
       "      <td>2.0</td>\n",
       "      <td>6.0</td>\n",
       "      <td>...</td>\n",
       "      <td>False</td>\n",
       "      <td>False</td>\n",
       "      <td>False</td>\n",
       "      <td>False</td>\n",
       "      <td>False</td>\n",
       "      <td>False</td>\n",
       "      <td>False</td>\n",
       "      <td>False</td>\n",
       "      <td>9</td>\n",
       "      <td>bibirevo</td>\n",
       "    </tr>\n",
       "    <tr>\n",
       "      <th>1</th>\n",
       "      <td>2</td>\n",
       "      <td>2011-08-23</td>\n",
       "      <td>34</td>\n",
       "      <td>19.0</td>\n",
       "      <td>3.0</td>\n",
       "      <td>12.0</td>\n",
       "      <td>1.0</td>\n",
       "      <td>1979.0</td>\n",
       "      <td>2.0</td>\n",
       "      <td>6.0</td>\n",
       "      <td>...</td>\n",
       "      <td>False</td>\n",
       "      <td>False</td>\n",
       "      <td>False</td>\n",
       "      <td>False</td>\n",
       "      <td>False</td>\n",
       "      <td>False</td>\n",
       "      <td>False</td>\n",
       "      <td>False</td>\n",
       "      <td>6</td>\n",
       "      <td>nagatinskij zaton</td>\n",
       "    </tr>\n",
       "    <tr>\n",
       "      <th>2</th>\n",
       "      <td>3</td>\n",
       "      <td>2011-08-27</td>\n",
       "      <td>43</td>\n",
       "      <td>29.0</td>\n",
       "      <td>2.0</td>\n",
       "      <td>12.0</td>\n",
       "      <td>1.0</td>\n",
       "      <td>1979.0</td>\n",
       "      <td>2.0</td>\n",
       "      <td>6.0</td>\n",
       "      <td>...</td>\n",
       "      <td>False</td>\n",
       "      <td>False</td>\n",
       "      <td>False</td>\n",
       "      <td>False</td>\n",
       "      <td>False</td>\n",
       "      <td>False</td>\n",
       "      <td>False</td>\n",
       "      <td>False</td>\n",
       "      <td>6</td>\n",
       "      <td>tekstil'shhiki</td>\n",
       "    </tr>\n",
       "    <tr>\n",
       "      <th>3</th>\n",
       "      <td>4</td>\n",
       "      <td>2011-09-01</td>\n",
       "      <td>89</td>\n",
       "      <td>50.0</td>\n",
       "      <td>9.0</td>\n",
       "      <td>12.0</td>\n",
       "      <td>1.0</td>\n",
       "      <td>1979.0</td>\n",
       "      <td>2.0</td>\n",
       "      <td>6.0</td>\n",
       "      <td>...</td>\n",
       "      <td>False</td>\n",
       "      <td>False</td>\n",
       "      <td>False</td>\n",
       "      <td>False</td>\n",
       "      <td>False</td>\n",
       "      <td>False</td>\n",
       "      <td>False</td>\n",
       "      <td>False</td>\n",
       "      <td>7</td>\n",
       "      <td>mitino</td>\n",
       "    </tr>\n",
       "    <tr>\n",
       "      <th>4</th>\n",
       "      <td>5</td>\n",
       "      <td>2011-09-05</td>\n",
       "      <td>77</td>\n",
       "      <td>77.0</td>\n",
       "      <td>4.0</td>\n",
       "      <td>12.0</td>\n",
       "      <td>1.0</td>\n",
       "      <td>1979.0</td>\n",
       "      <td>2.0</td>\n",
       "      <td>6.0</td>\n",
       "      <td>...</td>\n",
       "      <td>False</td>\n",
       "      <td>False</td>\n",
       "      <td>False</td>\n",
       "      <td>False</td>\n",
       "      <td>False</td>\n",
       "      <td>False</td>\n",
       "      <td>False</td>\n",
       "      <td>False</td>\n",
       "      <td>6</td>\n",
       "      <td>basmannoe</td>\n",
       "    </tr>\n",
       "    <tr>\n",
       "      <th>...</th>\n",
       "      <td>...</td>\n",
       "      <td>...</td>\n",
       "      <td>...</td>\n",
       "      <td>...</td>\n",
       "      <td>...</td>\n",
       "      <td>...</td>\n",
       "      <td>...</td>\n",
       "      <td>...</td>\n",
       "      <td>...</td>\n",
       "      <td>...</td>\n",
       "      <td>...</td>\n",
       "      <td>...</td>\n",
       "      <td>...</td>\n",
       "      <td>...</td>\n",
       "      <td>...</td>\n",
       "      <td>...</td>\n",
       "      <td>...</td>\n",
       "      <td>...</td>\n",
       "      <td>...</td>\n",
       "      <td>...</td>\n",
       "      <td>...</td>\n",
       "    </tr>\n",
       "    <tr>\n",
       "      <th>30466</th>\n",
       "      <td>30469</td>\n",
       "      <td>2015-06-30</td>\n",
       "      <td>44</td>\n",
       "      <td>27.0</td>\n",
       "      <td>7.0</td>\n",
       "      <td>9.0</td>\n",
       "      <td>1.0</td>\n",
       "      <td>1975.0</td>\n",
       "      <td>2.0</td>\n",
       "      <td>6.0</td>\n",
       "      <td>...</td>\n",
       "      <td>False</td>\n",
       "      <td>False</td>\n",
       "      <td>False</td>\n",
       "      <td>False</td>\n",
       "      <td>False</td>\n",
       "      <td>False</td>\n",
       "      <td>False</td>\n",
       "      <td>False</td>\n",
       "      <td>1</td>\n",
       "      <td>otradnoe</td>\n",
       "    </tr>\n",
       "    <tr>\n",
       "      <th>30467</th>\n",
       "      <td>30470</td>\n",
       "      <td>2015-06-30</td>\n",
       "      <td>86</td>\n",
       "      <td>59.0</td>\n",
       "      <td>3.0</td>\n",
       "      <td>9.0</td>\n",
       "      <td>2.0</td>\n",
       "      <td>1935.0</td>\n",
       "      <td>4.0</td>\n",
       "      <td>10.0</td>\n",
       "      <td>...</td>\n",
       "      <td>False</td>\n",
       "      <td>False</td>\n",
       "      <td>False</td>\n",
       "      <td>False</td>\n",
       "      <td>False</td>\n",
       "      <td>False</td>\n",
       "      <td>False</td>\n",
       "      <td>False</td>\n",
       "      <td>0</td>\n",
       "      <td>tverskoe</td>\n",
       "    </tr>\n",
       "    <tr>\n",
       "      <th>30468</th>\n",
       "      <td>30471</td>\n",
       "      <td>2015-06-30</td>\n",
       "      <td>45</td>\n",
       "      <td>30.0</td>\n",
       "      <td>10.0</td>\n",
       "      <td>20.0</td>\n",
       "      <td>1.0</td>\n",
       "      <td>1979.0</td>\n",
       "      <td>1.0</td>\n",
       "      <td>1.0</td>\n",
       "      <td>...</td>\n",
       "      <td>False</td>\n",
       "      <td>False</td>\n",
       "      <td>False</td>\n",
       "      <td>False</td>\n",
       "      <td>False</td>\n",
       "      <td>False</td>\n",
       "      <td>False</td>\n",
       "      <td>False</td>\n",
       "      <td>21</td>\n",
       "      <td>poselenie vnukovskoe</td>\n",
       "    </tr>\n",
       "    <tr>\n",
       "      <th>30469</th>\n",
       "      <td>30472</td>\n",
       "      <td>2015-06-30</td>\n",
       "      <td>64</td>\n",
       "      <td>32.0</td>\n",
       "      <td>5.0</td>\n",
       "      <td>15.0</td>\n",
       "      <td>1.0</td>\n",
       "      <td>2003.0</td>\n",
       "      <td>2.0</td>\n",
       "      <td>11.0</td>\n",
       "      <td>...</td>\n",
       "      <td>False</td>\n",
       "      <td>False</td>\n",
       "      <td>False</td>\n",
       "      <td>False</td>\n",
       "      <td>False</td>\n",
       "      <td>False</td>\n",
       "      <td>False</td>\n",
       "      <td>False</td>\n",
       "      <td>0</td>\n",
       "      <td>obruchevskoe</td>\n",
       "    </tr>\n",
       "    <tr>\n",
       "      <th>30470</th>\n",
       "      <td>30473</td>\n",
       "      <td>2015-06-30</td>\n",
       "      <td>43</td>\n",
       "      <td>28.0</td>\n",
       "      <td>1.0</td>\n",
       "      <td>9.0</td>\n",
       "      <td>1.0</td>\n",
       "      <td>1968.0</td>\n",
       "      <td>2.0</td>\n",
       "      <td>6.0</td>\n",
       "      <td>...</td>\n",
       "      <td>False</td>\n",
       "      <td>False</td>\n",
       "      <td>False</td>\n",
       "      <td>False</td>\n",
       "      <td>False</td>\n",
       "      <td>False</td>\n",
       "      <td>False</td>\n",
       "      <td>False</td>\n",
       "      <td>0</td>\n",
       "      <td>novogireevo</td>\n",
       "    </tr>\n",
       "  </tbody>\n",
       "</table>\n",
       "<p>30471 rows × 345 columns</p>\n",
       "</div>"
      ],
      "text/plain": [
       "          id   timestamp  full_sq  life_sq  floor  max_floor  material  \\\n",
       "0          1  2011-08-20       43     27.0    4.0       12.0       1.0   \n",
       "1          2  2011-08-23       34     19.0    3.0       12.0       1.0   \n",
       "2          3  2011-08-27       43     29.0    2.0       12.0       1.0   \n",
       "3          4  2011-09-01       89     50.0    9.0       12.0       1.0   \n",
       "4          5  2011-09-05       77     77.0    4.0       12.0       1.0   \n",
       "...      ...         ...      ...      ...    ...        ...       ...   \n",
       "30466  30469  2015-06-30       44     27.0    7.0        9.0       1.0   \n",
       "30467  30470  2015-06-30       86     59.0    3.0        9.0       2.0   \n",
       "30468  30471  2015-06-30       45     30.0   10.0       20.0       1.0   \n",
       "30469  30472  2015-06-30       64     32.0    5.0       15.0       1.0   \n",
       "30470  30473  2015-06-30       43     28.0    1.0        9.0       1.0   \n",
       "\n",
       "       build_year  num_room  kitch_sq  ...  cafe_avg_price_2000_ismissing  \\\n",
       "0          1979.0       2.0       6.0  ...                          False   \n",
       "1          1979.0       2.0       6.0  ...                          False   \n",
       "2          1979.0       2.0       6.0  ...                          False   \n",
       "3          1979.0       2.0       6.0  ...                          False   \n",
       "4          1979.0       2.0       6.0  ...                          False   \n",
       "...           ...       ...       ...  ...                            ...   \n",
       "30466      1975.0       2.0       6.0  ...                          False   \n",
       "30467      1935.0       4.0      10.0  ...                          False   \n",
       "30468      1979.0       1.0       1.0  ...                          False   \n",
       "30469      2003.0       2.0      11.0  ...                          False   \n",
       "30470      1968.0       2.0       6.0  ...                          False   \n",
       "\n",
       "      cafe_sum_3000_min_price_avg_ismissing  \\\n",
       "0                                     False   \n",
       "1                                     False   \n",
       "2                                     False   \n",
       "3                                     False   \n",
       "4                                     False   \n",
       "...                                     ...   \n",
       "30466                                 False   \n",
       "30467                                 False   \n",
       "30468                                 False   \n",
       "30469                                 False   \n",
       "30470                                 False   \n",
       "\n",
       "      cafe_sum_3000_max_price_avg_ismissing  cafe_avg_price_3000_ismissing  \\\n",
       "0                                     False                          False   \n",
       "1                                     False                          False   \n",
       "2                                     False                          False   \n",
       "3                                     False                          False   \n",
       "4                                     False                          False   \n",
       "...                                     ...                            ...   \n",
       "30466                                 False                          False   \n",
       "30467                                 False                          False   \n",
       "30468                                 False                          False   \n",
       "30469                                 False                          False   \n",
       "30470                                 False                          False   \n",
       "\n",
       "       prom_part_5000_ismissing  cafe_sum_5000_min_price_avg_ismissing  \\\n",
       "0                         False                                  False   \n",
       "1                         False                                  False   \n",
       "2                         False                                  False   \n",
       "3                         False                                  False   \n",
       "4                         False                                  False   \n",
       "...                         ...                                    ...   \n",
       "30466                     False                                  False   \n",
       "30467                     False                                  False   \n",
       "30468                     False                                  False   \n",
       "30469                     False                                  False   \n",
       "30470                     False                                  False   \n",
       "\n",
       "       cafe_sum_5000_max_price_avg_ismissing  cafe_avg_price_5000_ismissing  \\\n",
       "0                                      False                          False   \n",
       "1                                      False                          False   \n",
       "2                                      False                          False   \n",
       "3                                      False                          False   \n",
       "4                                      False                          False   \n",
       "...                                      ...                            ...   \n",
       "30466                                  False                          False   \n",
       "30467                                  False                          False   \n",
       "30468                                  False                          False   \n",
       "30469                                  False                          False   \n",
       "30470                                  False                          False   \n",
       "\n",
       "       num_missing        sub_area_lower  \n",
       "0                9              bibirevo  \n",
       "1                6     nagatinskij zaton  \n",
       "2                6        tekstil'shhiki  \n",
       "3                7                mitino  \n",
       "4                6             basmannoe  \n",
       "...            ...                   ...  \n",
       "30466            1              otradnoe  \n",
       "30467            0              tverskoe  \n",
       "30468           21  poselenie vnukovskoe  \n",
       "30469            0          obruchevskoe  \n",
       "30470            0           novogireevo  \n",
       "\n",
       "[30471 rows x 345 columns]"
      ]
     },
     "execution_count": 21,
     "metadata": {},
     "output_type": "execute_result"
    }
   ],
   "source": [
    "# Example 20\n",
    "df\n"
   ]
  },
  {
   "cell_type": "markdown",
   "metadata": {
    "colab_type": "text",
    "id": "FMskPlkbjCeI",
    "pycharm": {
     "name": "#%% md\n"
    }
   },
   "source": [
    "Convert and extract date and time values by using the code.  Then we can also break it out by month or year.\n",
    "\n",
    "__Example 21:__"
   ]
  },
  {
   "cell_type": "code",
   "execution_count": 22,
   "metadata": {
    "colab": {
     "base_uri": "https://localhost:8080/",
     "height": 353
    },
    "colab_type": "code",
    "id": "7bSCH3vKjCLQ",
    "outputId": "3e4534d8-1ab3-4fc4-8221-c57b6bcc7308",
    "pycharm": {
     "name": "#%%\n"
    }
   },
   "outputs": [
    {
     "name": "stdout",
     "output_type": "stream",
     "text": [
      "2014    13662\n",
      "2013     7978\n",
      "2012     4839\n",
      "2015     3239\n",
      "2011      753\n",
      "Name: year, dtype: int64\n",
      "\n",
      "12    3400\n",
      "4     3191\n",
      "3     2972\n",
      "11    2970\n",
      "10    2736\n",
      "6     2570\n",
      "5     2496\n",
      "9     2346\n",
      "2     2275\n",
      "7     1875\n",
      "8     1831\n",
      "1     1809\n",
      "Name: month, dtype: int64\n"
     ]
    }
   ],
   "source": [
    "# Example 21\n",
    "df['timestamp_dt'] = pd.to_datetime(df['timestamp'], format='%Y-%m-%d')\n",
    "df['year'] = df['timestamp_dt'].dt.year\n",
    "df['month'] = df['timestamp_dt'].dt.month\n",
    "df['weekday'] = df['timestamp_dt'].dt.weekday\n",
    "\n",
    "print(df['year'].value_counts(dropna=False))\n",
    "print()\n",
    "print(df['month'].value_counts(dropna=False))"
   ]
  },
  {
   "cell_type": "markdown",
   "metadata": {
    "colab_type": "text",
    "id": "RgXu8-WYkAuc",
    "pycharm": {
     "name": "#%% md\n"
    }
   },
   "source": [
    "So we can tell what years and months these sales.  2014 was a good year, and December was a busy month. \n",
    "\n",
    "This data set doesn't have any examples of this subsequent cleaning techniques, so we have to create a new one.  Again, we'll call it df.\n",
    "\n",
    "This data set is Canadian addresses.\n",
    "What we are doing is looking for the 'distance' from probably misspellings to correct spellings.\n",
    "\n",
    "__Example 22:__"
   ]
  },
  {
   "cell_type": "code",
   "execution_count": 23,
   "metadata": {
    "colab": {},
    "colab_type": "code",
    "id": "moe2Ed6qlAhr",
    "pycharm": {
     "name": "#%%\n"
    }
   },
   "outputs": [],
   "source": [
    "# Example 22\n",
    "from nltk.metrics import edit_distance\n"
   ]
  },
  {
   "cell_type": "markdown",
   "metadata": {
    "colab_type": "text",
    "id": "IFZ0ZuSLlKF-",
    "pycharm": {
     "name": "#%% md\n"
    }
   },
   "source": [
    "\n",
    "Other standards we can apply include the categories.  A category has a limited number of values, but typograpical errors increase that number.  Let's check for typos to make sure we have the right number of values in a category.\n",
    "\n",
    "__Example 23:__"
   ]
  },
  {
   "cell_type": "code",
   "execution_count": 25,
   "metadata": {
    "colab": {
     "base_uri": "https://localhost:8080/",
     "height": 284
    },
    "colab_type": "code",
    "id": "wWOHk5Evlk0L",
    "outputId": "56d00935-caa4-4504-df6e-9f7bb3978002",
    "pycharm": {
     "name": "#%%\n"
    }
   },
   "outputs": [
    {
     "data": {
      "text/html": [
       "<div>\n",
       "<style scoped>\n",
       "    .dataframe tbody tr th:only-of-type {\n",
       "        vertical-align: middle;\n",
       "    }\n",
       "\n",
       "    .dataframe tbody tr th {\n",
       "        vertical-align: top;\n",
       "    }\n",
       "\n",
       "    .dataframe thead th {\n",
       "        text-align: right;\n",
       "    }\n",
       "</style>\n",
       "<table border=\"1\" class=\"dataframe\">\n",
       "  <thead>\n",
       "    <tr style=\"text-align: right;\">\n",
       "      <th></th>\n",
       "      <th>city</th>\n",
       "      <th>city_distance_toronto</th>\n",
       "      <th>city_distance_vancouver</th>\n",
       "    </tr>\n",
       "  </thead>\n",
       "  <tbody>\n",
       "    <tr>\n",
       "      <th>0</th>\n",
       "      <td>torontoo</td>\n",
       "      <td>1</td>\n",
       "      <td>8</td>\n",
       "    </tr>\n",
       "    <tr>\n",
       "      <th>1</th>\n",
       "      <td>toronto</td>\n",
       "      <td>0</td>\n",
       "      <td>8</td>\n",
       "    </tr>\n",
       "    <tr>\n",
       "      <th>2</th>\n",
       "      <td>tronto</td>\n",
       "      <td>1</td>\n",
       "      <td>8</td>\n",
       "    </tr>\n",
       "    <tr>\n",
       "      <th>3</th>\n",
       "      <td>vancouver</td>\n",
       "      <td>8</td>\n",
       "      <td>0</td>\n",
       "    </tr>\n",
       "    <tr>\n",
       "      <th>4</th>\n",
       "      <td>vancover</td>\n",
       "      <td>7</td>\n",
       "      <td>1</td>\n",
       "    </tr>\n",
       "    <tr>\n",
       "      <th>5</th>\n",
       "      <td>vancouvr</td>\n",
       "      <td>7</td>\n",
       "      <td>1</td>\n",
       "    </tr>\n",
       "    <tr>\n",
       "      <th>6</th>\n",
       "      <td>montreal</td>\n",
       "      <td>7</td>\n",
       "      <td>8</td>\n",
       "    </tr>\n",
       "    <tr>\n",
       "      <th>7</th>\n",
       "      <td>calgary</td>\n",
       "      <td>7</td>\n",
       "      <td>8</td>\n",
       "    </tr>\n",
       "  </tbody>\n",
       "</table>\n",
       "</div>"
      ],
      "text/plain": [
       "        city  city_distance_toronto  city_distance_vancouver\n",
       "0   torontoo                      1                        8\n",
       "1    toronto                      0                        8\n",
       "2     tronto                      1                        8\n",
       "3  vancouver                      8                        0\n",
       "4   vancover                      7                        1\n",
       "5   vancouvr                      7                        1\n",
       "6   montreal                      7                        8\n",
       "7    calgary                      7                        8"
      ]
     },
     "execution_count": 25,
     "metadata": {},
     "output_type": "execute_result"
    }
   ],
   "source": [
    "# Example 23\n",
    "df_city_ex = pd.DataFrame(data={'city': ['torontoo', 'toronto', 'tronto', 'vancouver', 'vancover', 'vancouvr', 'montreal', 'calgary']})\n",
    "\n",
    "df_city_ex['city_distance_toronto'] = df_city_ex['city'].map(lambda x: edit_distance(x, 'toronto'))\n",
    "df_city_ex['city_distance_vancouver'] = df_city_ex['city'].map(lambda x: edit_distance(x, 'vancouver'))\n",
    "df_city_ex"
   ]
  },
  {
   "cell_type": "markdown",
   "metadata": {
    "colab_type": "text",
    "id": "lyK9VHl2lyGf",
    "pycharm": {
     "name": "#%% md\n"
    }
   },
   "source": [
    "To handle this, we find wrong ones and replace with correct ones.\n",
    "\n",
    "__Example 24:__"
   ]
  },
  {
   "cell_type": "code",
   "execution_count": 26,
   "metadata": {
    "colab": {
     "base_uri": "https://localhost:8080/",
     "height": 284
    },
    "colab_type": "code",
    "id": "NhwX1FKdl4td",
    "outputId": "fe921746-e0e9-4df3-c3e5-f6f1a0834342",
    "pycharm": {
     "name": "#%%\n"
    }
   },
   "outputs": [
    {
     "data": {
      "text/html": [
       "<div>\n",
       "<style scoped>\n",
       "    .dataframe tbody tr th:only-of-type {\n",
       "        vertical-align: middle;\n",
       "    }\n",
       "\n",
       "    .dataframe tbody tr th {\n",
       "        vertical-align: top;\n",
       "    }\n",
       "\n",
       "    .dataframe thead th {\n",
       "        text-align: right;\n",
       "    }\n",
       "</style>\n",
       "<table border=\"1\" class=\"dataframe\">\n",
       "  <thead>\n",
       "    <tr style=\"text-align: right;\">\n",
       "      <th></th>\n",
       "      <th>city</th>\n",
       "      <th>city_distance_toronto</th>\n",
       "      <th>city_distance_vancouver</th>\n",
       "    </tr>\n",
       "  </thead>\n",
       "  <tbody>\n",
       "    <tr>\n",
       "      <th>0</th>\n",
       "      <td>toronto</td>\n",
       "      <td>1</td>\n",
       "      <td>8</td>\n",
       "    </tr>\n",
       "    <tr>\n",
       "      <th>1</th>\n",
       "      <td>toronto</td>\n",
       "      <td>0</td>\n",
       "      <td>8</td>\n",
       "    </tr>\n",
       "    <tr>\n",
       "      <th>2</th>\n",
       "      <td>toronto</td>\n",
       "      <td>1</td>\n",
       "      <td>8</td>\n",
       "    </tr>\n",
       "    <tr>\n",
       "      <th>3</th>\n",
       "      <td>vancouver</td>\n",
       "      <td>8</td>\n",
       "      <td>0</td>\n",
       "    </tr>\n",
       "    <tr>\n",
       "      <th>4</th>\n",
       "      <td>vancouver</td>\n",
       "      <td>7</td>\n",
       "      <td>1</td>\n",
       "    </tr>\n",
       "    <tr>\n",
       "      <th>5</th>\n",
       "      <td>vancouver</td>\n",
       "      <td>7</td>\n",
       "      <td>1</td>\n",
       "    </tr>\n",
       "    <tr>\n",
       "      <th>6</th>\n",
       "      <td>montreal</td>\n",
       "      <td>7</td>\n",
       "      <td>8</td>\n",
       "    </tr>\n",
       "    <tr>\n",
       "      <th>7</th>\n",
       "      <td>calgary</td>\n",
       "      <td>7</td>\n",
       "      <td>8</td>\n",
       "    </tr>\n",
       "  </tbody>\n",
       "</table>\n",
       "</div>"
      ],
      "text/plain": [
       "        city  city_distance_toronto  city_distance_vancouver\n",
       "0    toronto                      1                        8\n",
       "1    toronto                      0                        8\n",
       "2    toronto                      1                        8\n",
       "3  vancouver                      8                        0\n",
       "4  vancouver                      7                        1\n",
       "5  vancouver                      7                        1\n",
       "6   montreal                      7                        8\n",
       "7    calgary                      7                        8"
      ]
     },
     "execution_count": 26,
     "metadata": {},
     "output_type": "execute_result"
    }
   ],
   "source": [
    "# Example 24\n",
    "msk = df_city_ex['city_distance_toronto'] <= 2\n",
    "df_city_ex.loc[msk, 'city'] = 'toronto'\n",
    "\n",
    "msk = df_city_ex['city_distance_vancouver'] <= 2\n",
    "df_city_ex.loc[msk, 'city'] = 'vancouver'\n",
    "\n",
    "df_city_ex"
   ]
  },
  {
   "cell_type": "markdown",
   "metadata": {
    "colab_type": "text",
    "id": "8K52NS2OmABw",
    "pycharm": {
     "name": "#%% md\n"
    }
   },
   "source": [
    "Addresses can be standardized also.  The Canadian housing dataset is clean, so create one specifically for this example.\n",
    "\n",
    "__Example 25:__"
   ]
  },
  {
   "cell_type": "code",
   "execution_count": 27,
   "metadata": {
    "colab": {
     "base_uri": "https://localhost:8080/",
     "height": 166
    },
    "colab_type": "code",
    "id": "dr7Bh5FNmFby",
    "outputId": "c53c48a9-9b19-48ae-c22c-65fda9c0c466",
    "pycharm": {
     "name": "#%%\n"
    }
   },
   "outputs": [
    {
     "data": {
      "text/html": [
       "<div>\n",
       "<style scoped>\n",
       "    .dataframe tbody tr th:only-of-type {\n",
       "        vertical-align: middle;\n",
       "    }\n",
       "\n",
       "    .dataframe tbody tr th {\n",
       "        vertical-align: top;\n",
       "    }\n",
       "\n",
       "    .dataframe thead th {\n",
       "        text-align: right;\n",
       "    }\n",
       "</style>\n",
       "<table border=\"1\" class=\"dataframe\">\n",
       "  <thead>\n",
       "    <tr style=\"text-align: right;\">\n",
       "      <th></th>\n",
       "      <th>address</th>\n",
       "    </tr>\n",
       "  </thead>\n",
       "  <tbody>\n",
       "    <tr>\n",
       "      <th>0</th>\n",
       "      <td>123 MAIN St Apartment 15</td>\n",
       "    </tr>\n",
       "    <tr>\n",
       "      <th>1</th>\n",
       "      <td>123 Main Street Apt 12</td>\n",
       "    </tr>\n",
       "    <tr>\n",
       "      <th>2</th>\n",
       "      <td>543 FirSt Av</td>\n",
       "    </tr>\n",
       "    <tr>\n",
       "      <th>3</th>\n",
       "      <td>876 FIRst Ave.</td>\n",
       "    </tr>\n",
       "  </tbody>\n",
       "</table>\n",
       "</div>"
      ],
      "text/plain": [
       "                     address\n",
       "0   123 MAIN St Apartment 15\n",
       "1  123 Main Street Apt 12   \n",
       "2               543 FirSt Av\n",
       "3             876 FIRst Ave."
      ]
     },
     "execution_count": 27,
     "metadata": {},
     "output_type": "execute_result"
    }
   ],
   "source": [
    "# Example 25\n",
    "# no address column in the housing dataset. So create one to show the code.\n",
    "df_add_ex = pd.DataFrame(['123 MAIN St Apartment 15', '123 Main Street Apt 12   ', '543 FirSt Av', '  876 FIRst Ave.'], columns=['address'])\n",
    "df_add_ex"
   ]
  },
  {
   "cell_type": "markdown",
   "metadata": {
    "colab": {},
    "colab_type": "code",
    "id": "-FDn97sKmVtX",
    "pycharm": {
     "name": "#%% md\n"
    }
   },
   "source": [
    "Messy!\n",
    "\n",
    "Run this code to lowercase the letters, remove white space, delete periods and \n",
    "standardize wordings.\n",
    "\n",
    "__Example 26:__\n"
   ]
  },
  {
   "cell_type": "code",
   "execution_count": 28,
   "metadata": {
    "colab": {
     "base_uri": "https://localhost:8080/",
     "height": 166
    },
    "colab_type": "code",
    "id": "tZ6axMYWmfcg",
    "outputId": "125ff121-149d-4c61-ae50-146321cefa70",
    "pycharm": {
     "name": "#%%\n"
    }
   },
   "outputs": [
    {
     "data": {
      "text/html": [
       "<div>\n",
       "<style scoped>\n",
       "    .dataframe tbody tr th:only-of-type {\n",
       "        vertical-align: middle;\n",
       "    }\n",
       "\n",
       "    .dataframe tbody tr th {\n",
       "        vertical-align: top;\n",
       "    }\n",
       "\n",
       "    .dataframe thead th {\n",
       "        text-align: right;\n",
       "    }\n",
       "</style>\n",
       "<table border=\"1\" class=\"dataframe\">\n",
       "  <thead>\n",
       "    <tr style=\"text-align: right;\">\n",
       "      <th></th>\n",
       "      <th>address</th>\n",
       "      <th>address_std</th>\n",
       "    </tr>\n",
       "  </thead>\n",
       "  <tbody>\n",
       "    <tr>\n",
       "      <th>0</th>\n",
       "      <td>123 MAIN St Apartment 15</td>\n",
       "      <td>123 main st apt 15</td>\n",
       "    </tr>\n",
       "    <tr>\n",
       "      <th>1</th>\n",
       "      <td>123 Main Street Apt 12</td>\n",
       "      <td>123 main st apt 12</td>\n",
       "    </tr>\n",
       "    <tr>\n",
       "      <th>2</th>\n",
       "      <td>543 FirSt Av</td>\n",
       "      <td>543 first ave</td>\n",
       "    </tr>\n",
       "    <tr>\n",
       "      <th>3</th>\n",
       "      <td>876 FIRst Ave.</td>\n",
       "      <td>876 first ave</td>\n",
       "    </tr>\n",
       "  </tbody>\n",
       "</table>\n",
       "</div>"
      ],
      "text/plain": [
       "                     address         address_std\n",
       "0   123 MAIN St Apartment 15  123 main st apt 15\n",
       "1  123 Main Street Apt 12     123 main st apt 12\n",
       "2               543 FirSt Av       543 first ave\n",
       "3             876 FIRst Ave.       876 first ave"
      ]
     },
     "execution_count": 28,
     "metadata": {},
     "output_type": "execute_result"
    }
   ],
   "source": [
    "# Example 26\n",
    "df_add_ex['address_std'] = df_add_ex['address'].str.lower()\n",
    "df_add_ex['address_std'] = df_add_ex['address_std'].str.strip() # remove leading and trailing whitespace.\n",
    "df_add_ex['address_std'] = df_add_ex['address_std'].str.replace('\\\\.', '') # remove period.\n",
    "df_add_ex['address_std'] = df_add_ex['address_std'].str.replace('\\\\bstreet\\\\b', 'st') # replace street with st.\n",
    "df_add_ex['address_std'] = df_add_ex['address_std'].str.replace('\\\\bapartment\\\\b', 'apt') # replace apartment with apt.\n",
    "df_add_ex['address_std'] = df_add_ex['address_std'].str.replace('\\\\bav\\\\b', 'ave') # replace apartment with apt.\n",
    "\n",
    "df_add_ex"
   ]
  },
  {
   "cell_type": "markdown",
   "metadata": {
    "colab_type": "text",
    "id": "9sbriSFNnBxN",
    "pycharm": {
     "name": "#%% md\n"
    }
   },
   "source": [
    "These are common activities in Data Science - cleaning the data is very important for model development.\n",
    "\n",
    "## Exercise ##\n",
    "Using the titanic data we used previously, determine how much is missing, and use the processes demonstrated here to clean it.  Remove 95% of the missing elements, describing which was removed and make a case of WHY it was removed.  The cleaned up data will be used for future insurance reasons."
   ]
  },
  {
   "cell_type": "code",
   "execution_count": null,
   "metadata": {
    "pycharm": {
     "name": "#%%\n"
    }
   },
   "outputs": [],
   "source": []
  }
 ],
 "metadata": {
  "colab": {
   "collapsed_sections": [],
   "name": "IntroToPythonv2.ipynb",
   "provenance": []
  },
  "kernelspec": {
   "display_name": "Python 3",
   "language": "python",
   "name": "python3"
  },
  "language_info": {
   "codemirror_mode": {
    "name": "ipython",
    "version": 3
   },
   "file_extension": ".py",
   "mimetype": "text/x-python",
   "name": "python",
   "nbconvert_exporter": "python",
   "pygments_lexer": "ipython3",
   "version": "3.7.7"
  }
 },
 "nbformat": 4,
 "nbformat_minor": 1
}