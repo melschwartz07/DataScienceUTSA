{
 "cells": [
  {
   "cell_type": "code",
   "execution_count": 7,
   "metadata": {
    "collapsed": true,
    "pycharm": {
     "name": "#%%\n"
    }
   },
   "outputs": [
    {
     "name": "stdout",
     "output_type": "stream",
     "text": [
      "1 - List County Results\n",
      "\n",
      "10\n",
      "Bexar\n",
      "55\n",
      "\n"
     ]
    },
    {
     "ename": "ValueError",
     "evalue": "invalid literal for int() with base 10: ''",
     "output_type": "error",
     "traceback": [
      "\u001B[0;31m---------------------------------------------------------------------------\u001B[0m",
      "\u001B[0;31mValueError\u001B[0m                                Traceback (most recent call last)",
      "Input \u001B[0;32mIn [7]\u001B[0m, in \u001B[0;36m<cell line: 24>\u001B[0;34m()\u001B[0m\n\u001B[1;32m     36\u001B[0m     \u001B[38;5;28mprint\u001B[39m()\n\u001B[1;32m     37\u001B[0m     menu()\n\u001B[0;32m---> 38\u001B[0m     option \u001B[38;5;241m=\u001B[39m \u001B[38;5;28;43mint\u001B[39;49m\u001B[43m(\u001B[49m\u001B[38;5;28;43minput\u001B[39;49m\u001B[43m(\u001B[49m\u001B[38;5;124;43m\"\u001B[39;49m\u001B[38;5;124;43mChoose Menu Item:\u001B[39;49m\u001B[38;5;124;43m\"\u001B[39;49m\u001B[43m)\u001B[49m\u001B[43m)\u001B[49m\n\u001B[1;32m     40\u001B[0m \u001B[38;5;28mprint\u001B[39m(\u001B[38;5;124m\"\u001B[39m\u001B[38;5;124mthanks for playing\u001B[39m\u001B[38;5;124m\"\u001B[39m)\n",
      "\u001B[0;31mValueError\u001B[0m: invalid literal for int() with base 10: ''"
     ]
    }
   ],
   "source": [
    "def main():\n",
    "    menu()\n",
    "\n",
    "\n",
    "def menu():\n",
    "    print(int(input(\"Please enter the number of counties:\")))\n",
    "    print(str(input(\"Please, enter the county by name:\")))\n",
    "    print(int(input(\"Please, enter the number of positive tests:\")))\n",
    "    print()\n",
    "\n",
    "    option = input(\"1 - List County Results\"\n",
    "                   \"2 - Report of Status\"\n",
    "                   \"3 - Modify County Results\"\n",
    "                   \"4 - Exit program\")\n",
    "\n",
    "# def menu():\n",
    "#     print(\"[1] Option 1\")\n",
    "#     print(\"[2] Option 2\")\n",
    "#     print(\"[0] Exit the program\")\n",
    "\n",
    "# menu()\n",
    "# option = int(input(\"Choose menu item: \"))\n",
    "\n",
    "while option != 0:\n",
    "    if option == 1:\n",
    "        print(\"1 - List County Results\")\n",
    "    elif option == 2:\n",
    "        print(\"2 - Report of Status\")\n",
    "    elif option == 3:\n",
    "        print(\"3 - Modify county results\")\n",
    "    elif option == 4:\n",
    "        print(\"4 - Exit program\")\n",
    "    else:\n",
    "        print(\"Value is out of range, please resubmit: \")\n",
    "\n",
    "    print()\n",
    "    menu()\n",
    "    option = int(input(\"Choose Menu Item:\"))\n",
    "\n",
    "print(\"thanks for playing\")\n",
    "\n"
   ]
  },
  {
   "cell_type": "code",
   "execution_count": 4,
   "outputs": [
    {
     "name": "stdout",
     "output_type": "stream",
     "text": [
      "************Welcome to FakeFlix Demo**************\n",
      "\n"
     ]
    }
   ],
   "source": [
    "def main():\n",
    "   menu()\n",
    "\n",
    "\n",
    "def menu():\n",
    "    print(\"************Welcome to FakeFlix Demo**************\")\n",
    "    print()\n",
    "\n",
    "    choice = input(\"\"\"\n",
    "                      A: Please Register\n",
    "                      B: Login\n",
    "                      Q: Logout\n",
    "\n",
    "                      Please enter your choice: \"\"\")\n",
    "\n",
    "    if choice == \"A\" or choice ==\"a\":\n",
    "        register()\n",
    "    elif choice == \"B\" or choice ==\"b\":\n",
    "        login()\n",
    "    elif choice==\"Q\" or choice==\"q\":\n",
    "        sys.exit\n",
    "    else:\n",
    "        print(\"You must only select either A or B\")\n",
    "        print(\"Please try again\")\n",
    "        menu()\n",
    "\n",
    "def register():\n",
    "   pass\n",
    "\n",
    "def login():\n",
    "   pass\n",
    "\n",
    "#the program is initiated, so to speak, here\n",
    "main()"
   ],
   "metadata": {
    "collapsed": false,
    "pycharm": {
     "name": "#%%\n"
    }
   }
  },
  {
   "cell_type": "code",
   "execution_count": null,
   "outputs": [],
   "source": [],
   "metadata": {
    "collapsed": false,
    "pycharm": {
     "name": "#%%\n"
    }
   }
  }
 ],
 "metadata": {
  "kernelspec": {
   "display_name": "Python 3",
   "language": "python",
   "name": "python3"
  },
  "language_info": {
   "codemirror_mode": {
    "name": "ipython",
    "version": 2
   },
   "file_extension": ".py",
   "mimetype": "text/x-python",
   "name": "python",
   "nbconvert_exporter": "python",
   "pygments_lexer": "ipython2",
   "version": "2.7.6"
  }
 },
 "nbformat": 4,
 "nbformat_minor": 0
}