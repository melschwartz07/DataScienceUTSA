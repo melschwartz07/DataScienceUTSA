{
 "cells": [
  {
   "cell_type": "code",
   "execution_count": 7,
   "metadata": {
    "collapsed": true,
    "pycharm": {
     "name": "#%%\n"
    }
   },
   "outputs": [
    {
     "data": {
      "text/plain": "                           RegionName StateName  10/31/2017  11/30/2017  \\\n0                        New York, NY        NY    519900.0    519999.0   \n1  Los Angeles-Long Beach-Anaheim, CA        CA    795000.0    795000.0   \n2                         Chicago, IL        IL    315000.0    305000.0   \n3               Dallas-Fort Worth, TX        TX    344900.0    340000.0   \n4                    Philadelphia, PA        PA    259990.0    259000.0   \n5                         Houston, TX        TX    319995.0    323042.0   \n6                      Washington, DC        DC    459990.0    439900.0   \n7           Miami-Fort Lauderdale, FL        FL    395000.0    395000.0   \n8                         Atlanta, GA        GA    300000.0    307000.0   \n9                          Boston, MA        MA    549900.0    549000.0   \n\n   12/31/2017  1/31/2018  2/28/2018  3/31/2018  4/30/2018  5/31/2018  ...  \\\n0    515000.0   519000.0   538888.0   549000.0   550000.0   568500.0  ...   \n1    799000.0   799000.0   810000.0   845000.0   850000.0   849999.0  ...   \n2    299000.0   299000.0   319900.0   339000.0   349000.0   349900.0  ...   \n3    342844.0   345000.0   350000.0   359990.0   369447.0   369000.0  ...   \n4    249900.0   249000.0   250000.0   262250.0   269900.0   279000.0  ...   \n5    324900.0   324990.0   329500.0   335000.0   339500.0   340000.0  ...   \n6    427000.0   425900.0   439000.0   457000.0   460000.0   475000.0  ...   \n7    395000.0   395000.0   395000.0   399000.0   399000.0   399700.0  ...   \n8    309000.0   313990.0   322000.0   335000.0   349000.0   350000.0  ...   \n9    534900.0   539900.0   554900.0   594900.0   599000.0   599000.0  ...   \n\n   9/30/2019  10/31/2019  11/30/2019  12/31/2019  1/31/2020  2/29/2020  \\\n0     575000      579000      579000      578000     575000     579900   \n1     839999      848000      849000      849000     850000     895000   \n2     325000      319900      314500      301640     306000     324900   \n3     340000      340000      340000      335000     331500     338500   \n4     299890      299900      299000      289900     289000     295000   \n5     316581      316672      313000      309900     309000     312836   \n6     485000      488000      485000      479990     484990     499900   \n7     399900      399995      399999      400000     399900     399999   \n8     329900      326499      325000      324250     322500     325000   \n9     574900      578000      575000      574500     575000     599000   \n\n   3/31/2020  4/30/2020  5/31/2020  6/30/2020  \n0     598000     595000     599000     599900  \n1     899900     859000     879650     925000  \n2     332500     329000     335000     345500  \n3     340000     339900     349900     356000  \n4     299900     300000     319990     335000  \n5     319000     318900     325000     334290  \n6     525000     515000     529900     550000  \n7     400000     398000     395000     399000  \n8     330000     325900     335000     347900  \n9     619900     599900     624900     642610  \n\n[10 rows x 35 columns]",
      "text/html": "<div>\n<style scoped>\n    .dataframe tbody tr th:only-of-type {\n        vertical-align: middle;\n    }\n\n    .dataframe tbody tr th {\n        vertical-align: top;\n    }\n\n    .dataframe thead th {\n        text-align: right;\n    }\n</style>\n<table border=\"1\" class=\"dataframe\">\n  <thead>\n    <tr style=\"text-align: right;\">\n      <th></th>\n      <th>RegionName</th>\n      <th>StateName</th>\n      <th>10/31/2017</th>\n      <th>11/30/2017</th>\n      <th>12/31/2017</th>\n      <th>1/31/2018</th>\n      <th>2/28/2018</th>\n      <th>3/31/2018</th>\n      <th>4/30/2018</th>\n      <th>5/31/2018</th>\n      <th>...</th>\n      <th>9/30/2019</th>\n      <th>10/31/2019</th>\n      <th>11/30/2019</th>\n      <th>12/31/2019</th>\n      <th>1/31/2020</th>\n      <th>2/29/2020</th>\n      <th>3/31/2020</th>\n      <th>4/30/2020</th>\n      <th>5/31/2020</th>\n      <th>6/30/2020</th>\n    </tr>\n  </thead>\n  <tbody>\n    <tr>\n      <th>0</th>\n      <td>New York, NY</td>\n      <td>NY</td>\n      <td>519900.0</td>\n      <td>519999.0</td>\n      <td>515000.0</td>\n      <td>519000.0</td>\n      <td>538888.0</td>\n      <td>549000.0</td>\n      <td>550000.0</td>\n      <td>568500.0</td>\n      <td>...</td>\n      <td>575000</td>\n      <td>579000</td>\n      <td>579000</td>\n      <td>578000</td>\n      <td>575000</td>\n      <td>579900</td>\n      <td>598000</td>\n      <td>595000</td>\n      <td>599000</td>\n      <td>599900</td>\n    </tr>\n    <tr>\n      <th>1</th>\n      <td>Los Angeles-Long Beach-Anaheim, CA</td>\n      <td>CA</td>\n      <td>795000.0</td>\n      <td>795000.0</td>\n      <td>799000.0</td>\n      <td>799000.0</td>\n      <td>810000.0</td>\n      <td>845000.0</td>\n      <td>850000.0</td>\n      <td>849999.0</td>\n      <td>...</td>\n      <td>839999</td>\n      <td>848000</td>\n      <td>849000</td>\n      <td>849000</td>\n      <td>850000</td>\n      <td>895000</td>\n      <td>899900</td>\n      <td>859000</td>\n      <td>879650</td>\n      <td>925000</td>\n    </tr>\n    <tr>\n      <th>2</th>\n      <td>Chicago, IL</td>\n      <td>IL</td>\n      <td>315000.0</td>\n      <td>305000.0</td>\n      <td>299000.0</td>\n      <td>299000.0</td>\n      <td>319900.0</td>\n      <td>339000.0</td>\n      <td>349000.0</td>\n      <td>349900.0</td>\n      <td>...</td>\n      <td>325000</td>\n      <td>319900</td>\n      <td>314500</td>\n      <td>301640</td>\n      <td>306000</td>\n      <td>324900</td>\n      <td>332500</td>\n      <td>329000</td>\n      <td>335000</td>\n      <td>345500</td>\n    </tr>\n    <tr>\n      <th>3</th>\n      <td>Dallas-Fort Worth, TX</td>\n      <td>TX</td>\n      <td>344900.0</td>\n      <td>340000.0</td>\n      <td>342844.0</td>\n      <td>345000.0</td>\n      <td>350000.0</td>\n      <td>359990.0</td>\n      <td>369447.0</td>\n      <td>369000.0</td>\n      <td>...</td>\n      <td>340000</td>\n      <td>340000</td>\n      <td>340000</td>\n      <td>335000</td>\n      <td>331500</td>\n      <td>338500</td>\n      <td>340000</td>\n      <td>339900</td>\n      <td>349900</td>\n      <td>356000</td>\n    </tr>\n    <tr>\n      <th>4</th>\n      <td>Philadelphia, PA</td>\n      <td>PA</td>\n      <td>259990.0</td>\n      <td>259000.0</td>\n      <td>249900.0</td>\n      <td>249000.0</td>\n      <td>250000.0</td>\n      <td>262250.0</td>\n      <td>269900.0</td>\n      <td>279000.0</td>\n      <td>...</td>\n      <td>299890</td>\n      <td>299900</td>\n      <td>299000</td>\n      <td>289900</td>\n      <td>289000</td>\n      <td>295000</td>\n      <td>299900</td>\n      <td>300000</td>\n      <td>319990</td>\n      <td>335000</td>\n    </tr>\n    <tr>\n      <th>5</th>\n      <td>Houston, TX</td>\n      <td>TX</td>\n      <td>319995.0</td>\n      <td>323042.0</td>\n      <td>324900.0</td>\n      <td>324990.0</td>\n      <td>329500.0</td>\n      <td>335000.0</td>\n      <td>339500.0</td>\n      <td>340000.0</td>\n      <td>...</td>\n      <td>316581</td>\n      <td>316672</td>\n      <td>313000</td>\n      <td>309900</td>\n      <td>309000</td>\n      <td>312836</td>\n      <td>319000</td>\n      <td>318900</td>\n      <td>325000</td>\n      <td>334290</td>\n    </tr>\n    <tr>\n      <th>6</th>\n      <td>Washington, DC</td>\n      <td>DC</td>\n      <td>459990.0</td>\n      <td>439900.0</td>\n      <td>427000.0</td>\n      <td>425900.0</td>\n      <td>439000.0</td>\n      <td>457000.0</td>\n      <td>460000.0</td>\n      <td>475000.0</td>\n      <td>...</td>\n      <td>485000</td>\n      <td>488000</td>\n      <td>485000</td>\n      <td>479990</td>\n      <td>484990</td>\n      <td>499900</td>\n      <td>525000</td>\n      <td>515000</td>\n      <td>529900</td>\n      <td>550000</td>\n    </tr>\n    <tr>\n      <th>7</th>\n      <td>Miami-Fort Lauderdale, FL</td>\n      <td>FL</td>\n      <td>395000.0</td>\n      <td>395000.0</td>\n      <td>395000.0</td>\n      <td>395000.0</td>\n      <td>395000.0</td>\n      <td>399000.0</td>\n      <td>399000.0</td>\n      <td>399700.0</td>\n      <td>...</td>\n      <td>399900</td>\n      <td>399995</td>\n      <td>399999</td>\n      <td>400000</td>\n      <td>399900</td>\n      <td>399999</td>\n      <td>400000</td>\n      <td>398000</td>\n      <td>395000</td>\n      <td>399000</td>\n    </tr>\n    <tr>\n      <th>8</th>\n      <td>Atlanta, GA</td>\n      <td>GA</td>\n      <td>300000.0</td>\n      <td>307000.0</td>\n      <td>309000.0</td>\n      <td>313990.0</td>\n      <td>322000.0</td>\n      <td>335000.0</td>\n      <td>349000.0</td>\n      <td>350000.0</td>\n      <td>...</td>\n      <td>329900</td>\n      <td>326499</td>\n      <td>325000</td>\n      <td>324250</td>\n      <td>322500</td>\n      <td>325000</td>\n      <td>330000</td>\n      <td>325900</td>\n      <td>335000</td>\n      <td>347900</td>\n    </tr>\n    <tr>\n      <th>9</th>\n      <td>Boston, MA</td>\n      <td>MA</td>\n      <td>549900.0</td>\n      <td>549000.0</td>\n      <td>534900.0</td>\n      <td>539900.0</td>\n      <td>554900.0</td>\n      <td>594900.0</td>\n      <td>599000.0</td>\n      <td>599000.0</td>\n      <td>...</td>\n      <td>574900</td>\n      <td>578000</td>\n      <td>575000</td>\n      <td>574500</td>\n      <td>575000</td>\n      <td>599000</td>\n      <td>619900</td>\n      <td>599900</td>\n      <td>624900</td>\n      <td>642610</td>\n    </tr>\n  </tbody>\n</table>\n<p>10 rows × 35 columns</p>\n</div>"
     },
     "metadata": {},
     "output_type": "display_data"
    }
   ],
   "source": [
    "# Setup/importing the data\n",
    "import pandas as pd     # import the pandas library to read a .csv file\n",
    "\n",
    "median_home_values = pd.read_csv(\"Median_List_raw_month.csv\")   # make sure the data file is in the same directory\n",
    "\n",
    "display(median_home_values.head(10))    # view the first 10 rows of data"
   ]
  },
  {
   "cell_type": "code",
   "execution_count": 8,
   "outputs": [
    {
     "name": "stdout",
     "output_type": "stream",
     "text": [
      "<class 'pandas.core.frame.DataFrame'>\n",
      "RangeIndex: 119 entries, 0 to 118\n",
      "Data columns (total 35 columns):\n",
      " #   Column      Non-Null Count  Dtype  \n",
      "---  ------      --------------  -----  \n",
      " 0   RegionName  119 non-null    object \n",
      " 1   StateName   119 non-null    object \n",
      " 2   10/31/2017  117 non-null    float64\n",
      " 3   11/30/2017  117 non-null    float64\n",
      " 4   12/31/2017  117 non-null    float64\n",
      " 5   1/31/2018   117 non-null    float64\n",
      " 6   2/28/2018   117 non-null    float64\n",
      " 7   3/31/2018   117 non-null    float64\n",
      " 8   4/30/2018   117 non-null    float64\n",
      " 9   5/31/2018   117 non-null    float64\n",
      " 10  6/30/2018   117 non-null    float64\n",
      " 11  7/31/2018   119 non-null    int64  \n",
      " 12  8/31/2018   119 non-null    int64  \n",
      " 13  9/30/2018   119 non-null    int64  \n",
      " 14  10/31/2018  119 non-null    int64  \n",
      " 15  11/30/2018  119 non-null    int64  \n",
      " 16  12/31/2018  119 non-null    int64  \n",
      " 17  1/31/2019   119 non-null    int64  \n",
      " 18  2/28/2019   119 non-null    int64  \n",
      " 19  3/31/2019   119 non-null    int64  \n",
      " 20  4/30/2019   119 non-null    int64  \n",
      " 21  5/31/2019   119 non-null    int64  \n",
      " 22  6/30/2019   119 non-null    int64  \n",
      " 23  7/31/2019   119 non-null    int64  \n",
      " 24  8/31/2019   119 non-null    int64  \n",
      " 25  9/30/2019   119 non-null    int64  \n",
      " 26  10/31/2019  119 non-null    int64  \n",
      " 27  11/30/2019  119 non-null    int64  \n",
      " 28  12/31/2019  119 non-null    int64  \n",
      " 29  1/31/2020   119 non-null    int64  \n",
      " 30  2/29/2020   119 non-null    int64  \n",
      " 31  3/31/2020   119 non-null    int64  \n",
      " 32  4/30/2020   119 non-null    int64  \n",
      " 33  5/31/2020   119 non-null    int64  \n",
      " 34  6/30/2020   119 non-null    int64  \n",
      "dtypes: float64(9), int64(24), object(2)\n",
      "memory usage: 32.7+ KB\n"
     ]
    },
    {
     "data": {
      "text/plain": "None"
     },
     "metadata": {},
     "output_type": "display_data"
    }
   ],
   "source": [
    "#Example 1\n",
    "display(median_home_values.info())"
   ],
   "metadata": {
    "collapsed": false,
    "pycharm": {
     "name": "#%%\n"
    }
   }
  },
  {
   "cell_type": "code",
   "execution_count": 9,
   "outputs": [
    {
     "name": "stdout",
     "output_type": "stream",
     "text": [
      "10/31/2017    318782.863248\n",
      "11/30/2017    317576.170940\n",
      "12/31/2017    317105.760684\n",
      "1/31/2018     319088.803419\n",
      "2/28/2018     326966.273504\n",
      "3/31/2018     335194.777778\n",
      "4/30/2018     341345.606838\n",
      "5/31/2018     344427.555556\n",
      "6/30/2018     343827.752137\n",
      "7/31/2018     339424.739496\n",
      "8/31/2018     333570.680672\n",
      "9/30/2018     330338.084034\n",
      "10/31/2018    327906.235294\n",
      "11/30/2018    324342.100840\n",
      "12/31/2018    322769.899160\n",
      "1/31/2019     324615.495798\n",
      "2/28/2019     331416.521008\n",
      "3/31/2019     341660.798319\n",
      "4/30/2019     349141.630252\n",
      "5/31/2019     353863.831933\n",
      "6/30/2019     353282.176471\n",
      "7/31/2019     349759.521008\n",
      "8/31/2019     346192.109244\n",
      "9/30/2019     343952.521008\n",
      "10/31/2019    341937.310924\n",
      "11/30/2019    340246.857143\n",
      "12/31/2019    339031.420168\n",
      "1/31/2020     341860.268908\n",
      "2/29/2020     351774.386555\n",
      "3/31/2020     359149.168067\n",
      "4/30/2020     355366.075630\n",
      "5/31/2020     364656.268908\n",
      "6/30/2020     374990.243697\n",
      "dtype: float64\n"
     ]
    },
    {
     "name": "stderr",
     "output_type": "stream",
     "text": [
      "/var/folders/tn/9wq1twg57s148hqf15cf4hgr0000gn/T/ipykernel_63571/2409341348.py:4: FutureWarning: Dropping of nuisance columns in DataFrame reductions (with 'numeric_only=None') is deprecated; in a future version this will raise TypeError.  Select only valid columns before calling the reduction.\n",
      "  mean_by_month = median_home_values.mean(axis=0)  # calculate the mean of each column\n"
     ]
    }
   ],
   "source": [
    "# Example 2\n",
    "import numpy as py              # use py for numpy from now on\n",
    "\n",
    "mean_by_month = median_home_values.mean(axis=0)  # calculate the mean of each column\n",
    "\n",
    "print(mean_by_month)  # output the means"
   ],
   "metadata": {
    "collapsed": false,
    "pycharm": {
     "name": "#%%\n"
    }
   }
  },
  {
   "cell_type": "markdown",
   "source": [
    "Question 1: In looking at the data, with each ‘row’ being a different region/city and each column being a different month, what can we determine from means over time (columns)?\n",
    "If we were to do the same calculations on the locations (rows), what can we determine?\n",
    "Be specific.\n",
    "\n",
    "You can infer that means over time from month to month tend to fluctuate by a small margin. When comparing based on location,\n",
    "you can see that home prices vary much greater depending on the region you are looking at."
   ],
   "metadata": {
    "collapsed": false,
    "pycharm": {
     "name": "#%% md\n"
    }
   }
  },
  {
   "cell_type": "code",
   "execution_count": 6,
   "outputs": [
    {
     "name": "stdout",
     "output_type": "stream",
     "text": [
      "0      563205\n",
      "1      825307\n",
      "2      325683\n",
      "3      346302\n",
      "4      280636\n",
      "        ...  \n",
      "114    277133\n",
      "115    293346\n",
      "116    256750\n",
      "117    383112\n",
      "118    236240\n",
      "Length: 119, dtype: int64\n"
     ]
    },
    {
     "name": "stderr",
     "output_type": "stream",
     "text": [
      "/var/folders/tn/9wq1twg57s148hqf15cf4hgr0000gn/T/ipykernel_63571/1714706955.py:2: FutureWarning: Dropping of nuisance columns in DataFrame reductions (with 'numeric_only=None') is deprecated; in a future version this will raise TypeError.  Select only valid columns before calling the reduction.\n",
      "  mean_by_region = median_home_values.mean(axis=1)  # calculate the mean of each row\n"
     ]
    }
   ],
   "source": [
    "# Example 3\n",
    "mean_by_region = median_home_values.mean(axis=1)  # calculate the mean of each row\n",
    "\n",
    "print(mean_by_region.apply(int))  # output the means"
   ],
   "metadata": {
    "collapsed": false,
    "pycharm": {
     "name": "#%%\n"
    }
   }
  },
  {
   "cell_type": "markdown",
   "source": [
    "Question 2: We only looked at the first five here, but using the data from the .info above, we can\n",
    "determine which cities are the first five. What does this data tell you?\n",
    "\n",
    "This data gives us the mean home prices by each region."
   ],
   "metadata": {
    "collapsed": false,
    "pycharm": {
     "name": "#%% md\n"
    }
   }
  },
  {
   "cell_type": "code",
   "execution_count": 10,
   "outputs": [
    {
     "name": "stdout",
     "output_type": "stream",
     "text": [
      "10/31/2017    275000.0\n",
      "11/30/2017    279000.0\n",
      "12/31/2017    279000.0\n",
      "1/31/2018     275000.0\n",
      "2/28/2018     283000.0\n",
      "3/31/2018     290000.0\n",
      "4/30/2018     296264.0\n",
      "5/31/2018     299000.0\n",
      "6/30/2018     299000.0\n",
      "7/31/2018     295000.0\n",
      "8/31/2018     289000.0\n",
      "9/30/2018     284900.0\n",
      "10/31/2018    284900.0\n",
      "11/30/2018    280000.0\n",
      "12/31/2018    284650.0\n",
      "1/31/2019     286000.0\n",
      "2/28/2019     290000.0\n",
      "3/31/2019     299000.0\n",
      "4/30/2019     304900.0\n",
      "5/31/2019     299900.0\n",
      "6/30/2019     299900.0\n",
      "7/31/2019     299900.0\n",
      "8/31/2019     299000.0\n",
      "9/30/2019     294900.0\n",
      "10/31/2019    290000.0\n",
      "11/30/2019    289900.0\n",
      "12/31/2019    289900.0\n",
      "1/31/2020     295000.0\n",
      "2/29/2020     304900.0\n",
      "3/31/2020     310900.0\n",
      "4/30/2020     309900.0\n",
      "5/31/2020     320000.0\n",
      "6/30/2020     329000.0\n",
      "dtype: float64\n"
     ]
    },
    {
     "name": "stderr",
     "output_type": "stream",
     "text": [
      "/var/folders/tn/9wq1twg57s148hqf15cf4hgr0000gn/T/ipykernel_63571/180317321.py:3: FutureWarning: Dropping of nuisance columns in DataFrame reductions (with 'numeric_only=None') is deprecated; in a future version this will raise TypeError.  Select only valid columns before calling the reduction.\n",
      "  median_by_month = median_home_values.median(axis=0)\n"
     ]
    }
   ],
   "source": [
    "# Example 4: .𝑀𝑒𝑑𝑖𝑎𝑛  is the command to calculate the median.\n",
    "\n",
    "median_by_month = median_home_values.median(axis=0)\n",
    "\n",
    "print(median_by_month)"
   ],
   "metadata": {
    "collapsed": false,
    "pycharm": {
     "name": "#%%\n"
    }
   }
  },
  {
   "cell_type": "markdown",
   "source": [
    "Exercise 1: Generate a variable median_by_region that contains the median values for each region. Print median_by_region\n",
    "the same way you printed mean_by_region."
   ],
   "metadata": {
    "collapsed": false,
    "pycharm": {
     "name": "#%% md\n"
    }
   }
  },
  {
   "cell_type": "code",
   "execution_count": 15,
   "outputs": [
    {
     "name": "stdout",
     "output_type": "stream",
     "text": [
      "0      569000\n",
      "1      839999\n",
      "2      325000\n",
      "3      344000\n",
      "4      279900\n",
      "        ...  \n",
      "114    274900\n",
      "115    290900\n",
      "116    256600\n",
      "117    379000\n",
      "118    239900\n",
      "Length: 119, dtype: int64\n"
     ]
    },
    {
     "name": "stderr",
     "output_type": "stream",
     "text": [
      "/var/folders/tn/9wq1twg57s148hqf15cf4hgr0000gn/T/ipykernel_63571/2686351760.py:1: FutureWarning: Dropping of nuisance columns in DataFrame reductions (with 'numeric_only=None') is deprecated; in a future version this will raise TypeError.  Select only valid columns before calling the reduction.\n",
      "  median_by_region = median_home_values.median(axis=1)  # calculate the median of each row\n"
     ]
    }
   ],
   "source": [
    "median_by_region = median_home_values.median(axis=1)  # calculate the median of each row\n",
    "\n",
    "print(median_by_region.apply(int))  # output the median"
   ],
   "metadata": {
    "collapsed": false,
    "pycharm": {
     "name": "#%%\n"
    }
   }
  },
  {
   "cell_type": "markdown",
   "source": [
    "Exercise 2: Create variables max_by_month, min_by_region, and std_by_month.\n",
    "Print max_by_month the same way you printed previous variables."
   ],
   "metadata": {
    "collapsed": false,
    "pycharm": {
     "name": "#%% md\n"
    }
   }
  },
  {
   "cell_type": "code",
   "execution_count": 18,
   "outputs": [
    {
     "name": "stdout",
     "output_type": "stream",
     "text": [
      "0      599900\n",
      "1      925000\n",
      "2      349900\n",
      "3      369447\n",
      "4      335000\n",
      "        ...  \n",
      "114    299900\n",
      "115    312900\n",
      "116    275000\n",
      "117    425000\n",
      "118    269900\n",
      "Length: 119, dtype: int64\n"
     ]
    },
    {
     "name": "stderr",
     "output_type": "stream",
     "text": [
      "/var/folders/tn/9wq1twg57s148hqf15cf4hgr0000gn/T/ipykernel_63571/1061515492.py:1: FutureWarning: Dropping of nuisance columns in DataFrame reductions (with 'numeric_only=None') is deprecated; in a future version this will raise TypeError.  Select only valid columns before calling the reduction.\n",
      "  max_by_month = median_home_values.max(axis=1)\n",
      "/var/folders/tn/9wq1twg57s148hqf15cf4hgr0000gn/T/ipykernel_63571/1061515492.py:2: FutureWarning: Dropping of nuisance columns in DataFrame reductions (with 'numeric_only=None') is deprecated; in a future version this will raise TypeError.  Select only valid columns before calling the reduction.\n",
      "  min_by_region = median_home_values.min(axis=1)\n",
      "/var/folders/tn/9wq1twg57s148hqf15cf4hgr0000gn/T/ipykernel_63571/1061515492.py:3: FutureWarning: Dropping of nuisance columns in DataFrame reductions (with 'numeric_only=None') is deprecated; in a future version this will raise TypeError.  Select only valid columns before calling the reduction.\n",
      "  std_by_month = median_home_values.std(axis=1)\n"
     ]
    }
   ],
   "source": [
    "max_by_month = median_home_values.max(axis=1)\n",
    "min_by_region = median_home_values.min(axis=1)\n",
    "std_by_month = median_home_values.std(axis=1)\n",
    "print(max_by_month.apply(int))"
   ],
   "metadata": {
    "collapsed": false,
    "pycharm": {
     "name": "#%%\n"
    }
   }
  },
  {
   "cell_type": "code",
   "execution_count": 11,
   "outputs": [
    {
     "name": "stdout",
     "output_type": "stream",
     "text": [
      "Mean Home Values by month are: 10/31/2017    318782\n",
      "11/30/2017    317576\n",
      "12/31/2017    317105\n",
      "1/31/2018     319088\n",
      "2/28/2018     326966\n",
      "3/31/2018     335194\n",
      "4/30/2018     341345\n",
      "5/31/2018     344427\n",
      "6/30/2018     343827\n",
      "7/31/2018     339424\n",
      "8/31/2018     333570\n",
      "9/30/2018     330338\n",
      "10/31/2018    327906\n",
      "11/30/2018    324342\n",
      "12/31/2018    322769\n",
      "1/31/2019     324615\n",
      "2/28/2019     331416\n",
      "3/31/2019     341660\n",
      "4/30/2019     349141\n",
      "5/31/2019     353863\n",
      "6/30/2019     353282\n",
      "7/31/2019     349759\n",
      "8/31/2019     346192\n",
      "9/30/2019     343952\n",
      "10/31/2019    341937\n",
      "11/30/2019    340246\n",
      "12/31/2019    339031\n",
      "1/31/2020     341860\n",
      "2/29/2020     351774\n",
      "3/31/2020     359149\n",
      "4/30/2020     355366\n",
      "5/31/2020     364656\n",
      "6/30/2020     374990\n",
      "dtype: int64\n"
     ]
    }
   ],
   "source": [
    "# Example 5\n",
    "print(\"Mean Home Values by month are:\", mean_by_month.apply(int))"
   ],
   "metadata": {
    "collapsed": false,
    "pycharm": {
     "name": "#%%\n"
    }
   }
  },
  {
   "cell_type": "code",
   "execution_count": null,
   "outputs": [],
   "source": [],
   "metadata": {
    "collapsed": false,
    "pycharm": {
     "name": "#%%\n"
    }
   }
  }
 ],
 "metadata": {
  "kernelspec": {
   "display_name": "Python 3",
   "language": "python",
   "name": "python3"
  },
  "language_info": {
   "codemirror_mode": {
    "name": "ipython",
    "version": 2
   },
   "file_extension": ".py",
   "mimetype": "text/x-python",
   "name": "python",
   "nbconvert_exporter": "python",
   "pygments_lexer": "ipython2",
   "version": "2.7.6"
  }
 },
 "nbformat": 4,
 "nbformat_minor": 0
}