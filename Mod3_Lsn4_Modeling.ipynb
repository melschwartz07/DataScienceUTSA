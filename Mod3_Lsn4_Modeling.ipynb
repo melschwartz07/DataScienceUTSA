{
 "cells": [
  {
   "cell_type": "markdown",
   "metadata": {},
   "source": [
    "# Mod 3, Lsn 4 #\n",
    "\n",
    "## Relationships in Data ##\n",
    "\n",
    "Now that you have a fairly large set of data, you now need to see if you can determine relationships within the data set.  We've hinted as this in the graphs, when we looked for relationships, but now let's do it formally.\n",
    "\n",
    "The simplest relationship is probably correlation.  There are many 'flavors' of correlation, but let's stick to the basics.  A correlation quantifies the relationship between 2 variables, and ranges between -1 and 1.  A correlation of 1 is a perfectly positive correlation, as one varible goes up, the other goes up equally.  A perfect inverse correlation (-1) has one value going up and the other dataset going down an equal amount.  If the data is unrelated, the correlation is zero. Examples are - perfectly positive correlation - I get up, and I consume caffeine.  I cannot remember the last time I woke up and didn't have caffeine, and I don't have it any other time.  As to whether one CAUSES the other (causality), I'm not sure me waking up causes me to consume caffeine, but there is a VERY strong, positive correlation.  Another example is studying and grades - the more you study, the higher your grades.  An inverse correlation is, during a regular semester, missing classes and grades.  The more you miss class, the lower your overall grade, and this one probably has a causality element to it.\n",
    "\n",
    "![Correlation img](Correlation.png)\n",
    "\n",
    "Each of these plots shows one of three different forms of correlation:\n",
    "\n",
    "1.  Negative correlation (red dots): In the plot on the left, the y values tend to decrease as the x values increase. This shows strong negative correlation, which occurs when large values of one feature correspond to small values of the other, and vice versa.\n",
    "\n",
    "2.  Weak or no correlation (green dots): The plot in the middle shows no obvious trend. This is a form of weak correlation, which occurs when an association between two features is not obvious or is hardly observable.\n",
    "\n",
    "3.  Positive correlation (blue dots): In the plot on the right, the y values tend to increase as the x values increase. This illustrates strong positive correlation, which occurs when large values of one feature correspond to large values of the other, and vice versa.\n",
    "\n",
    "You must remember that we can always get a correlation between two data sets, it is up to you to decide if it means something.  \n",
    "\n",
    "Because correlation is so important, both NumPy and Pandas do correlation.\n",
    "\n",
    "**Note**: When you’re analyzing correlation, you should always have in mind that **correlation does not indicate causation**. It quantifies the strength of the relationship between the features of a dataset. Sometimes, the association is caused by a factor common to several features of interest.\n",
    "\n",
    "There are several statistics that you can use to quantify correlation. In this tutorial, you’ll learn about three correlation coefficients:\n",
    "\n",
    "<ul>\n",
    "<li>Pearson’s r \n",
    "<li>Spearman’s rho \n",
    "<li>Kendall’s tau \n",
    "</ul>\n",
    "    \n",
    "_Pearson’s coefficient_ measures linear correlation, while the _Spearman_ and _Kendall coefficients_ compare the ranks of data. There are several NumPy and Pandas correlation functions and methods that you can use to calculate these coefficients. You can also use Matplotlib to conveniently illustrate the results.\n",
    "\n",
    "## Let's start with NumPy.\n",
    "\n",
    "**Setup**: For all the examples below, type the code, exactly as shown, in the box in Jupyter Notebook, save it and Run it. We will loading the data from the previous lesson. \n",
    "\n",
    "__Example 1__"
   ]
  },
  {
   "cell_type": "code",
   "execution_count": 1,
   "metadata": {},
   "outputs": [
    {
     "data": {
      "text/plain": [
       "array([[1.        , 0.75864029],\n",
       "       [0.75864029, 1.        ]])"
      ]
     },
     "execution_count": 1,
     "metadata": {},
     "output_type": "execute_result"
    }
   ],
   "source": [
    "# Example 1\n",
    "import numpy as np\n",
    "x = ([10, 11, 12, 13, 14, 15, 16, 17, 18, 19])     # ordered list\n",
    "y = np.array([ 2, 1, 4, 5, 8, 12, 18, 25, 96, 48])  # random list\n",
    "\n",
    "r = np.corrcoef(x,y)\n",
    "r"
   ]
  },
  {
   "cell_type": "markdown",
   "metadata": {},
   "source": [
    "_corrcoef()_ returns the correlation matrix, a two-dimensional array with the correlation coefficients.  The values on the main diagonal are 1, as this is the correlation between the first and itself, and the second value with itself.  \n",
    "\n",
    "However, what you usually need are the lower left and upper right values of the correlation matrix. These values are equal and both represent the _Pearson correlation coefficient_ for x and y. In this case, it’s approximately 0.76.\n",
    "\n",
    "This figure shows the data points and correlation coefficients for _x_ and _y_.\n",
    "\n",
    "![Correlation example](Correlation_2.png)\n",
    "\n",
    "The red squares are the data points. As you can see, the figure also shows the values of the three correlation coefficients.\n",
    "\n"
   ]
  },
  {
   "cell_type": "markdown",
   "metadata": {},
   "source": [
    "## Correlation with pandas ##\n",
    "\n",
    "Pandas might be more convenient, and work on more than one type of data structure.\n",
    "It offers statistical methods for Series and DataFrame instances. For example, given two Series objects with the same number of items, you can call .corr() on one of them with the other as the first argument:\n"
   ]
  },
  {
   "cell_type": "code",
   "execution_count": 2,
   "metadata": {},
   "outputs": [
    {
     "data": {
      "text/plain": [
       "0.7586402890911867"
      ]
     },
     "execution_count": 2,
     "metadata": {},
     "output_type": "execute_result"
    }
   ],
   "source": [
    "# Example 2\n",
    "import pandas as pd\n",
    "x = pd.Series(range(10, 20))\n",
    "y = pd.Series([2, 1, 4, 5, 8, 12, 18, 25, 96, 48])\n",
    "x.corr(y)                     # Pearson's r"
   ]
  },
  {
   "cell_type": "code",
   "execution_count": 3,
   "metadata": {},
   "outputs": [
    {
     "data": {
      "text/plain": [
       "0.7586402890911869"
      ]
     },
     "execution_count": 3,
     "metadata": {},
     "output_type": "execute_result"
    }
   ],
   "source": [
    "# Example 3\n",
    "y.corr(x)"
   ]
  },
  {
   "cell_type": "code",
   "execution_count": 4,
   "metadata": {},
   "outputs": [
    {
     "data": {
      "text/plain": [
       "0.9757575757575757"
      ]
     },
     "execution_count": 4,
     "metadata": {},
     "output_type": "execute_result"
    }
   ],
   "source": [
    "# Example 4\n",
    "x.corr(y, method='spearman')  # Spearman's rho"
   ]
  },
  {
   "cell_type": "code",
   "execution_count": 5,
   "metadata": {},
   "outputs": [
    {
     "data": {
      "text/plain": [
       "0.911111111111111"
      ]
     },
     "execution_count": 5,
     "metadata": {},
     "output_type": "execute_result"
    }
   ],
   "source": [
    "# Example 5\n",
    "x.corr(y, method='kendall')   # Kendall's tau"
   ]
  },
  {
   "cell_type": "markdown",
   "metadata": {},
   "source": [
    "## Linear Regression: SciPy Implementation\n",
    "\n",
    "_Linear regression_ is the process of finding the linear function that is as close as possible to the actual relationship between features. In other words, you determine the linear function that best describes the association between the features. This linear function is also called the _regression line_.\n",
    "\n",
    "You can implement linear regression with a new library - SciPy. You’ll get the linear function that best approximates the relationship between two arrays, as well as the Pearson correlation coefficient. To get started, you first need to import the libraries and prepare some data to work with:"
   ]
  },
  {
   "cell_type": "code",
   "execution_count": 6,
   "metadata": {},
   "outputs": [],
   "source": [
    "# Example 6\n",
    "import numpy as np\n",
    "import scipy.stats\n",
    "x = np.arange(10,20)\n",
    "y = np.array([2, 1, 4, 5, 8, 12, 18, 25, 96, 48])"
   ]
  },
  {
   "cell_type": "markdown",
   "metadata": {},
   "source": [
    "You can use _scipy.stats.linregress()_ to perform linear regression for two arrays of the same length. You should provide the arrays as the arguments and get the outputs by using dot notation:"
   ]
  },
  {
   "cell_type": "code",
   "execution_count": 7,
   "metadata": {},
   "outputs": [
    {
     "data": {
      "text/plain": [
       "7.4363636363636365"
      ]
     },
     "execution_count": 7,
     "metadata": {},
     "output_type": "execute_result"
    }
   ],
   "source": [
    "# Example 7\n",
    "result = scipy.stats.linregress(x, y)\n",
    "result.slope           # slope of the regression line"
   ]
  },
  {
   "cell_type": "code",
   "execution_count": 8,
   "metadata": {},
   "outputs": [
    {
     "data": {
      "text/plain": [
       "-85.92727272727274"
      ]
     },
     "execution_count": 8,
     "metadata": {},
     "output_type": "execute_result"
    }
   ],
   "source": [
    "# Example 8\n",
    "result.intercept    # intercept of the regression line"
   ]
  },
  {
   "cell_type": "code",
   "execution_count": 9,
   "metadata": {},
   "outputs": [
    {
     "data": {
      "text/plain": [
       "0.7586402890911869"
      ]
     },
     "execution_count": 9,
     "metadata": {},
     "output_type": "execute_result"
    }
   ],
   "source": [
    "# Example 9\n",
    "result.rvalue       # Correlation"
   ]
  },
  {
   "cell_type": "code",
   "execution_count": 10,
   "metadata": {},
   "outputs": [
    {
     "data": {
      "text/plain": [
       "0.010964341301680825"
      ]
     },
     "execution_count": 10,
     "metadata": {},
     "output_type": "execute_result"
    }
   ],
   "source": [
    "# Example 10\n",
    "result.pvalue       # p-value - has to do with statistics and proofs"
   ]
  },
  {
   "cell_type": "code",
   "execution_count": 11,
   "metadata": {},
   "outputs": [
    {
     "data": {
      "text/plain": [
       "2.257878767543913"
      ]
     },
     "execution_count": 11,
     "metadata": {},
     "output_type": "execute_result"
    }
   ],
   "source": [
    "# Example 11\n",
    "result.stderr      # standard error of the estimated gradiant"
   ]
  },
  {
   "cell_type": "markdown",
   "metadata": {},
   "source": [
    "You can also provide a single argument to linregress(), but it must be a two-dimensional array with one dimension of length two:"
   ]
  },
  {
   "cell_type": "code",
   "execution_count": 16,
   "metadata": {},
   "outputs": [
    {
     "data": {
      "text/plain": [
       "LinregressResult(slope=7.4363636363636365, intercept=-85.92727272727274, rvalue=0.7586402890911869, pvalue=0.010964341301680825, stderr=2.257878767543913)"
      ]
     },
     "execution_count": 16,
     "metadata": {},
     "output_type": "execute_result"
    }
   ],
   "source": [
    "\n",
    "xy = np.array([[10, 11, 12, 13, 14, 15, 16, 17, 18, 19],\n",
    "...                [2, 1, 4, 5, 8, 12, 18, 25, 96, 48]])\n",
    "scipy.stats.linregress(xy)"
   ]
  },
  {
   "cell_type": "markdown",
   "metadata": {},
   "source": [
    "The result is exactly the same as the previous example because xy contains the same data as x and y together. linregress() took the first row of xy as one feature and the second row as the other feature.\n",
    "\n",
    "**Note**: In the example, _scipy.stats.linregress()_ considers the rows as features and columns as observations.  That's because there are two rows.\n",
    "\n",
    "For future effort, the usual practice in _machine learning_ is the opposite:  rows are observations and columns are features.  You should be careful to note how the observations and features are indicated whenever you're analyzing correlation in a dataset.\n",
    "\n",
    "_linregress()_ will return the same result if you provide the transpose of _xy_, or a NumPy array with 10 rows and 2 columns.  In NumPy, you can transpose a matrix in many ways:\n",
    "\n",
    "- transpose()\n",
    "- .transpose()\n",
    "- .T\n",
    "\n",
    "Here's how you might transpose _xy_"
   ]
  },
  {
   "cell_type": "code",
   "execution_count": 17,
   "metadata": {},
   "outputs": [
    {
     "data": {
      "text/plain": [
       "array([[10,  2],\n",
       "       [11,  1],\n",
       "       [12,  4],\n",
       "       [13,  5],\n",
       "       [14,  8],\n",
       "       [15, 12],\n",
       "       [16, 18],\n",
       "       [17, 25],\n",
       "       [18, 96],\n",
       "       [19, 48]])"
      ]
     },
     "execution_count": 17,
     "metadata": {},
     "output_type": "execute_result"
    }
   ],
   "source": [
    "# Example 13\n",
    "xy.T"
   ]
  },
  {
   "cell_type": "markdown",
   "metadata": {},
   "source": [
    "Now that you know how to get the transpose, you can pass one to _linregress()_. The first column will be one feature and the second column the other feature:"
   ]
  },
  {
   "cell_type": "code",
   "execution_count": 18,
   "metadata": {},
   "outputs": [
    {
     "data": {
      "text/plain": [
       "LinregressResult(slope=7.4363636363636365, intercept=-85.92727272727274, rvalue=0.7586402890911869, pvalue=0.010964341301680825, stderr=2.257878767543913)"
      ]
     },
     "execution_count": 18,
     "metadata": {},
     "output_type": "execute_result"
    }
   ],
   "source": [
    "# Example 14\n",
    "scipy.stats.linregress(xy.T)"
   ]
  },
  {
   "cell_type": "markdown",
   "metadata": {},
   "source": [
    "## Pearson Correlation: NumPy and SciPy Implementation \n",
    "\n",
    "And how does this work with missing (NaN) data values?"
   ]
  },
  {
   "cell_type": "code",
   "execution_count": 19,
   "metadata": {},
   "outputs": [],
   "source": [
    "# Example 15\n",
    "r, p = scipy.stats.pearsonr(x, y)"
   ]
  },
  {
   "cell_type": "code",
   "execution_count": 20,
   "metadata": {},
   "outputs": [
    {
     "data": {
      "text/plain": [
       "0.7586402890911869"
      ]
     },
     "execution_count": 20,
     "metadata": {},
     "output_type": "execute_result"
    }
   ],
   "source": [
    "# Example 16\n",
    "r"
   ]
  },
  {
   "cell_type": "code",
   "execution_count": 21,
   "metadata": {},
   "outputs": [
    {
     "data": {
      "text/plain": [
       "0.010964341301680832"
      ]
     },
     "execution_count": 21,
     "metadata": {},
     "output_type": "execute_result"
    }
   ],
   "source": [
    "# Example 17\n",
    "p"
   ]
  },
  {
   "cell_type": "code",
   "execution_count": 22,
   "metadata": {},
   "outputs": [
    {
     "data": {
      "text/plain": [
       "array([[1.        , 0.75864029],\n",
       "       [0.75864029, 1.        ]])"
      ]
     },
     "execution_count": 22,
     "metadata": {},
     "output_type": "execute_result"
    }
   ],
   "source": [
    "# Example 18\n",
    "np.corrcoef(x, y)"
   ]
  },
  {
   "cell_type": "markdown",
   "metadata": {},
   "source": [
    "If you want to get the correlation coefficients for three features, then you just provide a numeric two-dimensional array with three rows as the argument:"
   ]
  },
  {
   "cell_type": "code",
   "execution_count": 24,
   "metadata": {},
   "outputs": [
    {
     "data": {
      "text/plain": [
       "array([[ 1.        ,  0.75864029, -0.96807242],\n",
       "       [ 0.75864029,  1.        , -0.83407922],\n",
       "       [-0.96807242, -0.83407922,  1.        ]])"
      ]
     },
     "execution_count": 24,
     "metadata": {},
     "output_type": "execute_result"
    }
   ],
   "source": [
    "\n",
    "xyz = np.array([[10, 11, 12, 13, 14, 15, 16, 17, 18, 19],\n",
    "...                 [2, 1, 4, 5, 8, 12, 18, 25, 96, 48],\n",
    "...                 [5, 3, 2, 1, 0, -2, -8, -11, -15, -16]])\n",
    "np.corrcoef(xyz)"
   ]
  },
  {
   "cell_type": "markdown",
   "metadata": {},
   "source": [
    "This is because _corrcoef()_ considers each row of _xyz_ as one feature. The value 0.76 is the correlation coefficient for the first two features of _xyz_. This is the same as the coefficient for x and y in previous examples. -0.97 represents _Pearson’s r_ for the first and third features, while -0.83 is _Pearson’s r_ for the last two features.\n",
    "\n",
    "Here’s an interesting example of what happens when you pass _nan_ data to corrcoef():"
   ]
  },
  {
   "cell_type": "code",
   "execution_count": 26,
   "metadata": {},
   "outputs": [
    {
     "data": {
      "text/plain": [
       "array([[1.        , 0.62554324,        nan],\n",
       "       [0.62554324, 1.        ,        nan],\n",
       "       [       nan,        nan,        nan]])"
      ]
     },
     "execution_count": 26,
     "metadata": {},
     "output_type": "execute_result"
    }
   ],
   "source": [
    "arr_with_nan = np.array([[0, 1, 2, 3],\n",
    "...                          [2, 4, 1, 8],\n",
    "...                          [2, 5, np.nan, 2]])\n",
    "np.corrcoef(arr_with_nan)"
   ]
  },
  {
   "cell_type": "markdown",
   "metadata": {},
   "source": [
    "In this example, the first two rows (or features) of _arr_with_nan_ are okay, but the third row [2, 5, np.nan, 2] contains a _nan_ value. Everything that doesn’t include the feature with _nan_ is calculated well. The results that depend on the last row, however, are _nan_.\n",
    "\n",
    "By default, _numpy.corrcoef()_ considers the rows as features and the columns as observations. If you want the opposite behavior, which is widely used in machine learning, then use the argument _rowvar=False_:"
   ]
  },
  {
   "cell_type": "code",
   "execution_count": 25,
   "metadata": {},
   "outputs": [
    {
     "data": {
      "text/plain": [
       "array([[ 1.        ,  0.75864029, -0.96807242],\n",
       "       [ 0.75864029,  1.        , -0.83407922],\n",
       "       [-0.96807242, -0.83407922,  1.        ]])"
      ]
     },
     "execution_count": 25,
     "metadata": {},
     "output_type": "execute_result"
    }
   ],
   "source": [
    "# Example 21\n",
    "xyz.T\n",
    "np.corrcoef(xyz.T, rowvar=False)"
   ]
  },
  {
   "cell_type": "markdown",
   "metadata": {},
   "source": [
    "## Rank Correlation\n",
    "Rank correlation compares the ranks or the orderings of the data related to two variables or dataset features. If the orderings are similar, then the correlation is strong, positive, and high. However, if the orderings are close to reversed, then the correlation is strong, negative, and low. In other words, rank correlation is concerned only with the order of values, not with the particular values from the dataset.\n",
    "\n",
    "To illustrate the difference between linear and rank correlation, consider the following figure:\n",
    "\n",
    "![Rank Correlation](rank_correlation.png)\n",
    "\n",
    "The left plot has a perfect positive linear relationship between x and y, so r = 1. The central plot shows positive correlation and the right one shows negative correlation. However, neither of them is a linear function, so r is different than −1 or 1.\n",
    "\n",
    "When you look only at the orderings or ranks, all three relationships are perfect! The left and central plots show the observations where larger x values always correspond to larger y values. This is perfect positive rank correlation. The right plot illustrates the opposite case, which is perfect negative rank correlation.\n",
    "\n",
    "### Spearman Correlation Coefficient\n",
    "The Spearman correlation coefficient between two features is the Pearson correlation coefficient between their rank values. It’s calculated the same way as the Pearson correlation coefficient but takes into account their ranks instead of their values. It’s often denoted with the Greek letter rho (ρ) and called Spearman’s rho.\n",
    "\n",
    "Here are some important facts about the Spearman correlation coefficient:\n",
    "\n",
    "- It can take a real value in the range −1 ≤ ρ ≤ 1.\n",
    "\n",
    "- Its maximum value ρ = 1 corresponds to the case when there’s a monotonically increasing function between x and y. In other words, larger x values correspond to larger y values and vice versa.\n",
    "\n",
    "- Its minimum value ρ = −1 corresponds to the case when there’s a monotonically decreasing function between x and y. In other words, larger x values correspond to smaller y values and vice versa.\n",
    "\n",
    "\n",
    "You can calculate Spearman’s rho in Python in a very similar way as you would Pearson’s r.\n",
    "\n",
    "### Kendall Correlation Coefficient\n",
    "Let’s start again by considering two n-tuples, x and y. Each of the x-y pairs (x₁, y₁), (x₂, y₂), … is a single observation. A pair of observations (xᵢ, yᵢ) and (xⱼ, yⱼ), where i < j, will be one of three things:\n",
    "\n",
    "Some important facts about the Kendall correlation coefficient are as follows:\n",
    "\n",
    "- It can take a real value in the range −1 ≤ τ ≤ 1.\n",
    "\n",
    "- Its maximum value τ = 1 corresponds to the case when the ranks of the corresponding values in x and y are the same. In other words, all pairs are concordant.\n",
    "\n",
    "- Its minimum value τ = −1 corresponds to the case when the rankings in x are the reverse of the rankings in y. In other words, all pairs are discordant.\n",
    "\n",
    "You can calculate Kendall’s tau in Python similarly to how you would calculate Pearson’s r.\n"
   ]
  },
  {
   "cell_type": "markdown",
   "metadata": {},
   "source": [
    "## Visualization of Correlation\n",
    "Data visualization is very important in statistics and data science. In this section, you’ll learn how to visually represent the relationship between two features with an x-y plot. You’ll also use heatmaps to visualize a correlation matrix.\n",
    "\n",
    "FIrst, let's reset our variables."
   ]
  },
  {
   "cell_type": "code",
   "execution_count": 26,
   "metadata": {},
   "outputs": [],
   "source": [
    "# Example 22\n",
    "import matplotlib.pyplot as plt\n",
    "plt.style.use('ggplot')\n",
    "import numpy as np\n",
    "import scipy.stats\n",
    "x = np.arange(10, 20)\n",
    "y = np.array([2, 1, 4, 5, 8, 12, 18, 25, 96, 48])\n",
    "z = np.array([5, 3, 2, 1, 0, -2, -8, -11, -15, -16])\n",
    "xyz = np.array([[10, 11, 12, 13, 14, 15, 16, 17, 18, 19], [2, 1, 4, 5, 8, 12, 18, 25, 96, 48],  [5, 3, 2, 1, 0, -2, -8, -11, -15, -16]])"
   ]
  },
  {
   "cell_type": "markdown",
   "metadata": {},
   "source": [
    "## X-Y Plots With a Regression Line\n",
    "First, you’ll see how to create an x-y plot with the regression line, its equation, and the Pearson correlation coefficient. You can get the slope and the intercept of the regression line, as well as the correlation coefficient, with linregress():"
   ]
  },
  {
   "cell_type": "code",
   "execution_count": 27,
   "metadata": {},
   "outputs": [],
   "source": [
    "# Example 23\n",
    "slope, intercept, r, p, stderr = scipy.stats.linregress(x, y)"
   ]
  },
  {
   "cell_type": "markdown",
   "metadata": {},
   "source": [
    "Now you have all the values you need. You can also get the string with the equation of the regression line and the value of the correlation coefficient. _f-strings_ are very convenient for this purpose.  \n",
    "\n",
    "Also called “formatted string literals,” _f-strings_ are string literals that have an f at the beginning and curly braces containing expressions that will be replaced with their values. The expressions are evaluated at runtime and then formatted using the __format__ protocol. :"
   ]
  },
  {
   "cell_type": "code",
   "execution_count": 28,
   "metadata": {},
   "outputs": [
    {
     "data": {
      "text/plain": [
       "'Regression line: y=-85.93+7.44x, r=0.76'"
      ]
     },
     "execution_count": 28,
     "metadata": {},
     "output_type": "execute_result"
    }
   ],
   "source": [
    "# Example 24\n",
    "line = f'Regression line: y={intercept:.2f}+{slope:.2f}x, r={r:.2f}'\n",
    "line"
   ]
  },
  {
   "cell_type": "markdown",
   "metadata": {},
   "source": [
    "Now, create the x-y plot with .plot():"
   ]
  },
  {
   "cell_type": "code",
   "execution_count": 29,
   "metadata": {},
   "outputs": [
    {
     "data": {
      "image/png": "[encoded data removed]",
      "text/plain": [
       "<Figure size 432x288 with 1 Axes>"
      ]
     },
     "metadata": {},
     "output_type": "display_data"
    }
   ],
   "source": [
    "# Example 25\n",
    "fig, ax = plt.subplots()\n",
    "ax.plot(x, y, linewidth=0, marker='s', label='Data points')\n",
    "ax.plot(x, intercept + slope * x, label=line)\n",
    "ax.set_xlabel('x')\n",
    "ax.set_ylabel('y')\n",
    "ax.legend(facecolor='white')\n",
    "plt.show()"
   ]
  },
  {
   "cell_type": "markdown",
   "metadata": {},
   "source": [
    "## Heatmaps of Correlation Matrices ##\n",
    "The correlation matrix can become really big and confusing when you have a lot of features! Fortunately, you can present it visually as a heatmap where each field has the color that corresponds to its value. You’ll need the correlation matrix:"
   ]
  },
  {
   "cell_type": "code",
   "execution_count": 30,
   "metadata": {},
   "outputs": [
    {
     "data": {
      "text/plain": [
       "array([[ 1.  ,  0.76, -0.97],\n",
       "       [ 0.76,  1.  , -0.83],\n",
       "       [-0.97, -0.83,  1.  ]])"
      ]
     },
     "execution_count": 30,
     "metadata": {},
     "output_type": "execute_result"
    }
   ],
   "source": [
    "# Example 26\n",
    "corr_matrix = np.corrcoef(xyz).round(decimals=2)\n",
    "corr_matrix"
   ]
  },
  {
   "cell_type": "markdown",
   "metadata": {},
   "source": [
    "It can be convenient for you to round the numbers in the correlation matrix with _.round()_, as they’re going to be shown be on the heatmap.\n",
    "\n",
    "Finally, create your heatmap with _.imshow()_ and the correlation matrix as its argument:"
   ]
  },
  {
   "cell_type": "code",
   "execution_count": 31,
   "metadata": {},
   "outputs": [
    {
     "data": {
      "image/png": "[encoded data removed]",
      "text/plain": [
       "<Figure size 432x288 with 2 Axes>"
      ]
     },
     "metadata": {},
     "output_type": "display_data"
    }
   ],
   "source": [
    "# Example 27\n",
    "fig, ax = plt.subplots()\n",
    "im = ax.imshow(corr_matrix)\n",
    "im.set_clim(-1, 1)\n",
    "ax.grid(False)\n",
    "ax.xaxis.set(ticks=(0, 1, 2), ticklabels=('x', 'y', 'z'))\n",
    "ax.yaxis.set(ticks=(0, 1, 2), ticklabels=('x', 'y', 'z'))\n",
    "ax.set_ylim(2.5, -0.5)\n",
    "for i in range(3):\n",
    "    for j in range(3):\n",
    "        ax.text(j, i, corr_matrix[i, j], ha='center', va='center',\n",
    "                color='r')\n",
    "cbar = ax.figure.colorbar(im, ax=ax, format='% .2f')\n",
    "plt.show()"
   ]
  },
  {
   "cell_type": "markdown",
   "metadata": {},
   "source": [
    "In this heatmap, notice that the color gradiant goes from light (yellow) to dark (blue), which is high values to low values, so you might be able to visualize a pattern from this.\n",
    "\n",
    "\n",
    "\n",
    "Now we've looked at different types of correlation and different ways to visualize it.  For simple relationships, the Pearson and a scatter plot works.  For larger data sets, a HeatMap might be better.\n",
    "\n",
    "__Exercise__\n",
    "\n",
    "Go back and look at the Titanic data - what was the correlation between surviviability and age? gender? class?  Generate some figures exploring the relationships within that dataset."
   ]
  },
  {
   "cell_type": "code",
   "execution_count": null,
   "metadata": {},
   "outputs": [],
   "source": []
  }
 ],
 "metadata": {
  "kernelspec": {
   "display_name": "Python 3",
   "language": "python",
   "name": "python3"
  },
  "language_info": {
   "codemirror_mode": {
    "name": "ipython",
    "version": 3
   },
   "file_extension": ".py",
   "mimetype": "text/x-python",
   "name": "python",
   "nbconvert_exporter": "python",
   "pygments_lexer": "ipython3",
   "version": "3.7.7"
  }
 },
 "nbformat": 4,
 "nbformat_minor": 4
}
