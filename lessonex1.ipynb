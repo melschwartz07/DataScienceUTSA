{
 "cells": [
  {
   "cell_type": "code",
   "execution_count": 8,
   "outputs": [
    {
     "name": "stdout",
     "output_type": "stream",
     "text": [
      "Thank you!\n"
     ]
    }
   ],
   "source": [
    "try:\n",
    "       n = 0\n",
    "       for i in range(n):\n",
    "             print('Square of {} is {}'.format(i,i * i))\n",
    "except:\n",
    "      print('Wrong value!')\n",
    "finally:\n",
    "      print('Thank you!')"
   ],
   "metadata": {
    "collapsed": false,
    "pycharm": {
     "name": "#%%\n"
    }
   }
  },
  {
   "cell_type": "code",
   "execution_count": 9,
   "outputs": [
    {
     "name": "stdout",
     "output_type": "stream",
     "text": [
      "Quotient: 5.0\n",
      "Cannot divide 2 by 0\n",
      "Cannot divide 13 by 2\n"
     ]
    }
   ],
   "source": [
    "def division(a, b):\n",
    "      try:\n",
    "           div = a / b\n",
    "           print(f'Quotient: {div}')\n",
    "      except:\n",
    "           print(f'Cannot divide {a} by {b}')\n",
    "\n",
    "\n",
    "division(10, 2)\n",
    "division(2, 0)\n",
    "division('13',2)"
   ],
   "metadata": {
    "collapsed": false,
    "pycharm": {
     "name": "#%%\n"
    }
   }
  },
  {
   "cell_type": "code",
   "execution_count": 10,
   "outputs": [
    {
     "name": "stdout",
     "output_type": "stream",
     "text": [
      "Invalid Input!\n",
      "Invalid Input!\n",
      "Quotient: 7.2\n"
     ]
    }
   ],
   "source": [
    "def division(a, b):\n",
    "      try:\n",
    "            div = a / b\n",
    "            print(f'Quotient: {div}')\n",
    "      except (TypeError, ZeroDivisionError):\n",
    "            print('Invalid Input!')\n",
    "      except (ValueError):\n",
    "            print('Invalid Input Value!')\n",
    "\n",
    "\n",
    "division(2, 0)\n",
    "division('2', 10)\n",
    "division(36.0, 5.0)"
   ],
   "metadata": {
    "collapsed": false,
    "pycharm": {
     "name": "#%%\n"
    }
   }
  },
  {
   "cell_type": "code",
   "execution_count": null,
   "outputs": [],
   "source": [],
   "metadata": {
    "collapsed": false,
    "pycharm": {
     "name": "#%%\n"
    }
   }
  }
 ],
 "metadata": {
  "kernelspec": {
   "display_name": "Python 3",
   "language": "python",
   "name": "python3"
  },
  "language_info": {
   "codemirror_mode": {
    "name": "ipython",
    "version": 2
   },
   "file_extension": ".py",
   "mimetype": "text/x-python",
   "name": "python",
   "nbconvert_exporter": "python",
   "pygments_lexer": "ipython2",
   "version": "2.7.6"
  }
 },
 "nbformat": 4,
 "nbformat_minor": 0
}