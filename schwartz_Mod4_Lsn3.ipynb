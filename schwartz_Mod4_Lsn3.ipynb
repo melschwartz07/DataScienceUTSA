{
 "cells": [
  {
   "cell_type": "code",
   "execution_count": 1,
   "metadata": {
    "collapsed": true,
    "pycharm": {
     "name": "#%%\n"
    }
   },
   "outputs": [
    {
     "name": "stdout",
     "output_type": "stream",
     "text": [
      "[[1, 1], [2, 3], [4, 3], [3, 2], [5, 5]]\n"
     ]
    },
    {
     "data": {
      "text/plain": "<Figure size 432x288 with 1 Axes>",
      "image/png": "[encoded data removed]"
     },
     "metadata": {
      "needs_background": "light"
     },
     "output_type": "display_data"
    }
   ],
   "source": [
    "dataset = [[1, 1], [2, 3], [4, 3], [3, 2], [5, 5]]\n",
    "x = [row[0] for row in dataset]\n",
    "y = [row[1] for row in dataset]\n",
    "\n",
    "print( dataset )\n",
    "\n",
    "# Plotting Values and Regression Line\n",
    "import matplotlib.pyplot as plt\n",
    "\n",
    "# Ploting Scatter Points\n",
    "plt.scatter(x, y, c='#0000FF', label='Data')\n",
    "\n",
    "plt.xlabel('Hours Spent Studying')\n",
    "plt.ylabel('Score on Exam')\n",
    "plt.legend()\n",
    "plt.show()"
   ]
  },
  {
   "cell_type": "code",
   "execution_count": 2,
   "outputs": [
    {
     "name": "stdout",
     "output_type": "stream",
     "text": [
      "Mean: 3.0 ,  2.8\n",
      "Variance: 45.0 ,  39.199999999999996\n"
     ]
    }
   ],
   "source": [
    "import numpy as np\n",
    "\n",
    "mean_x = np.mean(x)\n",
    "mean_y = np.mean(y)\n",
    "variance_x = sum([(mean_x)**2 for a in x])\n",
    "variance_y = sum([(mean_y)**2 for b in y])\n",
    "\n",
    "print( 'Mean:', mean_x, ', ', mean_y)\n",
    "print( 'Variance:', variance_x, ', ', variance_y)"
   ],
   "metadata": {
    "collapsed": false,
    "pycharm": {
     "name": "#%%\n"
    }
   }
  },
  {
   "cell_type": "code",
   "execution_count": 3,
   "outputs": [
    {
     "name": "stdout",
     "output_type": "stream",
     "text": [
      "Covariance: 8.0\n"
     ]
    }
   ],
   "source": [
    "covariance = 0.0\n",
    "for i in range(len(x)):\n",
    "\tcovariance += (x[i] - mean_x) * (y[i] - mean_y)\n",
    "\n",
    "print( 'Covariance:', covariance )"
   ],
   "metadata": {
    "collapsed": false,
    "pycharm": {
     "name": "#%%\n"
    }
   }
  },
  {
   "cell_type": "code",
   "execution_count": 5,
   "outputs": [
    {
     "name": "stdout",
     "output_type": "stream",
     "text": [
      "Coefficients:  0.17777777777777778 ,  2.2666666666666666\n"
     ]
    }
   ],
   "source": [
    "b1 = covariance / variance_x\n",
    "b0 = mean_y - b1 * mean_x\n",
    "\n",
    "print( 'Coefficients: ', b1, ', ', b0)"
   ],
   "metadata": {
    "collapsed": false,
    "pycharm": {
     "name": "#%%\n"
    }
   }
  },
  {
   "cell_type": "code",
   "execution_count": 6,
   "outputs": [
    {
     "name": "stdout",
     "output_type": "stream",
     "text": [
      "Predictions:\n",
      "2.444444444444444\n",
      "2.6222222222222222\n",
      "2.977777777777778\n",
      "2.8\n",
      "3.1555555555555554\n"
     ]
    }
   ],
   "source": [
    "print( 'Predictions:' )\n",
    "for i in range(len(x)):\n",
    "  y_hat = b0 + b1 * x[i]\n",
    "  print( y_hat )"
   ],
   "metadata": {
    "collapsed": false,
    "pycharm": {
     "name": "#%%\n"
    }
   }
  },
  {
   "cell_type": "code",
   "execution_count": 7,
   "outputs": [
    {
     "data": {
      "text/plain": "<Figure size 432x288 with 1 Axes>",
      "image/png": "[encoded data removed]"
     },
     "metadata": {
      "needs_background": "light"
     },
     "output_type": "display_data"
    }
   ],
   "source": [
    "# Plotting Values and Regression Line\n",
    "import matplotlib.pyplot as plt\n",
    "\n",
    "max_x = np.max(x) + 1\n",
    "min_x = np.min(x) - 1\n",
    "\n",
    "# Calculating line values x and y\n",
    "X = np.linspace(min_x, max_x, 100)\n",
    "Y = b0 + b1 * X\n",
    "\n",
    "# Ploting Line\n",
    "plt.plot(X, Y, color='#FF0000', label='Regression Line')\n",
    "# Ploting Scatter Points\n",
    "plt.scatter(x, y, c='#0000FF', label='Data')\n",
    "\n",
    "plt.xlabel('Hours Spent Studying')\n",
    "plt.ylabel('Score on Exam')\n",
    "plt.legend()\n",
    "plt.show()"
   ],
   "metadata": {
    "collapsed": false,
    "pycharm": {
     "name": "#%%\n"
    }
   }
  },
  {
   "cell_type": "code",
   "execution_count": null,
   "outputs": [],
   "source": [],
   "metadata": {
    "collapsed": false,
    "pycharm": {
     "name": "#%%\n"
    }
   }
  }
 ],
 "metadata": {
  "kernelspec": {
   "display_name": "Python 3",
   "language": "python",
   "name": "python3"
  },
  "language_info": {
   "codemirror_mode": {
    "name": "ipython",
    "version": 2
   },
   "file_extension": ".py",
   "mimetype": "text/x-python",
   "name": "python",
   "nbconvert_exporter": "python",
   "pygments_lexer": "ipython2",
   "version": "2.7.6"
  }
 },
 "nbformat": 4,
 "nbformat_minor": 0
}