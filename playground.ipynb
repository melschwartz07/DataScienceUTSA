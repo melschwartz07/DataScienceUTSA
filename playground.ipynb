{
 "cells": [
  {
   "cell_type": "code",
   "execution_count": 1,
   "metadata": {
    "collapsed": true,
    "pycharm": {
     "name": "#%%\n"
    }
   },
   "outputs": [
    {
     "name": "stdout",
     "output_type": "stream",
     "text": [
      "['abc', 'def']\n"
     ]
    }
   ],
   "source": [
    "new_list = [['abc', 'def'], 10, 20]\n",
    "print(new_list[0])"
   ]
  },
  {
   "cell_type": "code",
   "execution_count": 3,
   "outputs": [
    {
     "name": "stdout",
     "output_type": "stream",
     "text": [
      "3\n"
     ]
    }
   ],
   "source": [
    "my_list = [10, 10, 2, 5, 10]\n",
    "print(my_list.index(10) + my_list.count(10))"
   ],
   "metadata": {
    "collapsed": false,
    "pycharm": {
     "name": "#%%\n"
    }
   }
  },
  {
   "cell_type": "code",
   "execution_count": 4,
   "outputs": [
    {
     "name": "stdout",
     "output_type": "stream",
     "text": [
      "[20, 25]\n",
      "hello\n"
     ]
    }
   ],
   "source": [
    "my_list = [20, 25, 'hello']\n",
    "new_list = my_list[:]\n",
    "print(new_list[0:2])\n",
    "print(my_list[-1])"
   ],
   "metadata": {
    "collapsed": false,
    "pycharm": {
     "name": "#%%\n"
    }
   }
  },
  {
   "cell_type": "code",
   "execution_count": 5,
   "outputs": [
    {
     "name": "stdout",
     "output_type": "stream",
     "text": [
      "10\n",
      "20\n",
      "30\n",
      "40\n"
     ]
    }
   ],
   "source": [
    "new_list = [10, 20, 30, 40]\n",
    "for i in new_list[:]:\n",
    "      print(i)\n",
    "      new_value = new_list.pop(0)"
   ],
   "metadata": {
    "collapsed": false,
    "pycharm": {
     "name": "#%%\n"
    }
   }
  },
  {
   "cell_type": "code",
   "execution_count": 6,
   "outputs": [
    {
     "name": "stdout",
     "output_type": "stream",
     "text": [
      "Value popped: 2\n"
     ]
    },
    {
     "ename": "KeyError",
     "evalue": "'B'",
     "output_type": "error",
     "traceback": [
      "\u001B[0;31m---------------------------------------------------------------------------\u001B[0m",
      "\u001B[0;31mKeyError\u001B[0m                                  Traceback (most recent call last)",
      "Input \u001B[0;32mIn [6]\u001B[0m, in \u001B[0;36m<cell line: 6>\u001B[0;34m()\u001B[0m\n\u001B[1;32m      4\u001B[0m my_dict[\u001B[38;5;124m'\u001B[39m\u001B[38;5;124mF\u001B[39m\u001B[38;5;124m'\u001B[39m] \u001B[38;5;241m=\u001B[39m \u001B[38;5;241m0\u001B[39m\n\u001B[1;32m      5\u001B[0m _popped \u001B[38;5;241m=\u001B[39m my_dict\u001B[38;5;241m.\u001B[39mpop(\u001B[38;5;124m'\u001B[39m\u001B[38;5;124mF\u001B[39m\u001B[38;5;124m'\u001B[39m, \u001B[38;5;241m0\u001B[39m)\n\u001B[0;32m----> 6\u001B[0m _popped \u001B[38;5;241m=\u001B[39m \u001B[43mmy_dict\u001B[49m\u001B[38;5;241;43m.\u001B[39;49m\u001B[43mpop\u001B[49m\u001B[43m(\u001B[49m\u001B[38;5;124;43m'\u001B[39;49m\u001B[38;5;124;43mB\u001B[39;49m\u001B[38;5;124;43m'\u001B[39;49m\u001B[43m)\u001B[49m\n\u001B[1;32m      7\u001B[0m \u001B[38;5;28mprint\u001B[39m(\u001B[38;5;124m'\u001B[39m\u001B[38;5;124mValue popped: \u001B[39m\u001B[38;5;124m'\u001B[39m \u001B[38;5;241m+\u001B[39m \u001B[38;5;28mstr\u001B[39m(_popped))\n",
      "\u001B[0;31mKeyError\u001B[0m: 'B'"
     ]
    }
   ],
   "source": [
    "my_dict = {'A' : 1, 'B' : 2, 'C' : 3, 'D' : 4, 'E' : 5}\n",
    "_popped = my_dict.pop('B', 6)\n",
    "print('Value popped: ' + str(_popped))\n",
    "my_dict['F'] = 0\n",
    "_popped = my_dict.pop('F', 0)\n",
    "_popped = my_dict.pop('B')\n",
    "print('Value popped: ' + str(_popped))"
   ],
   "metadata": {
    "collapsed": false,
    "pycharm": {
     "name": "#%%\n"
    }
   }
  },
  {
   "cell_type": "code",
   "execution_count": 7,
   "outputs": [
    {
     "name": "stdout",
     "output_type": "stream",
     "text": [
      "Y\n"
     ]
    }
   ],
   "source": [
    "dict = {1: 'X', 2: 'Y', 3: 'Z'}\n",
    "print(dict.get(2, 'A'))"
   ],
   "metadata": {
    "collapsed": false,
    "pycharm": {
     "name": "#%%\n"
    }
   }
  },
  {
   "cell_type": "code",
   "execution_count": 8,
   "outputs": [
    {
     "name": "stdout",
     "output_type": "stream",
     "text": [
      "['Seuss']\n"
     ]
    }
   ],
   "source": [
    "my_list = [['cat in a hat'], ['Dr', 'Seuss']]\n",
    "print(my_list[1][1:])"
   ],
   "metadata": {
    "collapsed": false,
    "pycharm": {
     "name": "#%%\n"
    }
   }
  },
  {
   "cell_type": "code",
   "execution_count": 9,
   "outputs": [],
   "source": [
    "# my_list = [[10, 10], [100, 100], [500, 500, 1000]]\n",
    "# for val in my_list:\n",
    "#       new_list = [i for i in val if i>10]\n"
   ],
   "metadata": {
    "collapsed": false,
    "pycharm": {
     "name": "#%%\n"
    }
   }
  },
  {
   "cell_type": "code",
   "execution_count": 12,
   "outputs": [],
   "source": [
    "\n",
    "\n",
    "\n"
   ],
   "metadata": {
    "collapsed": false,
    "pycharm": {
     "name": "#%%\n"
    }
   }
  },
  {
   "cell_type": "code",
   "execution_count": 13,
   "outputs": [
    {
     "name": "stdout",
     "output_type": "stream",
     "text": [
      "500 500: 1000 [10, 10]\n"
     ]
    }
   ],
   "source": [
    "for i, j in enumerate(my_list):\n",
    " new_list.append(j)\n",
    "print(f'{new_list[0]} {new_list[1]}: {new_list[2]} {new_list[3]}')"
   ],
   "metadata": {
    "collapsed": false,
    "pycharm": {
     "name": "#%%\n"
    }
   }
  },
  {
   "cell_type": "code",
   "execution_count": 17,
   "outputs": [
    {
     "name": "stdout",
     "output_type": "stream",
     "text": [
      "['cat in a hat', 'fluffy dogs', 1989, 1990]\n"
     ]
    }
   ],
   "source": [
    "new_list = ['1000', '2000', '3000', 'cat in a hat', 'fluffy dogs']\n",
    "print(new_list[-2:] + [1989, 1990])"
   ],
   "metadata": {
    "collapsed": false,
    "pycharm": {
     "name": "#%%\n"
    }
   }
  },
  {
   "cell_type": "code",
   "execution_count": 18,
   "outputs": [
    {
     "name": "stdout",
     "output_type": "stream",
     "text": [
      "False\n",
      "4\n"
     ]
    }
   ],
   "source": [
    "new_list = [0, 1, 2, 3, 4]\n",
    "print(all(new_list))\n",
    "print(min(new_list) + max(new_list))"
   ],
   "metadata": {
    "collapsed": false,
    "pycharm": {
     "name": "#%%\n"
    }
   }
  },
  {
   "cell_type": "code",
   "execution_count": 19,
   "outputs": [
    {
     "name": "stdout",
     "output_type": "stream",
     "text": [
      "{1: 'Hi', 2: 'Yes', 3: 'No'}\n"
     ]
    }
   ],
   "source": [
    "dict1 = {1: 'Hi', 2: 'Bye'}\n",
    "dict2 = {2: 'Yes'}\n",
    "dict1.update(dict2)\n",
    "dict3 = {3: 'No'}\n",
    "dict1.update(dict3)\n",
    "print(dict1)"
   ],
   "metadata": {
    "collapsed": false,
    "pycharm": {
     "name": "#%%\n"
    }
   }
  },
  {
   "cell_type": "code",
   "execution_count": 27,
   "outputs": [
    {
     "name": "stdout",
     "output_type": "stream",
     "text": [
      "[3, 4, 5, 6]\n"
     ]
    }
   ],
   "source": [
    "new_list = [3, 4, 5, 6]\n",
    "for i in new_list:\n",
    "     if i % 2 == 0:\n",
    "          i = 'even'\n",
    "     else:\n",
    "          i == 'odd'\n",
    "print(new_list)"
   ],
   "metadata": {
    "collapsed": false,
    "pycharm": {
     "name": "#%%\n"
    }
   }
  },
  {
   "cell_type": "code",
   "execution_count": 28,
   "outputs": [
    {
     "name": "stdout",
     "output_type": "stream",
     "text": [
      "['python', 'development', 'in progress']\n"
     ]
    }
   ],
   "source": [
    "new_list = ['python', 'development']\n",
    "new_list.append('in progress')\n",
    "print(new_list)"
   ],
   "metadata": {
    "collapsed": false,
    "pycharm": {
     "name": "#%%\n"
    }
   }
  },
  {
   "cell_type": "code",
   "execution_count": 29,
   "outputs": [
    {
     "name": "stdout",
     "output_type": "stream",
     "text": [
      "goo\n"
     ]
    }
   ],
   "source": [
    "my_list = ['hello', 'good', 'morning']\n",
    "print(my_list[1][:3])"
   ],
   "metadata": {
    "collapsed": false,
    "pycharm": {
     "name": "#%%\n"
    }
   }
  },
  {
   "cell_type": "code",
   "execution_count": 30,
   "outputs": [
    {
     "name": "stdout",
     "output_type": "stream",
     "text": [
      "[5, 6, 7, 9, 10] [9, 7, 6, 5]\n"
     ]
    }
   ],
   "source": [
    "b1 = [7, 5, 9, 6]\n",
    "b1.sort()\n",
    "b2 = b1.copy()\n",
    "b1.append(10)\n",
    "b2 = b2[::-1]\n",
    "print(b1, b2)"
   ],
   "metadata": {
    "collapsed": false,
    "pycharm": {
     "name": "#%%\n"
    }
   }
  },
  {
   "cell_type": "code",
   "execution_count": 31,
   "outputs": [
    {
     "name": "stdout",
     "output_type": "stream",
     "text": [
      "[20, 25]\n",
      "hello\n"
     ]
    }
   ],
   "source": [
    "my_list = [20, 25, 'hello']\n",
    "new_list = my_list[:]\n",
    "print(new_list[0:2])\n",
    "print(my_list[-1])"
   ],
   "metadata": {
    "collapsed": false,
    "pycharm": {
     "name": "#%%\n"
    }
   }
  },
  {
   "cell_type": "code",
   "execution_count": 32,
   "outputs": [
    {
     "name": "stdout",
     "output_type": "stream",
     "text": [
      "10\n",
      "20\n",
      "30\n",
      "40\n"
     ]
    }
   ],
   "source": [
    "new_list = [10, 20, 30, 40]\n",
    "for i in new_list[:]:\n",
    "      print(i)\n",
    "      new_value = new_list.pop(0)"
   ],
   "metadata": {
    "collapsed": false,
    "pycharm": {
     "name": "#%%\n"
    }
   }
  },
  {
   "cell_type": "code",
   "execution_count": 33,
   "outputs": [
    {
     "name": "stdout",
     "output_type": "stream",
     "text": [
      "False\n",
      "4\n"
     ]
    }
   ],
   "source": [
    "new_list = [0, 1, 2, 3, 4]\n",
    "print(all(new_list))\n",
    "print(min(new_list) + max(new_list))"
   ],
   "metadata": {
    "collapsed": false,
    "pycharm": {
     "name": "#%%\n"
    }
   }
  },
  {
   "cell_type": "code",
   "execution_count": 34,
   "outputs": [
    {
     "ename": "IndentationError",
     "evalue": "expected an indented block (728743530.py, line 3)",
     "output_type": "error",
     "traceback": [
      "\u001B[0;36m  Input \u001B[0;32mIn [34]\u001B[0;36m\u001B[0m\n\u001B[0;31m    new_list.append(item)\u001B[0m\n\u001B[0m    ^\u001B[0m\n\u001B[0;31mIndentationError\u001B[0m\u001B[0;31m:\u001B[0m expected an indented block\n"
     ]
    }
   ],
   "source": [
    "for i, j in enumerate(my_list):\n",
    " for item in my_list[i]:\n",
    " new_list.append(item)\n",
    "print(f'{new_list[0]} {new_list[1]}: {new_list[2]} {new_list[3]}')\n"
   ],
   "metadata": {
    "collapsed": false,
    "pycharm": {
     "name": "#%%\n"
    }
   }
  },
  {
   "cell_type": "code",
   "execution_count": 35,
   "outputs": [
    {
     "name": "stdout",
     "output_type": "stream",
     "text": [
      "h e: l l\n"
     ]
    }
   ],
   "source": [
    "for i, j in enumerate(my_list):\n",
    " new_list = j\n",
    "print(f'{new_list[0]} {new_list[1]}: {new_list[2]} {new_list[3]}')"
   ],
   "metadata": {
    "collapsed": false,
    "pycharm": {
     "name": "#%%\n"
    }
   }
  },
  {
   "cell_type": "code",
   "execution_count": 37,
   "outputs": [
    {
     "ename": "IndentationError",
     "evalue": "unindent does not match any outer indentation level (<tokenize>, line 7)",
     "output_type": "error",
     "traceback": [
      "\u001B[0;36m  File \u001B[0;32m<tokenize>:7\u001B[0;36m\u001B[0m\n\u001B[0;31m    print(new_list[i])\u001B[0m\n\u001B[0m    ^\u001B[0m\n\u001B[0;31mIndentationError\u001B[0m\u001B[0;31m:\u001B[0m unindent does not match any outer indentation level\n"
     ]
    }
   ],
   "source": [
    "\n",
    "\n",
    "new_list = [3, 4, 5, 6]\n",
    "for i in range(len(new_list)):\n",
    "     if i % 2 == 0:\n",
    "        new_list[i] = 'even'\n",
    "     else:\n",
    "        new_list[i] = 'odd'\n",
    " print(new_list[i])"
   ],
   "metadata": {
    "collapsed": false,
    "pycharm": {
     "name": "#%%\n"
    }
   }
  },
  {
   "cell_type": "code",
   "execution_count": 39,
   "outputs": [
    {
     "ename": "IndexError",
     "evalue": "list index out of range",
     "output_type": "error",
     "traceback": [
      "\u001B[0;31m---------------------------------------------------------------------------\u001B[0m",
      "\u001B[0;31mIndexError\u001B[0m                                Traceback (most recent call last)",
      "Input \u001B[0;32mIn [39]\u001B[0m, in \u001B[0;36m<cell line: 6>\u001B[0;34m()\u001B[0m\n\u001B[1;32m      4\u001B[0m \u001B[38;5;28;01mfor\u001B[39;00m i, j \u001B[38;5;129;01min\u001B[39;00m \u001B[38;5;28menumerate\u001B[39m(my_list):\n\u001B[1;32m      5\u001B[0m  new_list \u001B[38;5;241m=\u001B[39m my_list[i]\n\u001B[0;32m----> 6\u001B[0m \u001B[38;5;28mprint\u001B[39m(\u001B[38;5;124mf\u001B[39m\u001B[38;5;124m'\u001B[39m\u001B[38;5;132;01m{\u001B[39;00mnew_list[\u001B[38;5;241m0\u001B[39m]\u001B[38;5;132;01m}\u001B[39;00m\u001B[38;5;124m \u001B[39m\u001B[38;5;132;01m{\u001B[39;00mnew_list[\u001B[38;5;241m1\u001B[39m]\u001B[38;5;132;01m}\u001B[39;00m\u001B[38;5;124m: \u001B[39m\u001B[38;5;132;01m{\u001B[39;00mnew_list[\u001B[38;5;241m2\u001B[39m]\u001B[38;5;132;01m}\u001B[39;00m\u001B[38;5;124m \u001B[39m\u001B[38;5;132;01m{\u001B[39;00mnew_list[\u001B[38;5;241m3\u001B[39m]\u001B[38;5;132;01m}\u001B[39;00m\u001B[38;5;124m'\u001B[39m)\n",
      "\u001B[0;31mIndexError\u001B[0m: list index out of range"
     ]
    }
   ],
   "source": [
    "for i, j in enumerate(my_list):\n",
    " new_list = my_list[i]\n",
    "print(f'{new_list[0]} {new_list[1]}: {new_list[2]} {new_list[3]}')\n"
   ],
   "metadata": {
    "collapsed": false,
    "pycharm": {
     "name": "#%%\n"
    }
   }
  },
  {
   "cell_type": "code",
   "execution_count": 40,
   "outputs": [
    {
     "name": "stdout",
     "output_type": "stream",
     "text": [
      "[13, 15, 17]\n"
     ]
    }
   ],
   "source": [
    "my_list = [13, 14, 15, 16, 17, 18, 19]\n",
    "new_list = my_list[0:6:2]\n",
    "print(new_list)\n",
    "\n",
    "\n",
    "\n",
    "\n"
   ],
   "metadata": {
    "collapsed": false,
    "pycharm": {
     "name": "#%%\n"
    }
   }
  },
  {
   "cell_type": "code",
   "execution_count": 41,
   "outputs": [
    {
     "name": "stdout",
     "output_type": "stream",
     "text": [
      "[14, 15, 16, 17]\n"
     ]
    }
   ],
   "source": [
    "my_list = [13, 14, 15, 16, 17, 18, 19]\n",
    "new_list = my_list[1:5]\n",
    "print(new_list)"
   ],
   "metadata": {
    "collapsed": false,
    "pycharm": {
     "name": "#%%\n"
    }
   }
  },
  {
   "cell_type": "code",
   "execution_count": 42,
   "outputs": [
    {
     "name": "stdout",
     "output_type": "stream",
     "text": [
      "[13, 14, 15]\n"
     ]
    }
   ],
   "source": [
    "\n",
    "my_list = [13, 14, 15, 16, 17]\n",
    "new_list = my_list[0:-2]\n",
    "print(new_list)"
   ],
   "metadata": {
    "collapsed": false,
    "pycharm": {
     "name": "#%%\n"
    }
   }
  },
  {
   "cell_type": "code",
   "execution_count": 43,
   "outputs": [
    {
     "name": "stdout",
     "output_type": "stream",
     "text": [
      "[14, 15]\n"
     ]
    }
   ],
   "source": [
    "my_list = [13, 14, 15, 16, 17]\n",
    "new_list = my_list[-4:-2]\n",
    "print(new_list)"
   ],
   "metadata": {
    "collapsed": false,
    "pycharm": {
     "name": "#%%\n"
    }
   }
  },
  {
   "cell_type": "code",
   "execution_count": 44,
   "outputs": [
    {
     "name": "stdout",
     "output_type": "stream",
     "text": [
      "2\n",
      "4\n",
      "7\n"
     ]
    }
   ],
   "source": [
    "user_values = [2, 4, 7]\n",
    "\n",
    "for n in range(len(user_values)):\n",
    "   print(user_values[n])"
   ],
   "metadata": {
    "collapsed": false,
    "pycharm": {
     "name": "#%%\n"
    }
   }
  },
  {
   "cell_type": "code",
   "execution_count": 45,
   "outputs": [
    {
     "name": "stdout",
     "output_type": "stream",
     "text": [
      "2\n",
      "4\n",
      "8\n"
     ]
    }
   ],
   "source": [
    "user_values = [2, 4, 8]\n",
    "\n",
    "for i in range(len(user_values)):\n",
    "   print(user_values[i])"
   ],
   "metadata": {
    "collapsed": false,
    "pycharm": {
     "name": "#%%\n"
    }
   }
  },
  {
   "cell_type": "code",
   "execution_count": 46,
   "outputs": [
    {
     "name": "stdout",
     "output_type": "stream",
     "text": [
      "13\n"
     ]
    }
   ],
   "source": [
    "\n",
    "user_values = [1, 4, 8]\n",
    "sum_value = 0\n",
    "\n",
    "for pos in range(len(user_values)):\n",
    "  sum_value += user_values[pos]\n",
    "\n",
    "print(sum_value)"
   ],
   "metadata": {
    "collapsed": false,
    "pycharm": {
     "name": "#%%\n"
    }
   }
  },
  {
   "cell_type": "code",
   "execution_count": 47,
   "outputs": [
    {
     "name": "stdout",
     "output_type": "stream",
     "text": [
      "-2\n",
      "-8\n"
     ]
    }
   ],
   "source": [
    "\n",
    "user_values = [-2, 4, 6, -8]\n",
    "\n",
    "for n in range(len(user_values)):\n",
    "  if user_values[n] < 0:\n",
    "    print(user_values[n])"
   ],
   "metadata": {
    "collapsed": false,
    "pycharm": {
     "name": "#%%\n"
    }
   }
  },
  {
   "cell_type": "code",
   "execution_count": 48,
   "outputs": [
    {
     "name": "stdout",
     "output_type": "stream",
     "text": [
      "2\n",
      "3\n",
      "6\n",
      "7\n"
     ]
    }
   ],
   "source": [
    "user_values = [-2, 3, -6, 7]\n",
    "\n",
    "for i in range(len(user_values)):\n",
    "  if user_values[i] < 0:\n",
    "    user_values[i] = -1 * user_values[i]\n",
    "  print(user_values[i])"
   ],
   "metadata": {
    "collapsed": false,
    "pycharm": {
     "name": "#%%\n"
    }
   }
  },
  {
   "cell_type": "code",
   "execution_count": 49,
   "outputs": [
    {
     "name": "stdout",
     "output_type": "stream",
     "text": [
      "2\n",
      "5\n",
      "7\n"
     ]
    }
   ],
   "source": [
    "\n",
    "user_values = [2, 5, 7, 3]\n",
    "\n",
    "max_value = user_values[0]\n",
    "for pos in range(len(user_values)):\n",
    "  if user_values[pos] >= max_value:\n",
    "    max_value = user_values[pos]\n",
    "    print(max_value)"
   ],
   "metadata": {
    "collapsed": false,
    "pycharm": {
     "name": "#%%\n"
    }
   }
  },
  {
   "cell_type": "code",
   "execution_count": 50,
   "outputs": [
    {
     "name": "stdout",
     "output_type": "stream",
     "text": [
      "[3, 4, 5, 6]\n"
     ]
    }
   ],
   "source": [
    "my_list = [-1, 0, 1, 2]\n",
    "new_list = [ number + 4 for number in my_list ]\n",
    "print(new_list)"
   ],
   "metadata": {
    "collapsed": false,
    "pycharm": {
     "name": "#%%\n"
    }
   }
  },
  {
   "cell_type": "code",
   "execution_count": 51,
   "outputs": [
    {
     "name": "stdout",
     "output_type": "stream",
     "text": [
      "[1, 2, 3]\n"
     ]
    }
   ],
   "source": [
    "\n",
    "my_list = [-3, -2, -1, 0, 1, 2, 3]\n",
    "new_list = [ number for number in my_list if number >= 1 ]\n",
    "print(new_list)"
   ],
   "metadata": {
    "collapsed": false,
    "pycharm": {
     "name": "#%%\n"
    }
   }
  },
  {
   "cell_type": "code",
   "execution_count": 52,
   "outputs": [
    {
     "name": "stdout",
     "output_type": "stream",
     "text": [
      "[-7]\n"
     ]
    }
   ],
   "source": [
    "my_list = [-3, -2, -1, 0, 1, 2, 3]\n",
    "new_list = [ number - 4 for number in my_list if number < -2 ]\n",
    "print(new_list)"
   ],
   "metadata": {
    "collapsed": false,
    "pycharm": {
     "name": "#%%\n"
    }
   }
  },
  {
   "cell_type": "code",
   "execution_count": 53,
   "outputs": [
    {
     "name": "stdout",
     "output_type": "stream",
     "text": [
      "[-1]\n"
     ]
    }
   ],
   "source": [
    "\n",
    "my_list = [-3, -2, -1, 0, 1, 2, 3]\n",
    "new_list = [ number - 3 for number in my_list if (number > 1) and (number % 2 == 0) ]\n",
    "print(new_list)"
   ],
   "metadata": {
    "collapsed": false,
    "pycharm": {
     "name": "#%%\n"
    }
   }
  },
  {
   "cell_type": "code",
   "execution_count": 54,
   "outputs": [
    {
     "name": "stdout",
     "output_type": "stream",
     "text": [
      "SFO\n",
      "NRT\n"
     ]
    }
   ],
   "source": [
    "\n",
    "airport_codes = {}\n",
    "airport_codes['Tokyo'] = 'NRT'\n",
    "airport_codes['Seattle'] = 'SEA'\n",
    "airport_codes['San Francisco'] = 'SFO'\n",
    "\n",
    "print(airport_codes['San Francisco'])\n",
    "print(airport_codes['Tokyo'])"
   ],
   "metadata": {
    "collapsed": false,
    "pycharm": {
     "name": "#%%\n"
    }
   }
  },
  {
   "cell_type": "code",
   "execution_count": 55,
   "outputs": [
    {
     "name": "stdout",
     "output_type": "stream",
     "text": [
      "NRT\n",
      "IAH\n",
      "HND\n"
     ]
    }
   ],
   "source": [
    "airport_codes = {\n",
    "    'Tokyo': 'NRT',\n",
    "    'Washington': 'IAD',\n",
    "    'Houston': 'IAH'\n",
    "}\n",
    "\n",
    "print(airport_codes['Tokyo'])\n",
    "print(airport_codes['Houston'])\n",
    "airport_codes['Tokyo'] = 'HND'\n",
    "print(airport_codes['Tokyo'])"
   ],
   "metadata": {
    "collapsed": false,
    "pycharm": {
     "name": "#%%\n"
    }
   }
  },
  {
   "cell_type": "code",
   "execution_count": 56,
   "outputs": [
    {
     "name": "stdout",
     "output_type": "stream",
     "text": [
      "x\n",
      "x\n",
      "Winnipeg\n"
     ]
    }
   ],
   "source": [
    "\n",
    "provincial_capitals = {\n",
    "    'BC': 'Victoria',\n",
    "    'Ontario': 'Toronto',\n",
    "    'Manitoba': 'Winnipeg',\n",
    "    'Alberta': 'Edmonton'\n",
    "}\n",
    "\n",
    "province_name = input()\n",
    "while province_name != 'exit':\n",
    "    if province_name in provincial_capitals:\n",
    "        print(provincial_capitals[province_name])\n",
    "    else:\n",
    "        print('x')\n",
    "    province_name = input()"
   ],
   "metadata": {
    "collapsed": false,
    "pycharm": {
     "name": "#%%\n"
    }
   }
  },
  {
   "cell_type": "code",
   "execution_count": 57,
   "outputs": [
    {
     "name": "stdout",
     "output_type": "stream",
     "text": [
      "Victoria\n",
      "x\n",
      "x\n",
      "x\n"
     ]
    }
   ],
   "source": [
    "\n",
    "# \"New\" means new compared to previous level\n",
    "provincial_capitals = {\n",
    "    'BC': 'Victoria',\n",
    "    'Manitoba': 'Winnipeg',\n",
    "    'Yukon': 'Whitehorse',\n",
    "    'Nunavut': 'Iqaluit'\n",
    "}\n",
    "\n",
    "province_name = input()\n",
    "while province_name != 'exit':\n",
    "    if province_name in provincial_capitals:\n",
    "        print(provincial_capitals[province_name])\n",
    "        del provincial_capitals[province_name] # New line\n",
    "    else:\n",
    "        print('x')\n",
    "    province_name = input()"
   ],
   "metadata": {
    "collapsed": false,
    "pycharm": {
     "name": "#%%\n"
    }
   }
  },
  {
   "cell_type": "code",
   "execution_count": 58,
   "outputs": [
    {
     "name": "stdout",
     "output_type": "stream",
     "text": [
      "x\n",
      "Toronto\n",
      "Winnipeg\n",
      "x\n"
     ]
    }
   ],
   "source": [
    "\n",
    "# \"New\" means new compared to previous level\n",
    "provincial_capitals = {\n",
    "    'Manitoba': 'Winnipeg',\n",
    "    'BC': 'Victoria',\n",
    "    'Ontario': 'Toronto',\n",
    "    'Nunavut': 'Iqaluit'\n",
    "}\n",
    "\n",
    "province_name = input()\n",
    "while province_name != 'exit':\n",
    "    if province_name in provincial_capitals:\n",
    "        print(provincial_capitals[province_name])\n",
    "        del provincial_capitals[province_name] # New line\n",
    "    else:\n",
    "        print('x')\n",
    "    province_name = input()"
   ],
   "metadata": {
    "collapsed": false,
    "pycharm": {
     "name": "#%%\n"
    }
   }
  },
  {
   "cell_type": "code",
   "execution_count": 59,
   "outputs": [
    {
     "name": "stdout",
     "output_type": "stream",
     "text": [
      "na\n",
      "na\n",
      "MSP\n"
     ]
    }
   ],
   "source": [
    "airport_codes = {\n",
    "    'Minneapolis': 'MSP',\n",
    "    'Seattle': 'SEA',\n",
    "    'San Francisco': 'SFO',\n",
    "    'Amsterdam': 'AMS',\n",
    "    'Chicago': 'ORD'\n",
    "}\n",
    "\n",
    "print(airport_codes.get('Los Angeles', 'na'))\n",
    "print(airport_codes.get('New York', 'na'))\n",
    "print(airport_codes.get('Minneapolis', 'na'))"
   ],
   "metadata": {
    "collapsed": false,
    "pycharm": {
     "name": "#%%\n"
    }
   }
  },
  {
   "cell_type": "code",
   "execution_count": 60,
   "outputs": [
    {
     "name": "stdout",
     "output_type": "stream",
     "text": [
      "AUS\n",
      "AUS\n",
      "na\n"
     ]
    }
   ],
   "source": [
    "\n",
    "airport_codes = {\n",
    "    'Austin': 'AUS',\n",
    "    'Los Angeles': 'LAX',\n",
    "    'London': 'LHR',\n",
    "    'Atlanta': 'ATL',\n",
    "    'Chicago': 'ORD'\n",
    "}\n",
    "\n",
    "print(airport_codes.get('Austin', 'na'))\n",
    "print(airport_codes.pop('Austin', 'na'))\n",
    "print(airport_codes.get('Austin', 'na'))"
   ],
   "metadata": {
    "collapsed": false,
    "pycharm": {
     "name": "#%%\n"
    }
   }
  },
  {
   "cell_type": "code",
   "execution_count": 61,
   "outputs": [
    {
     "name": "stdout",
     "output_type": "stream",
     "text": [
      "na\n",
      "AMS\n",
      "na\n",
      "na\n",
      "AMS\n",
      "NRT\n"
     ]
    }
   ],
   "source": [
    "\n",
    "airport_codes = {\n",
    "    'San Jose': 'SJC',\n",
    "    'Cincinnati': 'CVG',\n",
    "    'London': 'LHR',\n",
    "    'Atlanta': 'ATL',\n",
    "    'Amsterdam': 'AMS'\n",
    "}\n",
    "\n",
    "new_airport_codes = {\n",
    "    'San Francisco': 'SFO',\n",
    "    'New York': 'JFK',\n",
    "    'Tokyo': 'NRT'\n",
    "}\n",
    "\n",
    "print(airport_codes.get('Paris', 'na'))\n",
    "print(airport_codes.get('Amsterdam', 'na'))\n",
    "print(airport_codes.get('Tokyo', 'na'))\n",
    "airport_codes.update(new_airport_codes)\n",
    "print(airport_codes.get('Paris', 'na'))\n",
    "print(airport_codes.get('Amsterdam', 'na'))\n",
    "print(airport_codes.get('Tokyo', 'na'))"
   ],
   "metadata": {
    "collapsed": false,
    "pycharm": {
     "name": "#%%\n"
    }
   }
  },
  {
   "cell_type": "code",
   "execution_count": 62,
   "outputs": [
    {
     "name": "stdout",
     "output_type": "stream",
     "text": [
      "DAL\n",
      "na\n",
      "DFW\n",
      "SEA\n"
     ]
    }
   ],
   "source": [
    "\n",
    "airport_codes = {\n",
    "    'Washington': 'IAD',\n",
    "    'Amsterdam': 'AMS',\n",
    "    'Dallas': 'DAL',\n",
    "    'San Francisco': 'SFO',\n",
    "    'New York': 'JFK'\n",
    "}\n",
    "\n",
    "new_airport_codes = {\n",
    "    'Los Angeles': 'LAX',\n",
    "    'Dallas': 'DFW',\n",
    "    'Seattle': 'SEA'\n",
    "}\n",
    "\n",
    "print(airport_codes.get('Dallas', 'na'))\n",
    "print(airport_codes.get('Seattle', 'na'))\n",
    "airport_codes.update(new_airport_codes)\n",
    "print(airport_codes.get('Dallas', 'na'))\n",
    "print(airport_codes.get('Seattle', 'na'))"
   ],
   "metadata": {
    "collapsed": false,
    "pycharm": {
     "name": "#%%\n"
    }
   }
  },
  {
   "cell_type": "code",
   "execution_count": null,
   "outputs": [],
   "source": [],
   "metadata": {
    "collapsed": false,
    "pycharm": {
     "name": "#%%\n"
    }
   }
  }
 ],
 "metadata": {
  "kernelspec": {
   "display_name": "Python 3",
   "language": "python",
   "name": "python3"
  },
  "language_info": {
   "codemirror_mode": {
    "name": "ipython",
    "version": 2
   },
   "file_extension": ".py",
   "mimetype": "text/x-python",
   "name": "python",
   "nbconvert_exporter": "python",
   "pygments_lexer": "ipython2",
   "version": "2.7.6"
  }
 },
 "nbformat": 4,
 "nbformat_minor": 0
}