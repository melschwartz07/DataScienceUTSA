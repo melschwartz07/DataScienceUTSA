{
 "cells": [
  {
   "cell_type": "markdown",
   "source": [
    "UTSA – Fall 2022 – DS4013 – Section 001 - Project 1 - written by Melanie Schwartz"
   ],
   "metadata": {
    "collapsed": false,
    "pycharm": {
     "name": "#%% md\n"
    }
   }
  },
  {
   "cell_type": "code",
   "execution_count": 4,
   "outputs": [
    {
     "name": "stdout",
     "output_type": "stream",
     "text": [
      "10\n",
      "Bexar\n",
      "50\n"
     ]
    }
   ],
   "source": [
    "print(int(input(\"Please enter the number of counties:\")))\n",
    "print(str(input(\"Please, enter the county by name:\")))\n",
    "print(int(input(\"Please, enter the number of positive tests:\")))"
   ],
   "metadata": {
    "collapsed": false,
    "pycharm": {
     "name": "#%%\n"
    }
   }
  },
  {
   "cell_type": "code",
   "execution_count": 7,
   "outputs": [],
   "source": [
    "def menu():\n",
    "    print(str(\"Main menu\"))\n",
    "    print(int(input(\"1 - List county results\")))\n",
    "    print(int(input(\"2 - Report of status\")))\n",
    "    print(int(input(\"3 - Modify county results\")))\n",
    "    print(int(input(\"4 - Exit program\")))\n",
    "\n",
    "    menu()\n",
    "    option = int(input(\"Please select an option\"))\n",
    "\n",
    "    while option != 0:\n",
    "        if option == 1:\n",
    "            print(\"County results\")\n",
    "        elif option == 2:\n",
    "            print(\"Report of status\")\n",
    "        elif option == 3:\n",
    "            print(\"Modify county results\")\n",
    "        else:\n",
    "            print(\"Goodbye!\")\n",
    "\n",
    "        print()\n",
    "        menu()\n",
    "        option = int(input(\"Enter your option: \"))\n"
   ],
   "metadata": {
    "collapsed": false,
    "pycharm": {
     "name": "#%%\n"
    }
   }
  },
  {
   "cell_type": "code",
   "execution_count": null,
   "outputs": [],
   "source": [],
   "metadata": {
    "collapsed": false,
    "pycharm": {
     "name": "#%%\n"
    }
   }
  }
 ],
 "metadata": {
  "kernelspec": {
   "display_name": "Python 3",
   "language": "python",
   "name": "python3"
  },
  "language_info": {
   "codemirror_mode": {
    "name": "ipython",
    "version": 2
   },
   "file_extension": ".py",
   "mimetype": "text/x-python",
   "name": "python",
   "nbconvert_exporter": "python",
   "pygments_lexer": "ipython2",
   "version": "2.7.6"
  }
 },
 "nbformat": 4,
 "nbformat_minor": 0
}