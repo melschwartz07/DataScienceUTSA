{
 "cells": [
  {
   "cell_type": "code",
   "execution_count": 3,
   "metadata": {
    "collapsed": true,
    "pycharm": {
     "name": "#%%\n"
    }
   },
   "outputs": [
    {
     "data": {
      "text/plain": "   id   timestamp  full_sq  life_sq  floor  max_floor  material  build_year  \\\n0   1  2011-08-20       43     27.0    4.0        NaN       NaN         NaN   \n1   2  2011-08-23       34     19.0    3.0        NaN       NaN         NaN   \n2   3  2011-08-27       43     29.0    2.0        NaN       NaN         NaN   \n3   4  2011-09-01       89     50.0    9.0        NaN       NaN         NaN   \n4   5  2011-09-05       77     77.0    4.0        NaN       NaN         NaN   \n5   6  2011-09-06       67     46.0   14.0        NaN       NaN         NaN   \n6   7  2011-09-08       25     14.0   10.0        NaN       NaN         NaN   \n7   8  2011-09-09       44     44.0    5.0        NaN       NaN         NaN   \n8   9  2011-09-10       42     27.0    5.0        NaN       NaN         NaN   \n9  10  2011-09-13       36     21.0    9.0        NaN       NaN         NaN   \n\n   num_room  kitch_sq  ...  cafe_count_5000_price_2500  \\\n0       NaN       NaN  ...                           9   \n1       NaN       NaN  ...                          15   \n2       NaN       NaN  ...                          10   \n3       NaN       NaN  ...                          11   \n4       NaN       NaN  ...                         319   \n5       NaN       NaN  ...                          62   \n6       NaN       NaN  ...                          81   \n7       NaN       NaN  ...                           9   \n8       NaN       NaN  ...                          19   \n9       NaN       NaN  ...                          19   \n\n  cafe_count_5000_price_4000 cafe_count_5000_price_high  \\\n0                          4                          0   \n1                          3                          0   \n2                          3                          0   \n3                          2                          1   \n4                        108                         17   \n5                         14                          1   \n6                         16                          3   \n7                          4                          0   \n8                          8                          1   \n9                         13                          0   \n\n   big_church_count_5000  church_count_5000  mosque_count_5000  \\\n0                     13                 22                  1   \n1                     15                 29                  1   \n2                     11                 27                  0   \n3                      4                  4                  0   \n4                    135                236                  2   \n5                     53                 78                  1   \n6                     38                 80                  1   \n7                     11                 18                  1   \n8                     18                 34                  1   \n9                     10                 20                  1   \n\n   leisure_count_5000  sport_count_5000  market_count_5000  price_doc  \n0                   0                52                  4    5850000  \n1                  10                66                 14    6000000  \n2                   4                67                 10    5700000  \n3                   0                26                  3   13100000  \n4                  91               195                 14   16331452  \n5                  20               113                 17    9100000  \n6                  27               127                  8    5500000  \n7                   0                47                  4    2000000  \n8                   3                85                 11    5300000  \n9                   3                67                  1    2000000  \n\n[10 rows x 292 columns]",
      "text/html": "<div>\n<style scoped>\n    .dataframe tbody tr th:only-of-type {\n        vertical-align: middle;\n    }\n\n    .dataframe tbody tr th {\n        vertical-align: top;\n    }\n\n    .dataframe thead th {\n        text-align: right;\n    }\n</style>\n<table border=\"1\" class=\"dataframe\">\n  <thead>\n    <tr style=\"text-align: right;\">\n      <th></th>\n      <th>id</th>\n      <th>timestamp</th>\n      <th>full_sq</th>\n      <th>life_sq</th>\n      <th>floor</th>\n      <th>max_floor</th>\n      <th>material</th>\n      <th>build_year</th>\n      <th>num_room</th>\n      <th>kitch_sq</th>\n      <th>...</th>\n      <th>cafe_count_5000_price_2500</th>\n      <th>cafe_count_5000_price_4000</th>\n      <th>cafe_count_5000_price_high</th>\n      <th>big_church_count_5000</th>\n      <th>church_count_5000</th>\n      <th>mosque_count_5000</th>\n      <th>leisure_count_5000</th>\n      <th>sport_count_5000</th>\n      <th>market_count_5000</th>\n      <th>price_doc</th>\n    </tr>\n  </thead>\n  <tbody>\n    <tr>\n      <th>0</th>\n      <td>1</td>\n      <td>2011-08-20</td>\n      <td>43</td>\n      <td>27.0</td>\n      <td>4.0</td>\n      <td>NaN</td>\n      <td>NaN</td>\n      <td>NaN</td>\n      <td>NaN</td>\n      <td>NaN</td>\n      <td>...</td>\n      <td>9</td>\n      <td>4</td>\n      <td>0</td>\n      <td>13</td>\n      <td>22</td>\n      <td>1</td>\n      <td>0</td>\n      <td>52</td>\n      <td>4</td>\n      <td>5850000</td>\n    </tr>\n    <tr>\n      <th>1</th>\n      <td>2</td>\n      <td>2011-08-23</td>\n      <td>34</td>\n      <td>19.0</td>\n      <td>3.0</td>\n      <td>NaN</td>\n      <td>NaN</td>\n      <td>NaN</td>\n      <td>NaN</td>\n      <td>NaN</td>\n      <td>...</td>\n      <td>15</td>\n      <td>3</td>\n      <td>0</td>\n      <td>15</td>\n      <td>29</td>\n      <td>1</td>\n      <td>10</td>\n      <td>66</td>\n      <td>14</td>\n      <td>6000000</td>\n    </tr>\n    <tr>\n      <th>2</th>\n      <td>3</td>\n      <td>2011-08-27</td>\n      <td>43</td>\n      <td>29.0</td>\n      <td>2.0</td>\n      <td>NaN</td>\n      <td>NaN</td>\n      <td>NaN</td>\n      <td>NaN</td>\n      <td>NaN</td>\n      <td>...</td>\n      <td>10</td>\n      <td>3</td>\n      <td>0</td>\n      <td>11</td>\n      <td>27</td>\n      <td>0</td>\n      <td>4</td>\n      <td>67</td>\n      <td>10</td>\n      <td>5700000</td>\n    </tr>\n    <tr>\n      <th>3</th>\n      <td>4</td>\n      <td>2011-09-01</td>\n      <td>89</td>\n      <td>50.0</td>\n      <td>9.0</td>\n      <td>NaN</td>\n      <td>NaN</td>\n      <td>NaN</td>\n      <td>NaN</td>\n      <td>NaN</td>\n      <td>...</td>\n      <td>11</td>\n      <td>2</td>\n      <td>1</td>\n      <td>4</td>\n      <td>4</td>\n      <td>0</td>\n      <td>0</td>\n      <td>26</td>\n      <td>3</td>\n      <td>13100000</td>\n    </tr>\n    <tr>\n      <th>4</th>\n      <td>5</td>\n      <td>2011-09-05</td>\n      <td>77</td>\n      <td>77.0</td>\n      <td>4.0</td>\n      <td>NaN</td>\n      <td>NaN</td>\n      <td>NaN</td>\n      <td>NaN</td>\n      <td>NaN</td>\n      <td>...</td>\n      <td>319</td>\n      <td>108</td>\n      <td>17</td>\n      <td>135</td>\n      <td>236</td>\n      <td>2</td>\n      <td>91</td>\n      <td>195</td>\n      <td>14</td>\n      <td>16331452</td>\n    </tr>\n    <tr>\n      <th>5</th>\n      <td>6</td>\n      <td>2011-09-06</td>\n      <td>67</td>\n      <td>46.0</td>\n      <td>14.0</td>\n      <td>NaN</td>\n      <td>NaN</td>\n      <td>NaN</td>\n      <td>NaN</td>\n      <td>NaN</td>\n      <td>...</td>\n      <td>62</td>\n      <td>14</td>\n      <td>1</td>\n      <td>53</td>\n      <td>78</td>\n      <td>1</td>\n      <td>20</td>\n      <td>113</td>\n      <td>17</td>\n      <td>9100000</td>\n    </tr>\n    <tr>\n      <th>6</th>\n      <td>7</td>\n      <td>2011-09-08</td>\n      <td>25</td>\n      <td>14.0</td>\n      <td>10.0</td>\n      <td>NaN</td>\n      <td>NaN</td>\n      <td>NaN</td>\n      <td>NaN</td>\n      <td>NaN</td>\n      <td>...</td>\n      <td>81</td>\n      <td>16</td>\n      <td>3</td>\n      <td>38</td>\n      <td>80</td>\n      <td>1</td>\n      <td>27</td>\n      <td>127</td>\n      <td>8</td>\n      <td>5500000</td>\n    </tr>\n    <tr>\n      <th>7</th>\n      <td>8</td>\n      <td>2011-09-09</td>\n      <td>44</td>\n      <td>44.0</td>\n      <td>5.0</td>\n      <td>NaN</td>\n      <td>NaN</td>\n      <td>NaN</td>\n      <td>NaN</td>\n      <td>NaN</td>\n      <td>...</td>\n      <td>9</td>\n      <td>4</td>\n      <td>0</td>\n      <td>11</td>\n      <td>18</td>\n      <td>1</td>\n      <td>0</td>\n      <td>47</td>\n      <td>4</td>\n      <td>2000000</td>\n    </tr>\n    <tr>\n      <th>8</th>\n      <td>9</td>\n      <td>2011-09-10</td>\n      <td>42</td>\n      <td>27.0</td>\n      <td>5.0</td>\n      <td>NaN</td>\n      <td>NaN</td>\n      <td>NaN</td>\n      <td>NaN</td>\n      <td>NaN</td>\n      <td>...</td>\n      <td>19</td>\n      <td>8</td>\n      <td>1</td>\n      <td>18</td>\n      <td>34</td>\n      <td>1</td>\n      <td>3</td>\n      <td>85</td>\n      <td>11</td>\n      <td>5300000</td>\n    </tr>\n    <tr>\n      <th>9</th>\n      <td>10</td>\n      <td>2011-09-13</td>\n      <td>36</td>\n      <td>21.0</td>\n      <td>9.0</td>\n      <td>NaN</td>\n      <td>NaN</td>\n      <td>NaN</td>\n      <td>NaN</td>\n      <td>NaN</td>\n      <td>...</td>\n      <td>19</td>\n      <td>13</td>\n      <td>0</td>\n      <td>10</td>\n      <td>20</td>\n      <td>1</td>\n      <td>3</td>\n      <td>67</td>\n      <td>1</td>\n      <td>2000000</td>\n    </tr>\n  </tbody>\n</table>\n<p>10 rows × 292 columns</p>\n</div>"
     },
     "metadata": {},
     "output_type": "display_data"
    }
   ],
   "source": [
    "#Example 1\n",
    "import pandas as pd\n",
    "data = pd.read_csv(\"train.csv\")\n",
    "display(data.head(10))    # view the first 10 rows of data"
   ]
  },
  {
   "cell_type": "code",
   "execution_count": 4,
   "outputs": [
    {
     "name": "stdout",
     "output_type": "stream",
     "text": [
      "<class 'pandas.core.frame.DataFrame'>\n",
      "RangeIndex: 30471 entries, 0 to 30470\n",
      "Columns: 292 entries, id to price_doc\n",
      "dtypes: float64(119), int64(157), object(16)\n",
      "memory usage: 67.9+ MB\n"
     ]
    }
   ],
   "source": [
    "#Example 2\n",
    "data.info()"
   ],
   "metadata": {
    "collapsed": false,
    "pycharm": {
     "name": "#%%\n"
    }
   }
  },
  {
   "cell_type": "code",
   "execution_count": 5,
   "outputs": [
    {
     "name": "stdout",
     "output_type": "stream",
     "text": [
      "<class 'pandas.core.frame.DataFrame'>\n",
      "RangeIndex: 30471 entries, 0 to 30470\n",
      "Data columns (total 1 columns):\n",
      " #   Column   Non-Null Count  Dtype\n",
      "---  ------   --------------  -----\n",
      " 0   full_sq  30471 non-null  int64\n",
      "dtypes: int64(1)\n",
      "memory usage: 238.2 KB\n"
     ]
    }
   ],
   "source": [
    "#Example 3\n",
    "data[['full_sq']].info()"
   ],
   "metadata": {
    "collapsed": false,
    "pycharm": {
     "name": "#%%\n"
    }
   }
  },
  {
   "cell_type": "code",
   "execution_count": 6,
   "outputs": [
    {
     "name": "stdout",
     "output_type": "stream",
     "text": [
      "<class 'pandas.core.frame.DataFrame'>\n",
      "RangeIndex: 30471 entries, 0 to 30470\n",
      "Data columns (total 3 columns):\n",
      " #   Column      Non-Null Count  Dtype  \n",
      "---  ------      --------------  -----  \n",
      " 0   max_floor   20899 non-null  float64\n",
      " 1   build_year  16866 non-null  float64\n",
      " 2   kitch_sq    20899 non-null  float64\n",
      "dtypes: float64(3)\n",
      "memory usage: 714.3 KB\n"
     ]
    }
   ],
   "source": [
    "#Example 4\n",
    "data[['max_floor','build_year','kitch_sq']].info()"
   ],
   "metadata": {
    "collapsed": false,
    "pycharm": {
     "name": "#%%\n"
    }
   }
  },
  {
   "cell_type": "code",
   "execution_count": 7,
   "outputs": [
    {
     "data": {
      "text/plain": "0        False\n1        False\n2        False\n3        False\n4        False\n         ...  \n30466    False\n30467    False\n30468    False\n30469    False\n30470    False\nLength: 30471, dtype: bool"
     },
     "execution_count": 7,
     "metadata": {},
     "output_type": "execute_result"
    }
   ],
   "source": [
    "#Example 5\n",
    "data.duplicated()"
   ],
   "metadata": {
    "collapsed": false,
    "pycharm": {
     "name": "#%%\n"
    }
   }
  },
  {
   "cell_type": "code",
   "execution_count": 8,
   "outputs": [
    {
     "data": {
      "text/plain": "count     30471\nunique        1\ntop       False\nfreq      30471\ndtype: object"
     },
     "execution_count": 8,
     "metadata": {},
     "output_type": "execute_result"
    }
   ],
   "source": [
    "#Example 6\n",
    "data.duplicated().describe()"
   ],
   "metadata": {
    "collapsed": false,
    "pycharm": {
     "name": "#%%\n"
    }
   }
  },
  {
   "cell_type": "code",
   "execution_count": 9,
   "outputs": [
    {
     "data": {
      "text/plain": "                 id       full_sq       life_sq         floor     max_floor  \\\ncount  30471.000000  30471.000000  24088.000000  30304.000000  20899.000000   \nmean   15237.917397     54.214269     34.403271      7.670803     12.558974   \nstd     8796.501536     38.031487     52.285733      5.319989      6.756550   \nmin        1.000000      0.000000      0.000000      0.000000      0.000000   \n25%     7620.500000     38.000000     20.000000      3.000000      9.000000   \n50%    15238.000000     49.000000     30.000000      6.500000     12.000000   \n75%    22855.500000     63.000000     43.000000     11.000000     17.000000   \nmax    30473.000000   5326.000000   7478.000000     77.000000    117.000000   \n\n           material    build_year      num_room      kitch_sq         state  \\\ncount  20899.000000  1.686600e+04  20899.000000  20899.000000  16912.000000   \nmean       1.827121  3.068057e+03      1.909804      6.399301      2.107025   \nstd        1.481154  1.543878e+05      0.851805     28.265979      0.880148   \nmin        1.000000  0.000000e+00      0.000000      0.000000      1.000000   \n25%        1.000000  1.967000e+03      1.000000      1.000000      1.000000   \n50%        1.000000  1.979000e+03      2.000000      6.000000      2.000000   \n75%        2.000000  2.005000e+03      2.000000      9.000000      3.000000   \nmax        6.000000  2.005201e+07     19.000000   2014.000000     33.000000   \n\n       ...  cafe_count_5000_price_2500  cafe_count_5000_price_4000  \\\ncount  ...                30471.000000                30471.000000   \nmean   ...                   32.058318                   10.783860   \nstd    ...                   73.465611                   28.385679   \nmin    ...                    0.000000                    0.000000   \n25%    ...                    2.000000                    1.000000   \n50%    ...                    8.000000                    2.000000   \n75%    ...                   21.000000                    5.000000   \nmax    ...                  377.000000                  147.000000   \n\n       cafe_count_5000_price_high  big_church_count_5000  church_count_5000  \\\ncount                30471.000000           30471.000000       30471.000000   \nmean                     1.771783              15.045552          30.251518   \nstd                      5.418807              29.118668          47.347938   \nmin                      0.000000               0.000000           0.000000   \n25%                      0.000000               2.000000           9.000000   \n50%                      0.000000               7.000000          16.000000   \n75%                      1.000000              12.000000          28.000000   \nmax                     30.000000             151.000000         250.000000   \n\n       mosque_count_5000  leisure_count_5000  sport_count_5000  \\\ncount       30471.000000        30471.000000      30471.000000   \nmean            0.442421            8.648814         52.796593   \nstd             0.609269           20.580741         46.292660   \nmin             0.000000            0.000000          0.000000   \n25%             0.000000            0.000000         11.000000   \n50%             0.000000            2.000000         48.000000   \n75%             1.000000            7.000000         76.000000   \nmax             2.000000          106.000000        218.000000   \n\n       market_count_5000     price_doc  \ncount       30471.000000  3.047100e+04  \nmean            5.987070  7.123035e+06  \nstd             4.889219  4.780111e+06  \nmin             0.000000  1.000000e+05  \n25%             1.000000  4.740002e+06  \n50%             5.000000  6.274411e+06  \n75%            10.000000  8.300000e+06  \nmax            21.000000  1.111111e+08  \n\n[8 rows x 276 columns]",
      "text/html": "<div>\n<style scoped>\n    .dataframe tbody tr th:only-of-type {\n        vertical-align: middle;\n    }\n\n    .dataframe tbody tr th {\n        vertical-align: top;\n    }\n\n    .dataframe thead th {\n        text-align: right;\n    }\n</style>\n<table border=\"1\" class=\"dataframe\">\n  <thead>\n    <tr style=\"text-align: right;\">\n      <th></th>\n      <th>id</th>\n      <th>full_sq</th>\n      <th>life_sq</th>\n      <th>floor</th>\n      <th>max_floor</th>\n      <th>material</th>\n      <th>build_year</th>\n      <th>num_room</th>\n      <th>kitch_sq</th>\n      <th>state</th>\n      <th>...</th>\n      <th>cafe_count_5000_price_2500</th>\n      <th>cafe_count_5000_price_4000</th>\n      <th>cafe_count_5000_price_high</th>\n      <th>big_church_count_5000</th>\n      <th>church_count_5000</th>\n      <th>mosque_count_5000</th>\n      <th>leisure_count_5000</th>\n      <th>sport_count_5000</th>\n      <th>market_count_5000</th>\n      <th>price_doc</th>\n    </tr>\n  </thead>\n  <tbody>\n    <tr>\n      <th>count</th>\n      <td>30471.000000</td>\n      <td>30471.000000</td>\n      <td>24088.000000</td>\n      <td>30304.000000</td>\n      <td>20899.000000</td>\n      <td>20899.000000</td>\n      <td>1.686600e+04</td>\n      <td>20899.000000</td>\n      <td>20899.000000</td>\n      <td>16912.000000</td>\n      <td>...</td>\n      <td>30471.000000</td>\n      <td>30471.000000</td>\n      <td>30471.000000</td>\n      <td>30471.000000</td>\n      <td>30471.000000</td>\n      <td>30471.000000</td>\n      <td>30471.000000</td>\n      <td>30471.000000</td>\n      <td>30471.000000</td>\n      <td>3.047100e+04</td>\n    </tr>\n    <tr>\n      <th>mean</th>\n      <td>15237.917397</td>\n      <td>54.214269</td>\n      <td>34.403271</td>\n      <td>7.670803</td>\n      <td>12.558974</td>\n      <td>1.827121</td>\n      <td>3.068057e+03</td>\n      <td>1.909804</td>\n      <td>6.399301</td>\n      <td>2.107025</td>\n      <td>...</td>\n      <td>32.058318</td>\n      <td>10.783860</td>\n      <td>1.771783</td>\n      <td>15.045552</td>\n      <td>30.251518</td>\n      <td>0.442421</td>\n      <td>8.648814</td>\n      <td>52.796593</td>\n      <td>5.987070</td>\n      <td>7.123035e+06</td>\n    </tr>\n    <tr>\n      <th>std</th>\n      <td>8796.501536</td>\n      <td>38.031487</td>\n      <td>52.285733</td>\n      <td>5.319989</td>\n      <td>6.756550</td>\n      <td>1.481154</td>\n      <td>1.543878e+05</td>\n      <td>0.851805</td>\n      <td>28.265979</td>\n      <td>0.880148</td>\n      <td>...</td>\n      <td>73.465611</td>\n      <td>28.385679</td>\n      <td>5.418807</td>\n      <td>29.118668</td>\n      <td>47.347938</td>\n      <td>0.609269</td>\n      <td>20.580741</td>\n      <td>46.292660</td>\n      <td>4.889219</td>\n      <td>4.780111e+06</td>\n    </tr>\n    <tr>\n      <th>min</th>\n      <td>1.000000</td>\n      <td>0.000000</td>\n      <td>0.000000</td>\n      <td>0.000000</td>\n      <td>0.000000</td>\n      <td>1.000000</td>\n      <td>0.000000e+00</td>\n      <td>0.000000</td>\n      <td>0.000000</td>\n      <td>1.000000</td>\n      <td>...</td>\n      <td>0.000000</td>\n      <td>0.000000</td>\n      <td>0.000000</td>\n      <td>0.000000</td>\n      <td>0.000000</td>\n      <td>0.000000</td>\n      <td>0.000000</td>\n      <td>0.000000</td>\n      <td>0.000000</td>\n      <td>1.000000e+05</td>\n    </tr>\n    <tr>\n      <th>25%</th>\n      <td>7620.500000</td>\n      <td>38.000000</td>\n      <td>20.000000</td>\n      <td>3.000000</td>\n      <td>9.000000</td>\n      <td>1.000000</td>\n      <td>1.967000e+03</td>\n      <td>1.000000</td>\n      <td>1.000000</td>\n      <td>1.000000</td>\n      <td>...</td>\n      <td>2.000000</td>\n      <td>1.000000</td>\n      <td>0.000000</td>\n      <td>2.000000</td>\n      <td>9.000000</td>\n      <td>0.000000</td>\n      <td>0.000000</td>\n      <td>11.000000</td>\n      <td>1.000000</td>\n      <td>4.740002e+06</td>\n    </tr>\n    <tr>\n      <th>50%</th>\n      <td>15238.000000</td>\n      <td>49.000000</td>\n      <td>30.000000</td>\n      <td>6.500000</td>\n      <td>12.000000</td>\n      <td>1.000000</td>\n      <td>1.979000e+03</td>\n      <td>2.000000</td>\n      <td>6.000000</td>\n      <td>2.000000</td>\n      <td>...</td>\n      <td>8.000000</td>\n      <td>2.000000</td>\n      <td>0.000000</td>\n      <td>7.000000</td>\n      <td>16.000000</td>\n      <td>0.000000</td>\n      <td>2.000000</td>\n      <td>48.000000</td>\n      <td>5.000000</td>\n      <td>6.274411e+06</td>\n    </tr>\n    <tr>\n      <th>75%</th>\n      <td>22855.500000</td>\n      <td>63.000000</td>\n      <td>43.000000</td>\n      <td>11.000000</td>\n      <td>17.000000</td>\n      <td>2.000000</td>\n      <td>2.005000e+03</td>\n      <td>2.000000</td>\n      <td>9.000000</td>\n      <td>3.000000</td>\n      <td>...</td>\n      <td>21.000000</td>\n      <td>5.000000</td>\n      <td>1.000000</td>\n      <td>12.000000</td>\n      <td>28.000000</td>\n      <td>1.000000</td>\n      <td>7.000000</td>\n      <td>76.000000</td>\n      <td>10.000000</td>\n      <td>8.300000e+06</td>\n    </tr>\n    <tr>\n      <th>max</th>\n      <td>30473.000000</td>\n      <td>5326.000000</td>\n      <td>7478.000000</td>\n      <td>77.000000</td>\n      <td>117.000000</td>\n      <td>6.000000</td>\n      <td>2.005201e+07</td>\n      <td>19.000000</td>\n      <td>2014.000000</td>\n      <td>33.000000</td>\n      <td>...</td>\n      <td>377.000000</td>\n      <td>147.000000</td>\n      <td>30.000000</td>\n      <td>151.000000</td>\n      <td>250.000000</td>\n      <td>2.000000</td>\n      <td>106.000000</td>\n      <td>218.000000</td>\n      <td>21.000000</td>\n      <td>1.111111e+08</td>\n    </tr>\n  </tbody>\n</table>\n<p>8 rows × 276 columns</p>\n</div>"
     },
     "execution_count": 9,
     "metadata": {},
     "output_type": "execute_result"
    }
   ],
   "source": [
    "#Example 7\n",
    "data.describe()"
   ],
   "metadata": {
    "collapsed": false,
    "pycharm": {
     "name": "#%%\n"
    }
   }
  },
  {
   "cell_type": "markdown",
   "source": [
    "Question 1: Let’s look at the range of sizes in this apartments. What is the size of the largest? Let’s assume all the maximums belong to a single apartment. What is the size of the median apartment? And the smallest? These are given in square meters, so you’ll have to convert to square feet. What are the sizes of the 25th and 75th percentile?\n",
    "\n",
    "Largest: 57328.59 sq ft\n",
    "Median: 527.43 sq ft\n",
    "Smallest: 0 sq ft\n",
    "25th percentile: 409.03 sq ft\n",
    "75th percentile: 678.13 sq ft"
   ],
   "metadata": {
    "collapsed": false,
    "pycharm": {
     "name": "#%% md\n"
    }
   }
  },
  {
   "cell_type": "code",
   "execution_count": 10,
   "outputs": [
    {
     "data": {
      "text/plain": "          max_floor    build_year      kitch_sq\ncount  20899.000000  1.686600e+04  20899.000000\nmean      12.558974  3.068057e+03      6.399301\nstd        6.756550  1.543878e+05     28.265979\nmin        0.000000  0.000000e+00      0.000000\n25%        9.000000  1.967000e+03      1.000000\n50%       12.000000  1.979000e+03      6.000000\n75%       17.000000  2.005000e+03      9.000000\nmax      117.000000  2.005201e+07   2014.000000",
      "text/html": "<div>\n<style scoped>\n    .dataframe tbody tr th:only-of-type {\n        vertical-align: middle;\n    }\n\n    .dataframe tbody tr th {\n        vertical-align: top;\n    }\n\n    .dataframe thead th {\n        text-align: right;\n    }\n</style>\n<table border=\"1\" class=\"dataframe\">\n  <thead>\n    <tr style=\"text-align: right;\">\n      <th></th>\n      <th>max_floor</th>\n      <th>build_year</th>\n      <th>kitch_sq</th>\n    </tr>\n  </thead>\n  <tbody>\n    <tr>\n      <th>count</th>\n      <td>20899.000000</td>\n      <td>1.686600e+04</td>\n      <td>20899.000000</td>\n    </tr>\n    <tr>\n      <th>mean</th>\n      <td>12.558974</td>\n      <td>3.068057e+03</td>\n      <td>6.399301</td>\n    </tr>\n    <tr>\n      <th>std</th>\n      <td>6.756550</td>\n      <td>1.543878e+05</td>\n      <td>28.265979</td>\n    </tr>\n    <tr>\n      <th>min</th>\n      <td>0.000000</td>\n      <td>0.000000e+00</td>\n      <td>0.000000</td>\n    </tr>\n    <tr>\n      <th>25%</th>\n      <td>9.000000</td>\n      <td>1.967000e+03</td>\n      <td>1.000000</td>\n    </tr>\n    <tr>\n      <th>50%</th>\n      <td>12.000000</td>\n      <td>1.979000e+03</td>\n      <td>6.000000</td>\n    </tr>\n    <tr>\n      <th>75%</th>\n      <td>17.000000</td>\n      <td>2.005000e+03</td>\n      <td>9.000000</td>\n    </tr>\n    <tr>\n      <th>max</th>\n      <td>117.000000</td>\n      <td>2.005201e+07</td>\n      <td>2014.000000</td>\n    </tr>\n  </tbody>\n</table>\n</div>"
     },
     "execution_count": 10,
     "metadata": {},
     "output_type": "execute_result"
    }
   ],
   "source": [
    "data[['max_floor','build_year','kitch_sq']].describe()"
   ],
   "metadata": {
    "collapsed": false,
    "pycharm": {
     "name": "#%%\n"
    }
   }
  },
  {
   "cell_type": "markdown",
   "source": [
    "Exercise 1: Many Russians walk, and so a 3km zone was delinated for this data set. church_count_3000 is the number of churches within 3000m of each of these apartments. Determine how many are reported, and generate a data analysis of these values."
   ],
   "metadata": {
    "collapsed": false,
    "pycharm": {
     "name": "#%% md\n"
    }
   }
  },
  {
   "cell_type": "code",
   "execution_count": 24,
   "outputs": [
    {
     "name": "stdout",
     "output_type": "stream",
     "text": [
      "The amount of churches in a 3000m vicinity are displayed below\n"
     ]
    },
    {
     "data": {
      "text/plain": "church_count_3000    374427\ndtype: int64"
     },
     "execution_count": 24,
     "metadata": {},
     "output_type": "execute_result"
    }
   ],
   "source": [
    "#Exercise 1\n",
    "print('The amount of churches in a 3000m vicinity are displayed below')\n",
    "data[['church_count_3000']].sum()"
   ],
   "metadata": {
    "collapsed": false,
    "pycharm": {
     "name": "#%%\n"
    }
   }
  },
  {
   "cell_type": "markdown",
   "source": [
    "Exercise 2: Cheap eats might be important. cafe_count_5000_na_price is the number of cafes within a 5km zone that doesn’t have a minimum bill. Do the numbers on these."
   ],
   "metadata": {
    "collapsed": false,
    "pycharm": {
     "name": "#%% md\n"
    }
   }
  },
  {
   "cell_type": "code",
   "execution_count": 25,
   "outputs": [
    {
     "name": "stdout",
     "output_type": "stream",
     "text": [
      "The amount of cafes without a minimum bill in a 5km zone\n"
     ]
    },
    {
     "data": {
      "text/plain": "cafe_count_5000_na_price    542594\ndtype: int64"
     },
     "execution_count": 25,
     "metadata": {},
     "output_type": "execute_result"
    }
   ],
   "source": [
    "#Exercise 2\n",
    "print('The amount of cafes without a minimum bill in a 5km zone')\n",
    "data[['cafe_count_5000_na_price']].sum()"
   ],
   "metadata": {
    "collapsed": false,
    "pycharm": {
     "name": "#%%\n"
    }
   }
  },
  {
   "cell_type": "markdown",
   "source": [
    "Question 2: Many of these values are missing. What can you do about the missing numbers? We’ll cover the possiblities later, but what do you think we can do about them?\n",
    "\n",
    "Handling null values requires a series of functions. Rather than having \"N/A\" or \"True/false\", you would first run \"isnull()\" in order to display where null values exist. In order to display a cleaner set of data, you can then run\n",
    "the function \".fillna(value=0)\" where you can then print your table and see that the values will now be shown as 0."
   ],
   "metadata": {
    "collapsed": false,
    "pycharm": {
     "name": "#%% md\n"
    }
   }
  },
  {
   "cell_type": "code",
   "execution_count": null,
   "outputs": [],
   "source": [],
   "metadata": {
    "collapsed": false,
    "pycharm": {
     "name": "#%%\n"
    }
   }
  }
 ],
 "metadata": {
  "kernelspec": {
   "display_name": "Python 3",
   "language": "python",
   "name": "python3"
  },
  "language_info": {
   "codemirror_mode": {
    "name": "ipython",
    "version": 2
   },
   "file_extension": ".py",
   "mimetype": "text/x-python",
   "name": "python",
   "nbconvert_exporter": "python",
   "pygments_lexer": "ipython2",
   "version": "2.7.6"
  }
 },
 "nbformat": 4,
 "nbformat_minor": 0
}