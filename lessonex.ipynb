{
 "cells": [
  {
   "cell_type": "code",
   "execution_count": 1,
   "metadata": {
    "collapsed": true,
    "pycharm": {
     "name": "#%%\n"
    }
   },
   "outputs": [
    {
     "name": "stdout",
     "output_type": "stream",
     "text": [
      "12\n",
      "v\n",
      "30\n",
      "z\n",
      "OK\n"
     ]
    }
   ],
   "source": [
    "user_input = input()\n",
    "while user_input != 'end':\n",
    "    try:\n",
    "        # Possible ValueError\n",
    "        divisor = int(user_input)\n",
    "        # Possible ZeroDivisionError\n",
    "        print(60 // divisor) # Truncates to an integer\n",
    "    except ValueError:\n",
    "        print('v')\n",
    "    except ZeroDivisionError:\n",
    "        print('z')\n",
    "    user_input = input()\n",
    "print('OK')"
   ]
  },
  {
   "cell_type": "code",
   "execution_count": 2,
   "outputs": [
    {
     "name": "stdout",
     "output_type": "stream",
     "text": [
      "30\n",
      "15\n",
      "v\n",
      "z\n",
      "OK\n"
     ]
    }
   ],
   "source": [
    "user_input = input()\n",
    "while user_input != 'end':\n",
    "    try:\n",
    "        # Possible ValueError\n",
    "        divisor = int(user_input)\n",
    "        # Possible ZeroDivisionError\n",
    "        print(60 // divisor) # Truncates to an integer\n",
    "    except ValueError:\n",
    "        print('v')\n",
    "    except ZeroDivisionError:\n",
    "        print('z')\n",
    "    user_input = input()\n",
    "print('OK')"
   ],
   "metadata": {
    "collapsed": false,
    "pycharm": {
     "name": "#%%\n"
    }
   }
  },
  {
   "cell_type": "code",
   "execution_count": 3,
   "outputs": [
    {
     "name": "stdout",
     "output_type": "stream",
     "text": [
      "r 4 r s 8 s OK\n"
     ]
    }
   ],
   "source": [
    "numbers = [2, 4, 5, 8]\n",
    "user_input = input()\n",
    "while user_input != 'end':\n",
    "    try:\n",
    "        # Possible ValueError\n",
    "        divisor = int(user_input)\n",
    "        if divisor > 20:\n",
    "            # Possible NameError\n",
    "            # compute() is not defined\n",
    "            result = compute(result)\n",
    "        elif divisor < 0:\n",
    "            # Possible IndexError\n",
    "            result = numbers[divisor]\n",
    "        else:\n",
    "            # Possible ZeroDivisionError\n",
    "            result = 20 // divisor          # // truncates to an integer\n",
    "        print(result, end=' ')\n",
    "    except (ValueError, ZeroDivisionError):\n",
    "        print('r', end=' ')\n",
    "    except (NameError, IndexError):\n",
    "        print('s', end=' ')\n",
    "    user_input = input()\n",
    "print('OK')"
   ],
   "metadata": {
    "collapsed": false,
    "pycharm": {
     "name": "#%%\n"
    }
   }
  },
  {
   "cell_type": "code",
   "execution_count": 4,
   "outputs": [
    {
     "name": "stdout",
     "output_type": "stream",
     "text": [
      "v z 1 x OK\n"
     ]
    }
   ],
   "source": [
    "user_input = input()\n",
    "while user_input != 'end':\n",
    "    try:\n",
    "        # Possible ValueError\n",
    "        divisor = int(user_input)\n",
    "        if divisor < 0:\n",
    "            # Possible NameError\n",
    "            # compute() is not defined\n",
    "            print(compute(divisor), end=' ')\n",
    "        else:\n",
    "            # Possible ZeroDivisionError\n",
    "            print(20 // divisor, end=' ')     # // truncates to an integer\n",
    "    except ValueError:\n",
    "        print('v', end=' ')\n",
    "    except ZeroDivisionError:\n",
    "        print('z', end=' ')\n",
    "    except:\n",
    "        print('x', end=' ')\n",
    "    user_input = input()\n",
    "print('OK')\n"
   ],
   "metadata": {
    "collapsed": false,
    "pycharm": {
     "name": "#%%\n"
    }
   }
  },
  {
   "cell_type": "code",
   "execution_count": 5,
   "outputs": [
    {
     "name": "stdout",
     "output_type": "stream",
     "text": [
      "Avg: 170\n"
     ]
    }
   ],
   "source": [
    "\n",
    "try:\n",
    "    user_age = int(input())\n",
    "\n",
    "    if user_age < 0:\n",
    "        raise ValueError('Invalid age')\n",
    "\n",
    "    # Source: https://www.heart.org/en/healthy-living/fitness\n",
    "    avg_max_heart_rate = 220 - user_age\n",
    "\n",
    "    print('Avg:', avg_max_heart_rate)\n",
    "\n",
    "except ValueError as excpt:\n",
    "    print(f'Error: {excpt}')"
   ],
   "metadata": {
    "collapsed": false,
    "pycharm": {
     "name": "#%%\n"
    }
   }
  },
  {
   "cell_type": "code",
   "execution_count": 6,
   "outputs": [
    {
     "name": "stdout",
     "output_type": "stream",
     "text": [
      "Error: Invalid age\n"
     ]
    }
   ],
   "source": [
    "try:\n",
    "    user_age = int(input())\n",
    "\n",
    "    if user_age < 0:\n",
    "        raise ValueError('Invalid age')\n",
    "\n",
    "    # Source: https://www.heart.org/en/healthy-living/fitness\n",
    "    avg_max_heart_rate = 220 - user_age\n",
    "\n",
    "    print('Avg:', avg_max_heart_rate)\n",
    "\n",
    "except ValueError as excpt:\n",
    "    print(f'Error: {excpt}')\n"
   ],
   "metadata": {
    "collapsed": false,
    "pycharm": {
     "name": "#%%\n"
    }
   }
  },
  {
   "cell_type": "code",
   "execution_count": 7,
   "outputs": [
    {
     "name": "stdout",
     "output_type": "stream",
     "text": [
      "Accepted\n"
     ]
    }
   ],
   "source": [
    "valid_password = False\n",
    "\n",
    "while valid_password == False:\n",
    "    try:\n",
    "        password = input()\n",
    "\n",
    "        if len(password) < 8:\n",
    "            raise ValueError('Invalid')\n",
    "\n",
    "        valid_password = True\n",
    "        print('Accepted')\n",
    "\n",
    "    except ValueError as excpt:\n",
    "        print(f'Error: {excpt}')"
   ],
   "metadata": {
    "collapsed": false,
    "pycharm": {
     "name": "#%%\n"
    }
   }
  },
  {
   "cell_type": "code",
   "execution_count": 8,
   "outputs": [
    {
     "name": "stdout",
     "output_type": "stream",
     "text": [
      "Error: Invalid\n",
      "Accepted\n"
     ]
    }
   ],
   "source": [
    "valid_password = False\n",
    "\n",
    "while valid_password == False:\n",
    "    try:\n",
    "        password = input()\n",
    "\n",
    "        if len(password) < 8:\n",
    "            raise ValueError('Invalid')\n",
    "\n",
    "        valid_password = True\n",
    "        print('Accepted')\n",
    "\n",
    "    except ValueError as excpt:\n",
    "        print(f'Error: {excpt}')"
   ],
   "metadata": {
    "collapsed": false,
    "pycharm": {
     "name": "#%%\n"
    }
   }
  },
  {
   "cell_type": "code",
   "execution_count": null,
   "outputs": [],
   "source": [],
   "metadata": {
    "collapsed": false,
    "pycharm": {
     "name": "#%%\n"
    }
   }
  }
 ],
 "metadata": {
  "kernelspec": {
   "display_name": "Python 3",
   "language": "python",
   "name": "python3"
  },
  "language_info": {
   "codemirror_mode": {
    "name": "ipython",
    "version": 2
   },
   "file_extension": ".py",
   "mimetype": "text/x-python",
   "name": "python",
   "nbconvert_exporter": "python",
   "pygments_lexer": "ipython2",
   "version": "2.7.6"
  }
 },
 "nbformat": 4,
 "nbformat_minor": 0
}