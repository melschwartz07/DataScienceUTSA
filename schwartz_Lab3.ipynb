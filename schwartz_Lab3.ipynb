{
 "cells": [
  {
   "cell_type": "code",
   "execution_count": 1,
   "metadata": {
    "collapsed": true,
    "pycharm": {
     "name": "#%%\n"
    }
   },
   "outputs": [],
   "source": [
    "import seaborn as sns\n",
    "import matplotlib.pyplot as plt\n",
    "import matplotlib\n",
    "import pandas as pd\n",
    "import numpy as np\n",
    "%matplotlib inline"
   ]
  },
  {
   "cell_type": "code",
   "execution_count": 2,
   "outputs": [],
   "source": [
    "dfschw = pd.read_csv('Schwartz-Melanie-female.csv', header= None)\n",
    "dfbedtime = pd.read_csv('bedTimeHours.csv', header= None)\n",
    "dfdaytime = pd.read_csv('dayCaffeine.csv', header= None)\n",
    "dfgender = pd.read_csv('gender.csv', header= None)\n",
    "dfawake = pd.read_csv('minsAwake.csv', header= None)\n",
    "dfnap = pd.read_csv('minutesNap.csv', header= None)\n",
    "dfnight = pd.read_csv('nightCaffeine.csv', header= None)\n",
    "dfsection = pd.read_csv('section.csv', header= None)\n",
    "dfssi = pd.read_csv('SSI.csv', header= None)\n",
    "dfsleep = pd.read_csv('toSleepMinutes.csv', header= None)\n",
    "dfalarm = pd.read_csv('useAlarm.csv', header= None)\n",
    "dfwake = pd.read_csv('wakeHours.csv', header= None)\n"
   ],
   "metadata": {
    "collapsed": false,
    "pycharm": {
     "name": "#%%\n"
    }
   }
  },
  {
   "cell_type": "code",
   "execution_count": 3,
   "outputs": [
    {
     "name": "stdout",
     "output_type": "stream",
     "text": [
      "Jen\\\n",
      "Paul\\nMaya\n",
      "Rudy\n"
     ]
    }
   ],
   "source": [
    "print('Jen\\\\\\nPaul\\\\nMaya\\nRudy')"
   ],
   "metadata": {
    "collapsed": false,
    "pycharm": {
     "name": "#%%\n"
    }
   }
  },
  {
   "cell_type": "code",
   "execution_count": 4,
   "outputs": [
    {
     "name": "stdout",
     "output_type": "stream",
     "text": [
      "The escape sequence for new line is \\n\n"
     ]
    }
   ],
   "source": [
    "print(r'The escape sequence for new line is \\n')"
   ],
   "metadata": {
    "collapsed": false,
    "pycharm": {
     "name": "#%%\n"
    }
   }
  },
  {
   "cell_type": "code",
   "execution_count": 5,
   "outputs": [
    {
     "name": "stdout",
     "output_type": "stream",
     "text": [
      "Jill:18\n",
      "Bob:24\n",
      "Xu:33\n"
     ]
    }
   ],
   "source": [
    "names = ['Bob', 'Jill', 'Xu']\n",
    "ages = [24, 18, 33]\n",
    "for index in [1, 0, 2]:\n",
    "        print(names[index] + \":\" + str(ages[index]))"
   ],
   "metadata": {
    "collapsed": false,
    "pycharm": {
     "name": "#%%\n"
    }
   }
  },
  {
   "cell_type": "code",
   "execution_count": 6,
   "outputs": [
    {
     "name": "stdout",
     "output_type": "stream",
     "text": [
      "3\n"
     ]
    }
   ],
   "source": [
    "names = [ 'Gerry', 'Preet', 'Jimin', 'Susan' ]\n",
    "index = 0\n",
    "while index < len(names):\n",
    "     if names[index] == 'Susan':\n",
    "          break\n",
    "     else:\n",
    "           index += 1\n",
    "else:\n",
    "      print('Done')\n",
    "print(index)"
   ],
   "metadata": {
    "collapsed": false,
    "pycharm": {
     "name": "#%%\n"
    }
   }
  },
  {
   "cell_type": "code",
   "execution_count": 7,
   "outputs": [
    {
     "name": "stdout",
     "output_type": "stream",
     "text": [
      "5 6 7 8 9 "
     ]
    }
   ],
   "source": [
    "num = 5;\n",
    "while num <= 10:\n",
    "       print(num, end=' ')\n",
    "       if num == 9:\n",
    "             break\n",
    "       num += 1"
   ],
   "metadata": {
    "collapsed": false,
    "pycharm": {
     "name": "#%%\n"
    }
   }
  },
  {
   "cell_type": "code",
   "execution_count": 8,
   "outputs": [
    {
     "name": "stdout",
     "output_type": "stream",
     "text": [
      "20 14 6 "
     ]
    }
   ],
   "source": [
    "my_list = [20, 14, 6, -1, 2, 8]\n",
    "index = 0\n",
    "while my_list[index] > 0:\n",
    "        print(my_list[index], end=' ')\n",
    "        index += 1"
   ],
   "metadata": {
    "collapsed": false,
    "pycharm": {
     "name": "#%%\n"
    }
   }
  },
  {
   "cell_type": "code",
   "execution_count": 9,
   "outputs": [
    {
     "name": "stdout",
     "output_type": "stream",
     "text": [
      "10 4\n"
     ]
    }
   ],
   "source": [
    "def calc(num1, num2):\n",
    "     return 1 + num1 + num2\n",
    "\n",
    "\n",
    "print(calc(4, 5), calc(1, 2))"
   ],
   "metadata": {
    "collapsed": false,
    "pycharm": {
     "name": "#%%\n"
    }
   }
  },
  {
   "cell_type": "code",
   "execution_count": 11,
   "outputs": [
    {
     "ename": "IndentationError",
     "evalue": "unindent does not match any outer indentation level (<tokenize>, line 4)",
     "output_type": "error",
     "traceback": [
      "\u001B[0;36m  File \u001B[0;32m<tokenize>:4\u001B[0;36m\u001B[0m\n\u001B[0;31m    elif (item_weight > 10.0) and (item_weight <= 15.0):\u001B[0m\n\u001B[0m    ^\u001B[0m\n\u001B[0;31mIndentationError\u001B[0m\u001B[0;31m:\u001B[0m unindent does not match any outer indentation level\n"
     ]
    }
   ],
   "source": [
    "def print_shipping_charge(item_weight):\n",
    "      if (item_weight > 0.0) and (item_weight <= 10.0):\n",
    "            print(item_weight * 0.75)\n",
    "     elif (item_weight > 10.0) and (item_weight <= 15.0):\n",
    "            print(item_weight * 0.85)\n",
    "     elif (item_weight > 15.0) and (item_weight <= 20.0):\n",
    "            print(item_weight * 0.95)\n",
    "\n",
    "\n",
    "print_shipping_charge(18)\n",
    "print_shipping_charge(6)\n",
    "print_shipping_charge(25)"
   ],
   "metadata": {
    "collapsed": false,
    "pycharm": {
     "name": "#%%\n"
    }
   }
  },
  {
   "cell_type": "code",
   "execution_count": 12,
   "outputs": [],
   "source": [
    "my_set = {10, 20, 30, 40, 50, 60}\n",
    "other_set = {30, 50, 60}\n",
    "result_set = my_set.union(other_set)"
   ],
   "metadata": {
    "collapsed": false,
    "pycharm": {
     "name": "#%%\n"
    }
   }
  },
  {
   "cell_type": "code",
   "execution_count": 13,
   "outputs": [
    {
     "name": "stdout",
     "output_type": "stream",
     "text": [
      "5\n"
     ]
    }
   ],
   "source": [
    "name_hero = 'Steve'\n",
    "print(len(name_hero))\n"
   ],
   "metadata": {
    "collapsed": false,
    "pycharm": {
     "name": "#%%\n"
    }
   }
  },
  {
   "cell_type": "code",
   "execution_count": 14,
   "outputs": [
    {
     "name": "stdout",
     "output_type": "stream",
     "text": [
      "BC\n"
     ]
    }
   ],
   "source": [
    "score = 65\n",
    "group = ''\n",
    "\n",
    "if score <= 60:\n",
    "     group = group + 'A'\n",
    "\n",
    "if score <= 70:\n",
    "    group = group + 'B'\n",
    "\n",
    "if score <= 80:\n",
    "     group = group + 'C'\n",
    "else:\n",
    "     group = group + 'D'\n",
    "\n",
    "print(group)\n"
   ],
   "metadata": {
    "collapsed": false,
    "pycharm": {
     "name": "#%%\n"
    }
   }
  },
  {
   "cell_type": "code",
   "execution_count": 15,
   "outputs": [
    {
     "ename": "SyntaxError",
     "evalue": "invalid syntax (2537810713.py, line 4)",
     "output_type": "error",
     "traceback": [
      "\u001B[0;36m  Input \u001B[0;32mIn [15]\u001B[0;36m\u001B[0m\n\u001B[0;31m    if num1 != num2\u001B[0m\n\u001B[0m                   ^\u001B[0m\n\u001B[0;31mSyntaxError\u001B[0m\u001B[0;31m:\u001B[0m invalid syntax\n"
     ]
    }
   ],
   "source": [
    "num1 = 25\n",
    "num2 = 30\n",
    "\n",
    "if num1 != num2"
   ],
   "metadata": {
    "collapsed": false,
    "pycharm": {
     "name": "#%%\n"
    }
   }
  },
  {
   "cell_type": "code",
   "execution_count": 17,
   "outputs": [
    {
     "name": "stdout",
     "output_type": "stream",
     "text": [
      "2\n"
     ]
    }
   ],
   "source": [
    "time = 122\n",
    "round = time // 60\n",
    "print(round)"
   ],
   "metadata": {
    "collapsed": false,
    "pycharm": {
     "name": "#%%\n"
    }
   }
  },
  {
   "cell_type": "code",
   "execution_count": 21,
   "outputs": [
    {
     "name": "stdout",
     "output_type": "stream",
     "text": [
      "You are a full-time student with 16 hours\n"
     ]
    }
   ],
   "source": [
    "num_hours = int(input(\"How many hours are you taking this semester?\"))\n",
    "\n",
    "if num_hours >= 15:\n",
    "    print(\"You are a full-time student with\", num_hours, \"hours\")\n",
    "\n",
    "else:\n",
    "    print(\"You are a part-time student with\", num_hours, \"hours\")"
   ],
   "metadata": {
    "collapsed": false,
    "pycharm": {
     "name": "#%%\n"
    }
   }
  },
  {
   "cell_type": "code",
   "execution_count": 25,
   "outputs": [
    {
     "name": "stdout",
     "output_type": "stream",
     "text": [
      "Sum of Squares =  1\n",
      "Sum of Squares =  5\n",
      "Sum of Squares =  14\n",
      "Sum of Squares =  30\n",
      "Sum of Squares =  55\n"
     ]
    }
   ],
   "source": [
    "value = int(input(\"Input the While Loop Value\"))\n",
    "\n",
    "start = 1\n",
    "base = 0\n",
    "while start <= value:\n",
    "    base += start * start\n",
    "    start += 1\n",
    "    print(\"Sum of Squares = \", base)"
   ],
   "metadata": {
    "collapsed": false,
    "pycharm": {
     "name": "#%%\n"
    }
   }
  },
  {
   "cell_type": "code",
   "execution_count": null,
   "outputs": [],
   "source": [],
   "metadata": {
    "collapsed": false,
    "pycharm": {
     "name": "#%%\n"
    }
   }
  }
 ],
 "metadata": {
  "kernelspec": {
   "display_name": "Python 3",
   "language": "python",
   "name": "python3"
  },
  "language_info": {
   "codemirror_mode": {
    "name": "ipython",
    "version": 2
   },
   "file_extension": ".py",
   "mimetype": "text/x-python",
   "name": "python",
   "nbconvert_exporter": "python",
   "pygments_lexer": "ipython2",
   "version": "2.7.6"
  }
 },
 "nbformat": 4,
 "nbformat_minor": 0
}