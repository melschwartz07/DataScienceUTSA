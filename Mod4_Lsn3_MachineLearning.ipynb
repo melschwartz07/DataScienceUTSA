{
 "cells": [
  {
   "cell_type": "markdown",
   "metadata": {
    "id": "ap_tipInQ619",
    "pycharm": {
     "name": "#%% md\n"
    }
   },
   "source": [
    "\n",
    "# Module 4, Lesson 3: Machine Learning #\n",
    "\n",
    "In machine learning, we want the machine to determine/calculate the relationship.  In Linear Regression, we hope to determine some sort of linear relationship between two variables.  \n",
    "\n",
    "The example we're going to use is studying - hopefully, the more you study, the better you learn, right?\n",
    "\n",
    "---\n",
    "\n",
    "\n",
    "## Supervised Learning: Linear Regression ##\n",
    "\n",
    "In linear regression, we calculate the covariance, which is then used to calculate a best fit line.\n",
    "\n",
    "An example: "
   ]
  },
  {
   "cell_type": "markdown",
   "metadata": {
    "id": "JZBOJ0cjRjBP",
    "pycharm": {
     "name": "#%% md\n"
    }
   },
   "source": [
    "## Data ##\n",
    "\n",
    "We create the data representing the number of hours studying (x) and the results of an exam (y), and show the data with a scatter plot."
   ]
  },
  {
   "cell_type": "code",
   "execution_count": null,
   "metadata": {
    "colab": {
     "base_uri": "https://localhost:8080/",
     "height": 294
    },
    "id": "aTY2BWDTRlfm",
    "outputId": "31f3c7f7-1a58-4c9f-be15-c802cd080801",
    "pycharm": {
     "name": "#%%\n"
    }
   },
   "outputs": [
    {
     "name": "stdout",
     "output_type": "stream",
     "text": [
      "[[1, 1], [2, 3], [4, 3], [3, 2], [5, 5]]\n"
     ]
    },
    {
     "data": {
      "image/png": "[encoded data removed]",
      "text/plain": [
       "<Figure size 432x288 with 1 Axes>"
      ]
     },
     "metadata": {
      "needs_background": "light",
      "tags": []
     },
     "output_type": "display_data"
    }
   ],
   "source": [
    "dataset = [[1, 1], [2, 3], [4, 3], [3, 2], [5, 5]]\n",
    "x = [row[0] for row in dataset]\n",
    "y = [row[1] for row in dataset]\n",
    "\n",
    "print( dataset )\n",
    "\n",
    "# Plotting Values and Regression Line\n",
    "import matplotlib.pyplot as plt\n",
    "\n",
    "# Ploting Scatter Points\n",
    "plt.scatter(x, y, c='#0000FF', label='Data')\n",
    "\n",
    "plt.xlabel('Hours Spent Studying')\n",
    "plt.ylabel('Score on Exam')\n",
    "plt.legend()\n",
    "plt.show()"
   ]
  },
  {
   "cell_type": "markdown",
   "metadata": {
    "id": "RqU5huzkRmHd",
    "pycharm": {
     "name": "#%% md\n"
    }
   },
   "source": [
    "# Mean & Variance\n",
    "\n",
    "Do some basic calculations to explore the data."
   ]
  },
  {
   "cell_type": "code",
   "execution_count": null,
   "metadata": {
    "colab": {
     "base_uri": "https://localhost:8080/",
     "height": 49
    },
    "id": "s36-07MyRoeg",
    "outputId": "3012db87-92fe-42cd-d237-196258753a46",
    "pycharm": {
     "name": "#%%\n"
    }
   },
   "outputs": [
    {
     "name": "stdout",
     "output_type": "stream",
     "text": [
      "Mean: 3.0 ,  2.8\n",
      "Variance: 45.0 ,  39.199999999999996\n"
     ]
    }
   ],
   "source": [
    "import numpy as np\n",
    "\n",
    "mean_x = np.mean(x)\n",
    "mean_y = np.mean(y)\n",
    "variance_x = sum([(mean_x)**2 for a in x])\n",
    "variance_y = sum([(mean_y)**2 for b in y])\n",
    "\n",
    "print( 'Mean:', mean_x, ', ', mean_y)\n",
    "print( 'Variance:', variance_x, ', ', variance_y)"
   ]
  },
  {
   "cell_type": "markdown",
   "metadata": {
    "id": "ULW4KxuFRpPp",
    "pycharm": {
     "name": "#%% md\n"
    }
   },
   "source": [
    "# Covariance"
   ]
  },
  {
   "cell_type": "code",
   "execution_count": null,
   "metadata": {
    "colab": {
     "base_uri": "https://localhost:8080/",
     "height": 32
    },
    "id": "aCLnQVz0RrqC",
    "outputId": "a54240a1-03be-4a23-a55a-ef97a83829f0",
    "pycharm": {
     "name": "#%%\n"
    }
   },
   "outputs": [
    {
     "name": "stdout",
     "output_type": "stream",
     "text": [
      "8.0\n"
     ]
    }
   ],
   "source": [
    "covariance = 0.0\n",
    "for i in range(len(x)):\n",
    "\tcovariance += (x[i] - mean_x) * (y[i] - mean_y)\n",
    " \n",
    "print( 'Covariance:', covariance )"
   ]
  },
  {
   "cell_type": "markdown",
   "metadata": {
    "id": "aVbJzOYwRt62",
    "pycharm": {
     "name": "#%% md\n"
    }
   },
   "source": [
    "# Coefficients\n",
    "\n",
    "We want to model this as a linear representation, so we will need to calculate the coefficients in the equation."
   ]
  },
  {
   "cell_type": "code",
   "execution_count": null,
   "metadata": {
    "colab": {
     "base_uri": "https://localhost:8080/",
     "height": 32
    },
    "id": "1AZAYL9oRw7i",
    "outputId": "01a9523a-c588-4260-c734-3cf1dead9064",
    "pycharm": {
     "name": "#%%\n"
    }
   },
   "outputs": [
    {
     "name": "stdout",
     "output_type": "stream",
     "text": [
      "0.17777777777777778 ,  2.2666666666666666\n"
     ]
    }
   ],
   "source": [
    "b1 = covariance / variance_x\n",
    "b0 = mean_y - b1 * mean_x\n",
    "\n",
    "print( 'Coefficients: ', b1, ', ', b0)"
   ]
  },
  {
   "cell_type": "markdown",
   "metadata": {
    "id": "N02Qh0cuRxLf",
    "pycharm": {
     "name": "#%% md\n"
    }
   },
   "source": [
    "# Predict\n",
    "\n",
    "Now, using our calculations from before (b0 and b1), if we get new values, what would they be?"
   ]
  },
  {
   "cell_type": "code",
   "execution_count": null,
   "metadata": {
    "colab": {
     "base_uri": "https://localhost:8080/",
     "height": 115
    },
    "id": "ztNhUGSWR0IW",
    "outputId": "9ff28ed9-32ee-49f7-cfee-82c769322d3f",
    "pycharm": {
     "name": "#%%\n"
    }
   },
   "outputs": [
    {
     "name": "stdout",
     "output_type": "stream",
     "text": [
      "Predictions:\n",
      "2.444444444444444\n",
      "2.6222222222222222\n",
      "2.977777777777778\n",
      "2.8\n",
      "3.1555555555555554\n"
     ]
    }
   ],
   "source": [
    "print( 'Predictions:' )\n",
    "for i in range(len(x)):\n",
    "  y_hat = b0 + b1 * x[i]\n",
    "  print( y_hat )"
   ]
  },
  {
   "cell_type": "markdown",
   "metadata": {
    "id": "5SiyJjmhR0za",
    "pycharm": {
     "name": "#%% md\n"
    }
   },
   "source": [
    "# Visualize Results\n",
    "\n",
    "It's rarely bad to graph your results, especially for something like this."
   ]
  },
  {
   "cell_type": "code",
   "execution_count": null,
   "metadata": {
    "colab": {
     "base_uri": "https://localhost:8080/",
     "height": 277
    },
    "id": "IVGnAaEGR2c8",
    "outputId": "bd9ac754-eb50-496a-f5ca-c109848a1294",
    "pycharm": {
     "name": "#%%\n"
    }
   },
   "outputs": [
    {
     "data": {
      "image/png": "[encoded data removed]",
      "text/plain": [
       "<Figure size 432x288 with 1 Axes>"
      ]
     },
     "metadata": {
      "needs_background": "light",
      "tags": []
     },
     "output_type": "display_data"
    }
   ],
   "source": [
    "# Plotting Values and Regression Line\n",
    "import matplotlib.pyplot as plt\n",
    "\n",
    "max_x = np.max(x) + 1\n",
    "min_x = np.min(x) - 1\n",
    "\n",
    "# Calculating line values x and y\n",
    "X = np.linspace(min_x, max_x, 100)\n",
    "Y = b0 + b1 * X\n",
    "\n",
    "# Ploting Line\n",
    "plt.plot(X, Y, color='#FF0000', label='Regression Line')\n",
    "# Ploting Scatter Points\n",
    "plt.scatter(x, y, c='#0000FF', label='Data')\n",
    "\n",
    "plt.xlabel('Hours Spent Studying')\n",
    "plt.ylabel('Score on Exam')\n",
    "plt.legend()\n",
    "plt.show()"
   ]
  }
 ],
 "metadata": {
  "colab": {
   "collapsed_sections": [],
   "name": "CS5003-Lesson3-Machine Learning.ipynb",
   "provenance": [],
   "toc_visible": true
  },
  "kernelspec": {
   "display_name": "Python 3",
   "language": "python",
   "name": "python3"
  },
  "language_info": {
   "codemirror_mode": {
    "name": "ipython",
    "version": 3
   },
   "file_extension": ".py",
   "mimetype": "text/x-python",
   "name": "python",
   "nbconvert_exporter": "python",
   "pygments_lexer": "ipython3",
   "version": "3.7.7"
  }
 },
 "nbformat": 4,
 "nbformat_minor": 1
}