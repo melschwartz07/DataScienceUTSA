{
 "cells": [
  {
   "cell_type": "code",
   "execution_count": 32,
   "outputs": [
    {
     "data": {
      "text/plain": "array([1, 2, 3, 4, 5, 6, 7, 8, 9])"
     },
     "execution_count": 32,
     "metadata": {},
     "output_type": "execute_result"
    }
   ],
   "source": [
    "# Setup\n",
    "import numpy as np\n",
    "import pandas as pd\n",
    "x = [1,2,3]\n",
    "y = [4,5,6]\n",
    "z = [7,8,9]\n",
    "np.concatenate([x,y,z])"
   ],
   "metadata": {
    "collapsed": false,
    "pycharm": {
     "name": "#%%\n"
    }
   }
  },
  {
   "cell_type": "code",
   "execution_count": 33,
   "outputs": [
    {
     "data": {
      "text/plain": "array([1, 2, 3, 4, 5, 6, 7, 8, 9])"
     },
     "execution_count": 33,
     "metadata": {},
     "output_type": "execute_result"
    }
   ],
   "source": [
    "# Example 1\n",
    "np.concatenate([x,y,z],axis=0)"
   ],
   "metadata": {
    "collapsed": false,
    "pycharm": {
     "name": "#%%\n"
    }
   }
  },
  {
   "cell_type": "code",
   "execution_count": 34,
   "outputs": [
    {
     "data": {
      "text/plain": "array([[1, 2, 1, 2],\n       [3, 4, 3, 4]])"
     },
     "execution_count": 34,
     "metadata": {},
     "output_type": "execute_result"
    }
   ],
   "source": [
    "# Example 2\n",
    "x = [[1,2],[3,4]]\n",
    "np.concatenate([x,x],axis=1)"
   ],
   "metadata": {
    "collapsed": false,
    "pycharm": {
     "name": "#%%\n"
    }
   }
  },
  {
   "cell_type": "code",
   "execution_count": 35,
   "outputs": [
    {
     "name": "stdout",
     "output_type": "stream",
     "text": [
      "[7, 8, 9, [4, 5, 6]]\n"
     ]
    }
   ],
   "source": [
    "# Example 3\n",
    "z.append(y)\n",
    "print(z)"
   ],
   "metadata": {
    "collapsed": false,
    "pycharm": {
     "name": "#%%\n"
    }
   }
  },
  {
   "cell_type": "code",
   "execution_count": 36,
   "outputs": [
    {
     "name": "stdout",
     "output_type": "stream",
     "text": [
      "<class 'pandas.core.frame.DataFrame'>\n",
      "RangeIndex: 35549 entries, 0 to 35548\n",
      "Data columns (total 9 columns):\n",
      " #   Column           Non-Null Count  Dtype  \n",
      "---  ------           --------------  -----  \n",
      " 0   record_id        35549 non-null  int64  \n",
      " 1   month            35549 non-null  int64  \n",
      " 2   day              35549 non-null  int64  \n",
      " 3   year             35549 non-null  int64  \n",
      " 4   plot_id          35549 non-null  int64  \n",
      " 5   species_id       34786 non-null  object \n",
      " 6   sex              33038 non-null  object \n",
      " 7   hindfoot_length  31438 non-null  float64\n",
      " 8   weight           32283 non-null  float64\n",
      "dtypes: float64(2), int64(5), object(2)\n",
      "memory usage: 2.4+ MB\n"
     ]
    },
    {
     "data": {
      "text/plain": "   record_id  month  day  year  plot_id species_id sex  hindfoot_length  \\\n0          1      7   16  1977        2         NL   M             32.0   \n1          2      7   16  1977        3         NL   M             33.0   \n2          3      7   16  1977        2         DM   F             37.0   \n3          4      7   16  1977        7         DM   M             36.0   \n4          5      7   16  1977        3         DM   M             35.0   \n5          6      7   16  1977        1         PF   M             14.0   \n6          7      7   16  1977        2         PE   F              NaN   \n7          8      7   16  1977        1         DM   M             37.0   \n8          9      7   16  1977        1         DM   F             34.0   \n9         10      7   16  1977        6         PF   F             20.0   \n\n   weight  \n0     NaN  \n1     NaN  \n2     NaN  \n3     NaN  \n4     NaN  \n5     NaN  \n6     NaN  \n7     NaN  \n8     NaN  \n9     NaN  ",
      "text/html": "<div>\n<style scoped>\n    .dataframe tbody tr th:only-of-type {\n        vertical-align: middle;\n    }\n\n    .dataframe tbody tr th {\n        vertical-align: top;\n    }\n\n    .dataframe thead th {\n        text-align: right;\n    }\n</style>\n<table border=\"1\" class=\"dataframe\">\n  <thead>\n    <tr style=\"text-align: right;\">\n      <th></th>\n      <th>record_id</th>\n      <th>month</th>\n      <th>day</th>\n      <th>year</th>\n      <th>plot_id</th>\n      <th>species_id</th>\n      <th>sex</th>\n      <th>hindfoot_length</th>\n      <th>weight</th>\n    </tr>\n  </thead>\n  <tbody>\n    <tr>\n      <th>0</th>\n      <td>1</td>\n      <td>7</td>\n      <td>16</td>\n      <td>1977</td>\n      <td>2</td>\n      <td>NL</td>\n      <td>M</td>\n      <td>32.0</td>\n      <td>NaN</td>\n    </tr>\n    <tr>\n      <th>1</th>\n      <td>2</td>\n      <td>7</td>\n      <td>16</td>\n      <td>1977</td>\n      <td>3</td>\n      <td>NL</td>\n      <td>M</td>\n      <td>33.0</td>\n      <td>NaN</td>\n    </tr>\n    <tr>\n      <th>2</th>\n      <td>3</td>\n      <td>7</td>\n      <td>16</td>\n      <td>1977</td>\n      <td>2</td>\n      <td>DM</td>\n      <td>F</td>\n      <td>37.0</td>\n      <td>NaN</td>\n    </tr>\n    <tr>\n      <th>3</th>\n      <td>4</td>\n      <td>7</td>\n      <td>16</td>\n      <td>1977</td>\n      <td>7</td>\n      <td>DM</td>\n      <td>M</td>\n      <td>36.0</td>\n      <td>NaN</td>\n    </tr>\n    <tr>\n      <th>4</th>\n      <td>5</td>\n      <td>7</td>\n      <td>16</td>\n      <td>1977</td>\n      <td>3</td>\n      <td>DM</td>\n      <td>M</td>\n      <td>35.0</td>\n      <td>NaN</td>\n    </tr>\n    <tr>\n      <th>5</th>\n      <td>6</td>\n      <td>7</td>\n      <td>16</td>\n      <td>1977</td>\n      <td>1</td>\n      <td>PF</td>\n      <td>M</td>\n      <td>14.0</td>\n      <td>NaN</td>\n    </tr>\n    <tr>\n      <th>6</th>\n      <td>7</td>\n      <td>7</td>\n      <td>16</td>\n      <td>1977</td>\n      <td>2</td>\n      <td>PE</td>\n      <td>F</td>\n      <td>NaN</td>\n      <td>NaN</td>\n    </tr>\n    <tr>\n      <th>7</th>\n      <td>8</td>\n      <td>7</td>\n      <td>16</td>\n      <td>1977</td>\n      <td>1</td>\n      <td>DM</td>\n      <td>M</td>\n      <td>37.0</td>\n      <td>NaN</td>\n    </tr>\n    <tr>\n      <th>8</th>\n      <td>9</td>\n      <td>7</td>\n      <td>16</td>\n      <td>1977</td>\n      <td>1</td>\n      <td>DM</td>\n      <td>F</td>\n      <td>34.0</td>\n      <td>NaN</td>\n    </tr>\n    <tr>\n      <th>9</th>\n      <td>10</td>\n      <td>7</td>\n      <td>16</td>\n      <td>1977</td>\n      <td>6</td>\n      <td>PF</td>\n      <td>F</td>\n      <td>20.0</td>\n      <td>NaN</td>\n    </tr>\n  </tbody>\n</table>\n</div>"
     },
     "metadata": {},
     "output_type": "display_data"
    }
   ],
   "source": [
    "# Example 4\n",
    "surveys_df = pd.read_csv(\"surveys.csv\")\n",
    "surveys_df.info()\n",
    "display(surveys_df.head(10))    # view the first 10 rows of data"
   ],
   "metadata": {
    "collapsed": false,
    "pycharm": {
     "name": "#%%\n"
    }
   }
  },
  {
   "cell_type": "code",
   "execution_count": 37,
   "outputs": [
    {
     "data": {
      "text/plain": "record_id            int64\nmonth                int64\nday                  int64\nyear                 int64\nplot_id              int64\nspecies_id          object\nsex                 object\nhindfoot_length    float64\nweight             float64\ndtype: object"
     },
     "execution_count": 37,
     "metadata": {},
     "output_type": "execute_result"
    }
   ],
   "source": [
    "# Example 5\n",
    "surveys_df.dtypes"
   ],
   "metadata": {
    "collapsed": false,
    "pycharm": {
     "name": "#%%\n"
    }
   }
  },
  {
   "cell_type": "code",
   "execution_count": 38,
   "outputs": [],
   "source": [
    "# Example 6\n",
    "# Read in the first ten lines of the surveys table\n",
    "survey_sub = surveys_df.head(10)\n",
    "# Now the bottom 10 lines\n",
    "survey_sub_last10 = surveys_df.tail(10)\n",
    "# Reset the index values to the second dataframe so that it appends correctly\n",
    "survey_sub_last10 = survey_sub_last10.reset_index(drop=True)\n",
    "# drop=True option avoids adding a new index column with old index values"
   ],
   "metadata": {
    "collapsed": false,
    "pycharm": {
     "name": "#%%\n"
    }
   }
  },
  {
   "cell_type": "code",
   "execution_count": 39,
   "outputs": [],
   "source": [
    "# Example 7\n",
    "# Stack the DataFrames on top of each other\n",
    "vertical_stack = pd.concat([survey_sub, survey_sub_last10], axis = 0)\n",
    "# Stack the DataFrames side by side\n",
    "horizontal_stack = pd.concat([survey_sub, survey_sub_last10], axis=1)"
   ],
   "metadata": {
    "collapsed": false,
    "pycharm": {
     "name": "#%%\n"
    }
   }
  },
  {
   "cell_type": "code",
   "execution_count": 40,
   "outputs": [
    {
     "data": {
      "text/plain": "   record_id  month  day  year  plot_id species_id  sex  hindfoot_length  \\\n0          1      7   16  1977        2         NL    M             32.0   \n1          2      7   16  1977        3         NL    M             33.0   \n2          3      7   16  1977        2         DM    F             37.0   \n3          4      7   16  1977        7         DM    M             36.0   \n4          5      7   16  1977        3         DM    M             35.0   \n5          6      7   16  1977        1         PF    M             14.0   \n6          7      7   16  1977        2         PE    F              NaN   \n7          8      7   16  1977        1         DM    M             37.0   \n8          9      7   16  1977        1         DM    F             34.0   \n9         10      7   16  1977        6         PF    F             20.0   \n0      35540     12   31  2002       15         PB    F             26.0   \n1      35541     12   31  2002       15         PB    F             24.0   \n2      35542     12   31  2002       15         PB    F             26.0   \n3      35543     12   31  2002       15         PB    F             27.0   \n4      35544     12   31  2002       15         US  NaN              NaN   \n5      35545     12   31  2002       15         AH  NaN              NaN   \n6      35546     12   31  2002       15         AH  NaN              NaN   \n7      35547     12   31  2002       10         RM    F             15.0   \n8      35548     12   31  2002        7         DO    M             36.0   \n9      35549     12   31  2002        5        NaN  NaN              NaN   \n\n   weight  \n0     NaN  \n1     NaN  \n2     NaN  \n3     NaN  \n4     NaN  \n5     NaN  \n6     NaN  \n7     NaN  \n8     NaN  \n9     NaN  \n0    23.0  \n1    31.0  \n2    29.0  \n3    34.0  \n4     NaN  \n5     NaN  \n6     NaN  \n7    14.0  \n8    51.0  \n9     NaN  ",
      "text/html": "<div>\n<style scoped>\n    .dataframe tbody tr th:only-of-type {\n        vertical-align: middle;\n    }\n\n    .dataframe tbody tr th {\n        vertical-align: top;\n    }\n\n    .dataframe thead th {\n        text-align: right;\n    }\n</style>\n<table border=\"1\" class=\"dataframe\">\n  <thead>\n    <tr style=\"text-align: right;\">\n      <th></th>\n      <th>record_id</th>\n      <th>month</th>\n      <th>day</th>\n      <th>year</th>\n      <th>plot_id</th>\n      <th>species_id</th>\n      <th>sex</th>\n      <th>hindfoot_length</th>\n      <th>weight</th>\n    </tr>\n  </thead>\n  <tbody>\n    <tr>\n      <th>0</th>\n      <td>1</td>\n      <td>7</td>\n      <td>16</td>\n      <td>1977</td>\n      <td>2</td>\n      <td>NL</td>\n      <td>M</td>\n      <td>32.0</td>\n      <td>NaN</td>\n    </tr>\n    <tr>\n      <th>1</th>\n      <td>2</td>\n      <td>7</td>\n      <td>16</td>\n      <td>1977</td>\n      <td>3</td>\n      <td>NL</td>\n      <td>M</td>\n      <td>33.0</td>\n      <td>NaN</td>\n    </tr>\n    <tr>\n      <th>2</th>\n      <td>3</td>\n      <td>7</td>\n      <td>16</td>\n      <td>1977</td>\n      <td>2</td>\n      <td>DM</td>\n      <td>F</td>\n      <td>37.0</td>\n      <td>NaN</td>\n    </tr>\n    <tr>\n      <th>3</th>\n      <td>4</td>\n      <td>7</td>\n      <td>16</td>\n      <td>1977</td>\n      <td>7</td>\n      <td>DM</td>\n      <td>M</td>\n      <td>36.0</td>\n      <td>NaN</td>\n    </tr>\n    <tr>\n      <th>4</th>\n      <td>5</td>\n      <td>7</td>\n      <td>16</td>\n      <td>1977</td>\n      <td>3</td>\n      <td>DM</td>\n      <td>M</td>\n      <td>35.0</td>\n      <td>NaN</td>\n    </tr>\n    <tr>\n      <th>5</th>\n      <td>6</td>\n      <td>7</td>\n      <td>16</td>\n      <td>1977</td>\n      <td>1</td>\n      <td>PF</td>\n      <td>M</td>\n      <td>14.0</td>\n      <td>NaN</td>\n    </tr>\n    <tr>\n      <th>6</th>\n      <td>7</td>\n      <td>7</td>\n      <td>16</td>\n      <td>1977</td>\n      <td>2</td>\n      <td>PE</td>\n      <td>F</td>\n      <td>NaN</td>\n      <td>NaN</td>\n    </tr>\n    <tr>\n      <th>7</th>\n      <td>8</td>\n      <td>7</td>\n      <td>16</td>\n      <td>1977</td>\n      <td>1</td>\n      <td>DM</td>\n      <td>M</td>\n      <td>37.0</td>\n      <td>NaN</td>\n    </tr>\n    <tr>\n      <th>8</th>\n      <td>9</td>\n      <td>7</td>\n      <td>16</td>\n      <td>1977</td>\n      <td>1</td>\n      <td>DM</td>\n      <td>F</td>\n      <td>34.0</td>\n      <td>NaN</td>\n    </tr>\n    <tr>\n      <th>9</th>\n      <td>10</td>\n      <td>7</td>\n      <td>16</td>\n      <td>1977</td>\n      <td>6</td>\n      <td>PF</td>\n      <td>F</td>\n      <td>20.0</td>\n      <td>NaN</td>\n    </tr>\n    <tr>\n      <th>0</th>\n      <td>35540</td>\n      <td>12</td>\n      <td>31</td>\n      <td>2002</td>\n      <td>15</td>\n      <td>PB</td>\n      <td>F</td>\n      <td>26.0</td>\n      <td>23.0</td>\n    </tr>\n    <tr>\n      <th>1</th>\n      <td>35541</td>\n      <td>12</td>\n      <td>31</td>\n      <td>2002</td>\n      <td>15</td>\n      <td>PB</td>\n      <td>F</td>\n      <td>24.0</td>\n      <td>31.0</td>\n    </tr>\n    <tr>\n      <th>2</th>\n      <td>35542</td>\n      <td>12</td>\n      <td>31</td>\n      <td>2002</td>\n      <td>15</td>\n      <td>PB</td>\n      <td>F</td>\n      <td>26.0</td>\n      <td>29.0</td>\n    </tr>\n    <tr>\n      <th>3</th>\n      <td>35543</td>\n      <td>12</td>\n      <td>31</td>\n      <td>2002</td>\n      <td>15</td>\n      <td>PB</td>\n      <td>F</td>\n      <td>27.0</td>\n      <td>34.0</td>\n    </tr>\n    <tr>\n      <th>4</th>\n      <td>35544</td>\n      <td>12</td>\n      <td>31</td>\n      <td>2002</td>\n      <td>15</td>\n      <td>US</td>\n      <td>NaN</td>\n      <td>NaN</td>\n      <td>NaN</td>\n    </tr>\n    <tr>\n      <th>5</th>\n      <td>35545</td>\n      <td>12</td>\n      <td>31</td>\n      <td>2002</td>\n      <td>15</td>\n      <td>AH</td>\n      <td>NaN</td>\n      <td>NaN</td>\n      <td>NaN</td>\n    </tr>\n    <tr>\n      <th>6</th>\n      <td>35546</td>\n      <td>12</td>\n      <td>31</td>\n      <td>2002</td>\n      <td>15</td>\n      <td>AH</td>\n      <td>NaN</td>\n      <td>NaN</td>\n      <td>NaN</td>\n    </tr>\n    <tr>\n      <th>7</th>\n      <td>35547</td>\n      <td>12</td>\n      <td>31</td>\n      <td>2002</td>\n      <td>10</td>\n      <td>RM</td>\n      <td>F</td>\n      <td>15.0</td>\n      <td>14.0</td>\n    </tr>\n    <tr>\n      <th>8</th>\n      <td>35548</td>\n      <td>12</td>\n      <td>31</td>\n      <td>2002</td>\n      <td>7</td>\n      <td>DO</td>\n      <td>M</td>\n      <td>36.0</td>\n      <td>51.0</td>\n    </tr>\n    <tr>\n      <th>9</th>\n      <td>35549</td>\n      <td>12</td>\n      <td>31</td>\n      <td>2002</td>\n      <td>5</td>\n      <td>NaN</td>\n      <td>NaN</td>\n      <td>NaN</td>\n      <td>NaN</td>\n    </tr>\n  </tbody>\n</table>\n</div>"
     },
     "execution_count": 40,
     "metadata": {},
     "output_type": "execute_result"
    }
   ],
   "source": [
    "# Example 8\n",
    "vertical_stack"
   ],
   "metadata": {
    "collapsed": false,
    "pycharm": {
     "name": "#%%\n"
    }
   }
  },
  {
   "cell_type": "code",
   "execution_count": 41,
   "outputs": [
    {
     "data": {
      "text/plain": "   record_id  month  day  year  plot_id species_id sex  hindfoot_length  \\\n0          1      7   16  1977        2         NL   M             32.0   \n1          2      7   16  1977        3         NL   M             33.0   \n2          3      7   16  1977        2         DM   F             37.0   \n3          4      7   16  1977        7         DM   M             36.0   \n4          5      7   16  1977        3         DM   M             35.0   \n5          6      7   16  1977        1         PF   M             14.0   \n6          7      7   16  1977        2         PE   F              NaN   \n7          8      7   16  1977        1         DM   M             37.0   \n8          9      7   16  1977        1         DM   F             34.0   \n9         10      7   16  1977        6         PF   F             20.0   \n\n   weight  record_id  month  day  year  plot_id species_id  sex  \\\n0     NaN      35540     12   31  2002       15         PB    F   \n1     NaN      35541     12   31  2002       15         PB    F   \n2     NaN      35542     12   31  2002       15         PB    F   \n3     NaN      35543     12   31  2002       15         PB    F   \n4     NaN      35544     12   31  2002       15         US  NaN   \n5     NaN      35545     12   31  2002       15         AH  NaN   \n6     NaN      35546     12   31  2002       15         AH  NaN   \n7     NaN      35547     12   31  2002       10         RM    F   \n8     NaN      35548     12   31  2002        7         DO    M   \n9     NaN      35549     12   31  2002        5        NaN  NaN   \n\n   hindfoot_length  weight  \n0             26.0    23.0  \n1             24.0    31.0  \n2             26.0    29.0  \n3             27.0    34.0  \n4              NaN     NaN  \n5              NaN     NaN  \n6              NaN     NaN  \n7             15.0    14.0  \n8             36.0    51.0  \n9              NaN     NaN  ",
      "text/html": "<div>\n<style scoped>\n    .dataframe tbody tr th:only-of-type {\n        vertical-align: middle;\n    }\n\n    .dataframe tbody tr th {\n        vertical-align: top;\n    }\n\n    .dataframe thead th {\n        text-align: right;\n    }\n</style>\n<table border=\"1\" class=\"dataframe\">\n  <thead>\n    <tr style=\"text-align: right;\">\n      <th></th>\n      <th>record_id</th>\n      <th>month</th>\n      <th>day</th>\n      <th>year</th>\n      <th>plot_id</th>\n      <th>species_id</th>\n      <th>sex</th>\n      <th>hindfoot_length</th>\n      <th>weight</th>\n      <th>record_id</th>\n      <th>month</th>\n      <th>day</th>\n      <th>year</th>\n      <th>plot_id</th>\n      <th>species_id</th>\n      <th>sex</th>\n      <th>hindfoot_length</th>\n      <th>weight</th>\n    </tr>\n  </thead>\n  <tbody>\n    <tr>\n      <th>0</th>\n      <td>1</td>\n      <td>7</td>\n      <td>16</td>\n      <td>1977</td>\n      <td>2</td>\n      <td>NL</td>\n      <td>M</td>\n      <td>32.0</td>\n      <td>NaN</td>\n      <td>35540</td>\n      <td>12</td>\n      <td>31</td>\n      <td>2002</td>\n      <td>15</td>\n      <td>PB</td>\n      <td>F</td>\n      <td>26.0</td>\n      <td>23.0</td>\n    </tr>\n    <tr>\n      <th>1</th>\n      <td>2</td>\n      <td>7</td>\n      <td>16</td>\n      <td>1977</td>\n      <td>3</td>\n      <td>NL</td>\n      <td>M</td>\n      <td>33.0</td>\n      <td>NaN</td>\n      <td>35541</td>\n      <td>12</td>\n      <td>31</td>\n      <td>2002</td>\n      <td>15</td>\n      <td>PB</td>\n      <td>F</td>\n      <td>24.0</td>\n      <td>31.0</td>\n    </tr>\n    <tr>\n      <th>2</th>\n      <td>3</td>\n      <td>7</td>\n      <td>16</td>\n      <td>1977</td>\n      <td>2</td>\n      <td>DM</td>\n      <td>F</td>\n      <td>37.0</td>\n      <td>NaN</td>\n      <td>35542</td>\n      <td>12</td>\n      <td>31</td>\n      <td>2002</td>\n      <td>15</td>\n      <td>PB</td>\n      <td>F</td>\n      <td>26.0</td>\n      <td>29.0</td>\n    </tr>\n    <tr>\n      <th>3</th>\n      <td>4</td>\n      <td>7</td>\n      <td>16</td>\n      <td>1977</td>\n      <td>7</td>\n      <td>DM</td>\n      <td>M</td>\n      <td>36.0</td>\n      <td>NaN</td>\n      <td>35543</td>\n      <td>12</td>\n      <td>31</td>\n      <td>2002</td>\n      <td>15</td>\n      <td>PB</td>\n      <td>F</td>\n      <td>27.0</td>\n      <td>34.0</td>\n    </tr>\n    <tr>\n      <th>4</th>\n      <td>5</td>\n      <td>7</td>\n      <td>16</td>\n      <td>1977</td>\n      <td>3</td>\n      <td>DM</td>\n      <td>M</td>\n      <td>35.0</td>\n      <td>NaN</td>\n      <td>35544</td>\n      <td>12</td>\n      <td>31</td>\n      <td>2002</td>\n      <td>15</td>\n      <td>US</td>\n      <td>NaN</td>\n      <td>NaN</td>\n      <td>NaN</td>\n    </tr>\n    <tr>\n      <th>5</th>\n      <td>6</td>\n      <td>7</td>\n      <td>16</td>\n      <td>1977</td>\n      <td>1</td>\n      <td>PF</td>\n      <td>M</td>\n      <td>14.0</td>\n      <td>NaN</td>\n      <td>35545</td>\n      <td>12</td>\n      <td>31</td>\n      <td>2002</td>\n      <td>15</td>\n      <td>AH</td>\n      <td>NaN</td>\n      <td>NaN</td>\n      <td>NaN</td>\n    </tr>\n    <tr>\n      <th>6</th>\n      <td>7</td>\n      <td>7</td>\n      <td>16</td>\n      <td>1977</td>\n      <td>2</td>\n      <td>PE</td>\n      <td>F</td>\n      <td>NaN</td>\n      <td>NaN</td>\n      <td>35546</td>\n      <td>12</td>\n      <td>31</td>\n      <td>2002</td>\n      <td>15</td>\n      <td>AH</td>\n      <td>NaN</td>\n      <td>NaN</td>\n      <td>NaN</td>\n    </tr>\n    <tr>\n      <th>7</th>\n      <td>8</td>\n      <td>7</td>\n      <td>16</td>\n      <td>1977</td>\n      <td>1</td>\n      <td>DM</td>\n      <td>M</td>\n      <td>37.0</td>\n      <td>NaN</td>\n      <td>35547</td>\n      <td>12</td>\n      <td>31</td>\n      <td>2002</td>\n      <td>10</td>\n      <td>RM</td>\n      <td>F</td>\n      <td>15.0</td>\n      <td>14.0</td>\n    </tr>\n    <tr>\n      <th>8</th>\n      <td>9</td>\n      <td>7</td>\n      <td>16</td>\n      <td>1977</td>\n      <td>1</td>\n      <td>DM</td>\n      <td>F</td>\n      <td>34.0</td>\n      <td>NaN</td>\n      <td>35548</td>\n      <td>12</td>\n      <td>31</td>\n      <td>2002</td>\n      <td>7</td>\n      <td>DO</td>\n      <td>M</td>\n      <td>36.0</td>\n      <td>51.0</td>\n    </tr>\n    <tr>\n      <th>9</th>\n      <td>10</td>\n      <td>7</td>\n      <td>16</td>\n      <td>1977</td>\n      <td>6</td>\n      <td>PF</td>\n      <td>F</td>\n      <td>20.0</td>\n      <td>NaN</td>\n      <td>35549</td>\n      <td>12</td>\n      <td>31</td>\n      <td>2002</td>\n      <td>5</td>\n      <td>NaN</td>\n      <td>NaN</td>\n      <td>NaN</td>\n      <td>NaN</td>\n    </tr>\n  </tbody>\n</table>\n</div>"
     },
     "execution_count": 41,
     "metadata": {},
     "output_type": "execute_result"
    }
   ],
   "source": [
    "# Example 8\n",
    "horizontal_stack"
   ],
   "metadata": {
    "collapsed": false,
    "pycharm": {
     "name": "#%%\n"
    }
   }
  },
  {
   "cell_type": "code",
   "execution_count": 42,
   "outputs": [
    {
     "data": {
      "text/plain": "    record_id  month  day  year  plot_id species_id  sex  hindfoot_length  \\\n0           1      7   16  1977        2         NL    M             32.0   \n1           2      7   16  1977        3         NL    M             33.0   \n2           3      7   16  1977        2         DM    F             37.0   \n3           4      7   16  1977        7         DM    M             36.0   \n4           5      7   16  1977        3         DM    M             35.0   \n5           6      7   16  1977        1         PF    M             14.0   \n6           7      7   16  1977        2         PE    F              NaN   \n7           8      7   16  1977        1         DM    M             37.0   \n8           9      7   16  1977        1         DM    F             34.0   \n9          10      7   16  1977        6         PF    F             20.0   \n10      35540     12   31  2002       15         PB    F             26.0   \n11      35541     12   31  2002       15         PB    F             24.0   \n12      35542     12   31  2002       15         PB    F             26.0   \n13      35543     12   31  2002       15         PB    F             27.0   \n14      35544     12   31  2002       15         US  NaN              NaN   \n15      35545     12   31  2002       15         AH  NaN              NaN   \n16      35546     12   31  2002       15         AH  NaN              NaN   \n17      35547     12   31  2002       10         RM    F             15.0   \n18      35548     12   31  2002        7         DO    M             36.0   \n19      35549     12   31  2002        5        NaN  NaN              NaN   \n\n    weight  \n0      NaN  \n1      NaN  \n2      NaN  \n3      NaN  \n4      NaN  \n5      NaN  \n6      NaN  \n7      NaN  \n8      NaN  \n9      NaN  \n10    23.0  \n11    31.0  \n12    29.0  \n13    34.0  \n14     NaN  \n15     NaN  \n16     NaN  \n17    14.0  \n18    51.0  \n19     NaN  ",
      "text/html": "<div>\n<style scoped>\n    .dataframe tbody tr th:only-of-type {\n        vertical-align: middle;\n    }\n\n    .dataframe tbody tr th {\n        vertical-align: top;\n    }\n\n    .dataframe thead th {\n        text-align: right;\n    }\n</style>\n<table border=\"1\" class=\"dataframe\">\n  <thead>\n    <tr style=\"text-align: right;\">\n      <th></th>\n      <th>record_id</th>\n      <th>month</th>\n      <th>day</th>\n      <th>year</th>\n      <th>plot_id</th>\n      <th>species_id</th>\n      <th>sex</th>\n      <th>hindfoot_length</th>\n      <th>weight</th>\n    </tr>\n  </thead>\n  <tbody>\n    <tr>\n      <th>0</th>\n      <td>1</td>\n      <td>7</td>\n      <td>16</td>\n      <td>1977</td>\n      <td>2</td>\n      <td>NL</td>\n      <td>M</td>\n      <td>32.0</td>\n      <td>NaN</td>\n    </tr>\n    <tr>\n      <th>1</th>\n      <td>2</td>\n      <td>7</td>\n      <td>16</td>\n      <td>1977</td>\n      <td>3</td>\n      <td>NL</td>\n      <td>M</td>\n      <td>33.0</td>\n      <td>NaN</td>\n    </tr>\n    <tr>\n      <th>2</th>\n      <td>3</td>\n      <td>7</td>\n      <td>16</td>\n      <td>1977</td>\n      <td>2</td>\n      <td>DM</td>\n      <td>F</td>\n      <td>37.0</td>\n      <td>NaN</td>\n    </tr>\n    <tr>\n      <th>3</th>\n      <td>4</td>\n      <td>7</td>\n      <td>16</td>\n      <td>1977</td>\n      <td>7</td>\n      <td>DM</td>\n      <td>M</td>\n      <td>36.0</td>\n      <td>NaN</td>\n    </tr>\n    <tr>\n      <th>4</th>\n      <td>5</td>\n      <td>7</td>\n      <td>16</td>\n      <td>1977</td>\n      <td>3</td>\n      <td>DM</td>\n      <td>M</td>\n      <td>35.0</td>\n      <td>NaN</td>\n    </tr>\n    <tr>\n      <th>5</th>\n      <td>6</td>\n      <td>7</td>\n      <td>16</td>\n      <td>1977</td>\n      <td>1</td>\n      <td>PF</td>\n      <td>M</td>\n      <td>14.0</td>\n      <td>NaN</td>\n    </tr>\n    <tr>\n      <th>6</th>\n      <td>7</td>\n      <td>7</td>\n      <td>16</td>\n      <td>1977</td>\n      <td>2</td>\n      <td>PE</td>\n      <td>F</td>\n      <td>NaN</td>\n      <td>NaN</td>\n    </tr>\n    <tr>\n      <th>7</th>\n      <td>8</td>\n      <td>7</td>\n      <td>16</td>\n      <td>1977</td>\n      <td>1</td>\n      <td>DM</td>\n      <td>M</td>\n      <td>37.0</td>\n      <td>NaN</td>\n    </tr>\n    <tr>\n      <th>8</th>\n      <td>9</td>\n      <td>7</td>\n      <td>16</td>\n      <td>1977</td>\n      <td>1</td>\n      <td>DM</td>\n      <td>F</td>\n      <td>34.0</td>\n      <td>NaN</td>\n    </tr>\n    <tr>\n      <th>9</th>\n      <td>10</td>\n      <td>7</td>\n      <td>16</td>\n      <td>1977</td>\n      <td>6</td>\n      <td>PF</td>\n      <td>F</td>\n      <td>20.0</td>\n      <td>NaN</td>\n    </tr>\n    <tr>\n      <th>10</th>\n      <td>35540</td>\n      <td>12</td>\n      <td>31</td>\n      <td>2002</td>\n      <td>15</td>\n      <td>PB</td>\n      <td>F</td>\n      <td>26.0</td>\n      <td>23.0</td>\n    </tr>\n    <tr>\n      <th>11</th>\n      <td>35541</td>\n      <td>12</td>\n      <td>31</td>\n      <td>2002</td>\n      <td>15</td>\n      <td>PB</td>\n      <td>F</td>\n      <td>24.0</td>\n      <td>31.0</td>\n    </tr>\n    <tr>\n      <th>12</th>\n      <td>35542</td>\n      <td>12</td>\n      <td>31</td>\n      <td>2002</td>\n      <td>15</td>\n      <td>PB</td>\n      <td>F</td>\n      <td>26.0</td>\n      <td>29.0</td>\n    </tr>\n    <tr>\n      <th>13</th>\n      <td>35543</td>\n      <td>12</td>\n      <td>31</td>\n      <td>2002</td>\n      <td>15</td>\n      <td>PB</td>\n      <td>F</td>\n      <td>27.0</td>\n      <td>34.0</td>\n    </tr>\n    <tr>\n      <th>14</th>\n      <td>35544</td>\n      <td>12</td>\n      <td>31</td>\n      <td>2002</td>\n      <td>15</td>\n      <td>US</td>\n      <td>NaN</td>\n      <td>NaN</td>\n      <td>NaN</td>\n    </tr>\n    <tr>\n      <th>15</th>\n      <td>35545</td>\n      <td>12</td>\n      <td>31</td>\n      <td>2002</td>\n      <td>15</td>\n      <td>AH</td>\n      <td>NaN</td>\n      <td>NaN</td>\n      <td>NaN</td>\n    </tr>\n    <tr>\n      <th>16</th>\n      <td>35546</td>\n      <td>12</td>\n      <td>31</td>\n      <td>2002</td>\n      <td>15</td>\n      <td>AH</td>\n      <td>NaN</td>\n      <td>NaN</td>\n      <td>NaN</td>\n    </tr>\n    <tr>\n      <th>17</th>\n      <td>35547</td>\n      <td>12</td>\n      <td>31</td>\n      <td>2002</td>\n      <td>10</td>\n      <td>RM</td>\n      <td>F</td>\n      <td>15.0</td>\n      <td>14.0</td>\n    </tr>\n    <tr>\n      <th>18</th>\n      <td>35548</td>\n      <td>12</td>\n      <td>31</td>\n      <td>2002</td>\n      <td>7</td>\n      <td>DO</td>\n      <td>M</td>\n      <td>36.0</td>\n      <td>51.0</td>\n    </tr>\n    <tr>\n      <th>19</th>\n      <td>35549</td>\n      <td>12</td>\n      <td>31</td>\n      <td>2002</td>\n      <td>5</td>\n      <td>NaN</td>\n      <td>NaN</td>\n      <td>NaN</td>\n      <td>NaN</td>\n    </tr>\n  </tbody>\n</table>\n</div>"
     },
     "execution_count": 42,
     "metadata": {},
     "output_type": "execute_result"
    }
   ],
   "source": [
    "# Example 9\n",
    "vertical_stack = vertical_stack.reset_index(drop=True)\n",
    "vertical_stack"
   ],
   "metadata": {
    "collapsed": false,
    "pycharm": {
     "name": "#%%\n"
    }
   }
  },
  {
   "cell_type": "code",
   "execution_count": 43,
   "outputs": [],
   "source": [
    "# Example 10\n",
    "# write to csv\n",
    "vertical_stack.to_csv('vertical_data.csv', index=False)"
   ],
   "metadata": {
    "collapsed": false,
    "pycharm": {
     "name": "#%%\n"
    }
   }
  },
  {
   "cell_type": "markdown",
   "source": [
    "Exercise 1: There are two survey data files: surveys2001.csv and surveys2002.csv. Read the data into Python and combine the files to make a new variable. Create a plot of average plot weight by year, grouped by sex. Export your results as a CSV and make sure it reads back into Python properly."
   ],
   "metadata": {
    "collapsed": false,
    "pycharm": {
     "name": "#%% md\n"
    }
   }
  },
  {
   "cell_type": "code",
   "execution_count": 53,
   "outputs": [
    {
     "name": "stdout",
     "output_type": "stream",
     "text": [
      "<bound method DataFrame.to_string of       Unnamed: 0  record_id  month  day  year  site_id species_id sex  \\\n",
      "0          31710      31711      1   21  2001        1         PB   F   \n",
      "1          31711      31712      1   21  2001        1         DM   M   \n",
      "2          31712      31713      1   21  2001        1         PB   M   \n",
      "3          31713      31714      1   21  2001        1         DO   M   \n",
      "4          31714      31715      1   21  2001        2         OT   M   \n",
      "...          ...        ...    ...  ...   ...      ...        ...  ..   \n",
      "3507       35540      35541     12   31  2002       15         PB   F   \n",
      "3508       35541      35542     12   31  2002       15         PB   F   \n",
      "3509       35542      35543     12   31  2002       15         PB   F   \n",
      "3510       35546      35547     12   31  2002       10         RM   F   \n",
      "3511       35547      35548     12   31  2002        7         DO   M   \n",
      "\n",
      "      hindfoot_length  weight  \n",
      "0                26.0    25.0  \n",
      "1                37.0    43.0  \n",
      "2                29.0    44.0  \n",
      "3                34.0    53.0  \n",
      "4                20.0    27.0  \n",
      "...               ...     ...  \n",
      "3507             24.0    31.0  \n",
      "3508             26.0    29.0  \n",
      "3509             27.0    34.0  \n",
      "3510             15.0    14.0  \n",
      "3511             36.0    51.0  \n",
      "\n",
      "[3512 rows x 10 columns]>\n"
     ]
    }
   ],
   "source": [
    "surveys1 = pd.read_csv('surveys2001.csv')\n",
    "surveys2 = pd.read_csv('surveys2002.csv')\n",
    "dataMerge = pd.concat([surveys1, surveys2]).reset_index(drop=True)\n",
    "print(dataMerge.to_string)\n",
    "dataMerge.to_csv('MergedSurvey.csv',  index=False)"
   ],
   "metadata": {
    "collapsed": false,
    "pycharm": {
     "name": "#%%\n"
    }
   }
  },
  {
   "cell_type": "code",
   "execution_count": 45,
   "outputs": [],
   "source": [
    "# Example 11\n",
    "# Read in first 10 lines of surveys table\n",
    "survey_sub = surveys_df.head(10)\n",
    "\n",
    "# Import a small subset of the species data designed for this part of the lesson.\n",
    "species_sub = pd.read_csv('speciesSubset.csv', keep_default_na=False, na_values=[\"\"])"
   ],
   "metadata": {
    "collapsed": false,
    "pycharm": {
     "name": "#%%\n"
    }
   }
  },
  {
   "cell_type": "code",
   "execution_count": 46,
   "outputs": [
    {
     "data": {
      "text/plain": "Index(['species_id', 'genus', 'species', 'taxa'], dtype='object')"
     },
     "execution_count": 46,
     "metadata": {},
     "output_type": "execute_result"
    }
   ],
   "source": [
    "# Example 12\n",
    "species_sub.columns"
   ],
   "metadata": {
    "collapsed": false,
    "pycharm": {
     "name": "#%%\n"
    }
   }
  },
  {
   "cell_type": "code",
   "execution_count": 47,
   "outputs": [
    {
     "data": {
      "text/plain": "Index(['record_id', 'month', 'day', 'year', 'plot_id', 'species_id', 'sex',\n       'hindfoot_length', 'weight'],\n      dtype='object')"
     },
     "execution_count": 47,
     "metadata": {},
     "output_type": "execute_result"
    }
   ],
   "source": [
    "# Example 13\n",
    "survey_sub.columns"
   ],
   "metadata": {
    "collapsed": false,
    "pycharm": {
     "name": "#%%\n"
    }
   }
  },
  {
   "cell_type": "code",
   "execution_count": 48,
   "outputs": [
    {
     "data": {
      "text/plain": "   record_id  month  day  year  plot_id species_id sex  hindfoot_length  \\\n0          1      7   16  1977        2         NL   M             32.0   \n1          2      7   16  1977        3         NL   M             33.0   \n2          3      7   16  1977        2         DM   F             37.0   \n3          4      7   16  1977        7         DM   M             36.0   \n4          5      7   16  1977        3         DM   M             35.0   \n5          8      7   16  1977        1         DM   M             37.0   \n6          9      7   16  1977        1         DM   F             34.0   \n7          7      7   16  1977        2         PE   F              NaN   \n\n   weight       genus   species    taxa  \n0     NaN     Neotoma  albigula  Rodent  \n1     NaN     Neotoma  albigula  Rodent  \n2     NaN   Dipodomys  merriami  Rodent  \n3     NaN   Dipodomys  merriami  Rodent  \n4     NaN   Dipodomys  merriami  Rodent  \n5     NaN   Dipodomys  merriami  Rodent  \n6     NaN   Dipodomys  merriami  Rodent  \n7     NaN  Peromyscus  eremicus  Rodent  ",
      "text/html": "<div>\n<style scoped>\n    .dataframe tbody tr th:only-of-type {\n        vertical-align: middle;\n    }\n\n    .dataframe tbody tr th {\n        vertical-align: top;\n    }\n\n    .dataframe thead th {\n        text-align: right;\n    }\n</style>\n<table border=\"1\" class=\"dataframe\">\n  <thead>\n    <tr style=\"text-align: right;\">\n      <th></th>\n      <th>record_id</th>\n      <th>month</th>\n      <th>day</th>\n      <th>year</th>\n      <th>plot_id</th>\n      <th>species_id</th>\n      <th>sex</th>\n      <th>hindfoot_length</th>\n      <th>weight</th>\n      <th>genus</th>\n      <th>species</th>\n      <th>taxa</th>\n    </tr>\n  </thead>\n  <tbody>\n    <tr>\n      <th>0</th>\n      <td>1</td>\n      <td>7</td>\n      <td>16</td>\n      <td>1977</td>\n      <td>2</td>\n      <td>NL</td>\n      <td>M</td>\n      <td>32.0</td>\n      <td>NaN</td>\n      <td>Neotoma</td>\n      <td>albigula</td>\n      <td>Rodent</td>\n    </tr>\n    <tr>\n      <th>1</th>\n      <td>2</td>\n      <td>7</td>\n      <td>16</td>\n      <td>1977</td>\n      <td>3</td>\n      <td>NL</td>\n      <td>M</td>\n      <td>33.0</td>\n      <td>NaN</td>\n      <td>Neotoma</td>\n      <td>albigula</td>\n      <td>Rodent</td>\n    </tr>\n    <tr>\n      <th>2</th>\n      <td>3</td>\n      <td>7</td>\n      <td>16</td>\n      <td>1977</td>\n      <td>2</td>\n      <td>DM</td>\n      <td>F</td>\n      <td>37.0</td>\n      <td>NaN</td>\n      <td>Dipodomys</td>\n      <td>merriami</td>\n      <td>Rodent</td>\n    </tr>\n    <tr>\n      <th>3</th>\n      <td>4</td>\n      <td>7</td>\n      <td>16</td>\n      <td>1977</td>\n      <td>7</td>\n      <td>DM</td>\n      <td>M</td>\n      <td>36.0</td>\n      <td>NaN</td>\n      <td>Dipodomys</td>\n      <td>merriami</td>\n      <td>Rodent</td>\n    </tr>\n    <tr>\n      <th>4</th>\n      <td>5</td>\n      <td>7</td>\n      <td>16</td>\n      <td>1977</td>\n      <td>3</td>\n      <td>DM</td>\n      <td>M</td>\n      <td>35.0</td>\n      <td>NaN</td>\n      <td>Dipodomys</td>\n      <td>merriami</td>\n      <td>Rodent</td>\n    </tr>\n    <tr>\n      <th>5</th>\n      <td>8</td>\n      <td>7</td>\n      <td>16</td>\n      <td>1977</td>\n      <td>1</td>\n      <td>DM</td>\n      <td>M</td>\n      <td>37.0</td>\n      <td>NaN</td>\n      <td>Dipodomys</td>\n      <td>merriami</td>\n      <td>Rodent</td>\n    </tr>\n    <tr>\n      <th>6</th>\n      <td>9</td>\n      <td>7</td>\n      <td>16</td>\n      <td>1977</td>\n      <td>1</td>\n      <td>DM</td>\n      <td>F</td>\n      <td>34.0</td>\n      <td>NaN</td>\n      <td>Dipodomys</td>\n      <td>merriami</td>\n      <td>Rodent</td>\n    </tr>\n    <tr>\n      <th>7</th>\n      <td>7</td>\n      <td>7</td>\n      <td>16</td>\n      <td>1977</td>\n      <td>2</td>\n      <td>PE</td>\n      <td>F</td>\n      <td>NaN</td>\n      <td>NaN</td>\n      <td>Peromyscus</td>\n      <td>eremicus</td>\n      <td>Rodent</td>\n    </tr>\n  </tbody>\n</table>\n</div>"
     },
     "execution_count": 48,
     "metadata": {},
     "output_type": "execute_result"
    }
   ],
   "source": [
    "# Example 14\n",
    "merged_inner = pd.merge(left=survey_sub, right=species_sub, left_on='species_id', right_on='species_id')\n",
    "# In this case `species_id` is the only column name in  both dataframes, so if we skipped `left_on`\n",
    "# And `right_on` arguments we would still get the same result\n",
    "\n",
    "# What's the size of the output data?\n",
    "merged_inner.shape\n",
    "merged_inner"
   ],
   "metadata": {
    "collapsed": false,
    "pycharm": {
     "name": "#%%\n"
    }
   }
  },
  {
   "cell_type": "code",
   "execution_count": 49,
   "outputs": [
    {
     "data": {
      "text/plain": "   record_id  month  day  year  plot_id species_id sex  hindfoot_length  \\\n0          1      7   16  1977        2         NL   M             32.0   \n1          2      7   16  1977        3         NL   M             33.0   \n2          3      7   16  1977        2         DM   F             37.0   \n3          4      7   16  1977        7         DM   M             36.0   \n4          5      7   16  1977        3         DM   M             35.0   \n5          6      7   16  1977        1         PF   M             14.0   \n6          7      7   16  1977        2         PE   F              NaN   \n7          8      7   16  1977        1         DM   M             37.0   \n8          9      7   16  1977        1         DM   F             34.0   \n9         10      7   16  1977        6         PF   F             20.0   \n\n   weight       genus   species    taxa  \n0     NaN     Neotoma  albigula  Rodent  \n1     NaN     Neotoma  albigula  Rodent  \n2     NaN   Dipodomys  merriami  Rodent  \n3     NaN   Dipodomys  merriami  Rodent  \n4     NaN   Dipodomys  merriami  Rodent  \n5     NaN         NaN       NaN     NaN  \n6     NaN  Peromyscus  eremicus  Rodent  \n7     NaN   Dipodomys  merriami  Rodent  \n8     NaN   Dipodomys  merriami  Rodent  \n9     NaN         NaN       NaN     NaN  ",
      "text/html": "<div>\n<style scoped>\n    .dataframe tbody tr th:only-of-type {\n        vertical-align: middle;\n    }\n\n    .dataframe tbody tr th {\n        vertical-align: top;\n    }\n\n    .dataframe thead th {\n        text-align: right;\n    }\n</style>\n<table border=\"1\" class=\"dataframe\">\n  <thead>\n    <tr style=\"text-align: right;\">\n      <th></th>\n      <th>record_id</th>\n      <th>month</th>\n      <th>day</th>\n      <th>year</th>\n      <th>plot_id</th>\n      <th>species_id</th>\n      <th>sex</th>\n      <th>hindfoot_length</th>\n      <th>weight</th>\n      <th>genus</th>\n      <th>species</th>\n      <th>taxa</th>\n    </tr>\n  </thead>\n  <tbody>\n    <tr>\n      <th>0</th>\n      <td>1</td>\n      <td>7</td>\n      <td>16</td>\n      <td>1977</td>\n      <td>2</td>\n      <td>NL</td>\n      <td>M</td>\n      <td>32.0</td>\n      <td>NaN</td>\n      <td>Neotoma</td>\n      <td>albigula</td>\n      <td>Rodent</td>\n    </tr>\n    <tr>\n      <th>1</th>\n      <td>2</td>\n      <td>7</td>\n      <td>16</td>\n      <td>1977</td>\n      <td>3</td>\n      <td>NL</td>\n      <td>M</td>\n      <td>33.0</td>\n      <td>NaN</td>\n      <td>Neotoma</td>\n      <td>albigula</td>\n      <td>Rodent</td>\n    </tr>\n    <tr>\n      <th>2</th>\n      <td>3</td>\n      <td>7</td>\n      <td>16</td>\n      <td>1977</td>\n      <td>2</td>\n      <td>DM</td>\n      <td>F</td>\n      <td>37.0</td>\n      <td>NaN</td>\n      <td>Dipodomys</td>\n      <td>merriami</td>\n      <td>Rodent</td>\n    </tr>\n    <tr>\n      <th>3</th>\n      <td>4</td>\n      <td>7</td>\n      <td>16</td>\n      <td>1977</td>\n      <td>7</td>\n      <td>DM</td>\n      <td>M</td>\n      <td>36.0</td>\n      <td>NaN</td>\n      <td>Dipodomys</td>\n      <td>merriami</td>\n      <td>Rodent</td>\n    </tr>\n    <tr>\n      <th>4</th>\n      <td>5</td>\n      <td>7</td>\n      <td>16</td>\n      <td>1977</td>\n      <td>3</td>\n      <td>DM</td>\n      <td>M</td>\n      <td>35.0</td>\n      <td>NaN</td>\n      <td>Dipodomys</td>\n      <td>merriami</td>\n      <td>Rodent</td>\n    </tr>\n    <tr>\n      <th>5</th>\n      <td>6</td>\n      <td>7</td>\n      <td>16</td>\n      <td>1977</td>\n      <td>1</td>\n      <td>PF</td>\n      <td>M</td>\n      <td>14.0</td>\n      <td>NaN</td>\n      <td>NaN</td>\n      <td>NaN</td>\n      <td>NaN</td>\n    </tr>\n    <tr>\n      <th>6</th>\n      <td>7</td>\n      <td>7</td>\n      <td>16</td>\n      <td>1977</td>\n      <td>2</td>\n      <td>PE</td>\n      <td>F</td>\n      <td>NaN</td>\n      <td>NaN</td>\n      <td>Peromyscus</td>\n      <td>eremicus</td>\n      <td>Rodent</td>\n    </tr>\n    <tr>\n      <th>7</th>\n      <td>8</td>\n      <td>7</td>\n      <td>16</td>\n      <td>1977</td>\n      <td>1</td>\n      <td>DM</td>\n      <td>M</td>\n      <td>37.0</td>\n      <td>NaN</td>\n      <td>Dipodomys</td>\n      <td>merriami</td>\n      <td>Rodent</td>\n    </tr>\n    <tr>\n      <th>8</th>\n      <td>9</td>\n      <td>7</td>\n      <td>16</td>\n      <td>1977</td>\n      <td>1</td>\n      <td>DM</td>\n      <td>F</td>\n      <td>34.0</td>\n      <td>NaN</td>\n      <td>Dipodomys</td>\n      <td>merriami</td>\n      <td>Rodent</td>\n    </tr>\n    <tr>\n      <th>9</th>\n      <td>10</td>\n      <td>7</td>\n      <td>16</td>\n      <td>1977</td>\n      <td>6</td>\n      <td>PF</td>\n      <td>F</td>\n      <td>20.0</td>\n      <td>NaN</td>\n      <td>NaN</td>\n      <td>NaN</td>\n      <td>NaN</td>\n    </tr>\n  </tbody>\n</table>\n</div>"
     },
     "execution_count": 49,
     "metadata": {},
     "output_type": "execute_result"
    }
   ],
   "source": [
    "# Example 15\n",
    "merged_left = pd.merge(left=survey_sub, right=species_sub, how='left', left_on='species_id', right_on='species_id')\n",
    "merged_left"
   ],
   "metadata": {
    "collapsed": false,
    "pycharm": {
     "name": "#%%\n"
    }
   }
  },
  {
   "cell_type": "code",
   "execution_count": 50,
   "outputs": [
    {
     "data": {
      "text/plain": "   record_id  month  day  year  plot_id species_id sex  hindfoot_length  \\\n5          6      7   16  1977        1         PF   M             14.0   \n9         10      7   16  1977        6         PF   F             20.0   \n\n   weight genus species taxa  \n5     NaN   NaN     NaN  NaN  \n9     NaN   NaN     NaN  NaN  ",
      "text/html": "<div>\n<style scoped>\n    .dataframe tbody tr th:only-of-type {\n        vertical-align: middle;\n    }\n\n    .dataframe tbody tr th {\n        vertical-align: top;\n    }\n\n    .dataframe thead th {\n        text-align: right;\n    }\n</style>\n<table border=\"1\" class=\"dataframe\">\n  <thead>\n    <tr style=\"text-align: right;\">\n      <th></th>\n      <th>record_id</th>\n      <th>month</th>\n      <th>day</th>\n      <th>year</th>\n      <th>plot_id</th>\n      <th>species_id</th>\n      <th>sex</th>\n      <th>hindfoot_length</th>\n      <th>weight</th>\n      <th>genus</th>\n      <th>species</th>\n      <th>taxa</th>\n    </tr>\n  </thead>\n  <tbody>\n    <tr>\n      <th>5</th>\n      <td>6</td>\n      <td>7</td>\n      <td>16</td>\n      <td>1977</td>\n      <td>1</td>\n      <td>PF</td>\n      <td>M</td>\n      <td>14.0</td>\n      <td>NaN</td>\n      <td>NaN</td>\n      <td>NaN</td>\n      <td>NaN</td>\n    </tr>\n    <tr>\n      <th>9</th>\n      <td>10</td>\n      <td>7</td>\n      <td>16</td>\n      <td>1977</td>\n      <td>6</td>\n      <td>PF</td>\n      <td>F</td>\n      <td>20.0</td>\n      <td>NaN</td>\n      <td>NaN</td>\n      <td>NaN</td>\n      <td>NaN</td>\n    </tr>\n  </tbody>\n</table>\n</div>"
     },
     "execution_count": 50,
     "metadata": {},
     "output_type": "execute_result"
    }
   ],
   "source": [
    "# Example 16\n",
    "merged_left[ pd.isnull(merged_left.genus) ]"
   ],
   "metadata": {
    "collapsed": false,
    "pycharm": {
     "name": "#%%\n"
    }
   }
  },
  {
   "cell_type": "markdown",
   "source": [
    "Exercise 2: The plots.csv file contains information about the type associated with each plot. Use that data to summarize the number of plots by plot type.\n",
    "Calculate a diversity index of your choice for control vs rodent exclosure plots. The index should consider both species abundance and number of species. You might choose to use the simple biodiversity index described here which calculates diversity as:\n",
    "the number of species in the plot / the total number of individuals in the plot = Biodiversity index."
   ],
   "metadata": {
    "collapsed": false,
    "pycharm": {
     "name": "#%% md\n"
    }
   }
  },
  {
   "cell_type": "code",
   "execution_count": null,
   "outputs": [],
   "source": [],
   "metadata": {
    "collapsed": false,
    "pycharm": {
     "name": "#%%\n"
    }
   }
  }
 ],
 "metadata": {
  "kernelspec": {
   "display_name": "Python 3",
   "language": "python",
   "name": "python3"
  },
  "language_info": {
   "codemirror_mode": {
    "name": "ipython",
    "version": 2
   },
   "file_extension": ".py",
   "mimetype": "text/x-python",
   "name": "python",
   "nbconvert_exporter": "python",
   "pygments_lexer": "ipython2",
   "version": "2.7.6"
  }
 },
 "nbformat": 4,
 "nbformat_minor": 0
}